{
 "cells": [
  {
   "cell_type": "markdown",
   "metadata": {},
   "source": [
    "# Циклы"
   ]
  },
  {
   "cell_type": "code",
   "execution_count": 7,
   "metadata": {},
   "outputs": [
    {
     "name": "stdout",
     "output_type": "stream",
     "text": [
      "Current income 120\n",
      "Current S 0\n",
      "New S 120\n",
      "\n",
      "Current income 38.5\n",
      "Current S 120\n",
      "New S 158.5\n",
      "\n",
      "Current income 40.5\n",
      "Current S 158.5\n",
      "New S 199.0\n",
      "\n",
      "Current income 80\n",
      "Current S 199.0\n",
      "New S 279.0\n",
      "\n",
      "Answer: s= 279.0\n",
      "sum(incomes)= 279.0\n",
      "---------\n",
      "---------\n",
      "---------\n",
      "Current S:  0\n",
      "Current number:  1\n",
      "Sum after addition:  1\n",
      "---\n",
      "Current S:  1\n",
      "Current number:  2\n",
      "Sum after addition:  3\n",
      "---\n",
      "Current S:  3\n",
      "Current number:  3\n",
      "Sum after addition:  6\n",
      "---\n",
      "Current S:  6\n",
      "Current number:  4\n",
      "Sum after addition:  10\n",
      "---\n",
      "Current S:  10\n",
      "Current number:  5\n",
      "Sum after addition:  15\n",
      "---\n",
      "Answer: sum =  15\n",
      "---------\n",
      "---------\n",
      "---------\n",
      "1st approach\n",
      "\n",
      "Product 1, weight: 10 -passenger car\n",
      "Product 2, weight: 42.4 -passenger car\n",
      "Product 3, weight: 240.1 -truck\n",
      "Product 4, weight: 101.5 -truck\n",
      "Product 5, weight: 98 -passenger car\n",
      "Product 6, weight: 0.4 -passenger car\n",
      "Product 7, weight: 0.3 -passenger car\n",
      "Product 8, weight: 15 -passenger car\n",
      "\n",
      "2nd approach\n",
      "\n",
      "Product 1, weight: 10 -passenger car\n",
      "Product 2, weight: 42.4 -passenger car\n",
      "Product 3, weight: 240.1 -truck\n",
      "Product 4, weight: 101.5 -truck\n",
      "Product 5, weight: 98 -passenger car\n",
      "Product 6, weight: 0.4 -passenger car\n",
      "Product 7, weight: 0.3 -passenger car\n",
      "Product 8, weight: 15 -passenger car\n",
      "---------\n",
      "---------\n",
      "---------\n",
      "['Red Square', 'Swallow Nest', 'Unavailable', 'Unavailable', 'Unavailable', 'Hermitage']\n"
     ]
    },
    {
     "data": {
      "text/plain": [
       "['Red Square',\n",
       " 'Swallow Nest',\n",
       " 'Unavailable',\n",
       " 'Unavailable',\n",
       " 'Unavailable',\n",
       " 'Hermitage']"
      ]
     },
     "execution_count": 7,
     "metadata": {},
     "output_type": "execute_result"
    }
   ],
   "source": [
    "incomes = [120, 38.5, 40.5, 80] #список доходов семьи Быковых\n",
    "S = 0 #задаём начальное значение суммы доходов\n",
    "#создаём цикл for, в котором будем проходиться по элементам списка incomes\n",
    "for income in incomes: #income — текущее значение элемента списка\n",
    "    print('Current income', income) #выводим текущее значение переменной income\n",
    "    print('Current S', S) #выводим текущее значение переменной S\n",
    "    S += income #увеличиваем сумму доходов на значение income, равносильно S = S + income\n",
    "    print('New S', S) #выводим обновлённое значение переменной S\n",
    "    print() #выводим пустую строку для красивого отображения\n",
    "print('Answer: s=', S) #выводим результат \n",
    "print('sum(incomes)=',sum(incomes))\n",
    "\n",
    "print('---------')\n",
    "print('---------')\n",
    "print('---------')\n",
    "\n",
    "S = 0  #создаём накопительную переменную, в которой будем считать сумму\n",
    "N = 5 #задаём N — последний элемент последовательности\n",
    "\n",
    "# создаём цикл for, которым мы будем проходить по всем числам от 1 до N (включительно)\n",
    "for i in range(1, N + 1):  #равносильно выражению for i in [1, 2, 3, ... , N -1, N]:\n",
    "    print(\"Current S: \", S) #выводим значение суммы на текущем шаге\n",
    "    print(\"Current number: \", i) #выводим текущее число\n",
    "    S += i  #суммируем текущее число i и перезаписываем значение суммы, равносильно S = S + i\n",
    "    print(\"Sum after addition: \", S) #выводим значение суммы после сложения\n",
    "    print(\"---\") #выводим строчку для визуального разделения результатов\n",
    "print(\"Answer: sum = \", S) #выводим ответ в формате ответ: сумма равна =\n",
    "\n",
    "\n",
    "print('---------')\n",
    "print('---------')\n",
    "print('---------')\n",
    "\n",
    "print('1st approach')\n",
    "print()\n",
    "\n",
    "weight_of_products = [10, 42.4, 240.1, 101.5, 98, 0.4, 0.3, 15] #список масс товаров\n",
    "\n",
    "max_weight = 100 #задаём максимальное значение веса груза\n",
    "num = 1 #задаём начальный номер груза\n",
    "#создаём цикл по элементам списка с массами товаров\n",
    "for weight in weight_of_products: #weight — текущее значение веса\n",
    "    if weight < max_weight: #если текущий вес меньше максимального,\n",
    "        #выводим номер груза, его вес и отправляем его в легковую машину\n",
    "        print('Product {}, weight: {} -passenger car'.format(num, weight)) \n",
    "    else:\n",
    "        #выводим номер груза, его вес и отправляем его в грузовую машину\n",
    "        print('Product {}, weight: {} -truck'.format(num, weight))\n",
    "    num += 1 #увеличиваем значение номера груза на 1\n",
    "\n",
    "\n",
    "print()\n",
    "print('2nd approach')\n",
    "print()\n",
    "\n",
    "weight_of_products = [10, 42.4, 240.1, 101.5, 98, 0.4, 0.3, 15] #список масс товаров\n",
    "max_weight = 100 #задаём максимальное значение веса груза\n",
    "N = len(weight_of_products) #вычисляем длина списка\n",
    "#создаём цикл по последовательности чисел от 0 до N (не включая N)\n",
    "for i in range(N): #i — текущее значение последовательности\n",
    "    #обращаемся к элементу по индексу и сравниваем его с максимумом\n",
    "    if weight_of_products[i] < max_weight: #если текущий вес меньше максимального,\n",
    "        #выводим номер груза, массу и отправляем его в легковую машину\n",
    "        print('Product {}, weight: {} -passenger car'.format(i+1, weight_of_products[i])) \n",
    "    else:\n",
    "        #выводим номер груза, массу и отправляем его в грузовую машину\n",
    "        print('Product {}, weight: {} -truck'.format(i+1, weight_of_products[i]))\n",
    "        \n",
    "        \n",
    "\n",
    "print('---------')\n",
    "print('---------')\n",
    "print('---------')\n",
    "        \n",
    "\n",
    "\n",
    "#список мест, которые хотим посетить\n",
    "places = [\n",
    "    'Red Square',\n",
    "\n",
    "    'Swallow Nest',\n",
    "    'Niagara Falls',\n",
    "    'Grand Canyon',\n",
    "    'Louvre',\n",
    "    'Hermitage'\n",
    "\n",
    "] \n",
    "#словарь соответствия мест и стран\n",
    "\n",
    "location = {\n",
    "    'Red Square': 'Russia',\n",
    "    'Swallow Nest': 'Russia',\n",
    "    'Niagara Falls': 'USA',\n",
    "    'Grand Canyon': 'USA',\n",
    "    'Louvre': 'France',\n",
    "    'Hermitage': 'Russia'\n",
    "}\n",
    "\n",
    "N = len(places) #вычисляем длину списка\n",
    "#создаём цикл по списку мест, которые хотим посетить\n",
    "for i in range(N): #i — текущее значение последовательности\n",
    "    #places[i] — i-й элемент в списке places\n",
    "    country = location[places[i]] #получаем страну из словаря location по ключу\n",
    "    if country != 'Russia': #сравниваем название стран\n",
    "        places[i] = 'Unavailable' #помечаем место как недоступное\n",
    "print(places) #выводим результирующий список\n",
    "\n",
    "['Red Square', 'Swallow Nest', 'Unavailable', 'Unavailable', 'Unavailable', 'Hermitage']\n",
    "\n"
   ]
  },
  {
   "cell_type": "markdown",
   "metadata": {},
   "source": [
    "\n",
    "\n",
    "Задание 1.2 (на самопроверку)\n",
    "\n",
    "Напишите программу, которая находит произведение элементов списка lst = [98, 24, 23, 12, 3]. В результате такого умножения у вас должно получиться число 1947456.\n",
    "\n",
    "Для этого модифицируйте алгоритм, который мы использовали в примере №1. Задайте начальное значение произведения как 1. Далее в цикле перебирайте элементы списка lst и умножайте значение произведения на элемент списка.\n",
    "\n",
    "Задание 1.4 (на самопроверку)\n",
    "\n",
    "Попробуйте теперь самостоятельно подсчитать произведение всех чисел от 1 до N включительно.\n",
    "\n",
    "\n",
    "\n",
    "Задание 1.5 (на самопроверку)\n",
    "\n",
    "Напишите программу, которая будет печатать лесенку следующего типа:\n",
    "\n",
    "n = 3\n",
    "*\n",
    "**\n",
    "***\n",
    "\n",
    "n = 4\n",
    "*\n",
    "**\n",
    "***\n",
    "****\n",
    "\n",
    " Задание 1.10\n",
    "1/1 point (graded)\n",
    "\n",
    "    Создайте список num_list = [1, 10, 3, -5].\n",
    "    Отсортируйте его с помощью метода sort() для списков.\n",
    "    Последовательно выведите на экран элементы этого списка с помощью цикла for.\n",
    "\n",
    "В ответ запишите последний выведенный на экран элемент.\n",
    "\n",
    " Задание 1.11\n",
    "0 points possible (ungraded)\n",
    "Создайте список my_list = list(range(0, 100, 3)). С помощью цикла for посчитайте количество чётных элементов в списке. В ответ запишите получившееся число.\n",
    "\n",
    " Задание 1.12\n",
    "1 point possible (graded)\n",
    "Создайте список my_list = [True, 1, -10, 'hello', False, 'string_1', 123, 2.5, [1, 2], 'another']. С помощью цикла for посчитайте количество элементов типа str в списке. В ответ запишите получившееся число."
   ]
  },
  {
   "cell_type": "code",
   "execution_count": 37,
   "metadata": {},
   "outputs": [
    {
     "name": "stdout",
     "output_type": "stream",
     "text": [
      "total= 1\n",
      "new total = 98\n",
      "total= 98\n",
      "new total = 2352\n",
      "total= 2352\n",
      "new total = 54096\n",
      "total= 54096\n",
      "new total = 649152\n",
      "total= 649152\n",
      "new total = 1947456\n",
      "result= 1947456\n",
      "\n",
      "1.4\n",
      "1\n",
      "2\n",
      "6\n",
      "24\n",
      "120\n",
      "result= 120\n",
      "MynameisKonstantin\n",
      "\n",
      "\n",
      "-5\n",
      "1\n",
      "3\n",
      "10\n",
      "\n",
      "\n",
      "0\n",
      "6\n",
      "12\n",
      "18\n",
      "24\n",
      "30\n",
      "36\n",
      "42\n",
      "48\n",
      "54\n",
      "60\n",
      "66\n",
      "72\n",
      "78\n",
      "84\n",
      "90\n",
      "96\n",
      "17\n",
      "\n",
      "\n",
      "hello is string\n",
      "string_1 is string\n",
      "another is string\n",
      "3\n",
      "3\n"
     ]
    }
   ],
   "source": [
    "#1.2\n",
    "\n",
    "total=1\n",
    "lst = [98, 24, 23, 12, 3]\n",
    "for i in lst:\n",
    "    print('total=',total)\n",
    "    total *=i\n",
    "    print('new total =',total)\n",
    "print('result=',total)\n",
    "\n",
    "#1.4\n",
    "print()\n",
    "print('1.4')\n",
    "P = 1   # создаём переменную-счётчик, в которой мы будем считать произведение.\n",
    "#подумайте, чему она должна быть равна \n",
    "N = 5\n",
    "\n",
    "for i in range(1,N+1):\n",
    "    P*=i\n",
    "    print(P)\n",
    "    \n",
    "print('result=',P)\n",
    "\n",
    "\n",
    "\n",
    "#1.5\n",
    "# print()\n",
    "# print('1.5')\n",
    "\n",
    "# n = int(input('enter positive number '))\n",
    "# for i in range(1,n+1):\n",
    "#     print('*'*i)\n",
    "    \n",
    "\n",
    "#1.9    \n",
    "word_list = ['My', 'name', 'is', 'Konstantin']\n",
    "sentence=''\n",
    "for word in word_list:\n",
    "    sentence+=str(word)\n",
    "print(sentence)\n",
    "\n",
    "print()\n",
    "print()\n",
    "#1.10\n",
    "num_list = [1, 10, 3, -5]\n",
    "num_list.sort()\n",
    "for i in num_list:\n",
    "    print(i)\n",
    "    \n",
    "print()\n",
    "print()   \n",
    "#1.11\n",
    "my_list = list(range(0, 100, 3))\n",
    "even = 0\n",
    "for i in my_list:\n",
    "    if i%2==0:\n",
    "        even+=1\n",
    "        print(i)\n",
    "print(even)\n",
    "\n",
    "print()\n",
    "print()   \n",
    "#1.12\n",
    "my_list = [True, 1, -10, 'hello', False, 'string_1', 123, 2.5, [1, 2], 'another']\n",
    "count=0\n",
    "for i in my_list:\n",
    "    \n",
    "    if type(i) is str:        \n",
    "        print(i,'is string')\n",
    "        count+=1\n",
    "print(count)\n",
    "          \n",
    "          \n",
    "my_list = [True, 1, -10, \"hello\", False, \"string_1\", 123, 2.5, [1, 2], \"another\"] #заданный список\n",
    "str_count = 0 #вводим переменную, в которой будем считать количество строк\n",
    "#создаём цикл по элементам исходного списка\n",
    "for el in my_list:     \n",
    "    if type(el) is str: #проверяем тип данных элемента\n",
    "        str_count += 1 #если условие выполняется, увеличиваем количество на 1\n",
    "print(str_count) #выводим результат\n",
    "        "
   ]
  },
  {
   "cell_type": "code",
   "execution_count": 10,
   "metadata": {},
   "outputs": [],
   "source": [
    "my_list = [1]\n",
    "for i in range(10):\n",
    "    my_list.append(my_list[i] * 2)"
   ]
  },
  {
   "cell_type": "markdown",
   "metadata": {},
   "source": [
    "\n",
    "# WHILE"
   ]
  },
  {
   "cell_type": "code",
   "execution_count": 3,
   "metadata": {},
   "outputs": [
    {
     "name": "stdout",
     "output_type": "stream",
     "text": [
      "['b', 'c', 'd', 'e']\n",
      "['c', 'd', 'e']\n",
      "['d', 'e']\n",
      "Result ['d', 'e']\n"
     ]
    }
   ],
   "source": [
    "lst=['a', 'b', 'c', 'd', 'e']\n",
    "#Создаём цикл с условием, что длина списка больше 2\n",
    "while len(lst) > 2:\n",
    "    #Начало блока кода с телом цикла\n",
    "    lst.pop(0) # Обновляем список, удаляя первый элемент в нём\n",
    "    print(lst) # Выводим промежуточный результат\n",
    "    #Конец блока кода с телом цикла\n",
    "#Выводим на экран результирующий список\n",
    "print('Result', lst)\n",
    "\n",
    "# ['b', 'c', 'd', 'e']\n",
    "# ['c', 'd', 'e']\n",
    "# ['d', 'e']\n",
    "# Result ['d', 'e']"
   ]
  },
  {
   "cell_type": "code",
   "execution_count": 4,
   "metadata": {},
   "outputs": [
    {
     "name": "stdout",
     "output_type": "stream",
     "text": [
      "Number of iterations 17\n"
     ]
    }
   ],
   "source": [
    "x = 21 \n",
    "y = 55\n",
    "count = 0 #задаём начальное значение количества итераций\n",
    "while x < y: #записываем условное выражение в цикл\n",
    "    x += 2 #увеличиваем значение переменной x на 2, равносильно x = x + 2\n",
    "    count += 1 #увеличиваем количество итераций на 1, равносильно count = count + 1\n",
    "#выводим результирующее количество итераций\n",
    "print('Number of iterations', count)"
   ]
  },
  {
   "cell_type": "code",
   "execution_count": 1,
   "metadata": {},
   "outputs": [
    {
     "name": "stdout",
     "output_type": "stream",
     "text": [
      "Current sum weight 67\n",
      "Current sum weight 134\n",
      "Current sum weight 201\n",
      "Current sum weight 268\n",
      "Current sum weight 335\n",
      "Current sum weight 402\n",
      "\n",
      "Overweight 2 kg\n"
     ]
    }
   ],
   "source": [
    "weight = 67 #заданный вес входящего в лифт человека\n",
    "max_weight = 400 #задаём грузоподъёмность\n",
    "S = 0 #задаём суммарный вес людей в лифте\n",
    "#создаём цикл, который будет работать, пока S не превысит max_weight \n",
    "while S < max_weight: #делай, пока...\n",
    "    S += weight #увеличиваем суммарный вес, равносильно S = S + weight \n",
    "    print('Current sum weight', S) #выводим значение суммарного веса после обновления\n",
    "print() #отделяем промежуточный вывод от результата пустой строкой\n",
    "print('Overweight {} kg'.format(S-max_weight)) #выводим итоговое значение перевеса"
   ]
  },
  {
   "cell_type": "code",
   "execution_count": null,
   "metadata": {},
   "outputs": [],
   "source": [
    "S = 0  # создаём накопительную переменную, в которой будем считать сумму\n",
    "n = 1  # задаём текущее натуральное число\n",
    " \n",
    "# создаём цикл, который будет работать, пока сумма не превысит 500\n",
    "while S < 500:  # делай, пока ...\n",
    "    S += n  # увеличиваем сумму, равносильно S = S + n\n",
    "    n += 1  # увеличиваем значение натурального числа\n",
    "    print(\"Still counting ...\") #выводим строку ожидания\n",
    "print() #отделяем промежуточный вывод от результата пустой строкой\n",
    "print(\"Sum is: \", S) #выводим результирующую сумму\n",
    "print(\"Numbers total: \", n-1) #выводим результирующее количество чисел"
   ]
  },
  {
   "cell_type": "code",
   "execution_count": 1,
   "metadata": {},
   "outputs": [
    {
     "name": "stdout",
     "output_type": "stream",
     "text": [
      "New client !\n",
      "New client !\n",
      "New client !\n",
      "New client !\n",
      "New client !\n",
      "New client !\n",
      "New client !\n",
      "New client !\n",
      "New client !\n",
      "New client !\n"
     ]
    }
   ],
   "source": [
    "# хорошо\n",
    "n = 1\n",
    "while True:  # в данной программе условие всегда True, цикл будет бесконечным\n",
    "    print(\"New client !\")\n",
    "    n += 1\n",
    "    if n > 10:  # условие, при достижении которого цикл while будет принудительно завершён\n",
    "        break"
   ]
  },
  {
   "cell_type": "code",
   "execution_count": null,
   "metadata": {},
   "outputs": [],
   "source": [
    "secret_passwords = {\n",
    "    'Enot': 'ulybaka',\n",
    "    'Agent12': '1password1',\n",
    "    'MouseLulu': 'myshkanaruhka'\n",
    "} \n",
    "#база позывных и паролей\n",
    "#создаём бесконечный цикл\n",
    "while True:\n",
    "    name = input('Enter your name: ') #запрашиваем у пользователя позывной\n",
    "    #проверяем, что позывной есть среди ключей словаря\n",
    "    if name in secret_passwords: #если позывной верный\n",
    "        password = input('Enter your password: ') #запрашиваем у пользователя пароль\n",
    "        #проверяем, что введённый пароль совпадает со значением по ключу позывного\n",
    "        if password == secret_passwords[name]: #если пароль верный, (ключ - введёное имя, значение пароль)\n",
    "            print('Welcome') #выводим приветственное сообщение\n",
    "            break #завершаем цикл - т.е. при верном имени\\пароле бесконечный цикл прерывается и прога завершавется\n",
    "        else: #если пароль неверный,\n",
    "            print('Wrong password') #выводим сообщение об ошибке\n",
    "    else: #если позывной неверный,\n",
    "        print('Wrong name') #выводим сообщение об ошибке"
   ]
  },
  {
   "cell_type": "markdown",
   "metadata": {},
   "source": [
    "# Вложенные циклы"
   ]
  },
  {
   "cell_type": "code",
   "execution_count": 2,
   "metadata": {},
   "outputs": [
    {
     "name": "stdout",
     "output_type": "stream",
     "text": [
      "Current row [1, 2]\n",
      "Current elem 1\n",
      "Current elem 2\n",
      "\n",
      "Current row [3, 4]\n",
      "Current elem 3\n",
      "Current elem 4\n",
      "\n",
      "Current row [5, 6]\n",
      "Current elem 5\n",
      "Current elem 6\n",
      "\n",
      "\n",
      "*********************\n",
      "\n",
      "Current i 0\n",
      "Current row [1, 2]\n",
      "Current j 0\n",
      "Current elem 1\n",
      "Current j 1\n",
      "Current elem 2\n",
      "\n",
      "Current i 1\n",
      "Current row [3, 4]\n",
      "Current j 0\n",
      "Current elem 3\n",
      "Current j 1\n",
      "Current elem 4\n",
      "\n",
      "Current i 2\n",
      "Current row [5, 6]\n",
      "Current j 0\n",
      "Current elem 5\n",
      "Current j 1\n",
      "Current elem 6\n",
      "\n"
     ]
    }
   ],
   "source": [
    "matrix = [\n",
    "    [1, 2], \n",
    "    [3, 4], \n",
    "    [5, 6]\n",
    "]\n",
    "#создаём цикл по элементам списка matrix\n",
    "for row in matrix: #row — текущее значение из списка matrix\n",
    "    print('Current row', row) #выводим содержимое на экран\n",
    "    #создаём цикл по элементам списка row\n",
    "    for elem in row: #elem — текущее значение из списка row\n",
    "        print('Current elem', elem)\n",
    "    print() #отделяем вывод на экран пустой строкой\n",
    "    \n",
    "\n",
    "print()\n",
    "print('*********************')\n",
    "print()    \n",
    "    \n",
    "matrix = [\n",
    "    [1, 2], \n",
    "    [3, 4], \n",
    "    [5, 6]\n",
    "]\n",
    "N = len(matrix) #вычисляем длину внешнего списка\n",
    "M = len(matrix[0]) #вычисляем длину вложенного списка\n",
    "#создаём цикл по последовательности чисел от 0 до N (не включая N)\n",
    "for i in range(N): #i — текущий элемент последовательности (индекс строки)\n",
    "    print('Current i', i) #выводим текущее значение i\n",
    "    print('Current row', matrix[i]) #выводим i-е значение внешнего списка\n",
    "    #создаём цикл по последовательности чисел от 0 до M (не включая M)\n",
    "    for j in range(M):#j — текущий элемент последовательности (индекс столбца)\n",
    "        print('Current j', j) #выводим текущее значение j\n",
    "        print('Current elem', matrix[i][j]) #выводим элемент под индексами i и j\n",
    "    print() #отделяем вывод на экран пустой строкой"
   ]
  },
  {
   "cell_type": "code",
   "execution_count": 17,
   "metadata": {},
   "outputs": [
    {
     "name": "stdout",
     "output_type": "stream",
     "text": [
      "Alarm is set 10:0\n",
      "Alarm is set 10:30\n",
      "Alarm is set 15:0\n",
      "Alarm is set 15:30\n",
      "Alarm is set 20:0\n",
      "Alarm is set 20:30\n",
      "\n",
      "*********************\n",
      "\n",
      "count now  1\n",
      "count now  2\n",
      "count now  3\n",
      "count now  4\n",
      "count now  5\n",
      "Count symbol 'e': 5\n",
      "\n",
      "*********************\n",
      "Alternative solution\n",
      "count now  1\n",
      "count now  1\n",
      "count now  2\n",
      "count now  4\n",
      "count now  5\n",
      "Count symbol 'e': 5\n",
      "\n",
      "*********************\n",
      "\n",
      "Min value in row: 1\n",
      "\n",
      "*********************\n",
      "\n",
      "Minimal elements: [1, 2, 4]\n",
      "\n",
      "*********************\n",
      "\n",
      "Average math score 76.6\n",
      "Average info score 64.8\n",
      "Average rus score 82.2\n",
      "Average score 74.53333333333333\n"
     ]
    }
   ],
   "source": [
    "hours = list(range(10, 24, 5)) #создаём список часов\n",
    "minutes = list(range(0, 60, 30)) #создаём список минут\n",
    "#создаём цикл по элементам списка часов\n",
    "for hour in hours: #hour — текущее значение часа (10, 15, 20)\n",
    "    #создаём цикл по элементам списка минут\n",
    "    for minute in minutes: #second — текущее значение минуты\n",
    "        print('Alarm is set {}:{}'.format(hour, minute)) #выводим время\n",
    "\n",
    "print()\n",
    "print('*********************')\n",
    "print()  \n",
    "\n",
    "str_list = ['text', 'morning', 'notepad', 'television', 'ornament'] #заданный список строк\n",
    "count = 0 #задаём начальное количество символов 'e'\n",
    "#создаём цикл по элементам списка str_list\n",
    "for text in str_list: \n",
    "    #создаём цикл по символам в строке text\n",
    "    for symbol in text:\n",
    "        #проверяем условие, что текущий символ == 'e'\n",
    "        if symbol == 'e': #если условие истинно,\n",
    "            count += 1 #увеличиваем количество символов 'e'\n",
    "            print('count now ',count)\n",
    "print(\"Count symbol 'e':\", count) #выводим результат\n",
    "\n",
    "print()\n",
    "print('*********************')\n",
    "print('Alternative solution')  \n",
    "\n",
    "str_list = ['text', 'morning', 'notepad', 'television', 'ornament'] #заданный список строк\n",
    "count = 0 #задаём начальное количество символов 'e'\n",
    "#создаём цикл по элементам списка str_list\n",
    "for text in str_list:\n",
    "    #увеличиваем количество символов 'e' \n",
    "    count += text.count('e') #.count() считает, сколько раз символ встречается в строке text\n",
    "    print('count now ',count)\n",
    "print(\"Count symbol 'e':\", count) #выводим результат\n",
    "\n",
    "print()\n",
    "print('*********************')\n",
    "print()  \n",
    "\n",
    "row = [9, 2, 1]\n",
    "min_value = row[0] #начальное значение кандидата на минимум\n",
    "#создаём цикл по элементам списка row\n",
    "for elem in row: #elem — текущий элемент из списка row\n",
    "    #проверяем условие, что текущий элемент меньше кандидата на минимум\n",
    "    if elem < min_value: #если условие выполняется,\n",
    "        min_value = elem #заменяем кандидата на минимум\n",
    "print('Min value in row:', min_value) #выводим результат\n",
    " \n",
    "print()\n",
    "print('*********************')\n",
    "print()\n",
    "\n",
    "random_matrix = [\n",
    "    [9, 2, 1],\n",
    "    [2, 5, 3],\n",
    "    [4, 8, 5]\n",
    "] #заданная матрица\n",
    "min_value_rows = [] #задаём пустой список с минимальными значениями строк\n",
    "#создаём цикл по строкам матрицы random_matrix \n",
    "for row in random_matrix: #row — текущая строка таблицы\n",
    "    min_value = row[0] #начальное значение кандидата на минимум\n",
    "    #создаём цикл по элементам списка row\n",
    "    for elem in row: #elem — текущий элемент из списка row\n",
    "        #проверяем условие, что текущий элемент меньше кандидата на минимум\n",
    "        if elem < min_value: #если условие выполняется,\n",
    "            min_value = elem #заменяем кандидата на минимум\n",
    "    min_value_rows.append(min_value) #добавляем полученный минимум строки в список\n",
    "print(\"Minimal elements:\", min_value_rows) #выводим минимальные элементы \n",
    "\n",
    " \n",
    "print()\n",
    "print('*********************')\n",
    "print()\n",
    "student_scores = [\n",
    "    [56, 90, 80],\n",
    "    [80, 86, 92],\n",
    "    [91, 76, 89],\n",
    "    [91, 42, 60],\n",
    "    [65, 30, 90]\n",
    "] #заданная таблица со студентами\n",
    "N = len(student_scores) #задаём число студентов\n",
    "M = len(student_scores[0]) #задаём число экзаменов\n",
    "summa = 0 #задаём начальное значение общего балла\n",
    "math_sum = 0 #задаём начальное значение общего балла по математике\n",
    "info_sum = 0 #задаём начальное значение общего балла по информатике\n",
    "rus_sum = 0 #задаём начальное значение общего балла по русскому языку\n",
    "#создаём цикл по последовательности от 0 до N (не включая N)\n",
    "for i in range(N): #i — индекс строки\n",
    "    math_sum += student_scores[i][0] #добавляем баллы по математике i-го студента\n",
    "    info_sum += student_scores[i][1] #добавляем баллы по информатике i-го студента\n",
    "    rus_sum += student_scores[i][2] #добавляем баллы по русскому i-го студента\n",
    "    #создаём цикл по последовательности от 0 до M (не включая M)\n",
    "    for j in range(M): #j — индекс столбца\n",
    "        summa += student_scores[i][j] #добавляем баллы i-го студента по j-му экзамену\n",
    "print('Average math score', math_sum/N) #выводим средний балл по математике\n",
    "print('Average info score', info_sum/N) #выводим средний балл по информатике\n",
    "print('Average rus score', rus_sum/N) #выводим средний балл по русскому языку\n",
    "print('Average score', summa/(N*M)) #выводим общий средний балл\n"
   ]
  },
  {
   "cell_type": "code",
   "execution_count": 19,
   "metadata": {},
   "outputs": [
    {
     "name": "stdout",
     "output_type": "stream",
     "text": [
      "[0.5, 0.6, 0.6, 0.65, 0.3, 0.55, 0.7, 0.9, 0.5, 0.5]\n"
     ]
    }
   ],
   "source": [
    "scores = [\n",
    "    [0.5, 0.6, 0.6, 0.65, 0.3],\n",
    "    [0.55, 0.7, 0.9, 0.5, 0.5]\n",
    "]\n",
    "scores_lst = []\n",
    "for row in scores:\n",
    "    for score in row:\n",
    "        scores_lst.append(score)\n",
    "print(scores_lst)"
   ]
  },
  {
   "cell_type": "code",
   "execution_count": 10,
   "metadata": {},
   "outputs": [
    {
     "name": "stdout",
     "output_type": "stream",
     "text": [
      "Alarm is set 10:0\n",
      "Alarm is set 10:30\n",
      "Alarm is set 15:0\n",
      "Alarm is set 15:30\n",
      "Alarm is set 20:0\n",
      "Alarm is set 20:30\n"
     ]
    }
   ],
   "source": [
    "hours = list(range(10, 24, 5)) #создаём список часов\n",
    "minutes = list(range(0, 60, 30)) #создаём список минут\n",
    "#создаём цикл по элементам списка часов\n",
    "for hour in hours: #hour — текущее значение часа (10, 15, 20)\n",
    "    #создаём цикл по элементам списка минут\n",
    "    for minute in minutes: #second — текущее значение минуты\n",
    "        print('Alarm is set {}:{}'.format(hour, minute)) #выводим врем"
   ]
  },
  {
   "cell_type": "code",
   "execution_count": 22,
   "metadata": {},
   "outputs": [
    {
     "name": "stdout",
     "output_type": "stream",
     "text": [
      "water 0.0033   iteracija: 1\n",
      "water 0.0066   iteracija: 2\n",
      "water 0.009899999999999999   iteracija: 3\n",
      "water 0.0132   iteracija: 4\n",
      "vililosj 3.2 litrov vodi\n",
      "\n",
      "*********************\n",
      "\n",
      "\n",
      "*********************\n",
      "2.4\n",
      "\n",
      "*********************\n",
      "2.10\n",
      "\n",
      "*********************\n",
      "2.11\n",
      "\n",
      "*********************\n",
      "2.12\n",
      "\n",
      "*********************\n",
      "3.2\n",
      "\n",
      "*********************\n",
      "3.3\n",
      "1\n",
      "2\n",
      "3\n",
      "4\n",
      "5\n",
      "6\n",
      "7\n",
      "8\n",
      "9\n",
      "10\n",
      "result: 10\n",
      "\n",
      "*********************\n",
      "3.4\n",
      "\n",
      "*********************\n",
      "3.8\n",
      "ok\n",
      "True\n"
     ]
    }
   ],
   "source": [
    "#2.2\n",
    "\n",
    "sosud = 0.01\n",
    "water = 0\n",
    "count = 0\n",
    "while water < sosud:\n",
    "    water +=0.0033\n",
    "    count+=1\n",
    "    print('water',water, '  iteracija:',count)\n",
    "\n",
    "print('vililosj {} litrov vodi'.format(round((water-sosud)*1000,2)))\n",
    "\n",
    "print()\n",
    "print('*********************')\n",
    "print()\n",
    "\n",
    "#2.3\n",
    "\n",
    "# n = 1\n",
    "# while n**2<1000:    \n",
    "#     print('chislo: ',n, 'kvadrat:',n**2)\n",
    "#     n+=1\n",
    "# print('Vsjo')\n",
    "    \n",
    "\n",
    "print()\n",
    "print('*********************')\n",
    "print(2.4)    \n",
    "    \n",
    "#2.4\n",
    "# n = 1\n",
    "# while True:\n",
    "#     s=n**2    \n",
    "#     n+=1\n",
    "#     if n**2>1000:\n",
    "#         print(n,s)\n",
    "#         break\n",
    "        \n",
    "print()\n",
    "print('*********************')\n",
    "print('2.10') \n",
    "\n",
    "# n=1\n",
    "# s=1\n",
    "# while True:\n",
    "#     s=s*n      \n",
    "#     if s >1000:\n",
    "#         print('n: ',n,'s:',s)\n",
    "#         break\n",
    "#     n+=1\n",
    "\n",
    "print()\n",
    "print('*********************')\n",
    "print('2.11')\n",
    "\n",
    "# n=1\n",
    "# while True:\n",
    "#     s=3**n      \n",
    "#     if s >1000:\n",
    "#         print('n: ',n,'s:',s)\n",
    "#         break\n",
    "#     n+=1\n",
    "    \n",
    "    \n",
    "print()\n",
    "print('*********************')\n",
    "print('2.12')\n",
    "\n",
    "# n=1\n",
    "# s=1000\n",
    "# while True:\n",
    "#     s*=1.08      \n",
    "#     if s >3000:\n",
    "#         print('n: ',n,'s:',s)\n",
    "#         break\n",
    "#     n+=1\n",
    "    \n",
    "print()\n",
    "print('*********************')\n",
    "print('3.2')\n",
    "\n",
    "# hours = list(range(9,24,2))\n",
    "# minutes = list(range(0,60,15))\n",
    "# for hour in hours:\n",
    "#     for minute in minutes:\n",
    "#         print('Alarm is set {}:{}'.format(hour,minute))\n",
    "\n",
    "print()\n",
    "print('*********************')\n",
    "print('3.3')\n",
    "\n",
    "text_list = [\n",
    "    'afbaad',\n",
    "    'faaf',\n",
    "    'afaga',\n",
    "    'agag'\n",
    "]\n",
    "count=0\n",
    "for text in text_list:\n",
    "    for symbol in text:\n",
    "        if symbol=='a':\n",
    "            count+=1\n",
    "            print(count)\n",
    "print('result:',count)      \n",
    "\n",
    "\n",
    "print()\n",
    "print('*********************')\n",
    "print('3.4')\n",
    "\n",
    "# random_matrix = [\n",
    "#     [9, 2, 1],\n",
    "#     [2, 5, 3],\n",
    "#     [4, 8, 5]\n",
    "# ] \n",
    "# max_values = []\n",
    "# for row in random_matrix:\n",
    "#     max=row[0]\n",
    "#     for elem in row:\n",
    "#         if elem>max:\n",
    "#             max=elem\n",
    "#     max_values.append(max)\n",
    "# print('Max elements:',max_values)\n",
    "\n",
    "print()\n",
    "print('*********************')\n",
    "print('3.8')\n",
    "\n",
    "test_matrix1 = [\n",
    "    [1, 2, 3],\n",
    "    [7, -1, 2],\n",
    "    [123, 2, -1]\n",
    "]\n",
    "test_matrix2 = [\n",
    "    [1, 2, 3],\n",
    "    [7, -1, 2],\n",
    "    [123, 2, -1],\n",
    "    [123, 5, 1]\n",
    "]\n",
    "\n",
    "\n",
    "r = len(test_matrix1)\n",
    "c = len(test_matrix1[0])\n",
    "if r == c:\n",
    "    print('ok')\n",
    "\n",
    "test_matrix1 = [\n",
    "    [1, 2, 3],\n",
    "    [7, -1, 2],\n",
    "    [123, 2, -1]\n",
    "] #заданная тестовая матрица\n",
    "\n",
    "num_lines = len(test_matrix1) #вычисляем число строк в матрице\n",
    "count = 0 #задаём начальное количество строк, длина которых совпадает с числом строк в матрице\n",
    "#создаём цикл по строкам матрицы\n",
    "for line in test_matrix1: #line — текущая строка матрицы\n",
    "    #проверяем, что длина текущей строки равна количеству строк\n",
    "    if len(line) == num_lines: #если условие выполняется,\n",
    "        count += 1 #увеличиваем количество строк, длина которых совпадает с числом строк в матрице\n",
    "#сравниваем полученное число с числом строк в матрице и выводим результат\n",
    "print(num_lines == count)"
   ]
  },
  {
   "cell_type": "markdown",
   "metadata": {},
   "source": [
    "самопроверка\n",
    "\n",
    "\n",
    " Задание 3.8\n",
    "1 point possible (graded)\n",
    "Напишите код, который определяет, является ли матрица квадратной (то есть количество строк равно количеству столбцов). В конце программа должна выводить на экран значение True или False в зависимости от заданной матрицы.\n",
    "\n",
    "test_matrix1 = [\n",
    "    [1, 2, 3],\n",
    "    [7, -1, 2],\n",
    "    [123, 2, -1]\n",
    "]\n",
    "test_matrix2 = [\n",
    "    [1, 2, 3],\n",
    "    [7, -1, 2],\n",
    "    [123, 2, -1],\n",
    "    [123, 5, 1]\n",
    "]\n",
    "\n",
    "Задание 3.4 (на самопроверку)\n",
    "\n",
    "Перепишите алгоритм из примера №3 так, чтобы он искал максимумы в строках таблицы random_matrix.\n",
    "\n",
    "Задание 3.2 (на самопроверку)\n",
    "\n",
    "Пусть пользователь задаёт будильники на каждые два часа, начиная с 9 часов утра. Причём будильники должны звонить четырежды в указанный час (интервал 15 минут), например в 11:00, 11:15, 11:30 и 11:45.\n",
    "\n",
    "Напишите вложенный цикл, который будет выводить на экран время, в которое прозвенят будильники.\n",
    "\n",
    "\n",
    " Задание 2.12\n",
    "1 point possible (graded)\n",
    "Олег положил тысячу рублей в банк под 8% годовых. Через сколько лет у него на счету будет не менее трёх тысяч рублей? Выведите на экран это число и запишите его в ответ.\n",
    "\n",
    "\n",
    " Задание 2.11\n",
    "0 points possible (ungraded)\n",
    "Напишите программу, которая возводит число 3 в n-ю степень (3, 9, 27 …), начиная с n = 1. На какой итерации цикла значение n превысит значение 1000? В ответ запишите номер этой итерации.\n",
    "\n",
    " Задание 2.10\n",
    "0 points possible (ungraded)\n",
    "Напишите цикл while, который вычисляет произведение натуральных чисел (1*2*3*4*...). Цикл должен выполняться до тех пор, пока значение произведения не превысит 1 000. В ответ запишите полученное после цикла произведение.\n",
    "\n",
    "Задание 2.4 (на самопроверку)\n",
    "\n",
    "Напишите бесконечный цикл while с условием выхода внутри цикла, который находит максимальное натуральное число, квадрат которого меньше 1000.\n",
    "\n",
    "Задание 2.3 (на самопроверку)\n",
    "\n",
    "Напишите цикл while, который находит максимальное натуральное число, квадрат которого меньше 1000.\n",
    "\n",
    "\n",
    "\n",
    "\n",
    "Задание 2.2 (на самопроверку)\n",
    "\n",
    "Сосуд вмещает в себя ровно 10 литров жидкости. Каждый раз него вливается 0.0033 кубических метра жидкости. Понятно, что в какой-то момент сосуд наполнится до краёв и жидкость начнёт выливаться из сосуда.\n",
    "\n",
    "С помощью цикла while опишите данный процесс и найдите, сколько литров жидкости выльется из сосуда.\n",
    "\n",
    "Учтите, что в 1 кубический метр равен 1 000 литров (0.0033 * 1000 = 3.3).\n"
   ]
  },
  {
   "cell_type": "markdown",
   "metadata": {},
   "source": [
    "# 4. Дополнительные возможности"
   ]
  },
  {
   "cell_type": "code",
   "execution_count": 27,
   "metadata": {},
   "outputs": [
    {
     "name": "stdout",
     "output_type": "stream",
     "text": [
      "standart\n",
      "Day 1 : -5\n",
      "Day 2 : 2\n",
      "Day 3 : 4\n",
      "Day 4 : 8\n",
      "Day 5 : 12\n",
      "Day 6 : -7\n",
      "Day 7 : 5\n",
      "\n",
      "enumerate\n",
      "Day 1 : -5\n",
      "Day 2 : 2\n",
      "Day 3 : 4\n",
      "Day 4 : 8\n",
      "Day 5 : 12\n",
      "Day 6 : -7\n",
      "Day 7 : 5\n"
     ]
    }
   ],
   "source": [
    "print('standart')\n",
    "user_dynamics = [-5, 2, 4, 8, 12, -7, 5] #заданный список динамики пользователей\n",
    "N = len(user_dynamics) #вычисляем длину списка\n",
    "#создаём цикл по элементам последовательности от 0 до N (не включая N)\n",
    "for i in range(N): #i — текущий индекс\n",
    "    print(\"Day {} : {}\".format(i+1, user_dynamics[i])) #выводим номер дня и динамику на этот день\n",
    "    \n",
    "    \n",
    "print()\n",
    "print('enumerate')\n",
    "\n",
    "user_dynamics = [-5, 2, 4, 8, 12, -7, 5] #заданный список динамики пользователей\n",
    "#создаём цикл по индексам и элементам списка \n",
    "for i, dynamic in enumerate(user_dynamics): # i — индекс текущего элемента, dynamic — текущее значение из списка\n",
    "    print(\"Day {} : {}\".format(i+1, dynamic)) #выводим номер дня и динамику на этот день"
   ]
  },
  {
   "cell_type": "code",
   "execution_count": 26,
   "metadata": {},
   "outputs": [
    {
     "name": "stdout",
     "output_type": "stream",
     "text": [
      "0 5\n",
      "1 9\n",
      "2 13\n"
     ]
    }
   ],
   "source": [
    "my_list = [5, 9, 13]\n",
    "for index, value in enumerate(my_list):\n",
    "    print(index, value)\n"
   ]
  },
  {
   "cell_type": "code",
   "execution_count": 31,
   "metadata": {},
   "outputs": [
    {
     "name": "stdout",
     "output_type": "stream",
     "text": [
      "Churn value:  -5\n",
      "Number day:  1\n",
      "Churn value:  -7\n",
      "Number day:  6\n"
     ]
    }
   ],
   "source": [
    "\n",
    "user_dynamics = [-5, 2, 4, 8, 12, -7, 5]\n",
    "number_negative = None #объявляем переменную, в которой будем хранить номер последнего дня оттока, изначально она пустая (None)\n",
    "N = len(user_dynamics) #вычисляем длину списка\n",
    "#создаём цикл по элементам последовательности от 0 до N (не включая N)\n",
    "for i in range(N): # i — индекс текущего элемента\n",
    "    #проверяем условие оттока — текущий элемент отрицательный\n",
    "    if user_dynamics[i] < 0: #если условие истинно,\n",
    "        number_negative = i+1  #перезаписываем значение номера дня\n",
    "        print(\"Churn value: \", user_dynamics[i]) # выводим количество ушедших в этот день пользователей\n",
    "        print(\"Number day: \", number_negative) # выводим номер дня\n",
    "        \n",
    "        "
   ]
  },
  {
   "cell_type": "code",
   "execution_count": 30,
   "metadata": {},
   "outputs": [
    {
     "name": "stdout",
     "output_type": "stream",
     "text": [
      "-5\n",
      "1\n",
      "-7\n",
      "6\n"
     ]
    }
   ],
   "source": [
    "user_dynamics = [-5, 2, 4, 8, 12, -7, 5]\n",
    "number_negative = None #объявляем переменную, в которой будем хранить номер последнего дня оттока, изначально она пустая (None)\n",
    "for day, dynamics in enumerate(user_dynamics):\n",
    "    if dynamics < 0:\n",
    "        number_negative = day+1\n",
    "        print(dynamics)\n",
    "        print(number_negative)\n",
    "        "
   ]
  },
  {
   "cell_type": "markdown",
   "metadata": {},
   "source": [
    "Условие задачи. Мы разрабатываем игру, и в ней предусмотрен инвентарь с ограниченным числом ячеек. Переменная inventory описывает список вещей, которые хранятся у игрока в инвентаре. Пусть изначально инвентарь пуст. У игрока есть только три свободные ячейки инвентаря.\n",
    "\n",
    "Список вещей, которые он хочет положить, хранится в переменной to_inventory.\n",
    "\n",
    "to_inventory = ['Blood Moon Sword', 'Sunset-colored sword', 'Bow of Stars', 'Gain Stone']\n",
    "\n",
    "Необходимо написать программу, которая переносит вещи из списка to_inventory в список inventory, но если количество этих вещей превысит 3, то выводится предупреждение и перенос вещей заканчивается.\n",
    "\n",
    "Нам необходимо организовать цикл for по элементам списка to_inventory. Переменную цикла назовём item.\n",
    "\n",
    "В цикле задаём условие, что количество вещей в инвентаре (длина списка inventory) равно 3. Если условие выполняется, то выводится предупреждение о переполнении инвентаря и цикл завершается. В противном случае добавляем элемент списка в список инвентаря inventory (например, с помощью метода append()). "
   ]
  },
  {
   "cell_type": "code",
   "execution_count": null,
   "metadata": {},
   "outputs": [],
   "source": [
    "to_inventory = ['Blood Moon Sword', 'Sunset-colored sword', 'Bow of Stars', 'Gain Stone']\n",
    "inventory = [] #задаём пустой инвентарь\n",
    "#создаём цикл по элементам списка to_inventory\n",
    "for item in to_inventory: #item — текущий элемент списка\n",
    "    #проверяем условие, что инвентарь уже заполнен\n",
    "    if len(inventory) == 3: #если условие выполняется,\n",
    "        print('inventory is full!') #выводим предупреждение об ошибке\n",
    "        break #завершаем работу цикла\n",
    "    else:#в противном случае\n",
    "        inventory.append(item) #добавляем предмет в инвентарь\n",
    "print(inventory)#выводим результирующий инвентарь"
   ]
  },
  {
   "cell_type": "markdown",
   "metadata": {},
   "source": [
    "Условие задачи. В теории шифрования очень активно используются степени числа. Берётся число и несколько раз возводится в некоторую степень. Для дешифрации нужно определить, какое число было задано изначально.\n",
    "\n",
    "Например, изначально задано простое число 3, его возвели в степень 4 и получили число 81.\n",
    "\n",
    "Необходимо написать программу, которая проверяет, что число n является степенью числа 3.\n",
    "\n",
    "Обсудим алгоритм решения нашей небольшой криптографической задачи.\n",
    "\n",
    "Чтобы число было степенью тройки, необходимо, чтобы при его делении на 3 в остатке всегда получался 0. Если условие выполняется, число надо нацело разделить на 3.\n",
    "\n",
    "Как только мы дойдём до 1, это будет означать, что число является степенью тройки.\n",
    "\n",
    "Если на каком-то шаге остаток не равен 0, то число не является степенью тройки и дальше проверять нет необходимости.\n",
    "\n",
    "Напомним, за операцию взятия остатка от деления в Python отвечает оператор %, а за целочисленное деление — //.\n",
    "\n",
    "Например, рассмотрим число 27:\n",
    "\n",
    "        Остаток от деления на 3: 27 % 3 = 0. Результат целочисленного деления 27 // 3 = 9.\n",
    "        Остаток от деления на 3: 9 % 3 = 0. Результат целочисленного деления 9 // 3 = 3.\n",
    "        Остаток от деления на 3: 3 % 3 = 0. Результат целочисленного деления 3 // 3 = 1. \n",
    "\n",
    "Получили 1, а значит 27 является степенью числа 3. Выходим из цикла.\n",
    "\n",
    "А теперь рассмотрим число 12:\n",
    "\n",
    "        Остаток от деления на 3: 12 % 3 = 0. Результат целочисленного деления 12 // 3 = 4.\n",
    "        Остаток от деления на 3: 4 % 3 = 1. \n",
    "\n",
    "Остаток не равен 0, а это значит число 12 не является степенью числа 3. Выходим из цикла.\n",
    "\n",
    "Итак, организуем процедуру проверки в коде:"
   ]
  },
  {
   "cell_type": "code",
   "execution_count": 41,
   "metadata": {},
   "outputs": [
    {
     "name": "stdout",
     "output_type": "stream",
     "text": [
      "n - is not the power of the number 3!\n"
     ]
    }
   ],
   "source": [
    "n = 10 #задаём число\n",
    "#создаём бесконечный цикл\n",
    "while True:\n",
    "    #проверяем условие, что остаток от деления на 3 равен 0\n",
    "    if n % 3 == 0: #если условие выполняется,\n",
    "        n = n // 3 #новое число — результат целочисленного деления на 3\n",
    "        print('new n:',n)\n",
    "        if n == 1: #если в результате деления получили 1,\n",
    "            print('n - is the power of the number 3!')#выводим утвердительное сообщение\n",
    "            break #выходим из цикла\n",
    "    else: #в противном случае\n",
    "        print('n - is not the power of the number 3!') #выводим сообщение-опровержение\n",
    "        break #выходим из цикла\n",
    "\n",
    "#Будет выведено\n",
    "#n - is the power of the number 3!\n",
    "\n"
   ]
  },
  {
   "cell_type": "markdown",
   "metadata": {},
   "source": [
    "Задание 4.6 (на самопроверку)\n",
    "\n",
    "Допишите программу, которая проверяет гипотезу Сиракуз. Гипотеза Сиракуз заключается в том, что любое натуральное число можно свести к 1, если повторять над ним следующие действия:\n",
    "\n",
    "        если число чётное, разделить его пополам, т. е. n = n // 2;\n",
    "        если нечётное — умножить на 3, прибавить 1 и результат разделить на 2, т. е. n = (n * 3 + 1) // 2.\n"
   ]
  },
  {
   "cell_type": "code",
   "execution_count": 42,
   "metadata": {},
   "outputs": [
    {
     "name": "stdout",
     "output_type": "stream",
     "text": [
      "29\n",
      "44\n",
      "22\n",
      "11\n",
      "17\n",
      "26\n",
      "13\n",
      "20\n",
      "10\n",
      "5\n",
      "8\n",
      "4\n",
      "2\n",
      "1\n",
      "Syracuse hypothesis holds\n"
     ]
    }
   ],
   "source": [
    "n = 19 #задаём число\n",
    "#создаём бесконечный цикл\n",
    "while True:\n",
    "    if n%2==0:\n",
    "        n=n//2\n",
    "        print(n)\n",
    "    else:\n",
    "        n=(n*3+1)//2\n",
    "        print(n)\n",
    "    if n == 1: #если результат равен 1,\n",
    "        print('Syracuse hypothesis holds') #выводим утвердительное сообщение\n",
    "        break\n",
    "        "
   ]
  },
  {
   "cell_type": "markdown",
   "metadata": {},
   "source": [
    "Условие задачи. Дан словарь клиентов и статус их программы скидок. Ключами словаря являются идентификаторы клиентов, а значениями — статусы программы скидок ('yes' — активен, 'no' — неактивен).\n",
    "\n",
    "client_status = {\n",
    "    103303: 'yes', \n",
    "    103044: 'no',\n",
    "    100423: 'yes',\n",
    "    103032: 'no',\n",
    "    103902: 'no'\n",
    "}\n",
    "\n",
    "В честь Нового года магазин хочет отправить подарочные сертификаты всем, у кого активен статус программы скидок.\n",
    "\n",
    "Необходимо написать программу, которая выводит идентификаторы клиентов, которым полагается подарочный сертификат.\n",
    "\n",
    "Нам необходимо перебрать все значения нашего словаря. Словарь — это тоже последовательность, а значит наилучший вариант цикла в данном случае — это цикл for.\n",
    "\n",
    "Когда мы задаём цикл for по словарю, то перебираем его ключи. Например:\n",
    "\n",
    "for user_id in client_status:\n",
    "    print(user_id)\n",
    "\n",
    "Обозначим, что на каждой итерации цикла в переменную user_id попадает ключ из словаря client_status. Например, на первой итерации user_id = 103303, на второй итерации user_id = 103044 и т. д.\n",
    "\n",
    "Для того чтобы получить текущее значение из словаря, необходимо обратиться к нему по текущему ключу: client_status[user_id]. Например, на первой итерации мы обратимся по ключу 10303 client_status[103303] и получим 'yes'. \n",
    "\n",
    "Такой цикл по словарю очень схож с циклом по индексам списка, только здесь индексами являются ключи.\n",
    "\n",
    "Итак, задаём цикл по ключам словаря client_status. Будем проверять, что текущий статус клиента равен строке 'no': если условие выполняется, значит статус клиента неактивен и такого клиента мы пропускаем (переходим на следующую итерацию), в противном случае — выводим сообщение об отправке подарочного сертификата клиенту.\n",
    "\n",
    "Итоговый код ↓"
   ]
  },
  {
   "cell_type": "code",
   "execution_count": 43,
   "metadata": {},
   "outputs": [
    {
     "name": "stdout",
     "output_type": "stream",
     "text": [
      "Send present user 103303\n",
      "Send present user 100423\n"
     ]
    }
   ],
   "source": [
    "client_status = {\n",
    "    103303: 'yes', \n",
    "    103044: 'no',\n",
    "    100423: 'yes',\n",
    "    103032: 'no',\n",
    "    103902: 'no'\n",
    "}\n",
    "#создаём цикл по ключам словаря client_status\n",
    "for user_id in client_status: #user_id — текущий ключ словаря\n",
    "    #если текущий статус == 'no',\n",
    "    if client_status[user_id] == 'no':\n",
    "        continue #переходим на следующую итерацию\n",
    "    else:\n",
    "        print('Send present user', user_id) #выводим сообщение об отправке"
   ]
  },
  {
   "cell_type": "code",
   "execution_count": 44,
   "metadata": {},
   "outputs": [
    {
     "name": "stdout",
     "output_type": "stream",
     "text": [
      "a b d e "
     ]
    }
   ],
   "source": [
    "lst=['a', 'b', 'c', 'd', 'e']\n",
    "for elem in lst:\n",
    "    if elem == 'c':\n",
    "        continue\n",
    "    print(elem, end=' ')"
   ]
  },
  {
   "cell_type": "markdown",
   "metadata": {},
   "source": [
    "Задание 4.9 (на самопроверку)\n",
    "\n",
    "Дан словарь my_dict. Его значения могут быть как строками (тип str), так и числами (типы int и float). Посчитайте, сколько значений в словаре my_dict являются числами. Используйте в своём коде оператор continue.\n",
    "\n",
    "my_dict = {'a': 15, 'b': 10.5, 'c': '15', 'd': 50, 'e': 15, 'f': '15'}\n",
    "\n",
    "Для того чтобы проверить тип, используйте метод type() и сравните тип данных со str."
   ]
  },
  {
   "cell_type": "code",
   "execution_count": 47,
   "metadata": {},
   "outputs": [
    {
     "name": "stdout",
     "output_type": "stream",
     "text": [
      "4\n"
     ]
    }
   ],
   "source": [
    "my_dict = {'a': 15, 'b': 10.5, 'c': '15', 'd': 50, 'e': 15, 'f': '15'}\n",
    "digits = 0\n",
    "for key_ in my_dict:\n",
    "    if type(my_dict[key_]) is str:\n",
    "        continue\n",
    "    else:\n",
    "        digits+=1\n",
    "print(digits)\n"
   ]
  },
  {
   "cell_type": "code",
   "execution_count": 2,
   "metadata": {},
   "outputs": [
    {
     "name": "stdout",
     "output_type": "stream",
     "text": [
      "therabbit-holewentstraightonlikeatunnelforsomeway,andthendippedsuddenlydown,sosuddenlythatalicehadnotamomenttothinkaboutstoppingherselfbeforeshefoundherselffallingdownaverydeepwell.eitherthewellwasverydeep,orshefellveryslowly,forshehadplentyoftimeasshewentdowntolookaboutherandtowonderwhatwasgoingtohappennext.first,shetriedtolookdownandmakeoutwhatshewascomingto,butitwastoodarktoseeanything;thenshelookedatthesidesofthewell,andnoticedthattheywerefilledwithcupboardsandbook-shelves;hereandthereshesawmapsandpictureshunguponpegs.shetookdownajarfromoneoftheshelvesasshepassed;itwaslabelled`orangemarmalade',buttohergreatdisappointmentitwasempty:shedidnotliketodropthejarforfearofkillingsomebody,somanagedtoputitintooneofthecupboardsasshefellpastit.`well!'thoughtalicetoherself,`aftersuchafallasthis,ishallthinknothingoftumblingdownstairs!howbravethey'llallthinkmeathome!why,iwouldn'tsayanythingaboutit,evenififelloffthetopofthehouse!'(whichwasverylikelytrue.)\n",
      "{'t': 88, 'h': 63, 'e': 112, 'r': 39, 'a': 70, 'b': 15, 'i': 47, '-': 2, 'o': 80, 'l': 55, 'w': 31, 'n': 57, 's': 60, 'g': 17, 'k': 14, 'u': 22, 'f': 28, 'm': 17, 'y': 18, ',': 13, 'd': 43, 'p': 23, 'c': 9, 'v': 8, '.': 5, 'x': 1, ';': 3, 'j': 2, '`': 3, \"'\": 5, ':': 1, '!': 4, '(': 1, ')': 1}\n"
     ]
    }
   ],
   "source": [
    "text = \"\"\"\n",
    "The rabbit-hole went straight on like a tunnel for some way, and then dipped suddenly down, so suddenly that Alice had not a moment to think about stopping herself before she found herself falling down a very deep well.\n",
    "\n",
    "Either the well was very deep, or she fell very slowly, for she had plenty of time as she went down to look about her and to wonder what was going to happen next. First, she tried to look down and make out what she was coming to, but it was too dark to see anything; then she looked at the sides of the well, and noticed that they were filled with cupboards and book-shelves; here and there she saw maps and pictures hung upon pegs. She took down a jar from one of the shelves as she passed; it was labelled `ORANGE MARMALADE', but to her great disappointment it was empty: she did not like to drop the jar for fear of killing somebody, so managed to put it into one of the cupboards as she fell past it.\n",
    "\n",
    "`Well!' thought Alice to herself, `after such a fall as this, I shall think nothing of tumbling down stairs! How brave they'll all think me at home! Why, I wouldn't say anything about it, even if I fell off the top of the house!' (Which was very likely true.)\n",
    "\"\"\"\n",
    "\n",
    "text = text.lower() #приводим текст к нижнему регистру\n",
    "text = text.replace(\" \", \"\") #заменяем пробелы на пустые строки\n",
    "text = text.replace(\"\\n\", \"\") #заменяем символы переноса строки на пустые строки\n",
    "print(text) #выводим результирующий текст\n",
    "count_dict = {} #создаём пустой словарь для подсчёта количества символов\n",
    "#создаём цикл по символам в строке text\n",
    "for symbol in text: #symbol — текущий символ в тексте\n",
    "    #проверяем условие, что символа ещё нет среди ключей словаря\n",
    "    if symbol not in count_dict: #если условие выполняется,\n",
    "        count_dict[symbol] = 1 #заносим символ в словарь со значением 1\n",
    "    else: #в противном случае\n",
    "        count_dict[symbol] += 1 #увеличиваем частоту символа\n",
    "print(count_dict) #выводим результирующий словарь"
   ]
  },
  {
   "cell_type": "markdown",
   "metadata": {},
   "source": [
    "\n",
    "\n",
    "Задание 4.10 (на самопроверку)\n",
    "\n",
    "Попробуйте посчитать частоту каждого символа в следующем тексте:\n",
    "\n",
    "text = \"\"\"\n",
    "She sells sea shells on the sea shore;\n",
    "The shells that she sells are sea shells I am sure.\n",
    "So if she sells sea shells on the sea shore,\n",
    "I am sure that the shells are sea shore shells.\n",
    "\"\"\"\n",
    "\n",
    "Как и в примере №4, предварительно очистите текст от символов переноса строки и пробелов, приведите текст к нижнему регистру.\n",
    "\n",
    "В результате работы вашей программы у вас должен получиться словарь, ключами которого являются символы, а значениями — их частота (количество повторений в тексте).\n"
   ]
  },
  {
   "cell_type": "code",
   "execution_count": 5,
   "metadata": {},
   "outputs": [
    {
     "name": "stdout",
     "output_type": "stream",
     "text": [
      "{'s': 33, 'h': 18, 'e': 29, 'l': 18, 'a': 12, 'o': 6, 'n': 2, 't': 8, 'r': 7, ';': 1, 'i': 3, 'm': 2, 'u': 2, '.': 2, 'f': 1, ',': 1}\n"
     ]
    }
   ],
   "source": [
    "text = \"\"\"\n",
    "She sells sea shells on the sea shore;\n",
    "The shells that she sells are sea shells I am sure.\n",
    "So if she sells sea shells on the sea shore,\n",
    "I am sure that the shells are sea shore shells.\n",
    "\"\"\"\n",
    "text = text.lower()\n",
    "text = text.replace(' ','')\n",
    "text = text.replace('\\n','')\n",
    "\n",
    "count_dict = {}\n",
    "for symbol in text:\n",
    "    if symbol not in count_dict:\n",
    "        count_dict[symbol] = 1\n",
    "    else:\n",
    "        count_dict[symbol] +=1\n",
    "print(count_dict)"
   ]
  },
  {
   "cell_type": "code",
   "execution_count": 25,
   "metadata": {},
   "outputs": [
    {
     "name": "stdout",
     "output_type": "stream",
     "text": [
      "['she', 'sells', 'sea', 'shells', 'on', 'the', 'sea', 'shorethe', 'shells', 'that', 'she', 'sells', 'are', 'sea', 'shells', 'i', 'am', 'sureso', 'if', 'she', 'sells', 'sea', 'shells', 'on', 'the', 'sea', 'shorei', 'am', 'sure', 'that', 'the', 'shells', 'are', 'sea', 'shore', 'shells']\n",
      "{'she': 3, 'sells': 3, 'sea': 6, 'shells': 6, 'on': 2, 'the': 3, 'shorethe': 1, 'that': 2, 'are': 2, 'i': 1, 'am': 2, 'sureso': 1, 'if': 1, 'shorei': 1, 'sure': 1, 'shore': 1}\n"
     ]
    }
   ],
   "source": [
    "text = \"\"\"\n",
    "She sells sea shells on the sea shore;\n",
    "The shells that she sells are sea shells I am sure.\n",
    "So if she sells sea shells on the sea shore,\n",
    "I am sure that the shells are sea shore shells.\n",
    "\"\"\"\n",
    "text = text.lower() #приводим текст к нижнему регистру\n",
    "text = text.replace(\"\\n\", \"\") #заменяем символы переноса строки на пустые строки\n",
    "text = text.replace(\",\", \"\") #заменяем запятые на пустые строки\n",
    "text = text.replace(\".\", \"\") #заменяем точки на пустые строки\n",
    "text = text.replace(\";\", \"\") #заменяем точки с запятыми на пустые строки\n",
    "\n",
    "\n",
    "word_list = text.split()\n",
    "print(word_list)\n",
    "count_dict = {} #создаём пустой словарь для подсчёта количества слов\n",
    "#создаём цикл по словам в списке word_list\n",
    "for word in word_list: #word — текущее слово из списка word_list\n",
    "    #проверяем условие, что слова ещё нет среди ключей словаря\n",
    "    if word not in count_dict: #если условие выполняется,\n",
    "        count_dict[word] = 1 #заносим слово в словарь со значением 1\n",
    "    else: #в противном случае\n",
    "        count_dict[word] += 1 #увеличиваем частоту слова\n",
    "print(count_dict) #выводим результирующий словарь"
   ]
  },
  {
   "cell_type": "markdown",
   "metadata": {},
   "source": [
    "# Итоги"
   ]
  },
  {
   "cell_type": "code",
   "execution_count": 14,
   "metadata": {},
   "outputs": [
    {
     "data": {
      "text/plain": [
       "3"
      ]
     },
     "execution_count": 14,
     "metadata": {},
     "output_type": "execute_result"
    }
   ],
   "source": [
    "lst = [1, 10, 2, 1, 2, 1] \n",
    "lst.count(1)"
   ]
  },
  {
   "cell_type": "markdown",
   "metadata": {},
   "source": [
    "С помощью цикла for проверьте, есть ли в полученном списке повторяющиеся числа. Для этого пройдитесь в цикле по элементам полученного списка и на каждом шаге проверьте, сколько раз текущий элемент встречается в списке.\n",
    "\n",
    "Если хотя бы один из элементов встречается больше одного раза, выведите на экран строку 'yes' и прекратите выполнение цикла."
   ]
  },
  {
   "cell_type": "code",
   "execution_count": 15,
   "metadata": {},
   "outputs": [
    {
     "name": "stdout",
     "output_type": "stream",
     "text": [
      "4 2\n",
      "yes\n",
      "[4, 2, 3, 7, 4, 0, 0, 8, 8, 9]\n"
     ]
    }
   ],
   "source": [
    "import random\n",
    "my_list = []\n",
    "for i in range(0, 10):\n",
    "    my_list.append(random.randint(0, 10))\n",
    "for number in my_list:\n",
    "    if my_list.count(number)>1:\n",
    "        print(number, my_list.count(number))\n",
    "        print('yes')\n",
    "        break\n",
    "    \n",
    "print(my_list)\n"
   ]
  },
  {
   "cell_type": "markdown",
   "metadata": {},
   "source": [
    "Задайте список my_list, содержащий целые числа, с помощью модуля random, как и в предыдущей задаче.\n",
    "\n",
    "Используя инструкцию while, разработайте программу, которая вычисляет сумму элементов списка, пока она не превысит число 10.\n",
    "\n",
    "В результате работы программы выведите значение полученной суммы (обратите внимание: так как числа в списке my_list являются случайными, то значение суммы при каждом запуске программы может быть разным)."
   ]
  },
  {
   "cell_type": "code",
   "execution_count": 23,
   "metadata": {},
   "outputs": [
    {
     "name": "stdout",
     "output_type": "stream",
     "text": [
      "11\n",
      "[7, 4, 6, 8, 6, 2, 8, 8, 5, 3]\n"
     ]
    }
   ],
   "source": [
    "import random\n",
    "my_list = []\n",
    "for i in range(0, 10):\n",
    "    my_list.append(random.randint(0, 10))\n",
    "s = 0\n",
    "i = 0\n",
    "while s <10:\n",
    "    s += my_list[i]\n",
    "    i+=1\n",
    "print(s)\n",
    "print(my_list)"
   ]
  },
  {
   "cell_type": "markdown",
   "metadata": {},
   "source": [
    "Дан следующий список, состоящий из строк:\n",
    "\n",
    "str_list = ['Hello', 'my', 'name', 'is', 'Ezeikel', 'I', 'like', 'knitting'] \n",
    "\n",
    "Создайте новый список cut_str_list = [].\n",
    "\n",
    "В цикле добавляйте в список cut_str_list списки, состоящие из порядкового номера строки из списка str_list (номер в рамках данной задачи начинается от 0) и трёх первых символов из каждой строки. Если длина строки меньше трёх символов, то добавляется вся строка целиком."
   ]
  },
  {
   "cell_type": "code",
   "execution_count": 24,
   "metadata": {},
   "outputs": [
    {
     "name": "stdout",
     "output_type": "stream",
     "text": [
      "[[0, 'Hel'], [1, 'my'], [2, 'nam'], [3, 'is'], [4, 'Eze'], [5, 'I'], [6, 'lik'], [7, 'kni']]\n"
     ]
    }
   ],
   "source": [
    "str_list = [\"Hello\", \"my\", \"name\", \"is\", \"Ezeikel\", \"I\", \"like\", \"knitting\"] #заданный список\n",
    "cut_str_list = [] #задаем новый список\n",
    "\n",
    "for i, string in enumerate(str_list):\n",
    "    cut_str_list.append([i,string[:3]])\n",
    "print(cut_str_list)\n",
    "# ваш код здесь\n",
    "\n"
   ]
  },
  {
   "cell_type": "code",
   "execution_count": 26,
   "metadata": {},
   "outputs": [
    {
     "name": "stdout",
     "output_type": "stream",
     "text": [
      "{'a': 3, 'robot': 1, 'may': 1, 'not': 1, 'injure': 1, 'human': 2, 'being': 2, 'or': 1, 'through': 1, 'inaction': 1, 'allow': 1, 'to': 2, 'come': 1, 'harm': 1}\n"
     ]
    }
   ],
   "source": [
    "#Выполните следующие действия:\n",
    "#1. Приведите все символы в предложении к нижнему регистру.\n",
    "#2. Исключите знаки препинания (запятые)\n",
    "#3. Разделите строку по пробелам и создайте список слов, которые входят в предложение.\n",
    "#4. Подсчитайте количество повторений каждого слова. \n",
    "#Для подсчёта символов используйте словарь word_dict. Ключами словаря будут являться слова, а значениями — число вхождений этих слов в предложение.\n",
    "#В результате работы вашей программы в переменной word_dict должен храниться результирующий словарь.\n",
    "\n",
    "sentence = \"A roboT MAY Not injure a humAn BEING or, tHROugh INACtion, allow a human BEING to come to harm\" #заданное предложение\n",
    "word_dict = {} #создаем словарь для посчета количества слов\n",
    "\n",
    "sentence = sentence.lower()\n",
    "sentence = sentence.replace(',','')\n",
    "sentence = sentence.replace('.','')\n",
    "word_list = sentence.split()\n",
    "# print(word_list)\n",
    "for word in word_list:\n",
    "    if word not in word_dict:\n",
    "        word_dict[word] = 1\n",
    "    else:\n",
    "        word_dict[word] += 1\n",
    "print(word_dict)"
   ]
  },
  {
   "cell_type": "code",
   "execution_count": 27,
   "metadata": {},
   "outputs": [
    {
     "name": "stdout",
     "output_type": "stream",
     "text": [
      "3\n",
      "4\n",
      "5\n"
     ]
    }
   ],
   "source": [
    "a = [1,2,3,4,5]\n",
    "for i in a:\n",
    "    if i < 3:\n",
    "        continue\n",
    "    print(i)"
   ]
  },
  {
   "cell_type": "code",
   "execution_count": 28,
   "metadata": {},
   "outputs": [
    {
     "name": "stdout",
     "output_type": "stream",
     "text": [
      "1\n",
      "2\n",
      "3\n",
      "4\n",
      "5\n"
     ]
    }
   ],
   "source": [
    "a = [1,2,3,4,5]\n",
    "for i in a:\n",
    "    if i > 3:\n",
    "        pass\n",
    "    print(i)"
   ]
  },
  {
   "cell_type": "code",
   "execution_count": null,
   "metadata": {},
   "outputs": [],
   "source": []
  },
  {
   "cell_type": "code",
   "execution_count": null,
   "metadata": {},
   "outputs": [],
   "source": []
  },
  {
   "cell_type": "code",
   "execution_count": null,
   "metadata": {},
   "outputs": [],
   "source": []
  },
  {
   "cell_type": "code",
   "execution_count": null,
   "metadata": {},
   "outputs": [],
   "source": []
  },
  {
   "cell_type": "code",
   "execution_count": null,
   "metadata": {},
   "outputs": [],
   "source": []
  }
 ],
 "metadata": {
  "kernelspec": {
   "display_name": "Python 3",
   "language": "python",
   "name": "python3"
  },
  "language_info": {
   "codemirror_mode": {
    "name": "ipython",
    "version": 3
   },
   "file_extension": ".py",
   "mimetype": "text/x-python",
   "name": "python",
   "nbconvert_exporter": "python",
   "pygments_lexer": "ipython3",
   "version": "3.8.3"
  }
 },
 "nbformat": 4,
 "nbformat_minor": 4
}
