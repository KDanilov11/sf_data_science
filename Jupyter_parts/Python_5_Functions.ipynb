{
 "cells": [
  {
   "cell_type": "code",
   "execution_count": 3,
   "metadata": {},
   "outputs": [
    {
     "ename": "TypeError",
     "evalue": "'tuple' object does not support item assignment",
     "output_type": "error",
     "traceback": [
      "\u001b[1;31m---------------------------------------------------------------------------\u001b[0m",
      "\u001b[1;31mTypeError\u001b[0m                                 Traceback (most recent call last)",
      "\u001b[1;32m<ipython-input-3-4244f0efdad2>\u001b[0m in \u001b[0;36m<module>\u001b[1;34m\u001b[0m\n\u001b[0;32m      1\u001b[0m \u001b[0mtup\u001b[0m \u001b[1;33m=\u001b[0m \u001b[1;33m(\u001b[0m\u001b[1;36m13\u001b[0m\u001b[1;33m,\u001b[0m \u001b[1;36m45\u001b[0m\u001b[1;33m,\u001b[0m \u001b[1;36m79\u001b[0m\u001b[1;33m)\u001b[0m\u001b[1;33m\u001b[0m\u001b[1;33m\u001b[0m\u001b[0m\n\u001b[1;32m----> 2\u001b[1;33m \u001b[0mtup\u001b[0m\u001b[1;33m[\u001b[0m\u001b[1;36m2\u001b[0m\u001b[1;33m]\u001b[0m \u001b[1;33m=\u001b[0m \u001b[1;36m10\u001b[0m\u001b[1;33m\u001b[0m\u001b[1;33m\u001b[0m\u001b[0m\n\u001b[0m",
      "\u001b[1;31mTypeError\u001b[0m: 'tuple' object does not support item assignment"
     ]
    }
   ],
   "source": [
    "tup = (13, 45, 79)\n",
    "tup[2] = 10"
   ]
  },
  {
   "cell_type": "code",
   "execution_count": 1,
   "metadata": {},
   "outputs": [
    {
     "name": "stdout",
     "output_type": "stream",
     "text": [
      "Hello world!\n",
      "Hello world!\n"
     ]
    }
   ],
   "source": [
    "def first_function():\n",
    "    print(\"Hello world!\")\n",
    "first_function()\n",
    "first_function()"
   ]
  },
  {
   "cell_type": "code",
   "execution_count": 6,
   "metadata": {},
   "outputs": [
    {
     "name": "stdout",
     "output_type": "stream",
     "text": [
      "Hours: 1\n",
      "Minutes left: 30\n",
      "Travel time will be: 2.0 hours\n"
     ]
    }
   ],
   "source": [
    "def print_hours(minutes):\n",
    "    # // — это оператор целочисленного деления\n",
    "    hours = minutes // 60\n",
    "    # % — это оператор получения остатка от деления\n",
    "    left_minutes = minutes % 60\n",
    "    print(\"Hours:\", hours)\n",
    "    print(\"Minutes left:\", left_minutes)\n",
    "    \n",
    "print_hours(90)\n",
    "\n",
    "# Назовём функцию get_time (get — получать,\n",
    "# time — время). Она принимает аргументы\n",
    "# distance — расстояние и speed — скорость.\n",
    "def get_time(distance, speed):\n",
    "    # В переменную result сохраним результат\n",
    "    # деления расстояния на скорость.\n",
    "    result = distance / speed\n",
    "\n",
    "    # Чтобы вернуть результат вычислений,\n",
    "    # пишем оператор return и название переменной,\n",
    "    # значение которой будет передано.\n",
    "    return result\n",
    "# В переменную time сохранится результат вычисления\n",
    "# времени в пути длиной 120 км при скорости 60 км/ч.\n",
    "time = get_time(120, 60)\n",
    "print(\"Travel time will be:\", time, \"hours\")\n",
    "# Будет напечатано:\n",
    "# Travel time will be: 2 hours"
   ]
  },
  {
   "cell_type": "code",
   "execution_count": null,
   "metadata": {},
   "outputs": [],
   "source": []
  },
  {
   "cell_type": "markdown",
   "metadata": {},
   "source": [
    "# 3. Проверка аргументов. Аргументы по умолчанию"
   ]
  },
  {
   "cell_type": "code",
   "execution_count": null,
   "metadata": {},
   "outputs": [],
   "source": [
    "# Создадим тот же словарь\n",
    "grades = {'Ivanov': 5, 'Smirnov': 3, 'Kuznetsova': 4, 'Tihonova': 5}\n",
    "# Только попробуем (try — пробовать) напечатать оценку студента,\n",
    "# которого нет в словаре\n",
    "try:\n",
    "    print(grades['Pavlov'])\n",
    "# А если возникнет ошибка в ключе (KeyError), скажем,\n",
    "# что студента нет в словаре\n",
    "except KeyError:\n",
    "    print(\"Student’s mark was not found!\")\n",
    "# Будет напечатано:\n",
    "# Student’s mark was not found!"
   ]
  },
  {
   "cell_type": "code",
   "execution_count": null,
   "metadata": {},
   "outputs": [],
   "source": [
    "def get_time(distance, speed):\n",
    "    # Если расстояние или скорость отрицательные, то возвращаем ошибку\n",
    "    if distance < 0 or speed < 0:\n",
    "        # Оператор raise возвращает (raise — досл. англ. \"поднимать\")\n",
    "        # объект-исключение. В данном случае ValueError (некорректное значение).\n",
    "        # Дополнительно в скобках после слова ValueError пишем текст сообщения\n",
    "        # об ошибке, чтобы сразу было понятно, чем вызвана ошибка.\n",
    "        raise ValueError(\"Distance or speed cannot be below 0!\")\n",
    "    result = distance / speed\n",
    "    return result"
   ]
  },
  {
   "cell_type": "markdown",
   "metadata": {},
   "source": [
    "Попробуйте добавить в новую функцию get_time из примера выше проверку скорости на равенство нулю. Если скорость равна нулю, верните ValueError с сообщением \"Speed cannot be equal to 0!\".\n",
    "\n",
    "Вы можете проверить своё решение, вызвав функцию get_time:"
   ]
  },
  {
   "cell_type": "code",
   "execution_count": 1,
   "metadata": {},
   "outputs": [
    {
     "name": "stdout",
     "output_type": "stream",
     "text": [
      "Speed cannot be equal to 0!\n"
     ]
    }
   ],
   "source": [
    "def get_time(distance, speed):\n",
    "    # Добавьте проверку скорости на равенство 0\n",
    "    # Верните ошибку ValueError с текстом\n",
    "    # \"Speed cannot be equal to 0!\"\n",
    " \n",
    "    if distance < 0 or speed < 0:\n",
    "       raise ValueError(\"Distance or speed cannot be below 0!\")\n",
    "    if speed == 0:\n",
    "       raise ValueError(\"Speed cannot be equal to 0!\")\n",
    "    result = distance / speed\n",
    "    return result\n",
    "\n",
    "\n",
    "#попытка вызвать функцию с некорректными аргументами\n",
    "try:\n",
    "    print(get_time(100, 0))\n",
    "#должна завершиться с ошибкой ValueError, которую мы выведем в блоке except\n",
    "except ValueError as e:\n",
    "    print(e)"
   ]
  },
  {
   "cell_type": "code",
   "execution_count": 2,
   "metadata": {},
   "outputs": [
    {
     "name": "stdout",
     "output_type": "stream",
     "text": [
      "Speed cannot be equal to 0!\n"
     ]
    }
   ],
   "source": [
    "def get_time(distance, speed):\n",
    "    # Добавьте проверку скорости на равенство 0\n",
    "    # Верните ошибку ValueError с текстом\n",
    "    # \"Speed cannot be equal to 0!\"\n",
    " \n",
    "    if distance < 0 or speed < 0:\n",
    "       raise ValueError(\"Distance or speed cannot be below 0!\")\n",
    "    if speed == 0:\n",
    "       raise ValueError(\"Speed cannot be equal to 0!\")\n",
    "    result = distance / speed\n",
    "    return result\n",
    "\n",
    "\n",
    "#попытка вызвать функцию с некорректными аргументами\n",
    "try:\n",
    "    print(get_time(100, 0))\n",
    "#должна завершиться с ошибкой ValueError, которую мы выведем в блоке except\n",
    "except ValueError as e:\n",
    "    print(e)"
   ]
  },
  {
   "cell_type": "code",
   "execution_count": 4,
   "metadata": {},
   "outputs": [
    {
     "name": "stdout",
     "output_type": "stream",
     "text": [
      "3.0\n",
      "9.0\n"
     ]
    }
   ],
   "source": [
    "# В функцию должны передаваться 2 значения:\n",
    "# число и степень корня\n",
    "def root(value, n=2):\n",
    "    # Как мы уже выяснили, чтобы посчитать\n",
    "    # корень степени n из числа, можно возвести это число\n",
    "    # в степень 1/n\n",
    "    result = value ** (1/n)\n",
    "    return result\n",
    "\n",
    "# Посчитаем корень 3-ей степени (кубический корень) из 27\n",
    "print(root(27, 3))\n",
    "print(root(81))\n",
    "# Будет напечатано:\n",
    "# 3.0"
   ]
  },
  {
   "cell_type": "code",
   "execution_count": 6,
   "metadata": {},
   "outputs": [
    {
     "name": "stdout",
     "output_type": "stream",
     "text": [
      "5.0\n",
      "3.0\n",
      "Root of power 3 from 27 equals 3.0\n",
      "3.0\n"
     ]
    }
   ],
   "source": [
    "def root(value, n=2, verbose=False):\n",
    "    result = value ** (1/n)\n",
    "    if verbose:\n",
    "        # Аргументы в функции print,\n",
    "        # перечисленные через запятую,\n",
    "        # печатаются через пробел\n",
    "        print('Root of power', n, 'from',\n",
    "            value, 'equals', result)\n",
    "    return result\n",
    "\n",
    "# Посчитаем корень из 25 с аргументами по умолчанию\n",
    "print(root(25))\n",
    "# Будет напечатано:\n",
    "# 5.0\n",
    " \n",
    "# Посчитаем кубический корень из 27 с verbose по умолчанию\n",
    "print(root(27, 3))\n",
    "# Будет напечатано:\n",
    "# 3.0\n",
    " \n",
    "#Посчитаем кубический корень из 27 с verbose=True\n",
    "print(root(27, 3, True))\n",
    "# Будет напечатано:\n",
    "# Root of power 3 from 27 equals 3.0\n",
    "# 3.0"
   ]
  },
  {
   "cell_type": "code",
   "execution_count": 3,
   "metadata": {},
   "outputs": [
    {
     "name": "stdout",
     "output_type": "stream",
     "text": [
      "Shopping list: bread, butter, eggs\n"
     ]
    }
   ],
   "source": [
    "print(\"Shopping list:\", end=' ')\n",
    "print(\"bread\", \"butter\", \"eggs\", sep=', ')"
   ]
  },
  {
   "cell_type": "code",
   "execution_count": 4,
   "metadata": {},
   "outputs": [
    {
     "name": "stdout",
     "output_type": "stream",
     "text": [
      "4.0\n"
     ]
    }
   ],
   "source": [
    "def mean(*numbers):\n",
    "    result = sum(numbers) / len(numbers)\n",
    "    return result\n",
    " \n",
    "print(mean(5,4,4,3))"
   ]
  },
  {
   "cell_type": "code",
   "execution_count": null,
   "metadata": {},
   "outputs": [],
   "source": [
    "def mult(*args):\n",
    "    # Вместо pass напишите тело функции\n",
    "    result=1\n",
    "    for number in args:\n",
    "        result *= number\n",
    "    return result\n",
    "\n",
    "print(mult(3,5,10))"
   ]
  },
  {
   "cell_type": "code",
   "execution_count": 5,
   "metadata": {},
   "outputs": [
    {
     "name": "stdout",
     "output_type": "stream",
     "text": [
      "Python, SQL, Machine Learning, Statistics\n"
     ]
    }
   ],
   "source": [
    "langs = ['Python', 'SQL', 'Machine Learning', 'Statistics']\n",
    "print(*langs, sep=', ')"
   ]
  },
  {
   "cell_type": "markdown",
   "metadata": {},
   "source": [
    "Создайте список оценок студента:\n",
    "\n",
    "marks = [4,5,5,5,5,3,4,4,5,4,5]\n",
    "\n",
    "Передайте в функцию mean_mark, которая была создана в начале данного подраздела юнита, этот список, а также фамилию студента Kuznetsov с помощью оператора распаковки.\n",
    "\n",
    "Функция mean_mark продублирована:\n",
    "\n",
    "def mean_mark(name, *marks):\n",
    "    result = sum(marks) / len(marks)\n",
    "    # Не возвращаем результат, а печатаем его\n",
    "    print(name+':', result)\n",
    "\n"
   ]
  },
  {
   "cell_type": "code",
   "execution_count": 8,
   "metadata": {},
   "outputs": [
    {
     "name": "stdout",
     "output_type": "stream",
     "text": [
      "Loh: 4.454545454545454\n"
     ]
    }
   ],
   "source": [
    "marks = [4,5,5,5,5,3,4,4,5,4,5]\n",
    "\n",
    "def mean_mark(name, *marks):\n",
    "    result = sum(marks) / len(marks)\n",
    "    # Не возвращаем результат, а печатаем его\n",
    "    print(name+':', result)\n",
    "\n",
    "mean_mark('Ivanov',*marks)"
   ]
  },
  {
   "cell_type": "code",
   "execution_count": 9,
   "metadata": {},
   "outputs": [
    {
     "name": "stdout",
     "output_type": "stream",
     "text": [
      "True\n",
      "{'monday': 'Python', 'tuesday': 'SQL', 'friday': 'ML'}\n"
     ]
    }
   ],
   "source": [
    "# В переменную kwargs будут записаны все\n",
    "# именованные аргументы\n",
    "def schedule(**kwargs):\n",
    "    # kwargs — это словарь, проверим это с помощью isinstance:\n",
    "    print(isinstance(kwargs, dict))\n",
    "    # Напечатаем объект kwargs\n",
    "    print(kwargs)\n",
    " \n",
    "schedule(monday='Python', tuesday='SQL', friday='ML')\n",
    "# Будет напечатано:\n",
    "# True\n",
    "# {'monday': 'Python', 'tuesday': 'SQL', 'friday': 'ML'}"
   ]
  },
  {
   "cell_type": "code",
   "execution_count": 10,
   "metadata": {},
   "outputs": [
    {
     "name": "stdout",
     "output_type": "stream",
     "text": [
      "1, 4, 6, 8; 12, 45, 56, 190, 111; Python, Functions; "
     ]
    }
   ],
   "source": [
    "list1 = [1,4,6,8]\n",
    "list2 = [12, 45, 56, 190, 111]\n",
    "list3 = ['Python', 'Functions']\n",
    " \n",
    "# Один раз запишем в словарь параметры для печати\n",
    "# через print: разделитель — запятая,\n",
    "# окончание строки — точка с запятой\n",
    "how = {'sep': ', ', 'end': '; '}\n",
    " \n",
    "# Распаковываем и список, и словарь how\n",
    "print(*list1, **how)\n",
    "print(*list2, **how)\n",
    "print(*list3, **how)"
   ]
  },
  {
   "cell_type": "code",
   "execution_count": 11,
   "metadata": {},
   "outputs": [
    {
     "ename": "SyntaxError",
     "evalue": "positional argument follows keyword argument (<ipython-input-11-e517b60fced4>, line 1)",
     "output_type": "error",
     "traceback": [
      "\u001b[1;36m  File \u001b[1;32m\"<ipython-input-11-e517b60fced4>\"\u001b[1;36m, line \u001b[1;32m1\u001b[0m\n\u001b[1;33m    print(sep=', ', end=';', [12, 23, 45])\u001b[0m\n\u001b[1;37m                             ^\u001b[0m\n\u001b[1;31mSyntaxError\u001b[0m\u001b[1;31m:\u001b[0m positional argument follows keyword argument\n"
     ]
    }
   ],
   "source": [
    "print(sep=', ', end=';', [12, 23, 45])"
   ]
  },
  {
   "cell_type": "markdown",
   "metadata": {},
   "source": [
    "Напишите функцию print_lists. Она принимает набор порядковых аргументов, каждый из которых является списком, а также опционально — набор именованных аргументов, которые задают правила печати списка функцией print (например, sep и end). Если правила не переданы, следует напечатать списки с sep=' ' и end='\\n'.\n",
    "\n",
    "def print_lists(... набор списков ...,\n",
    "               ... именованные аргументы с правилами ...):\n",
    "    # Напишите функцию вместо pass\n",
    "    pass\n",
    "\n",
    "Пример работы функции:\n",
    "\n",
    "print_lists([1,2,3], [4,5,6], [7,8,9])\n",
    " 1 2 3\n",
    " 4 5 6\n",
    " 7 8 9\n",
    " \n",
    "print_lists([1,2,3], [4,5,6], [7,8,9], sep=', ', end='; ')\n",
    "1, 2, 3; 4, 5, 6; 7, 8, 9;\n",
    "\n"
   ]
  },
  {
   "cell_type": "code",
   "execution_count": null,
   "metadata": {},
   "outputs": [],
   "source": []
  },
  {
   "cell_type": "code",
   "execution_count": 23,
   "metadata": {},
   "outputs": [
    {
     "name": "stdout",
     "output_type": "stream",
     "text": [
      "1 2 3\n",
      "4 5 6\n",
      "7 8 9\n"
     ]
    }
   ],
   "source": [
    "def print_lists(*lists, **how):\n",
    "    for l in lists:\n",
    "        print(*l, **how)\n",
    "    \n",
    "#print_lists([1,2,3], [4,5,6], [12], [7,8,9], sep=', ', end='; ')\n",
    "print_lists([1,2,3], [4,5,6], [7,8,9]) \n",
    "\n"
   ]
  },
  {
   "cell_type": "markdown",
   "metadata": {},
   "source": [
    "# Lambda"
   ]
  },
  {
   "cell_type": "code",
   "execution_count": null,
   "metadata": {},
   "outputs": [],
   "source": [
    "def root(num):\n",
    "    # Напоминание: в Python используется оператор **\n",
    "    # для возведения числа в степень.\n",
    "    # В математике возведение в степень ½ соответствует\n",
    "    # вычислению квадратного корня.\n",
    "    return num ** (1/2)"
   ]
  },
  {
   "cell_type": "code",
   "execution_count": null,
   "metadata": {},
   "outputs": [],
   "source": [
    "root = lambda num: num**(1/2)\n",
    "\n",
    "# Для получения корня произвольной степени от числа\n",
    "# (например, корня степени 4) необходимо возвести исходное\n",
    "# число в степень, равную единице, делённой на желаемую\n",
    "# степень корня.\n",
    "nth_root = lambda num, n: num**(1/n)\n",
    "\n",
    "print(nth_root(16,4))\n",
    "# Будет напечатано:\n",
    "# 2.0"
   ]
  },
  {
   "cell_type": "code",
   "execution_count": null,
   "metadata": {},
   "outputs": [],
   "source": [
    "# Напоминание: оператор % используется для получения остатка\n",
    "# от деления. Если остаток от деления на 2 равен 0, то\n",
    "# число является чётным.\n",
    "# Обратный слэш (\\) используется в Python для того,\n",
    "# чтобы перенести одну строку кода на следующую строку.\n",
    "# Получается, что компьютер интерпретирует записанное ниже\n",
    "# как одну строку.\n",
    "is_even = lambda num: \"even\" if num % 2 == 0 \\\n",
    "    else \"odd\""
   ]
  },
  {
   "cell_type": "code",
   "execution_count": null,
   "metadata": {},
   "outputs": [],
   "source": [
    "new_list = ['bbb', 'ababa','aaa', 'aaaaa',  'cc']\n",
    "new_list.sort(key=get_length)\n",
    "print(new_list)\n",
    "# Должно быть напечатано:\n",
    "# ['cc', 'bbb', 'aaa', 'ababa', 'aaaaa']"
   ]
  },
  {
   "cell_type": "markdown",
   "metadata": {},
   "source": [
    "Напишите функцию sort_sides, которая сортирует переданный в неё список.\n",
    "\n",
    "Входной список состоит из кортежей с парами чисел — длинами катетов прямоугольных треугольников.\n",
    "\n",
    "Функция должна возвращать список, отсортированный по возрастанию длин гипотенуз треугольников.\n",
    "\n",
    "Примечание: вам пригодится lambda-функция из предыдущего задания. При этом вам потребуется заменить lambda от 2 аргументов на lamba от одного аргумента и обращаться к элементам кортежа уже при вычислении гипотенузы.\n",
    "\n",
    "Пример работы функции:\n",
    "\n",
    "print(sort_sides([(3,4), (1,2), (10,10)]))\n",
    "\n",
    "\n",
    "[(1, 2), (3, 4), (10, 10)]\n",
    "\n"
   ]
  },
  {
   "cell_type": "code",
   "execution_count": null,
   "metadata": {},
   "outputs": [],
   "source": [
    "def sort_sides(l_in):\n",
    "    l_in.sort(key=lambda x: (x[0]**2 + x[1]**2) ** (1/2))\n",
    "    return l_in\n"
   ]
  },
  {
   "cell_type": "markdown",
   "metadata": {},
   "source": [
    "Напишите функцию get_less, которая принимает на вход через запятую список, состоящий из чисел, и ещё одно число. \n",
    "\n",
    "Функция должна вернуть первое найденное число из списка, которое меньше переданного во втором аргументе. Если такого числа нет, необходимо вернуть None.\n",
    "\n",
    "Пример:\n",
    "\n",
    "l = [1, 5, 8,  10]\n",
    "\n",
    "print(get_less(l, 8))\n",
    "\n",
    "1\n",
    "\n",
    " \n",
    "print(get_less(l, 0))\n",
    "\n",
    "None\n",
    "\n"
   ]
  },
  {
   "cell_type": "code",
   "execution_count": 11,
   "metadata": {},
   "outputs": [
    {
     "name": "stdout",
     "output_type": "stream",
     "text": [
      "None\n"
     ]
    }
   ],
   "source": [
    "def get_less(list_in, num):\n",
    "    for i in list_in:\n",
    "        if i < num:\n",
    "            return i\n",
    "    return None\n",
    "        \n",
    "        \n",
    "l = [9, 11, 19, 29]\n",
    "print(get_less(l, 8))      \n",
    "        "
   ]
  },
  {
   "cell_type": "markdown",
   "metadata": {},
   "source": [
    "Напишите функцию split_date(date), которая принимает на вход строку, задающую дату, в формате ддммгггг без разделителей. Функция должна вернуть кортеж из чисел (int): день, месяц, год.\n",
    "\n",
    "Примечание. Здесь вам пригодятся срезы строк.\n",
    "\n",
    "Пример:\n",
    "\n",
    "print(split_date(\"31012019\"))\n",
    "\n",
    "(31, 1, 2019)\n",
    "\n"
   ]
  },
  {
   "cell_type": "code",
   "execution_count": 13,
   "metadata": {},
   "outputs": [
    {
     "name": "stdout",
     "output_type": "stream",
     "text": [
      "(31, 1, 2019)\n"
     ]
    }
   ],
   "source": [
    "def split_date(date):\n",
    "    d, m, y = date[:2], date[2:4], date[4:8]\n",
    "    return int(d), int(m), int(y)\n",
    "print(split_date(\"31012019\"))"
   ]
  },
  {
   "cell_type": "markdown",
   "metadata": {},
   "source": [
    "Напишите функцию is_prime(num), которая проверяет, является ли число простым.\n",
    "\n",
    "Функция должна вернуть True, если число простое, иначе — False.\n",
    "\n",
    "Примечание. Простым называют число, которое делится только на 1 или на само себя без остатка. Число 1 простым не является.\n",
    "\n",
    "Пример:\n",
    "\n",
    "print(is_prime(1))\n",
    "print(is_prime(10))\n",
    "print(is_prime(13))\n",
    " #False\n",
    " #False\n",
    " #True\n",
    "\n"
   ]
  },
  {
   "cell_type": "code",
   "execution_count": 16,
   "metadata": {},
   "outputs": [
    {
     "name": "stdout",
     "output_type": "stream",
     "text": [
      "False\n",
      "False\n",
      "True\n"
     ]
    }
   ],
   "source": [
    "def is_prime(num):\n",
    "    if num ==1:\n",
    "        return False\n",
    "    for i in range (2, num):\n",
    "        if num % i == 0:\n",
    "            return False\n",
    "    return True\n",
    "\n",
    "print(is_prime(1)) \n",
    "print(is_prime(10)) \n",
    "print(is_prime(13))"
   ]
  },
  {
   "cell_type": "markdown",
   "metadata": {},
   "source": [
    "Напишите функцию between_min_max(...), которая принимает на вход числа через запятую.\n",
    "\n",
    "Функция возвращает среднее арифметическое между максимальным и минимальным значением этих чисел, то есть (max + min)/2.\n",
    "\n",
    "Пример:\n",
    "\n",
    "print(between_min_max(10))\n",
    "print(between_min_max(1,2,3,4,5))\n",
    "#10.0\n",
    "#3.0\n",
    "\n"
   ]
  },
  {
   "cell_type": "code",
   "execution_count": 19,
   "metadata": {},
   "outputs": [
    {
     "name": "stdout",
     "output_type": "stream",
     "text": [
      "10.0\n"
     ]
    }
   ],
   "source": [
    "def between_min_max(*nums):\n",
    "    mn = min(nums)\n",
    "    mx = max(nums)\n",
    "    return (mn + mx)/2\n",
    "\n",
    "print(between_min_max(10))    "
   ]
  },
  {
   "cell_type": "markdown",
   "metadata": {},
   "source": [
    "Напишите функцию best_student(...), которая принимает на вход в виде именованных аргументов фамилии студентов и их номера в рейтинге (нагляднее в примере).\n",
    "\n",
    "Необходимо вернуть фамилию студента с минимальным номером по рейтингу.\n",
    "\n",
    "Пример:\n",
    "\n",
    "print(best_student(Tom=12, Mike=3))\n",
    "\n",
    "print(best_student(Tom=12))\n",
    "\n",
    "print(best_student(Tom=12, Jerry=1, Jane=2))\n",
    "#Mike\n",
    "#Tom\n",
    "#Jerry\n",
    "\n"
   ]
  },
  {
   "cell_type": "code",
   "execution_count": 30,
   "metadata": {},
   "outputs": [
    {
     "name": "stdout",
     "output_type": "stream",
     "text": [
      "Mike\n",
      "Tom\n",
      "Jerry\n"
     ]
    }
   ],
   "source": [
    "def best_student(**journal):\n",
    "    best_student = None\n",
    "    best_rating = None\n",
    "    for (student, rating) in journal.items():\n",
    "        if best_student is None:\n",
    "            best_rating = rating\n",
    "            best_student = student\n",
    "        if rating < best_rating:\n",
    "            best_rating = rating\n",
    "            best_student = student\n",
    "    return best_student\n",
    "\n",
    "print(best_student(Tom=12, Mike=3))\n",
    "\n",
    "print(best_student(Tom=12))\n",
    "print(best_student(Tom=12, Jerry=1, Jane=2))   "
   ]
  },
  {
   "cell_type": "code",
   "execution_count": null,
   "metadata": {},
   "outputs": [],
   "source": [
    "def best_student(**students):\n",
    "    best_name = None\n",
    "    best_rating = None\n",
    "    for (student, rating) in students.items():\n",
    "        if best_name is None:\n",
    "            best_name = student\n",
    "            best_rating = rating\n",
    "        if rating < best_rating:\n",
    "            best_rating = rating\n",
    "            best_name = student\n",
    "    return best_name"
   ]
  },
  {
   "cell_type": "markdown",
   "metadata": {},
   "source": [
    "Напишите lambda-функцию is_palindrom, которая принимает на вход одну строку и проверяет, является ли она палиндромом, то есть читается ли она слева-направо и справа-налево одинаково.\n",
    "\n",
    "Функция возвращает 'yes', если строка является палиндромом, иначе — 'no'.\n",
    "\n",
    "Примечание. Не пытайтесь схитрить — в тест включена проверка на то, что функция действительно является lambda.\n",
    "\n",
    "Пример:\n",
    "\n",
    "print(is_palindrom('1234'))\n",
    "print(is_palindrom('12321'))"
   ]
  },
  {
   "cell_type": "code",
   "execution_count": 2,
   "metadata": {},
   "outputs": [
    {
     "name": "stdout",
     "output_type": "stream",
     "text": [
      "no\n",
      "yes\n"
     ]
    }
   ],
   "source": [
    "is_palindrom = lambda str1: 'yes' if str1 == str1[::-1] else 'no'\n",
    "   \n",
    "print(is_palindrom('1234'))\n",
    "print(is_palindrom('12321'))"
   ]
  },
  {
   "cell_type": "markdown",
   "metadata": {},
   "source": [
    "Напишите lambda-функцию area, которая принимает на вход два числа — стороны прямоугольника — через запятую и возвращает площадь прямоугольника.\n",
    "\n",
    "Пример:\n",
    "\n",
    "print(area(12,5))\n",
    " 60\n",
    "\n"
   ]
  },
  {
   "cell_type": "code",
   "execution_count": 3,
   "metadata": {},
   "outputs": [
    {
     "name": "stdout",
     "output_type": "stream",
     "text": [
      "60\n"
     ]
    }
   ],
   "source": [
    "area = lambda h, d: h*d\n",
    "print(area(12,5))\n"
   ]
  },
  {
   "cell_type": "markdown",
   "metadata": {},
   "source": [
    "Перепишите функцию between_min_max из задания 7.12 в lambda-функцию. Функция принимает на вход числа через запятую и возвращает одно число — среднее между максимумом и минимумом этих чисел.\n",
    "\n",
    "Пример:\n",
    "\n",
    "print(between_min_max(1,2,3,4,5))\n",
    "\n",
    "3.0\n",
    "\n"
   ]
  },
  {
   "cell_type": "code",
   "execution_count": 6,
   "metadata": {},
   "outputs": [
    {
     "name": "stdout",
     "output_type": "stream",
     "text": [
      "4.0\n"
     ]
    }
   ],
   "source": [
    "between_min_max = lambda *nums: (min(nums)+max(nums))/2\n",
    "print(between_min_max(1,2,3,4,5,7))"
   ]
  },
  {
   "cell_type": "code",
   "execution_count": null,
   "metadata": {},
   "outputs": [],
   "source": [
    "def between_min_max(*nums):\n",
    "    mn = min(nums)\n",
    "    mx = max(nums)\n",
    "    return (mn + mx)/2"
   ]
  },
  {
   "cell_type": "markdown",
   "metadata": {},
   "source": [
    "Задание 7.17 (выполняется в codeboard ниже)\n",
    "\n",
    "?\n",
    "\n",
    "Напишите функцию sort_ignore_case, которая принимает на вход список и сортирует его без учёта регистра по алфавиту.\n",
    "\n",
    "Функция возвращает отсортированный список.\n",
    "\n",
    "Пример:\n",
    "\n",
    "print(sort_ignore_case(['Acc', 'abc']))\n",
    "\n",
    "['abc', 'Acc']\n",
    "\n"
   ]
  },
  {
   "cell_type": "code",
   "execution_count": 11,
   "metadata": {},
   "outputs": [
    {
     "name": "stdout",
     "output_type": "stream",
     "text": [
      "['abc', 'Acc']\n"
     ]
    }
   ],
   "source": [
    "def sort_ignore_case(ls):\n",
    "    ls.sort(key=lambda x: x.lower())\n",
    "    return ls\n",
    "        \n",
    "    \n",
    "    \n",
    "print(sort_ignore_case(['Acc', 'abc']))"
   ]
  },
  {
   "cell_type": "markdown",
   "metadata": {},
   "source": [
    "*Задание повышенной сложности\n",
    "\n",
    "Напишите функцию exchange(usd, rub, rate), которая может принимать на вход сумму в долларах (usd), сумму в рублях (rub) и обменный курс (rate). Обменный курс показывает, сколько стоит один доллар. Например, курс 85.46 означает, что один доллар стоит 85 рублей и 46 копеек.\n",
    "\n",
    "В функцию должно одновременно передавать два аргумента. Если передано менее двух аргументов, должна возникнуть ошибка ValueError('Not enough arguments'). Если же передано три аргумента, должна возникнуть ошибка: ValueError('Too many arguments').\n",
    "\n",
    "Функция должна находить третий аргумент по двум переданным. Например, если переданы суммы в разных валютах, должен возвращаться обменный курс. Если известны сумма в рублях и курс, должна быть получена эквивалентная сумма в долларах, аналогично — если передана сумма в долларах и обменный курс.\n",
    "\n",
    "Пример:\n",
    "\n",
    "print(exchange(usd=100, rub=8500))\n",
    "print(exchange(usd=100, rate=85))\n",
    "print(exchange(rub=1000, rate=85))\n",
    " 85.0\n",
    " 8500\n",
    " 11.764705882352942\n",
    " print(exchange(rub=1000, rate=85, usd=90))\n",
    " ValueError: Too many arguments\n",
    " print(exchange(rub=1000))\n",
    "\n",
    "ValueError: Not enough arguments\n",
    "\n"
   ]
  },
  {
   "cell_type": "code",
   "execution_count": 21,
   "metadata": {},
   "outputs": [
    {
     "name": "stdout",
     "output_type": "stream",
     "text": [
      "85.0\n",
      "8500\n",
      "11.764705882352942\n"
     ]
    },
    {
     "ename": "ValueError",
     "evalue": "Too many arguments",
     "output_type": "error",
     "traceback": [
      "\u001b[1;31m---------------------------------------------------------------------------\u001b[0m",
      "\u001b[1;31mValueError\u001b[0m                                Traceback (most recent call last)",
      "\u001b[1;32m<ipython-input-21-bfac8f614c07>\u001b[0m in \u001b[0;36m<module>\u001b[1;34m\u001b[0m\n\u001b[0;32m     16\u001b[0m \u001b[0mprint\u001b[0m\u001b[1;33m(\u001b[0m\u001b[0mexchange\u001b[0m\u001b[1;33m(\u001b[0m\u001b[0musd\u001b[0m\u001b[1;33m=\u001b[0m\u001b[1;36m100\u001b[0m\u001b[1;33m,\u001b[0m \u001b[0mrate\u001b[0m\u001b[1;33m=\u001b[0m\u001b[1;36m85\u001b[0m\u001b[1;33m)\u001b[0m\u001b[1;33m)\u001b[0m\u001b[1;33m\u001b[0m\u001b[1;33m\u001b[0m\u001b[0m\n\u001b[0;32m     17\u001b[0m \u001b[0mprint\u001b[0m\u001b[1;33m(\u001b[0m\u001b[0mexchange\u001b[0m\u001b[1;33m(\u001b[0m\u001b[0mrub\u001b[0m\u001b[1;33m=\u001b[0m\u001b[1;36m1000\u001b[0m\u001b[1;33m,\u001b[0m \u001b[0mrate\u001b[0m\u001b[1;33m=\u001b[0m\u001b[1;36m85\u001b[0m\u001b[1;33m)\u001b[0m\u001b[1;33m)\u001b[0m\u001b[1;33m\u001b[0m\u001b[1;33m\u001b[0m\u001b[0m\n\u001b[1;32m---> 18\u001b[1;33m \u001b[0mprint\u001b[0m\u001b[1;33m(\u001b[0m\u001b[0mexchange\u001b[0m\u001b[1;33m(\u001b[0m\u001b[0mrub\u001b[0m\u001b[1;33m=\u001b[0m\u001b[1;36m1000\u001b[0m\u001b[1;33m,\u001b[0m \u001b[0mrate\u001b[0m\u001b[1;33m=\u001b[0m\u001b[1;36m85\u001b[0m\u001b[1;33m,\u001b[0m \u001b[0musd\u001b[0m\u001b[1;33m=\u001b[0m\u001b[1;36m90\u001b[0m\u001b[1;33m)\u001b[0m\u001b[1;33m)\u001b[0m\u001b[1;33m\u001b[0m\u001b[1;33m\u001b[0m\u001b[0m\n\u001b[0m\u001b[0;32m     19\u001b[0m \u001b[0mprint\u001b[0m\u001b[1;33m(\u001b[0m\u001b[0mexchange\u001b[0m\u001b[1;33m(\u001b[0m\u001b[0mrub\u001b[0m\u001b[1;33m=\u001b[0m\u001b[1;36m1000\u001b[0m\u001b[1;33m)\u001b[0m\u001b[1;33m)\u001b[0m\u001b[1;33m\u001b[0m\u001b[1;33m\u001b[0m\u001b[0m\n",
      "\u001b[1;32m<ipython-input-21-bfac8f614c07>\u001b[0m in \u001b[0;36mexchange\u001b[1;34m(usd, rub, rate)\u001b[0m\n\u001b[0;32m      1\u001b[0m \u001b[1;32mdef\u001b[0m \u001b[0mexchange\u001b[0m\u001b[1;33m(\u001b[0m\u001b[0musd\u001b[0m\u001b[1;33m=\u001b[0m\u001b[1;32mNone\u001b[0m\u001b[1;33m,\u001b[0m \u001b[0mrub\u001b[0m\u001b[1;33m=\u001b[0m\u001b[1;32mNone\u001b[0m\u001b[1;33m,\u001b[0m \u001b[0mrate\u001b[0m\u001b[1;33m=\u001b[0m\u001b[1;32mNone\u001b[0m\u001b[1;33m)\u001b[0m\u001b[1;33m:\u001b[0m\u001b[1;33m\u001b[0m\u001b[1;33m\u001b[0m\u001b[0m\n\u001b[0;32m      2\u001b[0m     \u001b[1;32mif\u001b[0m \u001b[0musd\u001b[0m \u001b[1;32mis\u001b[0m \u001b[1;32mnot\u001b[0m \u001b[1;32mNone\u001b[0m \u001b[1;32mand\u001b[0m \u001b[0mrub\u001b[0m \u001b[1;32mis\u001b[0m \u001b[1;32mnot\u001b[0m \u001b[1;32mNone\u001b[0m \u001b[1;32mand\u001b[0m \u001b[0mrate\u001b[0m \u001b[1;32mis\u001b[0m \u001b[1;32mnot\u001b[0m \u001b[1;32mNone\u001b[0m\u001b[1;33m:\u001b[0m\u001b[1;33m\u001b[0m\u001b[1;33m\u001b[0m\u001b[0m\n\u001b[1;32m----> 3\u001b[1;33m         \u001b[1;32mraise\u001b[0m \u001b[0mValueError\u001b[0m\u001b[1;33m(\u001b[0m\u001b[1;34m'Too many arguments'\u001b[0m\u001b[1;33m)\u001b[0m\u001b[1;33m\u001b[0m\u001b[1;33m\u001b[0m\u001b[0m\n\u001b[0m\u001b[0;32m      4\u001b[0m     \u001b[0mnot_enough_error\u001b[0m \u001b[1;33m=\u001b[0m \u001b[0mValueError\u001b[0m\u001b[1;33m(\u001b[0m\u001b[1;34m'Not enough arguments'\u001b[0m\u001b[1;33m)\u001b[0m\u001b[1;33m\u001b[0m\u001b[1;33m\u001b[0m\u001b[0m\n\u001b[0;32m      5\u001b[0m     \u001b[1;32mif\u001b[0m \u001b[0musd\u001b[0m \u001b[1;32mis\u001b[0m \u001b[1;32mnot\u001b[0m \u001b[1;32mNone\u001b[0m\u001b[1;33m:\u001b[0m\u001b[1;33m\u001b[0m\u001b[1;33m\u001b[0m\u001b[0m\n",
      "\u001b[1;31mValueError\u001b[0m: Too many arguments"
     ]
    }
   ],
   "source": [
    "def exchange(usd=None, rub=None, rate=None):\n",
    "    if usd is not None and rub is not None and rate is not None:\n",
    "        raise ValueError('Too many arguments')\n",
    "    not_enough_error = ValueError('Not enough arguments')\n",
    "    if usd is not None:\n",
    "        if rub is not None:\n",
    "            return rub/usd\n",
    "        if rate is not None:\n",
    "            return usd * rate\n",
    "    if rub is not None:\n",
    "        if rate is not None:\n",
    "            return rub / rate\n",
    "    raise not_enough_error\n",
    "    \n",
    "print(exchange(usd=100, rub=8500))\n",
    "print(exchange(usd=100, rate=85))\n",
    "print(exchange(rub=1000, rate=85))  \n",
    "print(exchange(rub=1000, rate=85, usd=90))\n",
    "print(exchange(rub=1000))"
   ]
  },
  {
   "cell_type": "code",
   "execution_count": null,
   "metadata": {},
   "outputs": [],
   "source": []
  },
  {
   "cell_type": "markdown",
   "metadata": {},
   "source": [
    "## 2. Область видимости переменных. Замыкание"
   ]
  },
  {
   "cell_type": "code",
   "execution_count": null,
   "metadata": {},
   "outputs": [],
   "source": [
    "# Зададим внешнюю функцию\n",
    "def print_root(value, n=2):\n",
    "    # Зададим внутреннюю функцию\n",
    "    # Она будет являться вспомогательной\n",
    "    def root(value, n=2):\n",
    "        result = value ** (1/n)\n",
    "        return result\n",
    "    # Получим результат из внутренней функции\n",
    "    res = root(value, n)\n",
    "    # Печатаем результат и не возвращаем его\n",
    "    print('Root of power', n, 'from', value, 'equals', res)"
   ]
  },
  {
   "cell_type": "code",
   "execution_count": 1,
   "metadata": {},
   "outputs": [
    {
     "name": "stdout",
     "output_type": "stream",
     "text": [
      "Employee John Doe is registered with the company TheBlindMice\n"
     ]
    }
   ],
   "source": [
    "#объявляем внешнюю функцию для регистрации сотрудников\n",
    "def register_employee(name, surname):\n",
    "    #объявляем функцию для промежуточных вычислений\n",
    "    def create_full_name():\n",
    "        #функция использует внешние переменные name и surname\n",
    "        sep = ' ' #разделитель между именем и фамилией\n",
    "        result = name + sep + surname #вычисляем полное имя\n",
    "        return result\n",
    "    full_name = create_full_name() #вызываем внутреннюю функцию\n",
    "    #выводим результат на экран, используя внешнюю переменную company_name\n",
    "    print('Employee {} is registered with the company {}'.format(full_name, company_name))\n",
    "    \n",
    "company_name = 'TheBlindMice' #название компании\n",
    "register_employee('John','Doe') #вызов функции\n",
    "\n",
    "\n",
    "#Будет выведено\n",
    "#Employee John Doe is registered with the company TheBlindMice"
   ]
  },
  {
   "cell_type": "code",
   "execution_count": null,
   "metadata": {},
   "outputs": [],
   "source": [
    "global_counter = 0\n",
    " \n",
    "def add_one():\n",
    "    # Обозначим, что переменная global_counter\n",
    "    # является глобальной\n",
    "    global global_counter\n",
    "    global_counter += 1\n",
    " \n",
    "add_one()\n",
    "print(global_counter)\n",
    " \n",
    "# Будет напечатано:\n",
    "# 1"
   ]
  },
  {
   "cell_type": "code",
   "execution_count": 2,
   "metadata": {},
   "outputs": [
    {
     "ename": "UnboundLocalError",
     "evalue": "local variable 'enclosing_counter' referenced before assignment",
     "output_type": "error",
     "traceback": [
      "\u001b[1;31m---------------------------------------------------------------------------\u001b[0m",
      "\u001b[1;31mUnboundLocalError\u001b[0m                         Traceback (most recent call last)",
      "\u001b[1;32m<ipython-input-2-aea4f19d9369>\u001b[0m in \u001b[0;36m<module>\u001b[1;34m\u001b[0m\n\u001b[0;32m     13\u001b[0m \u001b[1;33m\u001b[0m\u001b[0m\n\u001b[0;32m     14\u001b[0m \u001b[1;31m# Запустим внешнюю функцию\u001b[0m\u001b[1;33m\u001b[0m\u001b[1;33m\u001b[0m\u001b[1;33m\u001b[0m\u001b[0m\n\u001b[1;32m---> 15\u001b[1;33m \u001b[0mouter_function\u001b[0m\u001b[1;33m(\u001b[0m\u001b[1;33m)\u001b[0m\u001b[1;33m\u001b[0m\u001b[1;33m\u001b[0m\u001b[0m\n\u001b[0m\u001b[0;32m     16\u001b[0m \u001b[1;33m\u001b[0m\u001b[0m\n\u001b[0;32m     17\u001b[0m \u001b[1;31m# Возникнет ошибка:\u001b[0m\u001b[1;33m\u001b[0m\u001b[1;33m\u001b[0m\u001b[1;33m\u001b[0m\u001b[0m\n",
      "\u001b[1;32m<ipython-input-2-aea4f19d9369>\u001b[0m in \u001b[0;36mouter_function\u001b[1;34m()\u001b[0m\n\u001b[0;32m     10\u001b[0m         \u001b[0mprint\u001b[0m\u001b[1;33m(\u001b[0m\u001b[0menclosing_counter\u001b[0m\u001b[1;33m)\u001b[0m\u001b[1;33m\u001b[0m\u001b[1;33m\u001b[0m\u001b[0m\n\u001b[0;32m     11\u001b[0m     \u001b[1;31m# Запустим внутреннюю функцию из внешней\u001b[0m\u001b[1;33m\u001b[0m\u001b[1;33m\u001b[0m\u001b[1;33m\u001b[0m\u001b[0m\n\u001b[1;32m---> 12\u001b[1;33m     \u001b[0minner_function\u001b[0m\u001b[1;33m(\u001b[0m\u001b[1;33m)\u001b[0m\u001b[1;33m\u001b[0m\u001b[1;33m\u001b[0m\u001b[0m\n\u001b[0m\u001b[0;32m     13\u001b[0m \u001b[1;33m\u001b[0m\u001b[0m\n\u001b[0;32m     14\u001b[0m \u001b[1;31m# Запустим внешнюю функцию\u001b[0m\u001b[1;33m\u001b[0m\u001b[1;33m\u001b[0m\u001b[1;33m\u001b[0m\u001b[0m\n",
      "\u001b[1;32m<ipython-input-2-aea4f19d9369>\u001b[0m in \u001b[0;36minner_function\u001b[1;34m()\u001b[0m\n\u001b[0;32m      6\u001b[0m     \u001b[1;32mdef\u001b[0m \u001b[0minner_function\u001b[0m\u001b[1;33m(\u001b[0m\u001b[1;33m)\u001b[0m\u001b[1;33m:\u001b[0m\u001b[1;33m\u001b[0m\u001b[1;33m\u001b[0m\u001b[0m\n\u001b[0;32m      7\u001b[0m         \u001b[1;31m# Прибавим 1 к enclosing_counter\u001b[0m\u001b[1;33m\u001b[0m\u001b[1;33m\u001b[0m\u001b[1;33m\u001b[0m\u001b[0m\n\u001b[1;32m----> 8\u001b[1;33m         \u001b[0menclosing_counter\u001b[0m \u001b[1;33m+=\u001b[0m \u001b[1;36m1\u001b[0m\u001b[1;33m\u001b[0m\u001b[1;33m\u001b[0m\u001b[0m\n\u001b[0m\u001b[0;32m      9\u001b[0m         \u001b[1;31m# Напечатаем значение enclosing_counter\u001b[0m\u001b[1;33m\u001b[0m\u001b[1;33m\u001b[0m\u001b[1;33m\u001b[0m\u001b[0m\n\u001b[0;32m     10\u001b[0m         \u001b[0mprint\u001b[0m\u001b[1;33m(\u001b[0m\u001b[0menclosing_counter\u001b[0m\u001b[1;33m)\u001b[0m\u001b[1;33m\u001b[0m\u001b[1;33m\u001b[0m\u001b[0m\n",
      "\u001b[1;31mUnboundLocalError\u001b[0m: local variable 'enclosing_counter' referenced before assignment"
     ]
    }
   ],
   "source": [
    "# Внешняя функция\n",
    "def outer_function():\n",
    "    # Создадим переменную, относящуюся к внешней функции\n",
    "    enclosing_counter = 0\n",
    "    # Внутренняя функция\n",
    "    def inner_function():\n",
    "        # Прибавим 1 к enclosing_counter\n",
    "        enclosing_counter += 1\n",
    "        # Напечатаем значение enclosing_counter\n",
    "        print(enclosing_counter)\n",
    "    # Запустим внутреннюю функцию из внешней\n",
    "    inner_function()\n",
    " \n",
    "# Запустим внешнюю функцию\n",
    "outer_function()\n",
    " \n",
    "# Возникнет ошибка:\n",
    "# UnboundLocalError: local variable 'enclosing_counter' referenced before assignment"
   ]
  },
  {
   "cell_type": "code",
   "execution_count": 3,
   "metadata": {},
   "outputs": [
    {
     "name": "stdout",
     "output_type": "stream",
     "text": [
      "1\n"
     ]
    }
   ],
   "source": [
    "def outer_function():\n",
    "    enclosing_counter = 0\n",
    "    def inner_function():\n",
    "        # С помощью оператора nonlocal покажем,\n",
    "        # что переменная enclosing_counter находится\n",
    "        # во внешней функции\n",
    "        nonlocal enclosing_counter\n",
    "        enclosing_counter += 1\n",
    "        print(enclosing_counter)\n",
    "    inner_function()\n",
    " \n",
    "outer_function()\n",
    " \n",
    "# Будет напечатано:\n",
    "# 1"
   ]
  },
  {
   "cell_type": "code",
   "execution_count": 4,
   "metadata": {},
   "outputs": [
    {
     "ename": "NameError",
     "evalue": "name 'printer' is not defined",
     "output_type": "error",
     "traceback": [
      "\u001b[1;31m---------------------------------------------------------------------------\u001b[0m",
      "\u001b[1;31mNameError\u001b[0m                                 Traceback (most recent call last)",
      "\u001b[1;32m<ipython-input-4-f11801e6270a>\u001b[0m in \u001b[0;36m<module>\u001b[1;34m\u001b[0m\n\u001b[0;32m      2\u001b[0m     \u001b[1;32mdef\u001b[0m \u001b[0mprinter\u001b[0m\u001b[1;33m(\u001b[0m\u001b[1;33m)\u001b[0m\u001b[1;33m:\u001b[0m\u001b[1;33m\u001b[0m\u001b[1;33m\u001b[0m\u001b[0m\n\u001b[0;32m      3\u001b[0m         \u001b[0mprint\u001b[0m\u001b[1;33m(\u001b[0m\u001b[0mmsg\u001b[0m\u001b[1;33m)\u001b[0m\u001b[1;33m\u001b[0m\u001b[1;33m\u001b[0m\u001b[0m\n\u001b[1;32m----> 4\u001b[1;33m \u001b[0mprinter\u001b[0m\u001b[1;33m(\u001b[0m\u001b[1;34m'Hello'\u001b[0m\u001b[1;33m)\u001b[0m\u001b[1;33m\u001b[0m\u001b[1;33m\u001b[0m\u001b[0m\n\u001b[0m",
      "\u001b[1;31mNameError\u001b[0m: name 'printer' is not defined"
     ]
    }
   ],
   "source": [
    "def print_msg(msg):\n",
    "    def printer():\n",
    "        print(msg)\n",
    "printer('Hello')"
   ]
  },
  {
   "cell_type": "code",
   "execution_count": null,
   "metadata": {},
   "outputs": [],
   "source": [
    "\n",
    "# переопределение втроенной функции\n",
    "my_list = [1,4,5,7]\n",
    "# Запишем в переменную с названием\n",
    "# len длину списка my_list,\n",
    "# полученную с помощью встроенной функции len\n",
    "len = len(my_list)\n",
    "print(len)\n",
    "# Будет напечатано:\n",
    "# 4\n",
    " \n",
    "# Попробуем снова воспользоваться функцией len:\n",
    "# Создадим ещё один список\n",
    "new_list = ['Ivan', 'Sergej', 'Maria']\n",
    "# Также узнаем его длину с помощью функции len\n",
    "length = len(new_list)\n",
    "print(length)\n",
    "# Возникнет ошибка:\n",
    "# TypeError: 'int' object is not callable"
   ]
  },
  {
   "cell_type": "code",
   "execution_count": null,
   "metadata": {},
   "outputs": [],
   "source": []
  },
  {
   "cell_type": "code",
   "execution_count": 8,
   "metadata": {},
   "outputs": [
    {
     "name": "stdout",
     "output_type": "stream",
     "text": [
      "<function outer.<locals>.inner at 0x0000020E930CC670>\n"
     ]
    }
   ],
   "source": [
    "#объявляем внешнюю функцию\n",
    "def outer():\n",
    "    x = 1 #создаём локальную переменную\n",
    "    #объявляем внутреннюю функцию\n",
    "    def inner():\n",
    "        print('x in outer function: ', x)\n",
    "    #внешняя функция возвращает внутреннюю\n",
    "    return inner\n",
    "out = outer()\n",
    "print(out)\n",
    "#Получим <function outer.<locals>.inner at 0x0000025DAA3C4700>"
   ]
  },
  {
   "cell_type": "code",
   "execution_count": 14,
   "metadata": {},
   "outputs": [
    {
     "name": "stdout",
     "output_type": "stream",
     "text": [
      "<function outer.<locals>.inner at 0x0000020E930CC670>\n",
      "x in outer function:  1\n"
     ]
    }
   ],
   "source": [
    "#объявляем внешнюю функцию\n",
    "def outer():\n",
    "    x = 1 #создаём локальную переменную\n",
    "    #объявляем внутреннюю функцию\n",
    "    def inner():\n",
    "        print('x in outer function: ', x)\n",
    "    #внешняя функция возвращает внутреннюю\n",
    "    return inner\n",
    "out1 = outer()\n",
    "print(out1)\n",
    "out1()\n",
    "# Таким образом, в переменной out содержится ссылка на функцию inner()."
   ]
  },
  {
   "cell_type": "markdown",
   "metadata": {},
   "source": [
    "Теперь посмотрим на более короткую запись того, как можно «достучаться» до функции inner(). Действуем по принципу матрёшки: открываем большую матрёшку → вызываем внешнюю функцию → получаем внутреннюю функцию, открываем матрёшку поменьше → вызываем внутреннюю функцию:"
   ]
  },
  {
   "cell_type": "code",
   "execution_count": 16,
   "metadata": {},
   "outputs": [
    {
     "name": "stdout",
     "output_type": "stream",
     "text": [
      "x in outer function:  1\n"
     ]
    },
    {
     "data": {
      "text/plain": [
       "<function __main__.outer2.<locals>.inner2()>"
      ]
     },
     "execution_count": 16,
     "metadata": {},
     "output_type": "execute_result"
    }
   ],
   "source": [
    "#объявляем внешнюю функцию\n",
    "def outer2():\n",
    "    x = 1 #создаём локальную переменную\n",
    "    #объявляем внутреннюю функцию\n",
    "    def inner2():\n",
    "        print('x in outer function: ', x)\n",
    "    #внешняя функция возвращает внутреннюю\n",
    "    return inner2\n",
    "\n",
    "outer2()()\n",
    "outer2()"
   ]
  },
  {
   "cell_type": "markdown",
   "metadata": {},
   "source": [
    "Перед нами стоит следующая задача: подсчитать, сколько раз функция вызывается в программе. Такая задача может возникнуть, когда функция вызывается при каком-то определённом условии и вам необходимо отслеживать, сколько раз это условие выполняется. Например, у вас есть система рекомендаций музыки, и вы должны отследить, сколько раз с момента запуска программы вызвалась функция переключения музыки, чтобы понять, нравится ли пользователю представленная ему подборка.\n",
    "\n",
    "Давайте в теле внешней функции counter() напишем внутреннюю функцию-счётчик add(), которая с каждым запуском будет считать, сколько раз её вызвали. \n",
    "\n",
    "Во внешней функции объявим переменную number. Во внутренней функции будем увеличивать значение этой переменной на 1. Обязательно будем использовать оператор nonlocal, чтобы показать, что текущее значение счётчика необходимо брать из внешней функции и оно будет изменяться. Говоря профессиональным языком, мы создаём замыкание."
   ]
  },
  {
   "cell_type": "code",
   "execution_count": 18,
   "metadata": {},
   "outputs": [
    {
     "name": "stdout",
     "output_type": "stream",
     "text": [
      "True\n"
     ]
    }
   ],
   "source": [
    "# Функция, которая создаёт счётчик\n",
    "def counter():\n",
    "    # Начальное значение счётчика — 0\n",
    "    number = 0\n",
    "    # Функция add будет каждый раз прибавлять\n",
    "    # к счётчику 1 при запуске\n",
    "    def add():\n",
    "        # Сообщаем, что number берём из\n",
    "        # внешней функции\n",
    "        nonlocal number\n",
    "        # Увеличиваем значение счётчика на 1   \n",
    "        number += 1\n",
    "        # Возвращаем текущее число запусков счётчика\n",
    "        return number\n",
    "    # Возвращаем не результат вычислений,\n",
    "    # а непосредственно саму функцию add\n",
    "    # без круглых скобок!\n",
    "    return add\n",
    "\n",
    "# В переменную counter1 сохраняем новый счётчик\n",
    "counter1 = counter()\n",
    " \n",
    "# Проверим, что counter1 действительно является вызываемым объектом,\n",
    "# то есть функцией. Для этого воспользуемся встроенной функцией\n",
    "# callable:\n",
    "print(callable(counter1))\n",
    "# Будет напечатано:\n",
    "# True"
   ]
  },
  {
   "cell_type": "code",
   "execution_count": 20,
   "metadata": {},
   "outputs": [
    {
     "name": "stdout",
     "output_type": "stream",
     "text": [
      "True\n",
      "1\n",
      "2\n",
      "3\n"
     ]
    }
   ],
   "source": [
    "def counter():    \n",
    "    number = 0    \n",
    "    def add():        \n",
    "        nonlocal number           \n",
    "        number += 1        \n",
    "        return number    \n",
    "    return add\n",
    "\n",
    "counter1 = counter() \n",
    "print(callable(counter1))\n",
    "\n",
    "# Запустим counter как обычную функцию\n",
    "print(counter1())\n",
    "print(counter1())\n",
    "print(counter1())\n",
    "# Будет напечатано:\n",
    "# 1\n",
    "# 2\n",
    "# 3"
   ]
  },
  {
   "cell_type": "code",
   "execution_count": 24,
   "metadata": {},
   "outputs": [
    {
     "name": "stdout",
     "output_type": "stream",
     "text": [
      "Counter 1: 1\n",
      "Counter 1: 2\n",
      "Counter 2: 1\n",
      "Counter 1: 3\n",
      "Counter 2: 2\n",
      "Counter 2: 3\n"
     ]
    }
   ],
   "source": [
    "\n",
    "\n",
    "# Создадим два различных счётчика\n",
    "\n",
    "counter1 = counter() \n",
    "counter2 = counter() # Будем запускать вразнобой разные счётчики \n",
    "print(\"Counter 1:\", counter1()) \n",
    "print(\"Counter 1:\", counter1()) \n",
    "print(\"Counter 2:\", counter2()) \n",
    "print(\"Counter 1:\", counter1()) \n",
    "print(\"Counter 2:\", counter2()) \n",
    "print(\"Counter 2:\", counter2()) \n",
    "# Будет напечатано: # Counter 1: 1 # Counter 1: 2 # Counter 2: 1 # Counter 1: 3 # Counter 2: 2 # Counter 2: 3\n",
    "\n"
   ]
  },
  {
   "cell_type": "markdown",
   "metadata": {},
   "source": [
    "В нашем коде мы дважды вызвали функцию counter() и записали результаты её работы в две различные переменные: counter1 и counter2. В каждой из них содержится ссылка на внутреннюю функцию add(), в которой происходит увеличение нелокальной переменной number на 1. \n",
    "\n",
    "Ключевым в понимании кода выше является тот факт, что для каждого из вызовов функции counter() переменная number является локальной, то есть для каждого вызова она своя. Переменная number создаётся при каждом вызове внешней функции counter(), а мы вызвали её дважды.\n",
    "\n",
    "Таким образом, когда мы вызвали функцию counter() в первый раз, создалась первая переменная number:\n",
    "\n",
    "\n",
    "\n",
    "counter1 = counter()\n",
    "\n",
    "Когда мы вызвали функцию counter() во второй раз, создалась вторая переменная number:\n",
    "\n",
    "counter2 = counter()\n",
    "\n",
    "Однако она не имеет никакого отношения к первой. Изменение первой переменной не влечёт за собой изменение второй, и наоборот.\n",
    "\n",
    "Поэтому, когда мы вызываем функцию add() от имени переменных counter1 и counter2, мы изменяем значения двух различных переменных number. \n",
    "\n",
    "Получается, что для каждой функции ведётся индивидуальный подсчёт её вызовов."
   ]
  },
  {
   "cell_type": "markdown",
   "metadata": {},
   "source": [
    "Напишите функцию-копилку с названием saver(), которая не принимает никаких аргументов. Она должна возвращать внутреннюю функцию adder(), которая принимает на вход одно число и возвращает сумму в копилке после прибавления числа.\n",
    "\n",
    "Изначально в новой копилке хранится 0.\n",
    "\n",
    "Пример работы функции:\n",
    "\n",
    "\n",
    "\n"
   ]
  },
  {
   "cell_type": "code",
   "execution_count": 25,
   "metadata": {},
   "outputs": [
    {
     "ename": "NameError",
     "evalue": "name 'saver' is not defined",
     "output_type": "error",
     "traceback": [
      "\u001b[1;31m---------------------------------------------------------------------------\u001b[0m",
      "\u001b[1;31mNameError\u001b[0m                                 Traceback (most recent call last)",
      "\u001b[1;32m<ipython-input-25-7b8a5e542690>\u001b[0m in \u001b[0;36m<module>\u001b[1;34m\u001b[0m\n\u001b[1;32m----> 1\u001b[1;33m \u001b[0mpig\u001b[0m \u001b[1;33m=\u001b[0m \u001b[0msaver\u001b[0m\u001b[1;33m(\u001b[0m\u001b[1;33m)\u001b[0m\u001b[1;33m\u001b[0m\u001b[1;33m\u001b[0m\u001b[0m\n\u001b[0m\u001b[0;32m      2\u001b[0m \u001b[0mprint\u001b[0m\u001b[1;33m(\u001b[0m\u001b[0mpig\u001b[0m\u001b[1;33m(\u001b[0m\u001b[1;36m25\u001b[0m\u001b[1;33m)\u001b[0m\u001b[1;33m)\u001b[0m\u001b[1;33m\u001b[0m\u001b[1;33m\u001b[0m\u001b[0m\n\u001b[0;32m      3\u001b[0m \u001b[0mprint\u001b[0m\u001b[1;33m(\u001b[0m\u001b[0mpig\u001b[0m\u001b[1;33m(\u001b[0m\u001b[1;36m100\u001b[0m\u001b[1;33m)\u001b[0m\u001b[1;33m)\u001b[0m\u001b[1;33m\u001b[0m\u001b[1;33m\u001b[0m\u001b[0m\n\u001b[0;32m      4\u001b[0m \u001b[0mprint\u001b[0m\u001b[1;33m(\u001b[0m\u001b[0mpig\u001b[0m\u001b[1;33m(\u001b[0m\u001b[1;36m19\u001b[0m\u001b[1;33m)\u001b[0m\u001b[1;33m)\u001b[0m\u001b[1;33m\u001b[0m\u001b[1;33m\u001b[0m\u001b[0m\n\u001b[0;32m      5\u001b[0m \u001b[1;31m# 25\u001b[0m\u001b[1;33m\u001b[0m\u001b[1;33m\u001b[0m\u001b[1;33m\u001b[0m\u001b[0m\n",
      "\u001b[1;31mNameError\u001b[0m: name 'saver' is not defined"
     ]
    }
   ],
   "source": [
    "pig = saver()\n",
    "print(pig(25))\n",
    "print(pig(100))\n",
    "print(pig(19))\n",
    "# 25\n",
    "# 125\n",
    "# 144"
   ]
  },
  {
   "cell_type": "code",
   "execution_count": 28,
   "metadata": {},
   "outputs": [
    {
     "name": "stdout",
     "output_type": "stream",
     "text": [
      "25\n",
      "125\n",
      "144\n"
     ]
    }
   ],
   "source": [
    "def saver():\n",
    "    total = 0\n",
    "    def adder(x):\n",
    "        nonlocal total\n",
    "        total +=x\n",
    "        return total\n",
    "    return adder\n",
    "\n",
    "pig = saver()\n",
    "print(pig(25))\n",
    "print(pig(100))\n",
    "print(pig(19))   \n"
   ]
  },
  {
   "cell_type": "markdown",
   "metadata": {},
   "source": [
    "# Рекурсия"
   ]
  },
  {
   "cell_type": "code",
   "execution_count": 1,
   "metadata": {},
   "outputs": [
    {
     "name": "stdout",
     "output_type": "stream",
     "text": [
      "[10, 21, 24, 12]\n",
      "[21, 24, 12]\n",
      "[24, 12]\n",
      "[12]\n",
      "[]\n",
      "67\n"
     ]
    }
   ],
   "source": [
    "def sum_lst(lst):\n",
    "    # Выводим текущее значение lst\n",
    "    print(lst)\n",
    "    # Задаём условие выхода из рекурсии\n",
    "    if len(lst) == 0:return 0\n",
    "    # Во всех других случаях возвращаем\n",
    "    # сумму первого элемента списка \n",
    "    # и результат суммирования оставшихся\n",
    "    return lst[0] + sum_lst(lst[1:])\n",
    " \n",
    "my_lst = [10, 21, 24, 12]\n",
    "print(sum_lst(my_lst))\n",
    "\n",
    "\n",
    "#Будет выведено\n",
    "#[10, 21, 24, 12]\n",
    "#[21, 24, 12]\n",
    "#[24, 12]\n",
    "#[12]\n",
    "#[]\n",
    "#Result 67"
   ]
  },
  {
   "cell_type": "code",
   "execution_count": 4,
   "metadata": {},
   "outputs": [
    {
     "name": "stdout",
     "output_type": "stream",
     "text": [
      "[10, 21, 24, 12]\n",
      "[21, 24, 12]\n",
      "[24, 12]\n",
      "[12]\n",
      "[]\n",
      "67\n"
     ]
    }
   ],
   "source": [
    "def sum_lst(lst):    \n",
    "    print(lst)    \n",
    "    if len(lst) == 0:return 0\n",
    "    return lst[0] + sum_lst(lst[1:]) \n",
    "my_lst = [10, 21, 24, 12]\n",
    "print(sum_lst(my_lst))"
   ]
  },
  {
   "cell_type": "markdown",
   "metadata": {},
   "source": [
    "Задание 3.4 (выполняется в codeboard ниже)\n",
    "\n",
    "\n",
    "Напишите рекурсивную функцию multiply_lst(), которая перемножает элементы заданного списка между собой. \n",
    "Подсказка\n",
    "\n",
    "Переведите алгоритм создания рекурсивной функции для расчёта суммы в расчёт произведения. Условие остановки — if len(lst) == 0: return 1.\n"
   ]
  },
  {
   "cell_type": "code",
   "execution_count": 4,
   "metadata": {},
   "outputs": [
    {
     "name": "stdout",
     "output_type": "stream",
     "text": [
      "[10, 21, 24, 12]\n",
      "[21, 24, 12]\n",
      "[24, 12]\n",
      "[12]\n",
      "[]\n",
      "60480\n"
     ]
    }
   ],
   "source": [
    "# Напишите рекурсивную функцию multiply_lst, которая перемножает элементы заданного списка между собой. \n",
    "\n",
    "def multiply_lst(lst):\n",
    "    print(lst)    \n",
    "    if len(lst) == 0: return 1\n",
    "    return lst[0] * multiply_lst(lst[1:])\n",
    "my_lst = [10, 21, 24, 12]\n",
    "print(multiply_lst(my_lst))"
   ]
  },
  {
   "cell_type": "markdown",
   "metadata": {},
   "source": [
    "Факториал"
   ]
  },
  {
   "cell_type": "code",
   "execution_count": 5,
   "metadata": {},
   "outputs": [
    {
     "name": "stdout",
     "output_type": "stream",
     "text": [
      "1\n",
      "6\n",
      "120\n"
     ]
    }
   ],
   "source": [
    "def factorial(n):\n",
    "    # Задаём условия выхода из рекурсии:\n",
    "    if n==0: return 1\n",
    "    if n==1: return 1\n",
    "    # Во всех других случаях возвращаем\n",
    "    # произведение текущего числа n и функции от n-1\n",
    "    return factorial(n-1)*n\n",
    "\n",
    "print(factorial(0))\n",
    "print(factorial(3))\n",
    "print(factorial(5))\n",
    "# Будет напечатано:\n",
    "# 1\n",
    "# 6\n",
    "# 120"
   ]
  },
  {
   "cell_type": "code",
   "execution_count": 6,
   "metadata": {},
   "outputs": [
    {
     "name": "stdout",
     "output_type": "stream",
     "text": [
      "2475\n"
     ]
    }
   ],
   "source": [
    "print(len(str(factorial(969))))"
   ]
  },
  {
   "cell_type": "code",
   "execution_count": 7,
   "metadata": {},
   "outputs": [
    {
     "name": "stdout",
     "output_type": "stream",
     "text": [
      "2478\n"
     ]
    }
   ],
   "source": [
    "print(len(str(factorial(970))))"
   ]
  },
  {
   "cell_type": "code",
   "execution_count": null,
   "metadata": {},
   "outputs": [],
   "source": [
    "from time import time\n",
    "import sys\n",
    "sys.setrecursionlimit(1000000000)\n",
    " \n",
    "def factorial(n):\n",
    "    if n==0: return 1\n",
    "    if n==1: return 1\n",
    "    return factorial(n-1)*n\n",
    "a = time()\n",
    "for i in range(100):\n",
    "    factorial(10000)\n",
    "b = time()\n",
    "print(b-a)\n",
    "# Будет напечатано:\n",
    "# 4.058465242385864"
   ]
  },
  {
   "cell_type": "markdown",
   "metadata": {},
   "source": [
    "Числа Фибоначчи — пример последовательности, которую можно получить рекурсивно. Вот первые числа этой последовательности: 0, 1, 1, 2, 3, 5, 8, 13 …\n",
    "\n",
    "\n",
    "Напишите рекурсивную функцию fib(n), которая считает -ое число Фибоначчи. Будем считать, что fib(0) = 0 и fib(1) = 1.\n",
    "\n",
    "Пример работы функции:\n",
    "    \n",
    "print(fib(0))\n",
    "print(fib(2))\n",
    "print(fib(6))\n",
    "\n",
    "0\n",
    "\n",
    "1\n",
    "\n",
    "8\n"
   ]
  },
  {
   "cell_type": "code",
   "execution_count": 3,
   "metadata": {},
   "outputs": [
    {
     "name": "stdout",
     "output_type": "stream",
     "text": [
      "0\n",
      "1\n",
      "8\n"
     ]
    }
   ],
   "source": [
    "def fib(n):\n",
    "    if n == 0: return 0\n",
    "    if n == 1: return 1\n",
    "    return fib(n-2) + fib(n-1)\n",
    "\n",
    "print(fib(0))\n",
    "print(fib(2))\n",
    "print(fib(6))\n",
    "\n",
    "    \n"
   ]
  },
  {
   "cell_type": "markdown",
   "metadata": {},
   "source": [
    "Исходя из кода функции check_string делаем следующие выводы:\n",
    "\n",
    "    Функция является рекурсивной (вызывает саму себя).\n",
    "    Базовым условием выхода из функции является равенство длины строки нулю (строка пуста).\n",
    "    При каждом вызове функция проверяет равенство первого и последнего символа. Если условие выполняется, проверка выполняется вновь для новой строки, из которой исключены первый и последний символы. Если на каком-то из этапов условие равенства не выполняется, функция возвращает False.\n",
    "    Таким образом, функция проверяет, что переданная строка одинаково пишется с обеих сторон, то есть является палиндромом.\n"
   ]
  },
  {
   "cell_type": "code",
   "execution_count": null,
   "metadata": {},
   "outputs": [],
   "source": [
    "def fib(n):\n",
    "    if n == 0: return 0\n",
    "    if n == 1: return 1\n",
    "    return fib(n-2) + fib(n-1)"
   ]
  },
  {
   "cell_type": "markdown",
   "metadata": {},
   "source": [
    "Напишите рекурсивную функцию power(val, n), которая возводит число в заданную целую натуральную степень (или в степень 0).\n",
    "\n",
    "Использовать встроенный оператор ** для возведения в степень запрещено. Пользуйтесь только умножением *. Например, 2 ** 4 = (((2 * 2) * 2) * 2) = 16.\n",
    "\n",
    "В качестве первого аргумента функция принимает число, в качестве второго — желаемую степень.\n",
    "\n",
    "Примечание: в качестве базовых случаев для рекурсии возьмите условие, что любое число в степени 0 — 1, любое число в степени 1 — это же число."
   ]
  },
  {
   "cell_type": "code",
   "execution_count": 8,
   "metadata": {},
   "outputs": [
    {
     "name": "stdout",
     "output_type": "stream",
     "text": [
      "1\n",
      "625\n"
     ]
    }
   ],
   "source": [
    "def power(val, n):\n",
    "    if n == 1: return val\n",
    "    if n == 0: return 1\n",
    "    return val * power(val, n-1)\n",
    "\n",
    "print(power(25,0))\n",
    "print(power(-5,4))\n"
   ]
  },
  {
   "cell_type": "markdown",
   "metadata": {},
   "source": [
    "Напишите функцию is_leap(year), которая принимает на вход год и возвращает True, если год високосный, иначе — False.\n",
    "\n",
    "Условие для проверки на високосность: год делится на 400 или год делится на 4, н|о не на 100. Подробнее об этом можно узнать здесь."
   ]
  },
  {
   "cell_type": "code",
   "execution_count": 12,
   "metadata": {},
   "outputs": [
    {
     "name": "stdout",
     "output_type": "stream",
     "text": [
      "True\n",
      "False\n",
      "True\n"
     ]
    }
   ],
   "source": [
    "def is_leap(year):\n",
    "    if year % 4 == 0:\n",
    "        if year % 100 != 0:\n",
    "            return True\n",
    "    if year % 400 == 0:\n",
    "        return True\n",
    "    return False\n",
    "   \n",
    "print(is_leap(2000))\n",
    "print(is_leap(1900))\n",
    "print(is_leap(2020))\n",
    "# True\n",
    "# False\n",
    "# True   \n"
   ]
  },
  {
   "cell_type": "markdown",
   "metadata": {},
   "source": [
    "При разработке пользовательского интерфейса и программ, взаимодействующих с человеком, очень важна проверка корректности введённых пользователем данных. Такую проверку в сообществе программистов принято называть «проверкой на дурака». Некорректно введённые данные могут «сломать» вашу программу, если она не была подготовлена для их обработки.\n",
    "\n",
    "Напишите функцию check_date(day, month, year), которая проверяет корректность даты рождения по следующим условиям:\n",
    "\n",
    "        Все аргументы должны быть целыми числами (проверить с помощью type(day) is int).\n",
    "        Годом рождения не может быть год до 1900 и год после 2022.\n",
    "        Номер месяца не может быть больше 12 и меньше 1.\n",
    "        Номер дня не может быть больше 31 и меньше 1.\n",
    "        В сентябре, апреле, июне и ноябре 30 дней.\n",
    "        Если год является високосным, то в феврале (второймесяц) должно быть 29 дней, в противном случае — 28.\n",
    "\n",
    "Если дата корректна, вернуть True, если же хотя бы одно из представленных условий не было выполнено — False. "
   ]
  },
  {
   "cell_type": "code",
   "execution_count": 46,
   "metadata": {},
   "outputs": [
    {
     "name": "stdout",
     "output_type": "stream",
     "text": [
      "True\n",
      "True\n",
      "False\n",
      "False\n",
      "False\n"
     ]
    }
   ],
   "source": [
    "def check_date(day, month, year):\n",
    "    if type(day) == int and type(month) == int and type(year) == int:\n",
    "        if 1900<=year<=2022:\n",
    "            if 1<=month<=12 and month not in (2,4,6,9,11):\n",
    "                if 1<=day<=31:\n",
    "                    return True  \n",
    "            if month in (4,6,9,11):\n",
    "                if 1<=day<=30:\n",
    "                    return True\n",
    "            if month==2:\n",
    "                def is_leap(year):                                \n",
    "                    if year % 4 == 0:\n",
    "                        if year % 100 != 0:\n",
    "                            return True\n",
    "                        if year % 400 == 0:\n",
    "                            return True\n",
    "                    return False\n",
    "                if is_leap(year):\n",
    "                    if 1<=day<=28:\n",
    "                        return True\n",
    "                    else:\n",
    "                        if 1<=day<=29:\n",
    "                            return True\n",
    "    return False\n",
    "\n",
    "print(check_date(18,9,1999))\n",
    "print(check_date(29,2,2000))\n",
    "print(check_date(29,2,2021))\n",
    "print(check_date(13,13,2021))\n",
    "print(check_date(13.5,12,2021))\n",
    "# True\n",
    "# True\n",
    "# False\n",
    "# False\n",
    "# False"
   ]
  },
  {
   "cell_type": "code",
   "execution_count": null,
   "metadata": {},
   "outputs": [],
   "source": [
    "def check_date(day, month, year):\n",
    "    def is_leap(year):\n",
    "        if year % 400 == 0: return True\n",
    "        if year % 100 == 0: return False\n",
    "        if year % 4 == 0: return True\n",
    "        return False    \n",
    "    if (type(day) is not int) or (type(month) is not int) or (type(year) is not int):\n",
    "        return False\n",
    "    if (year <= 1900) or (year >= 2022):\n",
    "        return False      \n",
    "    if (month > 12) or (month < 1):\n",
    "        return False      \n",
    "    if (day < 1) or (day > 31): \n",
    "        return False    \n",
    "    if (month in [4,6,9,11]) and (day > 30):\n",
    "        return False    \n",
    "    if month == 2:\n",
    "        if is_leap(year):\n",
    "            if day > 29: return False\n",
    "        else:\n",
    "            if day > 28: return False\n",
    "    return True"
   ]
  },
  {
   "cell_type": "markdown",
   "metadata": {},
   "source": [
    "Представьте, что вы пишете приложение, предусматривающее регистрацию пользователей. Давайте реализуем небольшой функционал регистрации. Не забудем также про «проверку на дурака».\n",
    "\n",
    "Напишите функцию register(surname, name, date, middle_name, registry).\n",
    "\n",
    "Функция имеет следующие аргументы:\n",
    "\n",
    "        surname — фамилия;\n",
    "        name — имя;\n",
    "        date — дата рождения (в виде кортежа из трёх чисел — день, месяц, год);\n",
    "        middle_name — отчество ;\n",
    "        registry — список, в который необходимо добавить полученные аргументы в виде кортежа в следующем порядке: фамилия, имя, отчество, день, месяц, год рождения.\n",
    "\n",
    "Функция должна возвращать список, в который добавила запись. \n",
    "\n",
    "Указание: сделайте отчество аргументом по умолчанию со значением None, так как отчество может быть не у всех регистрирующихся.\n",
    "\n",
    "Также сделайте так, чтобы пустой список создавался в том случае, если он не был передан извне. Таким образом, по умолчанию registry имеет значение None, и если при вызове функции список так и не был передан, он создаётся в теле функции.\n",
    "\n",
    "Наконец, проверьте дату на корректность. Если дата неправильная, верните ошибку ValueError(\"Invalid Date!\"). Для этого вам пригодится функция check_date из предыдущего задания.\n"
   ]
  },
  {
   "cell_type": "code",
   "execution_count": 59,
   "metadata": {},
   "outputs": [
    {
     "name": "stdout",
     "output_type": "stream",
     "text": [
      "[('Petrova', 'Maria', 'Ivanovna', 13, 3, 2003), ('Ivanov', 'Sergej', None, 24, 9, 1995), ('Smith', 'John', None, 13, 2, 2003)]\n"
     ]
    }
   ],
   "source": [
    "def check_date(day, month, year):\n",
    "    def is_leap(year):\n",
    "        if year % 400 == 0: return True\n",
    "        if year % 100 == 0: return False\n",
    "        if year % 4 == 0: return True\n",
    "        return False    \n",
    "    if (type(day) is not int) or (type(month) is not int) or (type(year) is not int):\n",
    "        return False\n",
    "    if (year <= 1900) or (year >= 2022):\n",
    "        return False      \n",
    "    if (month > 12) or (month < 1):\n",
    "        return False      \n",
    "    if (day < 1) or (day > 31): \n",
    "        return False    \n",
    "    if (month in [4,6,9,11]) and (day > 30):\n",
    "        return False    \n",
    "    if month == 2:\n",
    "        if is_leap(year):\n",
    "            if day > 29: return False\n",
    "        else:\n",
    "            if day > 28: return False\n",
    "    return True\n",
    "\n",
    "def register(surname, name, date, middle_name=None, registry=None):\n",
    "    if registry is None:\n",
    "        registry = list()\n",
    "#     if not check_date(*date):\n",
    "#         raise ValueError(\"Invalid Date!\")\n",
    "    registry.append((surname, name, middle_name, date[0], date[1], date[2]))\n",
    "    return registry\n",
    "        \n",
    "reg = register('Petrova', 'Maria', (13, 3, 2003), 'Ivanovna')\n",
    "reg = register('Ivanov', 'Sergej', (24, 9, 1995), registry=reg)\n",
    "reg = register('Smith', 'John', (13, 2, 2003), registry=reg)\n",
    "print(reg)\n",
    "# [('Petrova', 'Maria', 'Ivanovna', 13, 3, 2003), ('Ivanov', 'Sergej', None, 24, 9, 1995), ('Smith', 'John', None, 13, 2, 2003)]\n",
    " \n",
    "reg = register('Ivanov', 'Sergej', (24, 13, 1995))\n",
    "# ValueError: Invalid Date!   "
   ]
  },
  {
   "cell_type": "code",
   "execution_count": 60,
   "metadata": {},
   "outputs": [
    {
     "name": "stdout",
     "output_type": "stream",
     "text": [
      "loh\n",
      "bomzh\n",
      "petuh\n"
     ]
    }
   ],
   "source": [
    "users = ['loh', 'bomzh', 'petuh']\n",
    "for user in users:\n",
    "    print (user)"
   ]
  },
  {
   "cell_type": "code",
   "execution_count": null,
   "metadata": {},
   "outputs": [],
   "source": []
  },
  {
   "cell_type": "code",
   "execution_count": null,
   "metadata": {},
   "outputs": [],
   "source": []
  },
  {
   "cell_type": "code",
   "execution_count": null,
   "metadata": {},
   "outputs": [],
   "source": [
    "Посчитайте количество символов в следующей строке:\n",
    "\n",
    "python_string = 'Hello! My name is Python. I will help you to analyze some data'\n",
    "\n",
    "Возведите это число в третью степень. В качестве ответа запишите итоговое число."
   ]
  },
  {
   "cell_type": "code",
   "execution_count": 8,
   "metadata": {},
   "outputs": [
    {
     "name": "stdout",
     "output_type": "stream",
     "text": [
      "62\n",
      "238328\n"
     ]
    }
   ],
   "source": [
    "python_string = 'Hello! My name is Python. I will help you to analyze some data'\n",
    "print(len(python_string))\n",
    "a = len(python_string)**3\n",
    "print(a)"
   ]
  },
  {
   "cell_type": "code",
   "execution_count": null,
   "metadata": {},
   "outputs": [],
   "source": [
    "С помощью среза выведите на экран слово Python из строки в задании 1.5. В ответ запишите получившуюся команду (без функции print())."
   ]
  },
  {
   "cell_type": "code",
   "execution_count": 17,
   "metadata": {},
   "outputs": [
    {
     "name": "stdout",
     "output_type": "stream",
     "text": [
      "Python\n"
     ]
    }
   ],
   "source": [
    "python_string = 'Hello! My name is Python. I will help you to analyze some data'\n",
    "new_st = python_string[18:24]\n",
    "print(new_st)"
   ]
  },
  {
   "cell_type": "code",
   "execution_count": null,
   "metadata": {},
   "outputs": [],
   "source": [
    "python_string = 'Hello! My name is Python. I will help you to analyze some data'\n"
   ]
  },
  {
   "cell_type": "code",
   "execution_count": 6,
   "metadata": {},
   "outputs": [
    {
     "name": "stdout",
     "output_type": "stream",
     "text": [
      "['hello', 'my', 'name', 'is', 'python', 'i', 'will', 'help', 'you', 'to', 'analyze', 'some', 'data']\n",
      "13\n"
     ]
    }
   ],
   "source": [
    "python_string = 'Hello! My name is Python. I will help you to analyze some data'\n",
    "text = python_string\n",
    "text = text.replace('!','')\n",
    "text = text.replace(',','')\n",
    "text = text.replace('.','')\n",
    "text = text.lower()\n",
    "text = list(text.split())\n",
    "\n",
    "count_dict =dict()\n",
    "\n",
    "print(text)\n",
    "print(len(text))\n",
    "# count = 0\n",
    "# for word in text:\n",
    "#     if word in text:\n",
    "        "
   ]
  },
  {
   "cell_type": "code",
   "execution_count": 10,
   "metadata": {},
   "outputs": [
    {
     "name": "stdout",
     "output_type": "stream",
     "text": [
      "UserLena changed password toqwerty\n"
     ]
    }
   ],
   "source": [
    "def change_password(user_name, new_password):\n",
    "    result = str('User ' + user_name + ' changed password to '+ new_password)\n",
    "    return result\n",
    "\n",
    "print(change_password(\"Lena\", \"qwerty\"))\n"
   ]
  },
  {
   "cell_type": "code",
   "execution_count": 37,
   "metadata": {},
   "outputs": [
    {
     "name": "stdout",
     "output_type": "stream",
     "text": [
      "User Lena changed password to qwerty\n"
     ]
    }
   ],
   "source": [
    "def change_password(user_name, new_password):\n",
    "    return \"User {} changed password to {}\".format(user_name, new_password)\n",
    "\n",
    "print(change_password(\"Lena\", \"qwerty\"))"
   ]
  },
  {
   "cell_type": "code",
   "execution_count": null,
   "metadata": {},
   "outputs": [],
   "source": []
  },
  {
   "cell_type": "code",
   "execution_count": null,
   "metadata": {},
   "outputs": [],
   "source": []
  },
  {
   "cell_type": "code",
   "execution_count": null,
   "metadata": {},
   "outputs": [],
   "source": []
  },
  {
   "cell_type": "code",
   "execution_count": 14,
   "metadata": {},
   "outputs": [
    {
     "data": {
      "text/plain": [
       "20000"
      ]
     },
     "execution_count": 14,
     "metadata": {},
     "output_type": "execute_result"
    }
   ],
   "source": [
    "employee_info = {'salary': 20000, 'prize': 1000}\n",
    "employee_info['salary']"
   ]
  },
  {
   "cell_type": "code",
   "execution_count": null,
   "metadata": {},
   "outputs": [],
   "source": []
  },
  {
   "cell_type": "markdown",
   "metadata": {},
   "source": [
    "Напишите функцию get_unique_words(), которая избавляется от знаков препинания в тексте и возвращает упорядоченный список (слова расположены по алфавиту) из уникальных (неповторяющихся) слов. Учтите, что слова, написанные в разных регистрах считаются одним и тем же словом.\n",
    "\n",
    "Можно использовать готовый список со знаками препинания:"
   ]
  },
  {
   "cell_type": "code",
   "execution_count": 36,
   "metadata": {},
   "outputs": [
    {
     "name": "stdout",
     "output_type": "stream",
     "text": [
      "['57th', 'a', 'and', 'are', 'arrakis', 'as', 'balances', 'be', 'begin', 'beginning', 'bene', 'born', 'by', 'caladan', 'care', 'correct', 'deceived', 'delicate', 'do', 'dune', 'emperor', 'every', 'fact', 'fifteen', 'first', 'for', 'forever', 'gesserit', 'he', 'him', 'his', 'in', 'is', 'iv', 'known', 'knows', 'life', 'lived', 'locate', 'most', \"muad'dib\", 'not', 'of', 'on', 'padishah', 'place', 'planet', 'shaddam', 'sister', 'special', 'study', 'take', 'taking', 'that', 'the', 'then', 'there', 'this', 'time', 'to', 'was', 'year', 'years', 'you', 'your']\n"
     ]
    }
   ],
   "source": [
    "punctuation_list = ['.', ',', ';', ':', '...', '!', '?', '-', '\"', '(', ')']\n",
    "# Текст, который можно использовать в качестве примера:\n",
    "text = \"A beginning is the time for taking the most delicate care that the balances are correct. This every sister of the Bene Gesserit knows. To begin your study of the life of Muad'Dib, then take care that you first place him in his time: born in the 57th year of the Padishah Emperor, Shaddam IV. And take the most special care that you locate Muad'Dib in his place: the planet Arrakis. Do not be deceived by the fact that he was born on Caladan and lived his first fifteen years there. Arrakis, the planet known as Dune, is forever his place.\"\n",
    "def get_unique_words(text):    \n",
    "    text = text.lower()\n",
    "    for symb in punctuation_list:\n",
    "        text=text.replace(symb,'')    \n",
    "    text = list(set(text.split()))\n",
    "    text.sort()\n",
    "    return text\n",
    "    \n",
    "\n",
    "\n",
    "print(get_unique_words(text))"
   ]
  },
  {
   "cell_type": "markdown",
   "metadata": {},
   "source": [
    "Модифицируем предыдущее задание.\n",
    "\n",
    "Необходимо написать функцию get_most_frequent_word(), которая возвращает самое часто встречающееся слово в тексте. Не забудьте очистить тест от знаков пунктуации и привести текст к единому регистру (слова в верхнем и нижнем регистре считаются одним и тем же словом).\n",
    "\n",
    "Для решения можно использовать функцию из предыдущего задания."
   ]
  },
  {
   "cell_type": "code",
   "execution_count": 7,
   "metadata": {},
   "outputs": [
    {
     "name": "stdout",
     "output_type": "stream",
     "text": [
      "the\n"
     ]
    }
   ],
   "source": [
    "text_example = \"A beginning is the time for taking the most delicate care that the balances are correct. This every sister of the Bene Gesserit knows. To begin your study of the life of Muad'Dib, then take care that you first place him in his time: born in the 57th year of the Padishah Emperor, Shaddam IV. And take the most special care that you locate Muad'Dib in his place: the planet Arrakis. Do not be deceived by the fact that he was born on Caladan and lived his first fifteen years there. Arrakis, the planet known as Dune, is forever his place.\"\n",
    "\n",
    "\n",
    "\n",
    "def get_most_frequent_word(text):\n",
    "    punctuation_list = ['.', ',', ';', ':', '...', '!', '?', '-', '\"', '(', ')']\n",
    "    text = text.lower()\n",
    "    for symb in punctuation_list:\n",
    "        text=text.replace(symb,'')  \n",
    "    word_list = list(text.split()) \n",
    "    word_set = list(set(text.split()))\n",
    "    word_count = 0\n",
    "    most_frequent =''\n",
    "    for word in word_set: #word set чтобы не перепроверять те же самые слова из списка (в сете только уникалтыне значения)\n",
    "        if word_list.count(word)> word_count:\n",
    "            word_count = word_list.count(word)\n",
    "            most_frequent = word\n",
    "    return most_frequent\n",
    "    \n",
    "print(get_most_frequent_word(text_example))"
   ]
  },
  {
   "cell_type": "markdown",
   "metadata": {},
   "source": [
    "Разработайте функцию holes_count(), которая подсчитывает количество отверстий в заданном числе. Например, в цифре 8 два отверстия, в цифре 9 — одно. В числе 146 два отверстия."
   ]
  },
  {
   "cell_type": "code",
   "execution_count": 9,
   "metadata": {},
   "outputs": [
    {
     "name": "stdout",
     "output_type": "stream",
     "text": [
      "0\n",
      "8\n"
     ]
    }
   ],
   "source": [
    "# Разработайте функцию holes_count(), которая подсчитывает количество отверстий \n",
    "# в заданном числе. Например, в цифре 8 два отверстия, в цифре 9 - одно. \n",
    "# В числе 146 - два отверстия. \n",
    "# Подсказка: используйте словарь для записи количества отверстий в цифрах\n",
    "\n",
    "def holes_count(number):\n",
    "    holes_dict = {'4':1, '6':1, '8':2, '9':1, '0':1}\n",
    "    number_str = str(number)\n",
    "    holes_count = 0\n",
    "    for digit in number_str:\n",
    "        if digit in number_str:\n",
    "            holes_count += holes_dict.get(digit, 0)\n",
    "    return holes_count\n",
    "\n",
    "print(holes_count(123))\n",
    "print(holes_count(8888))\n"
   ]
  },
  {
   "cell_type": "code",
   "execution_count": null,
   "metadata": {},
   "outputs": [],
   "source": [
    "12357\n",
    "4690\n",
    "9\n"
   ]
  },
  {
   "cell_type": "markdown",
   "metadata": {},
   "source": [
    "\n",
    "\n",
    "Задание 2.8 (на самопроверку)\n",
    "\n",
    "Напишите программу, которая запрашивает у пользователя следующие данные : username, age, email о нескольких пользователях и собирает эти данные в структуру:\n",
    "\n",
    "\n",
    "[(1, {'username': user1, 'age': age1, 'email': email1}), \n",
    "\n",
    "(2, {'username': user2, 'age': age2, 'email': email2}), ... ]\n",
    "\n",
    "Первый элемент каждого кортежа — порядковый номер пользователя, второй элемент — словарь с данными.\n",
    "\n",
    "В итоге должен получиться список с кортежами.\n",
    "\n",
    "Далее необходимо провести аналитику (собрать данные о пользователях в словарь)\n",
    "\n",
    "{'username': [user1, user2, ...],\n",
    "\n",
    "'age': [age1, age2, ...],\n",
    "\n",
    "'email': [email1, email2, ...]}\n",
    "\n",
    "и вывести эту аналитику на экран.\n"
   ]
  },
  {
   "cell_type": "code",
   "execution_count": 5,
   "metadata": {},
   "outputs": [
    {
     "name": "stdout",
     "output_type": "stream",
     "text": [
      "Enter number of users:3\n",
      "Enter username: huj\n",
      "Enter user age2\n",
      "Enter emailgovh\n",
      "Enter username: 214214\n",
      "Enter user age1221\n",
      "Enter emailsos@asf\n",
      "Enter username: pidor\n",
      "Enter user age2142\n",
      "Enter emailjeblan@vovan\n",
      "[(1, {'username': 'huj', 'age': 2, 'email': 'govh'}), (2, {'username': '214214', 'age': 1221, 'email': 'sos@asf'}), (3, {'username': 'pidor', 'age': 2142, 'email': 'jeblan@vovan'})]\n",
      "{'username': ['po', 'pidor', 'ovosh'], 'age': [24, 54, 3], 'email': ['hujesos@govno', 'govnosos@pizde', 'jebanij']}\n"
     ]
    }
   ],
   "source": [
    "num_users = int(input('Enter number of users:'))\n",
    "user_data = {'username':[],'age':[],'email':[]}\n",
    "user_list = []\n",
    "\n",
    "for i in range (num_users):\n",
    "    user = {} # Задаём словарь\n",
    "    user['username']=input('Enter username: ')\n",
    "    user['age'] = int(input('Enter user age'))\n",
    "    user['email']= input('Enter email')\n",
    "    user_data['username'].append(user['username'])\n",
    "    user_data['age'].append(user['age'])\n",
    "    user_data['email'].append(user['email'])\n",
    "    user_list.append((i+1, user)) #Помещаем весь как элемент листа\n",
    "\n",
    "print(user_list)\n",
    "print(user_analytics)\n"
   ]
  },
  {
   "cell_type": "code",
   "execution_count": null,
   "metadata": {},
   "outputs": [],
   "source": []
  },
  {
   "cell_type": "code",
   "execution_count": null,
   "metadata": {},
   "outputs": [],
   "source": []
  },
  {
   "cell_type": "code",
   "execution_count": 4,
   "metadata": {},
   "outputs": [
    {
     "name": "stdout",
     "output_type": "stream",
     "text": [
      "Enter number of users: 3\n",
      "Enter username: po\n",
      "Enter user age: 24\n",
      "Enter user email: hujesos@govno\n",
      "Enter username: pidor\n",
      "Enter user age: 54\n",
      "Enter user email: govnosos@pizde\n",
      "Enter username: ovosh\n",
      "Enter user age: 3\n",
      "Enter user email: jebanij\n",
      "[(1, {'username': 'po', 'age': 24, 'email': 'hujesos@govno'}), (2, {'username': 'pidor', 'age': 54, 'email': 'govnosos@pizde'}), (3, {'username': 'ovosh', 'age': 3, 'email': 'jebanij'})]\n",
      "{'username': ['po', 'pidor', 'ovosh'], 'age': [24, 54, 3], 'email': ['hujesos@govno', 'govnosos@pizde', 'jebanij']}\n"
     ]
    }
   ],
   "source": [
    "num_users = int(input('Enter number of users: '))\n",
    "user_analytics = {'username': [], 'age': [], 'email': []}\n",
    "user_list = []\n",
    "\n",
    "for i in range(num_users):\n",
    "    user = {}\n",
    "    user['username'] = input(\"Enter username: \")\n",
    "    user['age'] = int(input(\"Enter user age: \"))\n",
    "    user['email'] = input(\"Enter user email: \")\n",
    "    user_analytics['username'].append(user['username'])\n",
    "    user_analytics['age'].append(user['age'])\n",
    "    user_analytics['email'].append(user['email'])\n",
    "    user_list.append((i + 1, user))\n",
    "\n",
    "print(user_list)\n",
    "print(user_analytics)"
   ]
  },
  {
   "cell_type": "markdown",
   "metadata": {},
   "source": [
    "Напишите функцию find_min_number(), которая принимает три числа на вход и возвращает наименьшее из них.\n",
    "\n",
    "Используйте для решения задачи условия."
   ]
  },
  {
   "cell_type": "code",
   "execution_count": 14,
   "metadata": {},
   "outputs": [
    {
     "name": "stdout",
     "output_type": "stream",
     "text": [
      "1\n",
      "-10\n",
      "1\n",
      "1\n",
      "1\n",
      "1\n"
     ]
    }
   ],
   "source": [
    "\n",
    "def find_min_number(a, b, c):\n",
    "    min = a\n",
    "    if b < a:\n",
    "        min = b\n",
    "    if min > c:\n",
    "        min = c\n",
    "    return min\n",
    "\n",
    "print(find_min_number(1, 2, 3))\n",
    "print(find_min_number(1, 2, -10))\n",
    "print(find_min_number(3, 1, 2))\n",
    "print(find_min_number(3, 2, 1))\n",
    "print(find_min_number(2, 3, 1))\n",
    "print(find_min_number(2, 1, 3))"
   ]
  },
  {
   "cell_type": "code",
   "execution_count": null,
   "metadata": {},
   "outputs": [],
   "source": [
    "def find_min_number(a, b, c):\n",
    "    min_number = 0\n",
    "    if a < b:\n",
    "        min_number = a\n",
    "    else:\n",
    "        min_number = b\n",
    "    if min_number > c:\n",
    "        min_number = c\n",
    "    return min_number\n"
   ]
  },
  {
   "cell_type": "code",
   "execution_count": null,
   "metadata": {},
   "outputs": [],
   "source": []
  },
  {
   "cell_type": "code",
   "execution_count": 23,
   "metadata": {},
   "outputs": [
    {
     "name": "stdout",
     "output_type": "stream",
     "text": [
      "3\n",
      "3\n",
      "-9\n",
      "3\n",
      "3\n",
      "3\n",
      "3\n"
     ]
    }
   ],
   "source": [
    "# Усложним предыдущую задачу.\n",
    "\n",
    "# Напишите функцию sum_min_numbers(), которая также принимает три числа на вход \n",
    "# и возвращает сумму двух наименьших.\n",
    "\n",
    "# Можно использовать функцию из предыдущего задания для поиска минимального числа.\n",
    "\n",
    "def find_min_number(a, b, c):\n",
    "    min = a\n",
    "    if b < a:\n",
    "        min = b\n",
    "    if min > c:\n",
    "        min = c\n",
    "    return min\n",
    "  \n",
    "def sum_min_numbers(a, b, c):\n",
    "    min = find_min_number(a, b, c)\n",
    "    number_list = [a, b, c]\n",
    "    number_list.remove(min)\n",
    "    if number_list[0] < number_list[1]:\n",
    "        min_sum = min + number_list[0]\n",
    "    else:\n",
    "        min_sum = min + number_list[1]\n",
    "    return min_sum\n",
    "\n",
    "print(sum_min_numbers(1, 3, 2))\n",
    "print(sum_min_numbers(1, 2, 3))\n",
    "print(sum_min_numbers(1, 2, -10))\n",
    "print(sum_min_numbers(3, 1, 2))\n",
    "print(sum_min_numbers(3, 2, 1))\n",
    "print(sum_min_numbers(2, 3, 1))\n",
    "print(sum_min_numbers(2, 1, 3))"
   ]
  },
  {
   "cell_type": "code",
   "execution_count": null,
   "metadata": {},
   "outputs": [],
   "source": []
  },
  {
   "cell_type": "code",
   "execution_count": 24,
   "metadata": {},
   "outputs": [
    {
     "name": "stdout",
     "output_type": "stream",
     "text": [
      "False\n",
      "True\n"
     ]
    }
   ],
   "source": [
    "# Напишите функцию is_divided_by_six(), которая проверяет, делится ли число на шесть. \n",
    "# При решении воспользуйтесь тернарным оператором!\n",
    "\n",
    "# Функция должна вернуть True, если число делится на шесть или False в обратном случае.\n",
    "\n",
    "# Подсказка: число делится на шесть, если оно делится на 2 и на 3\n",
    "\n",
    "def is_divided_by_six(number):\n",
    "    is_divided_by_six = True if number % 2 == 0 and number % 3 == 0 else False\n",
    "    return is_divided_by_six\n",
    "\n",
    "print(is_divided_by_six(13))\n",
    "print(is_divided_by_six(12))\n"
   ]
  },
  {
   "cell_type": "code",
   "execution_count": 27,
   "metadata": {},
   "outputs": [
    {
     "name": "stdout",
     "output_type": "stream",
     "text": [
      "0\n",
      "1\n",
      "-1\n"
     ]
    }
   ],
   "source": [
    "# Напишите функцию check_number_sign(), которая возвращает 1, если число положительное, \n",
    "# -1, если число отрицательное, 0, если число - 0.\n",
    "\n",
    "# Используйте в коде конструкцию if-elif-else.\n",
    "\n",
    "# Функция принимает на вход одно число.\n",
    "\n",
    "def check_number_sign(x):\n",
    "    if x <0:\n",
    "        return -1\n",
    "    elif x > 0:\n",
    "        return 1\n",
    "    else:\n",
    "        return 0\n",
    "\n",
    "\n",
    "print(check_number_sign(0))\n",
    "print(check_number_sign(100))\n",
    "print(check_number_sign(-1))\n"
   ]
  },
  {
   "cell_type": "code",
   "execution_count": 28,
   "metadata": {},
   "outputs": [
    {
     "name": "stdout",
     "output_type": "stream",
     "text": [
      "Cannot devide by zero\n",
      "None\n",
      "1.0\n"
     ]
    }
   ],
   "source": [
    "# Напишите функцию def division(), которая осуществляет деление двух чисел. \n",
    "# Необходимо реализовать внутри функции отлов исключения ZeroDivisionError, \n",
    "# в случае, если пользователь, при вызове функции, пытается поделить на ноль.\n",
    "\n",
    "# Функция принимает на вход два числа - делимое и делитель.\n",
    "\n",
    "def division(a, b):\n",
    "    try:\n",
    "        result = a / b\n",
    "    except ZeroDivisionError:\n",
    "        print('Cannot devide by zero')\n",
    "        return\n",
    "    return result\n",
    "\n",
    "print(division(1, 0))\n",
    "print(division(1, 1))\n"
   ]
  },
  {
   "cell_type": "code",
   "execution_count": null,
   "metadata": {},
   "outputs": [],
   "source": [
    "# Напишите функцию lucky_ticket(), которая проверяет, является ли билетик счастливым.\n",
    "\n",
    "# Памятка: билетик счастливый, если сумма первых трех цифр равна сумме последних трех цифр.\n",
    "\n",
    "# На вход функция получает шестизначное число.\n",
    "\n",
    "def lucky_ticket(ticket_number):\n",
    "    ticket_number\n",
    "    return ???\n",
    "\n",
    "print(lucky_ticket(111111))\n",
    "print(lucky_ticket(123456))\n"
   ]
  },
  {
   "cell_type": "code",
   "execution_count": 31,
   "metadata": {},
   "outputs": [
    {
     "name": "stdout",
     "output_type": "stream",
     "text": [
      "True\n",
      "False\n"
     ]
    }
   ],
   "source": [
    "\n",
    "def lucky_ticket(ticket_number):\n",
    "    first = str(ticket_number // 1000)\n",
    "    last = str(ticket_number % 1000)\n",
    "    sum1 = 0\n",
    "    sum2 = 0\n",
    "    for i in first:\n",
    "        sum1 += int(i)\n",
    "    for i in last:\n",
    "        sum2 += int(i)\n",
    "    if sum1 == sum2:\n",
    "        return True\n",
    "    else:\n",
    "        return False\n",
    "\n",
    "\n",
    "print(lucky_ticket(111111))\n",
    "print(lucky_ticket(123456))"
   ]
  },
  {
   "cell_type": "code",
   "execution_count": 37,
   "metadata": {},
   "outputs": [
    {
     "name": "stdout",
     "output_type": "stream",
     "text": [
      "0\n",
      "1\n",
      "1\n",
      "2\n",
      "3\n",
      "5\n",
      "8\n",
      "13\n",
      "21\n"
     ]
    }
   ],
   "source": [
    "# Числа Фибоначчи. \n",
    "\n",
    "# Напишите функцию def fib_number(), которая получается на вход некоторое \n",
    "# число n и выводит n-e число Фибоначчи. \n",
    "# Задачу можно решить как с помощью цикла for, так и с помощью цикла while\n",
    "\n",
    "# Примечание: числа Фибоначчи определяются так\n",
    "\n",
    "\n",
    "# ```\n",
    "# a0 = 0, a1 = 1, a2 = a1 + a0 = 1, an = a_n-1 + a_n-2\n",
    "# ```\n",
    "\n",
    "# Примечание: в модуле по функциям уже было задание на вычисление чисел Фибоначчи \n",
    "# с помощью рекурсивных функций. Здесь необходимо реализовать те же вычисления, \n",
    "# но без использования рекурсии.\n",
    "\n",
    "def fib_number(n):\n",
    "    res = 0\n",
    "    a1 = 0\n",
    "    a2 = 1\n",
    "    if n == 0:\n",
    "        return a1\n",
    "    if n == 1:\n",
    "        return a2\n",
    "    count = 2\n",
    "    while count <=n:\n",
    "        res = a1 + a2\n",
    "        a1 = a2\n",
    "        a2 = res\n",
    "        count +=1\n",
    "    return res\n",
    "   \n",
    "\n",
    "print(fib_number(0))\n",
    "print(fib_number(1))\n",
    "print(fib_number(2))\n",
    "print(fib_number(3))\n",
    "print(fib_number(4))\n",
    "print(fib_number(5))\n",
    "print(fib_number(6))\n",
    "print(fib_number(7))\n",
    "print(fib_number(8))\n",
    "\n"
   ]
  },
  {
   "cell_type": "code",
   "execution_count": 41,
   "metadata": {},
   "outputs": [
    {
     "name": "stdout",
     "output_type": "stream",
     "text": [
      "5\n"
     ]
    }
   ],
   "source": [
    "# Напишите функцию def even_numbers_in_matrix(), \n",
    "# которая получает на вход матрицу (список из списков) \n",
    "# и возвращает количество четных чисел в ней.\n",
    "\n",
    "matrix_example = [\n",
    "          [1, 5, 4],\n",
    "          [4, 2, -2],\n",
    "          [7, 65, 88]\n",
    "]\n",
    "\n",
    "def even_numbers_in_matrix(matrix):\n",
    "    count = 0\n",
    "    for row in matrix:\n",
    "        for element in row:\n",
    "            if element % 2 == 0:\n",
    "                count+=1\n",
    "    return count\n",
    "\n",
    "print(even_numbers_in_matrix(matrix_example))\n"
   ]
  },
  {
   "cell_type": "code",
   "execution_count": 4,
   "metadata": {},
   "outputs": [
    {
     "name": "stdout",
     "output_type": "stream",
     "text": [
      "[[2, 10, 8], [8, 4, -4], [14, 130, 176]]\n"
     ]
    }
   ],
   "source": [
    "# Напишите функцию def matrix_sum(), которая получает на вход две матрицы \n",
    "# и возвращает их сумму.\n",
    "\n",
    "# Примечание: чтобы найти сумму двух матриц, нужно просуммировать \n",
    "# их соответствующие элементы. Но перед этим необходимо проверить, что размеры \n",
    "# матриц одинаковы (одинаковое количество столбцов и одинаковое количество строк)\n",
    "\n",
    "# Например:\n",
    "\n",
    "# 1 2 3   2 3 4   3 5 7\n",
    "# 2 3 4 + 4 5 6 = 6 8 10\n",
    "# 5 6 7   4 3 2   9 9 9\n",
    "\n",
    "matrix_example = [\n",
    "          [1, 5, 4],\n",
    "          [4, 2, -2],\n",
    "          [7, 65, 88]\n",
    "]\n",
    "\n",
    "def matrix_sum(matrix1, matrix2):\n",
    "    if len(matrix1)!= len(matrix2) or len(matrix1[0])!=len(matrix2[0]):\n",
    "        print(\"Matrices don't match\")\n",
    "        return\n",
    "    \n",
    "    m_lines = len(matrix1)\n",
    "    m_rows = len(matrix1[0])\n",
    "    \n",
    "    total = []\n",
    "    for i in range(m_lines):\n",
    "        line=[]\n",
    "        for j in range(m_rows):\n",
    "            line.append(matrix1[i][j]+matrix2[i][j])\n",
    "        total.append(line)    \n",
    "    return total\n",
    "\n",
    "print(matrix_sum(matrix_example, matrix_example))\n",
    "\n"
   ]
  },
  {
   "cell_type": "code",
   "execution_count": null,
   "metadata": {},
   "outputs": [],
   "source": [
    "\n",
    "\n",
    "Задание 4.8 (на самопроверку)\n",
    "\n",
    "Реализуйте программу, которая сжимает последовательность символов. На вход подаётся последовательность вида:\n",
    "\n",
    "aaabbccccdaa\n",
    "\n",
    "Необходимо вывести строку, состоящую из символов и количества повторений этого символа. Вывод должен выглядеть как:\n",
    "\n",
    "a3b2c4d1a2\n",
    "\n"
   ]
  },
  {
   "cell_type": "code",
   "execution_count": null,
   "metadata": {},
   "outputs": [],
   "source": [
    "line = 'aaabbccccdaa'\n",
    "new_line = ''\n",
    "\n",
    "for i in line:\n",
    "    count = 1\n",
    "    if line[i-1:i] == line [i:i+1]:\n",
    "        count +=1\n",
    "        new_line +="
   ]
  },
  {
   "cell_type": "code",
   "execution_count": null,
   "metadata": {},
   "outputs": [],
   "source": [
    "str_example = 'aaabbccccdaa'\n",
    "first_symbol = str_example[0]\n",
    "count = 0\n",
    "new_str = ''\n",
    "for symbol in str_example:\n",
    "    if symbol == first_symbol:\n",
    "        count += 1\n",
    "    else:\n",
    "        new_str += first_symbol + str(count)\n",
    "        first_symbol = symbol\n",
    "        count = 1\n",
    "\n",
    "new_str += first_symbol + str(count)\n",
    "print(new_str)"
   ]
  },
  {
   "cell_type": "code",
   "execution_count": 7,
   "metadata": {},
   "outputs": [
    {
     "name": "stdout",
     "output_type": "stream",
     "text": [
      "a3b2c4d1a2\n"
     ]
    }
   ],
   "source": [
    "line = 'aaabbccccdaa'\n",
    "first_symbol = line[0]\n",
    "count = 0\n",
    "new_line = ''\n",
    "\n",
    "for symbol in line:\n",
    "    if symbol == first_symbol:\n",
    "        count +=1\n",
    "    else:\n",
    "        new_line += first_symbol + str(count)\n",
    "        first_symbol = symbol\n",
    "        count =1\n",
    "\n",
    "new_line += first_symbol + str(count)\n",
    "print(new_line)"
   ]
  },
  {
   "cell_type": "markdown",
   "metadata": {},
   "source": [
    "Задание 5.4 (на самопроверку)\n",
    "\n",
    "Напишите функцию def distance_between_dots().\n",
    "\n",
    "Функция должна получать на вход координаты двух точек (в виде четырёх чисел) и возвращать расстояние между ними.\n",
    "\n",
    "Чтобы посчитать расстояние между точками, нужно воспользоваться формулой:\n",
    "\n",
    "Не забудьте проверить значения полученных аргументов!"
   ]
  },
  {
   "cell_type": "code",
   "execution_count": 5,
   "metadata": {},
   "outputs": [
    {
     "name": "stdout",
     "output_type": "stream",
     "text": [
      "3.16\n",
      "Arguments are not numbers\n",
      "None\n"
     ]
    }
   ],
   "source": [
    "def distance_between_dots(x1, y1, x2, y2):\n",
    "    try:\n",
    "        coordinates = [x1, y1, x2, y2]\n",
    "        for c in coordinates:\n",
    "            if (type(c) is not int) and (type(c) is not float):\n",
    "                raise ValueError\n",
    "    except ValueError:\n",
    "        print('Arguments are not numbers')\n",
    "        return\n",
    "    distance = ((x1-x2)**2+(y1+y2)**2 )**(1/2)\n",
    "    return distance\n",
    "\n",
    "print(round(distance_between_dots(1, 1, 2, 2),2))\n",
    "print(distance_between_dots(\"a\", 1, 2, 3))"
   ]
  },
  {
   "cell_type": "code",
   "execution_count": null,
   "metadata": {},
   "outputs": [],
   "source": [
    "def distance_between_dots(x1, y1, x2, y2):\n",
    "    try:\n",
    "        coordinates = [x1, y1, x2, y2]\n",
    "        for c in coordinates:\n",
    "            if (type(c) is not int) and (type(c) is not float):\n",
    "                raise ValueError\n",
    "    except ValueError:\n",
    "        print(\"Arguments are not numbers!\")\n",
    "        return\n",
    "    distance = ((x1 - x2) ** 2 + (y1 - y2) ** 2) ** (1 / 2)\n",
    "    return distance\n",
    "\n",
    "print(distance_between_dots(1, 1, 2, 2))\n",
    "print(distance_between_dots(\"a\", 1, 2, 3))"
   ]
  },
  {
   "cell_type": "markdown",
   "metadata": {},
   "source": [
    "Напишите функцию, которая вычисляет среднее арифметическое значений списка.\n",
    "\n",
    "Примечание: среднее арифметическое считается как сумма всех чисел, делённая на их количество.\n",
    "\n",
    "Не забудьте проверить значение полученного аргумента!"
   ]
  },
  {
   "cell_type": "code",
   "execution_count": 9,
   "metadata": {},
   "outputs": [
    {
     "name": "stdout",
     "output_type": "stream",
     "text": [
      "2.0\n",
      "You should pass list to this function\n",
      "None\n",
      "List should contain only numbers\n",
      "None\n"
     ]
    }
   ],
   "source": [
    "def calculate_average(number_list):\n",
    "    try:\n",
    "        if type(number_list) is not list:\n",
    "            raise ValueError (\"You should pass list to this function\")\n",
    "    except ValueError as err:\n",
    "        print(err)\n",
    "        return\n",
    "    try:\n",
    "        average = sum(number_list) / len(number_list)\n",
    "    except TypeError:\n",
    "        print('List should contain only numbers')\n",
    "        return\n",
    "    return average\n",
    "\n",
    "print(calculate_average([1, 2, 3]))\n",
    "print(calculate_average(1))\n",
    "print(calculate_average([\"a\", 1]))\n",
    "    "
   ]
  },
  {
   "cell_type": "code",
   "execution_count": 12,
   "metadata": {},
   "outputs": [
    {
     "name": "stdout",
     "output_type": "stream",
     "text": [
      "2.0\n"
     ]
    }
   ],
   "source": [
    "calculate_average = lambda number_list: sum (number_list) / len(number_list)\n",
    "print(calculate_average([1, 2, 3]))"
   ]
  },
  {
   "cell_type": "code",
   "execution_count": 8,
   "metadata": {},
   "outputs": [
    {
     "name": "stdout",
     "output_type": "stream",
     "text": [
      "2.0\n",
      "You should pass list to this function!\n",
      "None\n",
      "List should contain numbers!\n",
      "None\n"
     ]
    }
   ],
   "source": [
    "def calculate_average(number_list):\n",
    "    try:\n",
    "        if type(number_list) is not list:\n",
    "            raise ValueError(\"You should pass list to this function!\")\n",
    "    except ValueError as err:\n",
    "        print(err)\n",
    "        return\n",
    "    try:\n",
    "        average = sum(number_list) / len(number_list)\n",
    "    except TypeError:\n",
    "        print(\"List should contain numbers!\")\n",
    "        return\n",
    "    return average\n",
    "\n",
    "print(calculate_average([1, 2, 3]))\n",
    "print(calculate_average(1))\n",
    "print(calculate_average([\"a\", 1]))\n",
    "    "
   ]
  },
  {
   "cell_type": "markdown",
   "metadata": {},
   "source": [
    "Перепишите функцию из предыдущей задачи (5.5) в виде lambda-функции."
   ]
  },
  {
   "cell_type": "code",
   "execution_count": 22,
   "metadata": {},
   "outputs": [
    {
     "name": "stdout",
     "output_type": "stream",
     "text": [
      "2.0\n"
     ]
    }
   ],
   "source": [
    "calculate_average = lambda number_list: sum(number_list) / len(number_list)\n",
    "\n",
    "print(calculate_average([1, 2, 3]))"
   ]
  },
  {
   "cell_type": "markdown",
   "metadata": {},
   "source": [
    "Напишите функцию, которая принимает на вход строку и подсчитывает в ней количество слов начинающихся на каждую букву алфавита. Возвращать функция должна словарь следующего вида:\n",
    "\n",
    "{'a': 10, 'b': 3, 'c': 0, ...}\n",
    "\n",
    "Для задания словаря используйте строку с алфавитом:\n",
    "\n",
    "alphabet_str = 'abcdefghijklmnopqrstuvwxyz'\n",
    "\n",
    "Словарь с буквами создайте с помощью генератора.\n",
    "\n",
    "Не забудьте, что слова в предложении могут начинаться с большой буквы!"
   ]
  },
  {
   "cell_type": "code",
   "execution_count": null,
   "metadata": {},
   "outputs": [],
   "source": [
    "\n",
    "\n",
    "def count_words(sentence_str):\n",
    "    alphabet_str = 'abcdefghijklmnopqrstuvwxyz'\n",
    "    letters_dict = {letter: 0 for letter in alphabet_str}\n",
    "    \n",
    "    words_list = sentence_str.lower().split()\n",
    "    for word in words_list:\n",
    "        letters_dict[word[0]] += 1\n",
    "    return letters_dict"
   ]
  },
  {
   "cell_type": "code",
   "execution_count": null,
   "metadata": {},
   "outputs": [],
   "source": []
  },
  {
   "cell_type": "code",
   "execution_count": 29,
   "metadata": {},
   "outputs": [
    {
     "name": "stdout",
     "output_type": "stream",
     "text": [
      "{'a': 4, 'b': 1, 'c': 1, 'd': 0, 'e': 1, 'f': 4, 'g': 3, 'h': 0, 'i': 3, 'j': 0, 'k': 0, 'l': 0, 'm': 0, 'n': 6, 'o': 2, 'p': 0, 'q': 0, 'r': 5, 's': 1, 't': 11, 'u': 0, 'v': 0, 'w': 0, 'y': 0, 'z': 0}\n"
     ]
    }
   ],
   "source": [
    "def count_words(sentence_str):\n",
    "    alphabet_str = \"abcdefghijklmnopqrstuvwqyz\"\n",
    "    letters_dict = {letter: 0 for letter in alphabet_str} #создаем словарь\n",
    "    # ключ - буква из строки алфабет_стр, значение 0 \n",
    "    \n",
    "    words_list = sentence_str.lower().split() # разделяем строку на список слов с прописных букв\n",
    "    for word in words_list: # для каждонр слова из списка слов       \n",
    "        letters_dict[word[0]] += 1 # находим по ключу (первая буква слова из списка) и задаём значение ключа +1 от нынешнего\n",
    "        \n",
    "    return letters_dict\n",
    "\n",
    "str_example = \"Fibonacci numbers are strongly related to the golden ratio: Binet's formula expresses the nth Fibonacci number in terms of n and the golden ratio, and implies that the ratio of two consecutive Fibonacci numbers tends to the golden ratio as n increases.\"\n",
    "print(count_words(str_example))"
   ]
  },
  {
   "cell_type": "markdown",
   "metadata": {},
   "source": [
    "Вспомним декораторы.\n",
    "\n",
    "Дан список пользователей:\n",
    "\n",
    "users_list = ['admin', 'ivan', 'ivan_ivan']\n",
    "\n",
    "Напишите декоратор, который запрашивает имя пользователя и проверяет, есть ли оно в списке пользователей. Если да, то мы можем выполнить следующую нашу функцию:\n",
    "\n",
    "def get_data_from_database():\n",
    "    print(\"Super secure data from database\")\n",
    "\n",
    "Если пользователя нет в списке, нужно вывести об этом сообщение и пропустить выполнение функции get_data_from_database()."
   ]
  },
  {
   "cell_type": "code",
   "execution_count": null,
   "metadata": {},
   "outputs": [],
   "source": [
    "users_list = [\"admin\", \"ivan\", \"ivan_ivan\"]\n",
    "\n",
    "def user_auth(func):\n",
    "    def wrapper():\n",
    "        user = input(\"Enter username: \")\n",
    "        if user in users_list:\n",
    "            print(\"User authed\")\n",
    "            func()\n",
    "        else:\n",
    "            print(\"Unknown user!\")\n",
    "\n",
    "    return wrapper\n",
    "\n",
    "\n",
    "@user_auth\n",
    "def get_data_from_database():\n",
    "    print(\"Super secure data from database\")\n",
    "\n",
    "get_data_from_database()"
   ]
  },
  {
   "cell_type": "code",
   "execution_count": null,
   "metadata": {},
   "outputs": [],
   "source": []
  },
  {
   "cell_type": "code",
   "execution_count": null,
   "metadata": {},
   "outputs": [],
   "source": []
  }
 ],
 "metadata": {
  "kernelspec": {
   "display_name": "Python 3",
   "language": "python",
   "name": "python3"
  },
  "language_info": {
   "codemirror_mode": {
    "name": "ipython",
    "version": 3
   },
   "file_extension": ".py",
   "mimetype": "text/x-python",
   "name": "python",
   "nbconvert_exporter": "python",
   "pygments_lexer": "ipython3",
   "version": "3.8.3"
  }
 },
 "nbformat": 4,
 "nbformat_minor": 4
}
