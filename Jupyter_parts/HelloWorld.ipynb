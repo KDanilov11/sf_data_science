{
 "cells": [
  {
   "cell_type": "code",
   "execution_count": 1,
   "metadata": {},
   "outputs": [
    {
     "name": "stdout",
     "output_type": "stream",
     "text": [
      "Hello, world!\n"
     ]
    }
   ],
   "source": [
    "print (\"Hello, world!\")"
   ]
  },
  {
   "cell_type": "code",
   "execution_count": 2,
   "metadata": {},
   "outputs": [
    {
     "name": "stdout",
     "output_type": "stream",
     "text": [
      "Hello World!\n"
     ]
    }
   ],
   "source": [
    "print (\"Hello\", \"World!\")"
   ]
  },
  {
   "cell_type": "markdown",
   "metadata": {},
   "source": [
    "В первом случае у функции принт 1 аргумент, во втором два"
   ]
  },
  {
   "cell_type": "code",
   "execution_count": 4,
   "metadata": {},
   "outputs": [
    {
     "data": {
      "application/json": {
       "cell": {
        "!": "OSMagics",
        "HTML": "Other",
        "SVG": "Other",
        "bash": "Other",
        "capture": "ExecutionMagics",
        "cmd": "Other",
        "debug": "ExecutionMagics",
        "file": "Other",
        "html": "DisplayMagics",
        "javascript": "DisplayMagics",
        "js": "DisplayMagics",
        "latex": "DisplayMagics",
        "markdown": "DisplayMagics",
        "perl": "Other",
        "prun": "ExecutionMagics",
        "pypy": "Other",
        "python": "Other",
        "python2": "Other",
        "python3": "Other",
        "ruby": "Other",
        "script": "ScriptMagics",
        "sh": "Other",
        "svg": "DisplayMagics",
        "sx": "OSMagics",
        "system": "OSMagics",
        "time": "ExecutionMagics",
        "timeit": "ExecutionMagics",
        "writefile": "OSMagics"
       },
       "line": {
        "alias": "OSMagics",
        "alias_magic": "BasicMagics",
        "autoawait": "AsyncMagics",
        "autocall": "AutoMagics",
        "automagic": "AutoMagics",
        "autosave": "KernelMagics",
        "bookmark": "OSMagics",
        "cd": "OSMagics",
        "clear": "KernelMagics",
        "cls": "KernelMagics",
        "colors": "BasicMagics",
        "conda": "PackagingMagics",
        "config": "ConfigMagics",
        "connect_info": "KernelMagics",
        "copy": "Other",
        "ddir": "Other",
        "debug": "ExecutionMagics",
        "dhist": "OSMagics",
        "dirs": "OSMagics",
        "doctest_mode": "BasicMagics",
        "echo": "Other",
        "ed": "Other",
        "edit": "KernelMagics",
        "env": "OSMagics",
        "gui": "BasicMagics",
        "hist": "Other",
        "history": "HistoryMagics",
        "killbgscripts": "ScriptMagics",
        "ldir": "Other",
        "less": "KernelMagics",
        "load": "CodeMagics",
        "load_ext": "ExtensionMagics",
        "loadpy": "CodeMagics",
        "logoff": "LoggingMagics",
        "logon": "LoggingMagics",
        "logstart": "LoggingMagics",
        "logstate": "LoggingMagics",
        "logstop": "LoggingMagics",
        "ls": "Other",
        "lsmagic": "BasicMagics",
        "macro": "ExecutionMagics",
        "magic": "BasicMagics",
        "matplotlib": "PylabMagics",
        "mkdir": "Other",
        "more": "KernelMagics",
        "notebook": "BasicMagics",
        "page": "BasicMagics",
        "pastebin": "CodeMagics",
        "pdb": "ExecutionMagics",
        "pdef": "NamespaceMagics",
        "pdoc": "NamespaceMagics",
        "pfile": "NamespaceMagics",
        "pinfo": "NamespaceMagics",
        "pinfo2": "NamespaceMagics",
        "pip": "PackagingMagics",
        "popd": "OSMagics",
        "pprint": "BasicMagics",
        "precision": "BasicMagics",
        "prun": "ExecutionMagics",
        "psearch": "NamespaceMagics",
        "psource": "NamespaceMagics",
        "pushd": "OSMagics",
        "pwd": "OSMagics",
        "pycat": "OSMagics",
        "pylab": "PylabMagics",
        "qtconsole": "KernelMagics",
        "quickref": "BasicMagics",
        "recall": "HistoryMagics",
        "rehashx": "OSMagics",
        "reload_ext": "ExtensionMagics",
        "ren": "Other",
        "rep": "Other",
        "rerun": "HistoryMagics",
        "reset": "NamespaceMagics",
        "reset_selective": "NamespaceMagics",
        "rmdir": "Other",
        "run": "ExecutionMagics",
        "save": "CodeMagics",
        "sc": "OSMagics",
        "set_env": "OSMagics",
        "store": "StoreMagics",
        "sx": "OSMagics",
        "system": "OSMagics",
        "tb": "ExecutionMagics",
        "time": "ExecutionMagics",
        "timeit": "ExecutionMagics",
        "unalias": "OSMagics",
        "unload_ext": "ExtensionMagics",
        "who": "NamespaceMagics",
        "who_ls": "NamespaceMagics",
        "whos": "NamespaceMagics",
        "xdel": "NamespaceMagics",
        "xmode": "BasicMagics"
       }
      },
      "text/plain": [
       "Available line magics:\n",
       "%alias  %alias_magic  %autoawait  %autocall  %automagic  %autosave  %bookmark  %cd  %clear  %cls  %colors  %conda  %config  %connect_info  %copy  %ddir  %debug  %dhist  %dirs  %doctest_mode  %echo  %ed  %edit  %env  %gui  %hist  %history  %killbgscripts  %ldir  %less  %load  %load_ext  %loadpy  %logoff  %logon  %logstart  %logstate  %logstop  %ls  %lsmagic  %macro  %magic  %matplotlib  %mkdir  %more  %notebook  %page  %pastebin  %pdb  %pdef  %pdoc  %pfile  %pinfo  %pinfo2  %pip  %popd  %pprint  %precision  %prun  %psearch  %psource  %pushd  %pwd  %pycat  %pylab  %qtconsole  %quickref  %recall  %rehashx  %reload_ext  %ren  %rep  %rerun  %reset  %reset_selective  %rmdir  %run  %save  %sc  %set_env  %store  %sx  %system  %tb  %time  %timeit  %unalias  %unload_ext  %who  %who_ls  %whos  %xdel  %xmode\n",
       "\n",
       "Available cell magics:\n",
       "%%!  %%HTML  %%SVG  %%bash  %%capture  %%cmd  %%debug  %%file  %%html  %%javascript  %%js  %%latex  %%markdown  %%perl  %%prun  %%pypy  %%python  %%python2  %%python3  %%ruby  %%script  %%sh  %%svg  %%sx  %%system  %%time  %%timeit  %%writefile\n",
       "\n",
       "Automagic is ON, % prefix IS NOT needed for line magics."
      ]
     },
     "execution_count": 4,
     "metadata": {},
     "output_type": "execute_result"
    }
   ],
   "source": [
    "%lsmagic"
   ]
  },
  {
   "cell_type": "code",
   "execution_count": 1,
   "metadata": {},
   "outputs": [
    {
     "data": {
      "text/plain": [
       "2.0"
      ]
     },
     "execution_count": 1,
     "metadata": {},
     "output_type": "execute_result"
    }
   ],
   "source": [
    "4 ** (1/2)"
   ]
  },
  {
   "cell_type": "code",
   "execution_count": 18,
   "metadata": {},
   "outputs": [],
   "source": [
    "agent_name = 7.0"
   ]
  },
  {
   "cell_type": "code",
   "execution_count": 19,
   "metadata": {},
   "outputs": [
    {
     "data": {
      "text/plain": [
       "float"
      ]
     },
     "execution_count": 19,
     "metadata": {},
     "output_type": "execute_result"
    }
   ],
   "source": [
    "type(agent_name)"
   ]
  },
  {
   "cell_type": "code",
   "execution_count": 25,
   "metadata": {},
   "outputs": [
    {
     "name": "stdout",
     "output_type": "stream",
     "text": [
      "0\n"
     ]
    },
    {
     "data": {
      "text/plain": [
       "int"
      ]
     },
     "execution_count": 25,
     "metadata": {},
     "output_type": "execute_result"
    }
   ],
   "source": [
    "agent_name=int()\n",
    "print(agent_name)\n",
    "type(agent_name)"
   ]
  },
  {
   "cell_type": "code",
   "execution_count": 4,
   "metadata": {},
   "outputs": [
    {
     "data": {
      "text/plain": [
       "1"
      ]
     },
     "execution_count": 4,
     "metadata": {},
     "output_type": "execute_result"
    }
   ],
   "source": [
    "5%2"
   ]
  },
  {
   "cell_type": "code",
   "execution_count": 5,
   "metadata": {},
   "outputs": [
    {
     "data": {
      "text/plain": [
       "20.0"
      ]
     },
     "execution_count": 5,
     "metadata": {},
     "output_type": "execute_result"
    }
   ],
   "source": [
    "(25-20)*(67+33)/25"
   ]
  },
  {
   "cell_type": "code",
   "execution_count": 7,
   "metadata": {},
   "outputs": [
    {
     "data": {
      "text/plain": [
       "float"
      ]
     },
     "execution_count": 7,
     "metadata": {},
     "output_type": "execute_result"
    }
   ],
   "source": [
    "str(int(float('2.4')))\n",
    "type(4**(1/2))"
   ]
  },
  {
   "cell_type": "code",
   "execution_count": 13,
   "metadata": {},
   "outputs": [
    {
     "data": {
      "text/plain": [
       "-4251528.0"
      ]
     },
     "execution_count": 13,
     "metadata": {},
     "output_type": "execute_result"
    }
   ],
   "source": [
    "((((9**(1/2))**3)**2)**2)/((-2)**-3)"
   ]
  },
  {
   "cell_type": "code",
   "execution_count": null,
   "metadata": {},
   "outputs": [],
   "source": [
    "a = float(input('Введите основание степени: \\n'))\n",
    "b = float(input('Введите показатель степени: \\n'))\n",
    "# В функции print() можно в качестве аргументов \n",
    "# перечислять через запятую все нужные для вывода данные\n",
    "print('Полученное число:', a**b) "
   ]
  },
  {
   "cell_type": "code",
   "execution_count": null,
   "metadata": {},
   "outputs": [],
   "source": [
    "x = float(input('x= '))\n",
    "print('f(x)=6.996 + 45-(x/2)**2+2*x')\n",
    "print(6.996 + 45-(x/2)**2+2*x)"
   ]
  },
  {
   "cell_type": "code",
   "execution_count": 2,
   "metadata": {},
   "outputs": [
    {
     "name": "stdout",
     "output_type": "stream",
     "text": [
      "x= 100500\n",
      "f(x)=6.996 + 45-(x/2)**2+2*x\n",
      "113628013506.996\n"
     ]
    }
   ],
   "source": [
    "x = float(input('x= '))\n",
    "print('f(x)=6.996 + 45*(x/2)**2+2*x')\n",
    "print(6.996 + 45*(x/2)**2+2*x)"
   ]
  },
  {
   "cell_type": "code",
   "execution_count": 4,
   "metadata": {},
   "outputs": [
    {
     "name": "stdout",
     "output_type": "stream",
     "text": [
      "Bodymass Index\n",
      "enter your weight in kg 60\n",
      "Enter your height in meters 1.73\n",
      "Your body mass index is\n",
      "20.04744562130375\n"
     ]
    }
   ],
   "source": [
    "print('Bodymass Index')\n",
    "weight = float(input('enter your weight in kg '))\n",
    "height = float(input('Enter your height in meters '))\n",
    "print ('Your body mass index is')\n",
    "print(weight/height**2)"
   ]
  },
  {
   "cell_type": "code",
   "execution_count": 5,
   "metadata": {},
   "outputs": [
    {
     "name": "stdout",
     "output_type": "stream",
     "text": [
      "ENter a 270\n",
      "Enter b 12.8\n",
      "5.209745039548078\n"
     ]
    }
   ],
   "source": [
    "a = float(input('ENter a '))\n",
    "b = float(input('Enter b '))\n",
    "print(((a+b)/2)**(1/3))"
   ]
  },
  {
   "cell_type": "code",
   "execution_count": 7,
   "metadata": {},
   "outputs": [
    {
     "name": "stdout",
     "output_type": "stream",
     "text": [
      "Enter natural number 5\n",
      "Вы ввели число, которое при умножении на 3 даёт 15\n"
     ]
    }
   ],
   "source": [
    "a = int(input('Enter natural number '))\n",
    "print('Вы ввели число, которое при умножении на 3 даёт', a*3)"
   ]
  },
  {
   "cell_type": "code",
   "execution_count": 10,
   "metadata": {},
   "outputs": [
    {
     "name": "stdout",
     "output_type": "stream",
     "text": [
      "Hello, world!\n",
      "Python <3\n",
      "qwerty\n",
      "8.88748820522211\n"
     ]
    }
   ],
   "source": [
    "string_1 = input()\n",
    "string_2 = input()\n",
    "string_3 = input()\n",
    "print( (len(string_1)*len(string_2)*len(string_3))**(1/3) )"
   ]
  },
  {
   "cell_type": "code",
   "execution_count": 16,
   "metadata": {},
   "outputs": [
    {
     "name": "stdout",
     "output_type": "stream",
     "text": [
      "govnojedi\n",
      "6\n",
      "govnojedi 9 531441\n"
     ]
    }
   ],
   "source": [
    "string = input()\n",
    "power = int(input())\n",
    "print(string, len(string), len(string)**power)"
   ]
  },
  {
   "cell_type": "code",
   "execution_count": 4,
   "metadata": {},
   "outputs": [
    {
     "name": "stdout",
     "output_type": "stream",
     "text": [
      "enter a word asd\n",
      "Это слово короткое.\n"
     ]
    }
   ],
   "source": [
    "word = input('enter a word ')\n",
    "if len(word)>7:\n",
    "    print(\"Это слово длинное.\")\n",
    "else:\n",
    "    print('Это слово короткое.')"
   ]
  },
  {
   "cell_type": "code",
   "execution_count": 11,
   "metadata": {},
   "outputs": [
    {
     "name": "stdout",
     "output_type": "stream",
     "text": [
      "введите слово as\n",
      "введите букву \n",
      "Выбранная буква есть в введённом слове\n"
     ]
    }
   ],
   "source": [
    "word = input('введите слово ')\n",
    "letter = input('введите букву ')\n",
    "if letter in word:\n",
    "    print(\"Выбранная буква есть в введённом слове\")\n",
    "else:\n",
    "    print(\"Выбранной буквы нет в введённом слове\")"
   ]
  },
  {
   "cell_type": "code",
   "execution_count": 19,
   "metadata": {},
   "outputs": [
    {
     "name": "stdout",
     "output_type": "stream",
     "text": [
      "Enter number \n"
     ]
    },
    {
     "ename": "ValueError",
     "evalue": "could not convert string to float: ''",
     "output_type": "error",
     "traceback": [
      "\u001b[1;31m---------------------------------------------------------------------------\u001b[0m",
      "\u001b[1;31mValueError\u001b[0m                                Traceback (most recent call last)",
      "\u001b[1;32m<ipython-input-19-f68875775d4c>\u001b[0m in \u001b[0;36m<module>\u001b[1;34m\u001b[0m\n\u001b[1;32m----> 1\u001b[1;33m \u001b[0mnumber\u001b[0m \u001b[1;33m=\u001b[0m \u001b[0mfloat\u001b[0m\u001b[1;33m(\u001b[0m\u001b[0minput\u001b[0m\u001b[1;33m(\u001b[0m\u001b[1;34m'Enter number '\u001b[0m\u001b[1;33m)\u001b[0m\u001b[1;33m)\u001b[0m\u001b[1;33m\u001b[0m\u001b[1;33m\u001b[0m\u001b[0m\n\u001b[0m\u001b[0;32m      2\u001b[0m \u001b[1;32mif\u001b[0m \u001b[0mnumber\u001b[0m\u001b[1;33m**\u001b[0m\u001b[1;33m(\u001b[0m\u001b[1;36m1\u001b[0m\u001b[1;33m/\u001b[0m\u001b[1;36m2\u001b[0m\u001b[1;33m)\u001b[0m\u001b[1;33m%\u001b[0m\u001b[1;36m1\u001b[0m\u001b[1;33m==\u001b[0m\u001b[1;36m0\u001b[0m\u001b[1;33m:\u001b[0m\u001b[1;33m\u001b[0m\u001b[1;33m\u001b[0m\u001b[0m\n\u001b[0;32m      3\u001b[0m     \u001b[0mprint\u001b[0m\u001b[1;33m(\u001b[0m\u001b[0mint\u001b[0m\u001b[1;33m(\u001b[0m\u001b[0mnumber\u001b[0m\u001b[1;33m**\u001b[0m\u001b[1;33m(\u001b[0m\u001b[1;36m1\u001b[0m\u001b[1;33m/\u001b[0m\u001b[1;36m2\u001b[0m\u001b[1;33m)\u001b[0m\u001b[1;33m)\u001b[0m\u001b[1;33m)\u001b[0m\u001b[1;33m\u001b[0m\u001b[1;33m\u001b[0m\u001b[0m\n\u001b[0;32m      4\u001b[0m \u001b[1;32melse\u001b[0m\u001b[1;33m:\u001b[0m\u001b[1;33m\u001b[0m\u001b[1;33m\u001b[0m\u001b[0m\n\u001b[0;32m      5\u001b[0m     \u001b[0mprint\u001b[0m\u001b[1;33m(\u001b[0m\u001b[1;34m\"Квадратный корень из\"\u001b[0m\u001b[1;33m,\u001b[0m\u001b[0mint\u001b[0m\u001b[1;33m(\u001b[0m\u001b[0mnumber\u001b[0m\u001b[1;33m)\u001b[0m\u001b[1;33m,\u001b[0m\u001b[1;34m\"- не целое число\"\u001b[0m\u001b[1;33m)\u001b[0m\u001b[1;33m\u001b[0m\u001b[1;33m\u001b[0m\u001b[0m\n",
      "\u001b[1;31mValueError\u001b[0m: could not convert string to float: ''"
     ]
    }
   ],
   "source": [
    "number = float(input('Enter number '))\n",
    "if number**(1/2)%1==0:\n",
    "    print(int(number**(1/2)))\n",
    "else:\n",
    "    print(\"Квадратный корень из\",int(number),\"- не целое число\") "
   ]
  },
  {
   "cell_type": "code",
   "execution_count": 28,
   "metadata": {},
   "outputs": [
    {
     "name": "stdout",
     "output_type": "stream",
     "text": [
      "9\n"
     ]
    }
   ],
   "source": [
    "number = int(input())"
   ]
  },
  {
   "cell_type": "code",
   "execution_count": 30,
   "metadata": {},
   "outputs": [
    {
     "name": "stdout",
     "output_type": "stream",
     "text": [
      "Wrong number\n"
     ]
    }
   ],
   "source": [
    "if number == 1:\n",
    "    print('понедельник')\n",
    "elif number == 2:\n",
    "    print('вторник')\n",
    "elif number == 3:\n",
    "    print('среда')\n",
    "elif number ==4:\n",
    "    print('четверг')\n",
    "elif number ==5:\n",
    "    print('пятница')\n",
    "elif number ==6:\n",
    "    print('суббота')\n",
    "elif number ==7:\n",
    "    print('воскресение')\n",
    "else:\n",
    "    print('Wrong number')"
   ]
  },
  {
   "cell_type": "code",
   "execution_count": 36,
   "metadata": {},
   "outputs": [
    {
     "name": "stdout",
     "output_type": "stream",
     "text": [
      "Bodymass Index\n",
      "enter your weight in kg 12\n",
      "Enter your height in meters 12\n",
      "Your body mass index is\n",
      "0.08333333333333333\n",
      "Недостаточная масса тела\n"
     ]
    }
   ],
   "source": [
    "print('Bodymass Index')\n",
    "weight = float(input('enter your weight in kg '))\n",
    "height = float(input('Enter your height in meters '))\n",
    "print ('Your body mass index is')\n",
    "print(weight/height**2)\n",
    "\n",
    "if (weight/height**2)<18.5:\n",
    "    print( \"Недостаточная масса тела\")\n",
    "elif (weight/height**2)>24.99:\n",
    "    print(\"Избыточная масса тела\")\n",
    "else:\n",
    "    print(\"Норма\")\n",
    "    "
   ]
  },
  {
   "cell_type": "code",
   "execution_count": 42,
   "metadata": {},
   "outputs": [
    {
     "name": "stdout",
     "output_type": "stream",
     "text": [
      "Enter mark 8\n",
      "отлично\n"
     ]
    }
   ],
   "source": [
    "# ocenka\n",
    "\n",
    "mark = int(input('Enter mark '))\n",
    "if mark < 4:\n",
    "    print('неудовлетворительно')\n",
    "elif mark <=5:\n",
    "    print('удовлетворительно')\n",
    "elif mark <= 7:\n",
    "    print('хорошо')\n",
    "else:\n",
    "    print('отлично')\n",
    "    "
   ]
  },
  {
   "cell_type": "code",
   "execution_count": 47,
   "metadata": {},
   "outputs": [
    {
     "name": "stdout",
     "output_type": "stream",
     "text": [
      "Enter your balance4646\n",
      "Эх, только фастфуд.\n"
     ]
    }
   ],
   "source": [
    "# restaurant\n",
    "\n",
    "balance = int(input('Enter your balance'))\n",
    "if balance > 5000:\n",
    "    print( \"Сегодня твой выбор - ресторан!\")\n",
    "elif balance >2500:\n",
    "    print(\"Эх, только фастфуд.\")\n",
    "else:\n",
    "    print(\"Придётся потерпеть!\")"
   ]
  },
  {
   "cell_type": "code",
   "execution_count": 51,
   "metadata": {},
   "outputs": [
    {
     "name": "stdout",
     "output_type": "stream",
     "text": [
      "Enter number7\n",
      "Число не делится ни на 2, ни на 3, ни на 5 без остатка!\n"
     ]
    }
   ],
   "source": [
    "number = int(input('Enter number'))\n",
    "\n",
    "if number%2 == 0:\n",
    "    print( \"Число делится на 2 без остатка.\")\n",
    "elif number%3 == 0:\n",
    "    print( \"Число делится на 3 без остатка.\")\n",
    "elif number%5 == 0:\n",
    "    print( \"Число делится на 5 без остатка.\")\n",
    "else:\n",
    "    print(\"Число не делится ни на 2, ни на 3, ни на 5 без остатка!\")"
   ]
  },
  {
   "cell_type": "code",
   "execution_count": 54,
   "metadata": {},
   "outputs": [
    {
     "name": "stdout",
     "output_type": "stream",
     "text": [
      "color белые\n",
      "flower a\n",
      "Аня не любит такие цветы\n"
     ]
    }
   ],
   "source": [
    "# flower\n",
    "\n",
    "color = input('color ')\n",
    "flower = input('flower ')\n",
    "if flower == \"розa\" and (color == \"синий\" or color == \"белый\"):\n",
    "    print (\"Ане понравятся эти цветы\")\n",
    "else:\n",
    "    print(\"Аня не любит такие цветы\")"
   ]
  },
  {
   "cell_type": "code",
   "execution_count": 58,
   "metadata": {},
   "outputs": [
    {
     "name": "stdout",
     "output_type": "stream",
     "text": [
      "Height cm 18\n",
      "Weight in kg 18\n",
      "Color 18\n",
      "Попробуем поискать ещё...\n"
     ]
    }
   ],
   "source": [
    "height = int(input('Height cm '))\n",
    "weight = int(input('Weight in kg '))\n",
    "color = input('Color ')\n",
    "\n",
    "if height > 170 and weight < 80 and color == 'красный':\n",
    "    print(\"Ваша половинка нашлась!\")\n",
    "else:\n",
    "    print(\"Попробуем поискать ещё...\")"
   ]
  },
  {
   "cell_type": "code",
   "execution_count": null,
   "metadata": {},
   "outputs": [],
   "source": [
    "number = int(input('Enter number'))\n",
    "if number%2==0 or number%5==0 or number%173==0 or number%821==0:\n",
    "    print(\"Вова, это нужное число\")\n",
    "else:\n",
    "    print(\"Вова, в этот раз ты не попал\")"
   ]
  },
  {
   "cell_type": "code",
   "execution_count": null,
   "metadata": {},
   "outputs": [],
   "source": []
  },
  {
   "cell_type": "code",
   "execution_count": 4,
   "metadata": {},
   "outputs": [
    {
     "name": "stdout",
     "output_type": "stream",
     "text": [
      "Enter your fav word: плюс\n",
      "C++\n"
     ]
    }
   ],
   "source": [
    "fav_word = input('Enter your fav word: ')\n",
    "\n",
    "if fav_word == \"рептилия\" or fav_word == \"питон\" or fav_word ==  \"змея\":\n",
    "    print('Python')\n",
    "elif fav_word == \"плюс\" or fav_word == \"плюсы\":\n",
    "    print('C++')\n",
    "elif fav_word==\"рубин\" or fav_word== \"кристалл\":\n",
    "    print('Ruby')\n",
    "else:\n",
    "    print('Python')"
   ]
  },
  {
   "cell_type": "code",
   "execution_count": 6,
   "metadata": {},
   "outputs": [
    {
     "name": "stdout",
     "output_type": "stream",
     "text": [
      "hour 13\n",
      "minute 15\n",
      "Преподаватель свободен.\n"
     ]
    }
   ],
   "source": [
    "#prepod\n",
    "hour = int(input('hour '))\n",
    "minute = int(input('minute '))\n",
    "\n",
    "if (hour ==10 and minute <30) or hour==12 or (hour >15 and hour < 18) or (hour ==13 and minute <40) or (hour ==19 and minute >30):\n",
    "        print(\"Преподаватель свободен.\")\n",
    "else:\n",
    "    print(\"Преподаватель занят.\")"
   ]
  },
  {
   "cell_type": "code",
   "execution_count": 12,
   "metadata": {},
   "outputs": [
    {
     "name": "stdout",
     "output_type": "stream",
     "text": [
      "2013 год невисокосный\n",
      "2014 год невисокосный\n",
      "2015 год невисокосный\n",
      "2016 год високосный\n",
      "2017 год невисокосный\n",
      "2018 год невисокосный\n",
      "2019 год невисокосный\n",
      "2020 год високосный\n"
     ]
    }
   ],
   "source": [
    "year_1 = int(2013)\n",
    "year_2 = int(2020)\n",
    "for i in range (year_1, year_2+1):\n",
    "    if i%4==0:\n",
    "        print(i, \"год високосный\")\n",
    "    else:\n",
    "        print(i, \"год невисокосный\")\n",
    "               "
   ]
  },
  {
   "cell_type": "code",
   "execution_count": 14,
   "metadata": {},
   "outputs": [
    {
     "name": "stdout",
     "output_type": "stream",
     "text": [
      "п\n",
      "д\n",
      "и\n",
      "н\n",
      "к\n"
     ]
    }
   ],
   "source": [
    "word='подшипник'\n",
    "for i, letter in enumerate(word):\n",
    "     if i%2==0:\n",
    "          print (letter)"
   ]
  },
  {
   "cell_type": "code",
   "execution_count": 10,
   "metadata": {},
   "outputs": [
    {
     "name": "stdout",
     "output_type": "stream",
     "text": [
      "word= залупа\n"
     ]
    }
   ],
   "source": [
    "word = input('word= ')\n",
    "for i in range(0, len(word)+1):\n",
    "    if i in('а','о','у','ы','э','и','ё','е','я','ю'):\n",
    "        print(i)"
   ]
  },
  {
   "cell_type": "code",
   "execution_count": 11,
   "metadata": {},
   "outputs": [
    {
     "name": "stdout",
     "output_type": "stream",
     "text": [
      "word= залупа\n",
      "а\n",
      "у\n",
      "а\n"
     ]
    }
   ],
   "source": [
    "word = input('word= ')\n",
    "for i, letter in enumerate (word):\n",
    "    if letter in('а','о','у','ы','э','и','ё','е','я','ю'):\n",
    "        print(letter)"
   ]
  },
  {
   "cell_type": "code",
   "execution_count": 24,
   "metadata": {},
   "outputs": [
    {
     "name": "stdout",
     "output_type": "stream",
     "text": [
      "namezalupa\n",
      "Буква 1 в этом имени - z\n",
      "Буква 2 в этом имени - a\n",
      "Буква 3 в этом имени - l\n",
      "Буква 4 в этом имени - u\n",
      "Буква 5 в этом имени - p\n",
      "Буква 6 в этом имени - a\n"
     ]
    }
   ],
   "source": [
    "name = input('name')\n",
    "for i, letter in enumerate (name):\n",
    "    print('Буква', i+1, 'в этом имени -',letter)"
   ]
  },
  {
   "cell_type": "code",
   "execution_count": 10,
   "metadata": {},
   "outputs": [
    {
     "name": "stdout",
     "output_type": "stream",
     "text": [
      "num_1=-1\n",
      "num_2=2\n",
      "Введён неверный диапазон чисел\n",
      "0\n"
     ]
    }
   ],
   "source": [
    "num_1 = int(input('num_1='))\n",
    "num_2 = int(input('num_2='))\n",
    "if num_1<0 or num_2<num_1:\n",
    "    print(\"Введён неверный диапазон чисел\")    \n",
    "for i in range(num_1, num_2+1):\n",
    "    if i%3==0 or i%5==0:\n",
    "        print(i)"
   ]
  },
  {
   "cell_type": "code",
   "execution_count": 12,
   "metadata": {},
   "outputs": [
    {
     "name": "stdout",
     "output_type": "stream",
     "text": [
      "25\n",
      "27\n",
      "33\n",
      "35\n",
      "39\n",
      "45\n"
     ]
    }
   ],
   "source": []
  },
  {
   "cell_type": "code",
   "execution_count": 21,
   "metadata": {},
   "outputs": [
    {
     "name": "stdout",
     "output_type": "stream",
     "text": [
      "za\n",
      "151.33095251657718\n"
     ]
    }
   ],
   "source": [
    "sum_squares = 0\n",
    "for i in range(25,50):\n",
    "    sum_squares += i**(1/2)  \n",
    "else:    \n",
    "    print(sum_squares)\n",
    "\n"
   ]
  },
  {
   "cell_type": "code",
   "execution_count": 22,
   "metadata": {},
   "outputs": [
    {
     "name": "stdout",
     "output_type": "stream",
     "text": [
      "1 1 1\n",
      "2 4 8\n",
      "3 9 27\n",
      "4 16 64\n",
      "5 25 125\n",
      "6 36 216\n",
      "7 49 343\n",
      "8 64 512\n",
      "9 81 729\n",
      "10 100 1000\n"
     ]
    }
   ],
   "source": [
    "for i in range (1, 11):\n",
    "    print(i, i**2, i**3)"
   ]
  },
  {
   "cell_type": "code",
   "execution_count": 1,
   "metadata": {},
   "outputs": [
    {
     "name": "stdout",
     "output_type": "stream",
     "text": [
      "Number=11\n",
      "1\n",
      "11\n"
     ]
    }
   ],
   "source": [
    "number = int(input('Number='))\n",
    "for i in range(1, number+1):\n",
    "    if number%i==0:\n",
    "        print(i)\n"
   ]
  },
  {
   "cell_type": "code",
   "execution_count": 29,
   "metadata": {},
   "outputs": [
    {
     "name": "stdout",
     "output_type": "stream",
     "text": [
      "first45\n",
      "second50\n",
      "1\n",
      "5\n"
     ]
    }
   ],
   "source": [
    "num_1=int(input('first'))\n",
    "num_2=int(input('second'))\n",
    "for i in range(1, num_2+1):\n",
    "    if num_1%i==0 and num_2%i==0:\n",
    "        print(i)\n",
    "        "
   ]
  },
  {
   "cell_type": "code",
   "execution_count": 35,
   "metadata": {},
   "outputs": [
    {
     "name": "stdout",
     "output_type": "stream",
     "text": [
      "10\n",
      "0\n",
      "1\n",
      "3\n",
      "6\n",
      "10\n",
      "15\n",
      "21\n",
      "28\n",
      "36\n",
      "45\n"
     ]
    }
   ],
   "source": [
    "#fibonachi\n",
    "n2=0\n",
    "n = int(input())\n",
    "for i in range(n):\n",
    "    n2=n2+i \n",
    "    print(n2)\n",
    "    "
   ]
  },
  {
   "cell_type": "code",
   "execution_count": 40,
   "metadata": {},
   "outputs": [
    {
     "name": "stdout",
     "output_type": "stream",
     "text": [
      "55\n"
     ]
    }
   ],
   "source": [
    "f1=1\n",
    "f2=1\n",
    "n=10\n",
    "\n",
    "for i in range(3, n + 1):\n",
    "    f = f1 + f2\n",
    "    f1, f2 = f2, f\n",
    "print(f)"
   ]
  },
  {
   "cell_type": "code",
   "execution_count": 42,
   "metadata": {},
   "outputs": [
    {
     "name": "stdout",
     "output_type": "stream",
     "text": [
      "4 10\n"
     ]
    }
   ],
   "source": [
    "a1=4\n",
    "a2=8\n",
    "a3=10\n",
    "\n",
    "f1, f2, f3 = a1, a2, a3\n",
    "print(f1, f3)"
   ]
  },
  {
   "cell_type": "code",
   "execution_count": 43,
   "metadata": {},
   "outputs": [
    {
     "name": "stdout",
     "output_type": "stream",
     "text": [
      "8\n",
      "8 X 1 = 8\n",
      "8 X 2 = 16\n",
      "8 X 3 = 24\n",
      "8 X 4 = 32\n",
      "8 X 5 = 40\n",
      "8 X 6 = 48\n",
      "8 X 7 = 56\n",
      "8 X 8 = 64\n",
      "8 X 9 = 72\n",
      "8 X 10 = 80\n"
     ]
    }
   ],
   "source": [
    "number=int(input())\n",
    "for i in range(1, 11):\n",
    "    print(number,'X', i,'=',number*i)"
   ]
  },
  {
   "cell_type": "markdown",
   "metadata": {},
   "source": [
    "1.21 Управление выполнением цикла\n"
   ]
  },
  {
   "cell_type": "code",
   "execution_count": 51,
   "metadata": {},
   "outputs": [
    {
     "name": "stdout",
     "output_type": "stream",
     "text": [
      "num_1=1800\n",
      "num_2=2000\n",
      "200\n"
     ]
    }
   ],
   "source": [
    "num_1 = int(input('num_1='))\n",
    "num_2 = int(input('num_2='))\n",
    "if num_1<0 or num_2<num_1:\n",
    "    print(\"Введён неверный диапазон чисел\")    \n",
    "for i in range(2, num_1+1):\n",
    "    i +=1\n",
    "    if num_1%i==0 and num_2%i==0:\n",
    "        a=i\n",
    "    \n",
    "print(a)\n",
    "    \n",
    "    \n",
    "    "
   ]
  },
  {
   "cell_type": "markdown",
   "metadata": {},
   "source": [
    "#  Задание 2\n",
    "0.0/1.0 point (graded)\n",
    "\n",
    "Напишите программу с использованием оператора continue, которая принимает на вход строку (string), после чего выводит её посимвольно, но без букв \"а\", \"б\", \"в\". Пример: ввод \"арбуз\", вывод \"руз\".\n",
    "\n",
    "Для проверки используйте string = 'абстракция'\n",
    "\n",
    "PS: Чтобы выводить побуквенно в одну строчку, в функции print предусмотрен параметр end. Если написать print('Hallo!', end=''), следующий print продолжит вывод не с новой строки.\n",
    "\n"
   ]
  },
  {
   "cell_type": "code",
   "execution_count": 60,
   "metadata": {},
   "outputs": [
    {
     "name": "stdout",
     "output_type": "stream",
     "text": [
      "говнопалка\n",
      "гоноплк"
     ]
    }
   ],
   "source": [
    "string = input()\n",
    "#for i in range (len(string)+1):\n",
    "for i, letter in enumerate (string):\n",
    "    if letter in ('а','б','в'):\n",
    "        continue\n",
    "    print(letter, end='')"
   ]
  },
  {
   "cell_type": "code",
   "execution_count": null,
   "metadata": {},
   "outputs": [],
   "source": [
    "number = 73\n",
    "for i in range (2, number):\n",
    "    if number%i==0:\n",
    "        print(\"Не является простым\")\n",
    "        break\n",
    "    if number==i+1:        \n",
    "        print(\"Простое\")"
   ]
  },
  {
   "cell_type": "code",
   "execution_count": null,
   "metadata": {},
   "outputs": [],
   "source": [
    "string='Нет'\n",
    "for i in range(5):\n",
    "#    string = input('answer')\n",
    "    if string =='Да':\n",
    "        print(\"Это отлично!\")\n",
    "        break\n",
    "    else:\n",
    "        print(\"Увы, это неправильный ответ\")\n",
    "if string!=\"Да\":\n",
    "    print(\"Это безнадёжно!\")"
   ]
  },
  {
   "cell_type": "code",
   "execution_count": 9,
   "metadata": {},
   "outputs": [
    {
     "name": "stdout",
     "output_type": "stream",
     "text": [
      "Увы, это неправильный ответ\n",
      "Увы, это неправильный ответ\n",
      "Увы, это неправильный ответ\n",
      "Увы, это неправильный ответ\n",
      "Увы, это неправильный ответ\n",
      "Это безнадёжно!\n"
     ]
    }
   ],
   "source": []
  },
  {
   "cell_type": "code",
   "execution_count": 25,
   "metadata": {},
   "outputs": [
    {
     "name": "stdout",
     "output_type": "stream",
     "text": [
      "\n",
      "Какая хорошая строка!\n"
     ]
    }
   ],
   "source": [
    "string = input()\n",
    "for i, letter in enumerate(string):\n",
    "    if i%2==0 and letter in ('а','о','у','ы','э','и','ё','е','я','ю'):\n",
    "        print(\"Строка мне не нравится!\")\n",
    "        break\n",
    "else:      \n",
    "    print(\"Какая хорошая строка!\")\n",
    "        \n",
    "   \n",
    "   \n",
    "        "
   ]
  },
  {
   "cell_type": "markdown",
   "metadata": {},
   "source": [
    "while\n"
   ]
  },
  {
   "cell_type": "code",
   "execution_count": null,
   "metadata": {},
   "outputs": [],
   "source": [
    "Y = 170000\n",
    "Z = 1000000\n",
    "\n",
    "count=0\n",
    "while Y<Z:\n",
    "    Y *=1.1\n",
    "    count +=1else:\n",
    "      print(count)"
   ]
  },
  {
   "cell_type": "code",
   "execution_count": 28,
   "metadata": {},
   "outputs": [
    {
     "name": "stdout",
     "output_type": "stream",
     "text": [
      "Перевес 62 кг\n"
     ]
    }
   ],
   "source": [
    "weight = 77\n",
    "total=0\n",
    "while total < 400:\n",
    "    total +=weight\n",
    "else:\n",
    "     print(\"Перевес\", total-400, \"кг\")"
   ]
  },
  {
   "cell_type": "code",
   "execution_count": 29,
   "metadata": {},
   "outputs": [
    {
     "name": "stdout",
     "output_type": "stream",
     "text": [
      "7\n"
     ]
    }
   ],
   "source": [
    "current_health=500\n",
    "attack = 80\n",
    "sec=0\n",
    "while current_health>0:\n",
    "    current_health -=attack\n",
    "    sec +=1\n",
    "else:\n",
    "    print(sec)\n",
    "    "
   ]
  },
  {
   "cell_type": "code",
   "execution_count": 31,
   "metadata": {},
   "outputs": [
    {
     "name": "stdout",
     "output_type": "stream",
     "text": [
      "10000\n",
      "7200\n",
      "4400\n",
      "1600\n",
      "Слишком большие расходы\n"
     ]
    }
   ],
   "source": [
    "spent = 2800\n",
    "balance = 10000\n",
    "#print(balance)\n",
    "while balance>0:\n",
    "    print(balance)\n",
    "    balance-=spent\n",
    "    \n",
    "else:\n",
    "    print(\"Слишком большие расходы\")"
   ]
  },
  {
   "cell_type": "code",
   "execution_count": 32,
   "metadata": {},
   "outputs": [
    {
     "name": "stdout",
     "output_type": "stream",
     "text": [
      "20\n"
     ]
    }
   ],
   "source": [
    "volume=1000\n",
    "take=5\n",
    "count=0\n",
    "while volume>0:\n",
    "    volume -=take\n",
    "    take +=5\n",
    "    count +=1\n",
    "else:\n",
    "    print(count)"
   ]
  },
  {
   "cell_type": "code",
   "execution_count": null,
   "metadata": {},
   "outputs": [],
   "source": []
  },
  {
   "cell_type": "code",
   "execution_count": null,
   "metadata": {},
   "outputs": [],
   "source": []
  }
 ],
 "metadata": {
  "kernelspec": {
   "display_name": "Python 3",
   "language": "python",
   "name": "python3"
  },
  "language_info": {
   "codemirror_mode": {
    "name": "ipython",
    "version": 3
   },
   "file_extension": ".py",
   "mimetype": "text/x-python",
   "name": "python",
   "nbconvert_exporter": "python",
   "pygments_lexer": "ipython3",
   "version": "3.8.3"
  }
 },
 "nbformat": 4,
 "nbformat_minor": 4
}
