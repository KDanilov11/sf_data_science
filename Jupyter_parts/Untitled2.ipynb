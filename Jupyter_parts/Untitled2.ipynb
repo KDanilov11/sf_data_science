{
 "cells": [
  {
   "cell_type": "markdown",
   "metadata": {},
   "source": [
    "1.8"
   ]
  },
  {
   "cell_type": "code",
   "execution_count": null,
   "metadata": {},
   "outputs": [],
   "source": [
    "8.6"
   ]
  },
  {
   "cell_type": "code",
   "execution_count": 1,
   "metadata": {},
   "outputs": [
    {
     "name": "stdout",
     "output_type": "stream",
     "text": [
      "Enter numbers separated by space: 1 2 23 4\n",
      "1\n",
      "2\n",
      "23\n",
      "4\n"
     ]
    }
   ],
   "source": [
    "number = input('Enter numbers separated by space: ')\n",
    "number_splited = number.split()\n",
    "number_joined = '\\n'.join(number_splited)\n",
    "print(number_joined)\n"
   ]
  },
  {
   "cell_type": "code",
   "execution_count": 9,
   "metadata": {},
   "outputs": [
    {
     "name": "stdout",
     "output_type": "stream",
     "text": [
      "Hello, John! Today is Friday. Have a nice day!\n"
     ]
    }
   ],
   "source": [
    "##\n",
    "# Напишем свою функцию new_format\n",
    "# с её помощью нам надо выводить на экран отформатированную строку вида: \"Hello, Имя! Today is день_недели. Have a nice day!\"\n",
    "# пример: Hello, John! Today is Friday. Have a nice day!\n",
    "# мы уже сделали заготовку функции вам осталось только задать строку\n",
    "# переменные, которые надо использовать, указаны в круглых скобках после имени функции\n",
    "# user_name - имя пользователя, dayofweek - название дня недели\n",
    "# запишите форматированную строку вместо знаков вопроса\n",
    "# ! обязательное условие - задача должна быть решена с использованием метода format\n",
    "##\n",
    "\n",
    "\n",
    "def new_format(user_name, dayofweek):\n",
    "    print('Hello, {}! Today is {}. Have a nice day!'.format(user_name,dayofweek))\n",
    "\n",
    "new_format('John', 'Friday')"
   ]
  },
  {
   "cell_type": "code",
   "execution_count": 7,
   "metadata": {},
   "outputs": [
    {
     "ename": "SyntaxError",
     "evalue": "invalid syntax (<ipython-input-7-cabc7ac0fabe>, line 3)",
     "output_type": "error",
     "traceback": [
      "\u001b[1;36m  File \u001b[1;32m\"<ipython-input-7-cabc7ac0fabe>\"\u001b[1;36m, line \u001b[1;32m3\u001b[0m\n\u001b[1;33m    print('Hello, {}! Today is {}. Have a nice day!'format(username,dayofweek))\u001b[0m\n\u001b[1;37m                                                    ^\u001b[0m\n\u001b[1;31mSyntaxError\u001b[0m\u001b[1;31m:\u001b[0m invalid syntax\n"
     ]
    }
   ],
   "source": [
    "\n",
    "def new_format(user_name, dayofweek):\n",
    "    new_format('John', 'Friday')   \n",
    "    print('Hello, {}! Today is {}. Have a nice day!'format(username,dayofweek))\n"
   ]
  },
  {
   "cell_type": "code",
   "execution_count": 8,
   "metadata": {},
   "outputs": [
    {
     "name": "stdout",
     "output_type": "stream",
     "text": [
      "Hello, John! Yesterday you fulfilled the norm by 45.0%\n"
     ]
    }
   ],
   "source": [
    "name = 'John'\n",
    "percent= 45\n",
    "print(f\"Hello, {name}! Yesterday you fulfilled the norm by {percent:.1f}%\")"
   ]
  },
  {
   "cell_type": "markdown",
   "metadata": {},
   "source": [
    "Задание 2.4 \n",
    "Создайте пустой список с именем empty_list с помощью конструктора типа и выведите через функцию print() содержимое полученной переменной. В качестве ответа введите результат вывода.\n",
    "\n",
    " Задание 2.5\n",
    "1 point possible (graded)\n",
    "Теперь создайте переменную another_empty_list, но уже используя квадратные скобки. Также выведите через функцию print() содержимое переменной. В качестве ответа введите результат вывода."
   ]
  },
  {
   "cell_type": "code",
   "execution_count": 2,
   "metadata": {},
   "outputs": [
    {
     "name": "stdout",
     "output_type": "stream",
     "text": [
      "[]\n",
      "[]\n"
     ]
    }
   ],
   "source": [
    "empty_list=[]\n",
    "print(empty_list)\n",
    "another_empty_list = list()\n",
    "print(another_empty_list )\n"
   ]
  },
  {
   "cell_type": "code",
   "execution_count": 7,
   "metadata": {},
   "outputs": [
    {
     "name": "stdout",
     "output_type": "stream",
     "text": [
      "range(0, 10)\n"
     ]
    }
   ],
   "source": [
    "a \n",
    "# range(1, 10)\n",
    "\n",
    "a = range(10)  \n",
    "print(a)"
   ]
  },
  {
   "cell_type": "code",
   "execution_count": 12,
   "metadata": {},
   "outputs": [
    {
     "data": {
      "text/plain": [
       "'c'"
      ]
     },
     "execution_count": 12,
     "metadata": {},
     "output_type": "execute_result"
    }
   ],
   "source": [
    "a = [\"a\", \"b\", \"c\"]\n",
    "a[2] "
   ]
  },
  {
   "cell_type": "code",
   "execution_count": 13,
   "metadata": {},
   "outputs": [
    {
     "name": "stdout",
     "output_type": "stream",
     "text": [
      "[-1, 0, 1, 2, 3]\n"
     ]
    }
   ],
   "source": [
    "#Создайте список из чисел от -5 до 5. Затем сделайте срез, чтобы в ответе был следующий список: [-1, 0, 1, 2, 3]. В качестве ответа напишите через запятую два положительных числа, являющихся границами среза.\n",
    "    \n",
    "numbers = [-5,-4,-3,-2,-1,0,1,2,3,4,5]\n",
    "print(numbers[4:9])"
   ]
  },
  {
   "cell_type": "code",
   "execution_count": 14,
   "metadata": {},
   "outputs": [
    {
     "name": "stdout",
     "output_type": "stream",
     "text": [
      "[6, 5, 4, 3, 2, 1, 0, -1, -2, -3]\n"
     ]
    }
   ],
   "source": [
    "#Создайте список из элементов от -3 до 6 и, используя срез [::-1], инвертируйте список. Выведите полученный результат. В качестве ответа запишите результат вывода.\n",
    "numbers = [-3,-2,-1,0,1,2,3,4,5,6]\n",
    "print(numbers[::-1])\n"
   ]
  },
  {
   "cell_type": "code",
   "execution_count": 15,
   "metadata": {},
   "outputs": [
    {
     "name": "stdout",
     "output_type": "stream",
     "text": [
      "['hello', 'kitty']\n"
     ]
    }
   ],
   "source": [
    "#С помощью функции .split() получите список из строки 'hello kitty' и возьмите два последних элемента. В качестве ответа введите результат вывода.\n",
    "\n",
    "st1 = 'hello kitty'\n",
    "a=st1.split()\n",
    "print(a)"
   ]
  },
  {
   "cell_type": "markdown",
   "metadata": {},
   "source": [
    " Задание 2.12\n",
    "1 point possible (graded)\n",
    "\n",
    "Старайтесь выполнить задание самостоятельно. Но также у вас есть возможность увидеть решение, введя в поле ниже «хочу увидеть ответ» (без кавычек). В этом случае задание будет зачтено как выполненное некорректно.\n",
    "\n",
    "    Создайте три переменные: a, b, c.\n",
    "    Положите в них следующие строковые значения: 'order1', 'order2', 'order3'.\n",
    "    Создайте пустой список orders, используя квадратные скобки.\n",
    "    Последовательно положите все три созданные переменные в список.\n",
    "\n",
    "Выведите значение получившегося списка на экран с помощью фукнции print(). В качестве ответа запишите результат вывода.\n",
    "\n",
    "==============\n",
    " Задание 2.13\n",
    "1 point possible (graded)\n",
    "\n",
    "Старайтесь выполнить задание самостоятельно. Но также у вас есть возможность увидеть решение, введя в поле ниже «хочу увидеть ответ» (без кавычек). В этом случае задание будет зачтено как выполненное некорректно.\n",
    "\n",
    "    Создайте две переменные: book1, book2.\n",
    "    Положите в них следующие строковые значения: 'my book', 'your book'.\n",
    "    Создайте список books, используя квадратные скобки. В нём уже должно лежать значение 'all_books'.\n",
    "    Последовательно положите две созданные переменные в список.\n",
    "\n",
    "Выведите значение получившегося списка на экран. В качестве ответа запишите результат вывода.\n",
    "\n",
    "=============\n",
    "\n",
    " Задание 2.14\n",
    "1 point possible (graded)\n",
    "Создайте список letters из первых пяти букв английского алфавита. Выведите его. Затем примените к списку letters функцию .clear(). Снова выведите результат. В качестве ответа запишите результат последнего вывода.\n",
    "\n",
    "=========\n",
    " Задание 2.15\n",
    "1 point possible (graded)\n",
    "Создайте список numbers из десяти произвольных элементов, но числа 5 и 1 в нём должны повторяться 3 и 2 раза соответственно. Примените к полученному списку функцию .count(). В качестве аргумента функции возьмите число 5. Выведите полученный результат. В качестве ответа запишите результат вывода.\n",
    "\n",
    "==\n",
    "Задание 2.15 \n",
    "Создайте список numbers из десяти произвольных элементов, но числа 5 и 1 в нём должны повторяться 3 и 2 раза соответственно. Примените к полученному списку функцию .count(). В качестве аргумента функции возьмите число 5. Выведите полученный результат. В качестве ответа запишите результат вывода.\n",
    "\n",
    "\n",
    "====\n",
    "\n",
    "2.16\n",
    "Создайте список my_books из пяти элементов: 'book1', 'book2', 'book3', 'book4', 'book5'. Затем используйте функцию .copy() для копирования содержимого вашего списка в список tom_books. Выведите два полученных списка. В качестве ответа запишите результат вывода.\n",
    "\n",
    "2.17\n",
    "Создайте список my_orders из пяти элементов: 'order1', 'order2', 'order3', 'order4', 'order5'. Затем используйте квадратные скобки и двоеточие внутри для копирования содержимого вашего списка в список anne_orders. Выведите два полученных списка. В качестве ответа запишите результат вывода.\n",
    "\n",
    "2.20\n",
    "Создайте список random_values = [3, 5, 0, -1, 2, 10, 15, -5]. Вызовите метод .sort() на этом списке. Снова выведите список random_values. В качестве ответа запишите результат вывода.\n",
    "\n",
    "\n",
    "2.21\n",
    "\n",
    "Создайте список list1. Запишите в него последовательно:\n",
    "\n",
    "    число 5;\n",
    "    число 0.2;\n",
    "    строку 'hello there';\n",
    "    список [1,2,3,4];\n",
    "    строку 'bye'.\n",
    "\n",
    "Выведите результат. В качестве ответа запишите результат вывода.\n",
    "\n",
    "\n",
    "2,24\n",
    "Создайте пустой кортеж tpl, используя конструктор типов tuple(). Выведите полученный результат. В качестве ответа напишите результат вывода.\n",
    "\n",
    "2,25\n",
    "Создайте кортеж tpl2 c одним числом, равным 255. Выведите результат. В качестве ответа запишите результат вывода.\n",
    "\n",
    "\n",
    "2.26\n",
    "Создайте кортеж tpl3 c тремя числами: 15, 22 и 0. Выведите результат. В качестве ответа запишите результат вывода."
   ]
  },
  {
   "cell_type": "code",
   "execution_count": 49,
   "metadata": {},
   "outputs": [
    {
     "name": "stdout",
     "output_type": "stream",
     "text": [
      "['order1', 'order2', 'order3']\n",
      "['all_books', 'my book', 'your book']\n",
      "['book1', 'book2', 'book3', 'book4', 'book5'] ['book1', 'book2', 'book3', 'book4', 'book5']\n",
      "2.17\n",
      "['order1', 'order2', 'order3', 'order4', 'order5'] ['order1', 'order2', 'order3', 'order4', 'order5']\n",
      "2.18\n",
      "2.19\n",
      "[10, 9, 8, 7, 6, 5, 4, 3, 2, 1]\n",
      "2.20\n",
      "[-5, -1, 0, 2, 3, 5, 10, 15]\n",
      "2.21\n",
      "2.24\n",
      "()\n",
      "2.25\n",
      "(255,)\n",
      "2.26\n"
     ]
    },
    {
     "data": {
      "text/plain": [
       "(15, 22, 0)"
      ]
     },
     "execution_count": 49,
     "metadata": {},
     "output_type": "execute_result"
    }
   ],
   "source": [
    "\n",
    "# 2.12\n",
    "\n",
    "a = 'order1'\n",
    "b = 'order2'\n",
    "c = 'order3'\n",
    "new=[]\n",
    "new.append(a)\n",
    "new.append(b)\n",
    "new.append(c)\n",
    "print(new)\n",
    "\n",
    "\n",
    "%reset -f\n",
    "\n",
    "# 2.13\n",
    "\n",
    "book1='my book'\n",
    "book2='your book'\n",
    "books=['all_books']\n",
    "books.append(book1)\n",
    "books.append(book2)\n",
    "print(books)\n",
    "\n",
    "\n",
    "a = [\"order1\", \"order2\", \"order3\", \"order4\"]\n",
    "a.clear()\n",
    "a \n",
    "\n",
    "\n",
    "a = [\"a\", \"b\", \"c\", \"d\", \"b\", \"b\", \"g\", \"b\", \"r\"]\n",
    "a.count('b') \n",
    "\n",
    "\n",
    "#2.16\n",
    "my_books=['book1', 'book2', 'book3', 'book4', 'book5']\n",
    "tom_books = my_books[:]\n",
    "print(my_books, tom_books)\n",
    "jim_books = my_books.copy()\n",
    "jim_books\n",
    "\n",
    "#2.17\n",
    "\n",
    "my_orders = ['order1', 'order2', 'order3', 'order4', 'order5']\n",
    "anne_orders = my_orders[:]\n",
    "print(2.17)\n",
    "print(my_orders,anne_orders)\n",
    "\n",
    "#2.18\n",
    "print(2.18)\n",
    "a = ['order1', 'order2', 'order3']\n",
    "b = ['book1', 'book2']\n",
    "a.extend(b)\n",
    "a \n",
    "\n",
    "\n",
    "#2.19\n",
    "print(2.19)\n",
    "numbers = [1, 2, 3, 4, 5, 6, 7, 8, 9, 10]\n",
    "numbers.reverse()\n",
    "print(numbers)\n",
    "\n",
    "print('2.20')\n",
    "random_values = [3, 5, 0, -1, 2, 10, 15, -5]\n",
    "random_values.sort()\n",
    "print(random_values)\n",
    "\n",
    "print('2.21')\n",
    "list1 =[]\n",
    "list1.append(5)\n",
    "list1.append(0.2)\n",
    "list1.append('hello there')\n",
    "list1.append([1,2,3,4])\n",
    "list1.append('bye')\n",
    "list1\n",
    "\n",
    "\n",
    "print('2.24')\n",
    "tpl=tuple()\n",
    "print(tpl)\n",
    "\n",
    "print('2.25')\n",
    "tpl =(255,)\n",
    "print(tpl)\n",
    "\n",
    "print('2.26')\n",
    "tpl=(15,22,0)\n",
    "tpl"
   ]
  },
  {
   "cell_type": "markdown",
   "metadata": {},
   "source": [
    "# 3. Типы данных: словарь"
   ]
  },
  {
   "cell_type": "markdown",
   "metadata": {},
   "source": [
    " Задание 3.4\n",
    "1 point possible (graded)\n",
    "Создайте пустой словарь empty_dict, используя конструктор типов. Выведите результат. В качестве ответа запишите результат вывода.\n",
    "\n",
    "Введите ответ без пробелов. \n",
    "\n",
    "Задание 3.5\n",
    "1 point possible (graded)\n",
    "\n",
    "Старайтесь выполнить задание самостоятельно. Но также у вас есть возможность увидеть решение, введя в поле ниже «хочу увидеть ответ» (без кавычек). В этом случае задание будет зачтено как выполненное некорректно.\n",
    "Создайте пустой словарь empty_dict1, используя конструктор типов, а затем второй словарь empty_dict2 с использованием фигурных скобок. Выведите результаты. Убедитесь, что выводы одинаковые. В качестве ответа запишите результат вывода. \n",
    "\n",
    "\n",
    "Задание 3.6\n",
    "1 point possible (graded)\n",
    "Создайте словарь alphabet_dict, в котором в качестве ключей будут пять первых букв английского языка, а в качестве значений для этих ключей будут числа от 1 до 5. Верните значение для буквы d:\n",
    "нет ответа\n",
    "\n",
    "\n",
    "Задание 3.7\n",
    "1 point possible (graded)\n",
    "Создайте словарь place_and_money, в котором в качестве ключей будут числа от 1 до 3, а в качестве значений — числа 100, 50, 10. Выведите денежный приз для второго места:\n",
    "\n",
    " Задание 3.8\n",
    "1 point possible (graded)\n",
    "\n",
    "В словарь place_and_money = {1: 100, 2: 50, 3: 10} добавьте четвёртое место с призом, равным 5. Выведите получившийся словарь. В качестве ответа запишите результат вывода.\n",
    "\n",
    "Задание 3.9\n",
    "В словаре place_and_money = {1: 100, 2: 50, 3: 10} измените призовое значение для третьего места с 10 на 25. Выведите получившийся словарь. В качестве ответа запишите результат вывода.\n",
    "\n",
    "Задание 3.10\n",
    "Создайте словарь place_and_money = {1: 100, 2: 50, 3: 10}. Очистите этот словарь. Выведите результат. В качестве ответа запишите результат вывода.\n",
    "\n",
    " Задание 3.11\n",
    "1 point possible (graded)\n",
    "Создайте словарь place_and_money = {1: 100, 2: 50, 3: 10}. Воспользуйтесь методом .keys() и выведите результат. В качестве ответа запишите результат вывода.\n",
    "\n",
    "\n",
    " Задание 3.12\n",
    "1 point possible (graded)\n",
    "Создайте словарь name_to_age = {'Anne': 22, 'Anton': 27, 'Phillip': 30}. Воспользуйтесь методом .keys() и выведите результат. В качестве ответа запишите результат вывода.\n",
    "\n",
    "\n",
    " Задание 3.13\n",
    "1 point possible (graded)\n",
    "\n",
    "Создайте словарь name_to_age = {'Anne': 22, 'Anton': 27, 'Phillip': 30}. Воспользуйтесь методом .values() и выведите результат. В качестве ответа запишите результат вывода.\n",
    "нет ответа\n",
    "\n",
    "\n",
    "Задание 3.14\n",
    "1 point possible (graded)\n",
    "Создайте словарь place_and_money = {1: 100, 2: 50, 3: 10}. Воспользуйтесь методом .values() и выведите результат. В качестве ответа запишите результат вывода.\n",
    "\n",
    "\n",
    " Задание 3.15\n",
    "\n",
    "Создайте словарь place_and_money = {1: 100, 2: 50, 3: 10}. Попробуйте вывести приз для 20 места через метод .get(). В качестве значения по умолчанию поставьте число 0. В качестве ответа запишите результат вывода.\n",
    "нет ответа\n",
    "\n",
    "Задание 3.16\n",
    "1 point possible (graded)\n",
    "Создайте словарь name_to_age = {'Anne': 22, 'Anton': 27, 'Phillip': 30}. Попробуйте вывести возраст для персонажа по имени 'Danny'. Если такого имени не будет в словаре, выведите -1. В качестве ответа запишите результат вывода.\n",
    "\n",
    "Задание 3.17\n",
    "Создайте словарь place_and_money = {1: 100, 2: 50, 3: 10}. Затем добавьте в него следующие места и значения: четвёртое место с призом 5, пятое место с призом 1. Используйте метод update(). Выведите результат. В качестве ответа запишите результат вывода.\n",
    "\n",
    "Задание 3.18\n",
    "Создайте словарь name_to_age = {'Anne': 22, 'Anton': 27, 'Phillip': 30}. Измените у Анны возраст на 23, а у Филиппа — на 29. Используйте метод update(). Выведите результат. В качестве ответа запишите результат вывода.\n",
    "\n",
    "Задание 3.19\n",
    "Создайте словарь place_and_money = {1: 100, 2: 50, 3: 10}. Удалите с возвратом (используйте метод .pop()) значение приза за третье место. Выведите полученный результат. В качестве ответа запишите результат вывода.\n",
    "\n",
    "Задание 3.20\n",
    "Создайте словарь name_to_age = {'Anne': 22, 'Anton': 27, 'Phillip': 30}. Удалите из словаря данные для Антона (с возвратом). Выведите полученный результат. В качестве ответа запишите результат вывода.\n",
    "\n",
    "Задание 3.21\n",
    "\n",
    "Создайте словарь place_and_money = {1: 100, 2: 50, 3: 10}. Через метод .setdefault() установите значение, равное 1, для десятого места. Выведите результат. В качестве ответа запишите результат вывода\n",
    "\n",
    "\n",
    "Задание 3.22\n",
    "Создайте словарь name_to_age = {'Anne': 22, 'Anton': 27, 'Phillip': 30}. Через метод .setdefault() обновите возраст у Анны с 22 до 32. Выведите результат — он не должен измениться. В качестве ответа запишите результат вывода.\n",
    "\n",
    "Задание 3.23\n",
    "Создайте пустой словарь test_dict. Затем вставьте в него в качестве ключа число 5, а в качестве значения — список [3,4,5]. Затем в тот же словарь в качестве ключа добавьте кортеж (3,4,5), а его значением укажите строку 'strong man'. Выведите результат. В качестве ответа запишите результат вывода.\n",
    "\n",
    "Задание 3.24\n",
    "Создайте пустой словарь test_dict2. По ключу 'name' поставьте строку 'Sancho'. В качестве значения для ключа 'surname' поставьте 'Panso'. А для ключа 'info' добавьте словарь {'age': 35, 'country': 'Mexico'}. Выведите результат. В качестве ответа запишите результат вывода.\n",
    "\n",
    "Задание 3.25\n",
    "Создайте пустой словарь test_dict3. По ключу 'info' добавьте список [10, 15, 27]. А ключу 'about' поставьте словарь {'game': 'football', 'period': 5}. Затем измените значение по ключу 'about' на 'dont know'. Выведите результат. В качестве ответа запишите результат вывода."
   ]
  },
  {
   "cell_type": "code",
   "execution_count": 13,
   "metadata": {},
   "outputs": [
    {
     "data": {
      "text/plain": [
       "{'info': [10, 15, 27], 'about': 'dont know'}"
      ]
     },
     "execution_count": 13,
     "metadata": {},
     "output_type": "execute_result"
    }
   ],
   "source": [
    "#3.4\n",
    "\n",
    "empty_dict = dict()\n",
    "empty_dict\n",
    "\n",
    "#3.5\n",
    "\n",
    "empty_dict1 = dict()\n",
    "empty_dict2 = {}\n",
    "empty_dict1\n",
    "empty_dict2\n",
    "\n",
    "\n",
    "#3.6\n",
    "\n",
    "#alphabet_dict = dict('a':1,'b':2,'c':3,'d':4,'e':5)\n",
    "alphabet_dict = {'a':1,'b':2,'c':3,'d':4,'e':5}\n",
    "alphabet_dict['d']\n",
    "\n",
    "#3.7\n",
    "place_and_money ={1:100,2:50,3:10}\n",
    "place_and_money[2]\n",
    "\n",
    "#3.8\n",
    "place_and_money ={1:100,2:50,3:10}\n",
    "place_and_money[4]=5\n",
    "place_and_money\n",
    "\n",
    "\n",
    "#3.9\n",
    "place_and_money ={1:100,2:50,3:10}\n",
    "place_and_money[3]=25\n",
    "place_and_money\n",
    "\n",
    "#3.10\n",
    "place_and_money = {1: 100, 2: 50, 3: 10}\n",
    "place_and_money.clear()\n",
    "place_and_money\n",
    "\n",
    "#3.11\n",
    "place_and_money = {1: 100, 2: 50, 3: 10}\n",
    "place_and_money.keys()\n",
    "\n",
    "#3.12\n",
    "name_to_age = {'Anne': 22,'Anton': 27, 'Phillip':30}\n",
    "name_to_age.keys()\n",
    "\n",
    "#3.13\n",
    "name_to_age = {'Anne': 22,'Anton': 27, 'Phillip':30}\n",
    "name_to_age.values()\n",
    "\n",
    "#3.14\n",
    "place_and_money = {1: 100, 2: 50, 3: 10}\n",
    "place_and_money.values()\n",
    " \n",
    "#3.15\n",
    "place_and_money = {1: 100, 2: 50, 3: 10}\n",
    "place_and_money.get(20,0)\n",
    "\n",
    "#3.16\n",
    "name_to_age = {'Anne': 22,'Anton': 27, 'Phillip':30}\n",
    "name_to_age.get('Danny',-1)\n",
    "\n",
    "#3.17\n",
    "place_and_money = {1: 100, 2: 50, 3: 10}\n",
    "place_and_money.update({4:5,5:1})\n",
    "place_and_money\n",
    "\n",
    "\n",
    "#3.18\n",
    "name_to_age = {'Anne': 22,'Anton': 27, 'Phillip':30}\n",
    "name_to_age.update({'Anne':23,'Phillip':29})\n",
    "name_to_age\n",
    "\n",
    "#3.19\n",
    "place_and_money = {1: 100, 2: 50, 3: 10}\n",
    "place_and_money.pop(3)\n",
    "#place_and_money\n",
    "\n",
    "#3.20\n",
    "name_to_age = {'Anne': 22, 'Anton': 27, 'Phillip': 30}\n",
    "name_to_age.pop('Anton')\n",
    "\n",
    "#3.21\n",
    "place_and_money = {1: 100, 2:50, 3:10}\n",
    "place_and_money.setdefault(10,1)\n",
    "place_and_money\n",
    "\n",
    "#3.22\n",
    "name_to_age = {'Anne': 22, 'Anton': 27, 'Phillip': 30}\n",
    "name_to_age.setdefault('Anne',32)\n",
    "name_to_age\n",
    "\n",
    "#3.23\n",
    "test_dict={5:[3,4,5],(3,4,5):'strong man'}\n",
    "test_dict\n",
    "\n",
    "#3.24\n",
    "test_dict2 ={'name':'Sancho','surname':'Panso','info':{'age': 35, 'country': 'Mexico'}}\n",
    "test_dict2\n",
    "\n",
    "\n",
    "#3.25\n",
    "test_dict3={}\n",
    "test_dict3['info']=[10, 15, 27]\n",
    "test_dict3['about']={'game': 'football', 'period': 5}\n",
    "test_dict3['about']='dont know'\n",
    "test_dict3"
   ]
  },
  {
   "cell_type": "markdown",
   "metadata": {},
   "source": [
    "# 4. Типы данных: множества"
   ]
  },
  {
   "cell_type": "markdown",
   "metadata": {},
   "source": [
    "#4.1\n",
    "Создайте с помощью конструктора типов пустое множество s1. Выведите результат. В качестве ответа запишите результат вывода.\n",
    "\n",
    "#4.2\n",
    "Создайте с помощью фигурных скобок множество s2, в котором будет пять элементов: 5, 10, 3, 2, 11. В качестве ответа запишите получившуюся строку кода.\n",
    "\n",
    "#4.3\n",
    "Создайте множество s3 с помощью конструктора типов из строки 'wow thats cool'. Выведите результат.\n",
    "В качестве ответа запишите результат вывода в окне ниже.\n",
    "\n",
    "#4.4\n",
    "Создайте множество s1 из первых пяти букв английского языка. Затем с помощью метода .add() добавьте новый элемент со значением 'hello'. Выведите результат.\n",
    "В качестве ответа запишите результат вывода.\n",
    "\n",
    "#4.5\n",
    "Создайте множество s1 из первых пяти букв английского языка. Затем с помощью метода .remove() удалите элемент 'd'. Выведите s1.\n",
    "В качестве ответа запишите результат вывода.\n",
    "\n",
    "#4.6\n",
    "Создайте множество s1 из первых шести букв английского языка. Вызовите метод .discard() на элементе 'f'. Выведите результат.\n",
    "В качестве ответа запишите результат вывода.\n",
    "\n",
    "#4.7\n",
    "Создайте множество s1 из первых шести букв английского языка. Вызовите метод .remove() на элементе 'f'. Выведите результат.\n",
    "В качестве ответа запишите результат вывода.\n",
    "\n",
    "#4.8\n",
    "Создайте множество alpha_set из первых пяти букв английского алфавита. Затем создайте множество name из строки 'bad boy'. Примените метод .union() к созданным множествам. Выведите результат.\n",
    "В качестве ответа запишите результат вывода.\n",
    "\n",
    "#4.9\n",
    "Создайте множество num_set из чисел от 0 до 10 (включительно). Затем создайте множество date_num из списка [1,9,4,8]. Примените метод .union() к созданным множествам. Выведите результат. В качестве ответа запишите результат вывода.\n",
    "\n",
    "#4.10\n",
    "Создайте множество alpha_set из первых пяти букв английского алфавита. Затем создайте множество name из строки 'bad boy'. Примените метод .intersection() к созданным множествам. Выведите результат.\n",
    "В качестве ответа запишите результат вывода.\n",
    "\n",
    "#4.11\n",
    "Создайте множество num_set из чисел от 0 до 10 (включительно). Затем создайте множество date_num из списка [1,9,4,8]. Примените метод .intersection() к созданным множествам. Выведите результат. В качестве ответа запишите результат вывода.\n",
    "\n",
    "#4.12\n",
    "Создайте множество alpha_set из первых пяти букв английского алфавита. Затем создайте множество name из строки 'bad boy'. Примените метод .difference() к созданным множествам. Выведите результат.\n",
    "В качестве ответа запишите результат вывода.\n",
    "\n",
    "#4.13\n",
    "Создайте множество num_set из чисел от 0 до 10 (включительно). Затем создайте множество date_num из списка [1,9,4,8]. Примените метод .difference() к созданным множествам. Выведите результат. В качестве ответа запишите результат вывода."
   ]
  },
  {
   "cell_type": "code",
   "execution_count": 46,
   "metadata": {},
   "outputs": [
    {
     "data": {
      "text/plain": [
       "True"
      ]
     },
     "execution_count": 46,
     "metadata": {},
     "output_type": "execute_result"
    }
   ],
   "source": [
    "#4.1\n",
    "s1=set()\n",
    "s1\n",
    "\n",
    "#4.2\n",
    "s2={5, 10, 3, 2, 11}\n",
    "#s2\n",
    "\n",
    "#4.3\n",
    "s3=set('wow thats cool')\n",
    "s3\n",
    "\n",
    "#4.4\n",
    "s1=set('abcde')\n",
    "s1.add('hello')\n",
    "s1\n",
    "\n",
    "#4.5\n",
    "s1=set('abcde')\n",
    "s1.remove('d')\n",
    "s1\n",
    "#4.6\n",
    "s1=set('abcdef')\n",
    "s1.discard('f')\n",
    "s1\n",
    "#4.7\n",
    "s1=set('abcdef')\n",
    "s1.remove('f')\n",
    "s1\n",
    "\n",
    "#4.8\n",
    "alpha_set=set('abcde')\n",
    "name=set('bad boy')\n",
    "alpha_set.union(name)\n",
    "\n",
    "#4.9\n",
    "num_set={0,1,2,3,4,5,6,7,8,9,10}\n",
    "date_num=set([1,9,4,8])\n",
    "num_set.union(date_num)\n",
    "\n",
    "#4.10\n",
    "alpha_set=set('abcde')\n",
    "name=set('bad boy')\n",
    "alpha_set.intersection(name)\n",
    "\n",
    "#4.11\n",
    "num_set={0,1,2,3,4,5,6,7,8,9,10}\n",
    "date_num=set([1,9,4,8])\n",
    "num_set.intersection(date_num)\n",
    "\n",
    "#4.12\n",
    "alpha_set=set('abcde')\n",
    "name=set('bad boy')\n",
    "alpha_set.difference(name)\n",
    "\n",
    "#4.13\n",
    "num_set={0,1,2,3,4,5,6,7,8,9,10}\n",
    "date_num=set([1,9,4,8])\n",
    "num_set.difference(date_num)\n",
    "\n",
    "##\n",
    "num_set={0,1,2,3,4,5,6,7,8,9,10}\n",
    "date_num=set([1,9,4,8])\n",
    "num_set.issubset(date_num)  # false\n",
    "date_num.issubset(num_set)  #True\n"
   ]
  },
  {
   "cell_type": "markdown",
   "metadata": {},
   "source": [
    "# Приведение типов\n",
    "\n",
    "5.1\n",
    "Создайте переменную a. Запишите в неё целое число 3. Сделайте преобразование типа в вещественный. Сохраните результат в переменную b.\n",
    "\n",
    "Вопрос 1. Выведите значение полученной переменной b и запишите его в качестве ответа.\n",
    "\n",
    "5.2\n",
    "\n",
    "\n",
    "5.3\n",
    "\n",
    "\n",
    "5.4\n",
    "\n",
    "\n",
    "\n",
    "5.5\n",
    "\n",
    "\n",
    "5.6\n",
    "\n",
    "\n",
    "5.7\n",
    "\n",
    "\n",
    "5.8\n",
    "\n",
    "\n",
    "5.9\n",
    "\n",
    "\n",
    "5.10\n",
    "\n",
    "\n",
    "5.11\n"
   ]
  },
  {
   "cell_type": "code",
   "execution_count": 66,
   "metadata": {},
   "outputs": [
    {
     "name": "stdout",
     "output_type": "stream",
     "text": [
      "1\n",
      "my age is 18\n",
      "I have5 brothers\n"
     ]
    },
    {
     "data": {
      "text/plain": [
       "['a', 'b', 'c', 'd', 'e']"
      ]
     },
     "execution_count": 66,
     "metadata": {},
     "output_type": "execute_result"
    }
   ],
   "source": [
    "#5.1\n",
    "a=3\n",
    "b=float(a)\n",
    "b\n",
    "\n",
    "#5.2\n",
    "num1=3\n",
    "num2=3.5\n",
    "sum1=num1+num2\n",
    "sum1\n",
    "num1=float(num1)\n",
    "sum2=num1+num2\n",
    "sum2\n",
    "\n",
    "#5.3\n",
    "int_one = 1\n",
    "str_one = str(int_one)\n",
    "print(str_one)\n",
    "\n",
    "#5.4\n",
    "str_age_begin = 'my age is '\n",
    "int_age =18\n",
    "int_age=str(int_age)\n",
    "result_string = str_age_begin +  int_age\n",
    "print(result_string)\n",
    "\n",
    "#5.5\n",
    "str_brothers_begin= 'I have'\n",
    "count =5\n",
    "str_brothers_end = ' brothers'\n",
    "count=str(count)\n",
    "result_sentence=str_brothers_begin + count + str_brothers_end\n",
    "print(result_sentence)\n",
    "\n",
    "#5.6\n",
    "\n",
    "\n",
    "#5.7\n",
    "\n",
    "\n",
    "#5.8\n",
    "\n",
    "\n",
    "#5.9\n",
    "\n",
    "\n",
    "#5.10\n",
    "list1=(1,2,3,4,5)\n",
    "tpl1=tuple(list1)\n",
    "tpl1\n",
    "\n",
    "#5.11'\n",
    "tpl1=('a','b','c','d','e')\n",
    "type(tpl1)\n",
    "list1=list(tpl1)\n",
    "list1\n"
   ]
  },
  {
   "cell_type": "code",
   "execution_count": 96,
   "metadata": {},
   "outputs": [
    {
     "name": "stdout",
     "output_type": "stream",
     "text": [
      "[3, 1, -10, 5, 11, 20, 1, -10]\n",
      "{'name': 'unknown'} {'name': 'Tom'}\n",
      "dict_keys(['name']) dict_values(['unknown'])\n",
      "{'e', 'l', 'o', 'w', 'h'} {'o'} {'e', 'l', 'h'}\n"
     ]
    },
    {
     "data": {
      "text/plain": [
       "True"
      ]
     },
     "execution_count": 96,
     "metadata": {},
     "output_type": "execute_result"
    }
   ],
   "source": [
    "#6.1\n",
    "list1=[]\n",
    "list1.append(1)\n",
    "list1.append(2)\n",
    "list1.append(3)\n",
    "list1\n",
    "\n",
    "\n",
    "#6.2\n",
    "l2=range(-5,15,2)\n",
    "l3=[1,2,3,4]\n",
    "l3.extend(l2)\n",
    "l3\n",
    "#l2\n",
    "\n",
    "#6.3\n",
    "l6=[3, 1, -10, 5, 11, 20, 1, -10]\n",
    "l7=l6.copy()\n",
    "l6.sort()\n",
    "l6.reverse()\n",
    "print(l7)\n",
    "l6\n",
    "\n",
    "\n",
    "#6.4\n",
    "L1=[10, 15]\n",
    "tpl1=tuple(L1)\n",
    "d1={tpl1: 'hello'}\n",
    "d1\n",
    "\n",
    "\n",
    "#6.5\n",
    "d1={}\n",
    "d2={}\n",
    "d1['name']='unknown'\n",
    "d2['name']='Tom'\n",
    "print(d1,d2)\n",
    "print(d1.keys(),d1.values())\n",
    "\n",
    "#6.6\n",
    "s1=set('hello')\n",
    "s2=set(['w', 'o', 'w'])\n",
    "print(s1.union(s2),s1.intersection(s2),s1.difference(s2))\n",
    "\n",
    "\n",
    "\n",
    "#6.7\n",
    "var = ('a' in ['a', 'b', 'c'])\n",
    "var\n",
    "\n",
    "\n",
    "\n"
   ]
  },
  {
   "cell_type": "code",
   "execution_count": null,
   "metadata": {},
   "outputs": [],
   "source": []
  }
 ],
 "metadata": {
  "kernelspec": {
   "display_name": "Python 3",
   "language": "python",
   "name": "python3"
  },
  "language_info": {
   "codemirror_mode": {
    "name": "ipython",
    "version": 3
   },
   "file_extension": ".py",
   "mimetype": "text/x-python",
   "name": "python",
   "nbconvert_exporter": "python",
   "pygments_lexer": "ipython3",
   "version": "3.8.3"
  }
 },
 "nbformat": 4,
 "nbformat_minor": 4
}
