{
 "cells": [
  {
   "cell_type": "code",
   "execution_count": 190,
   "metadata": {},
   "outputs": [
    {
     "name": "stdout",
     "output_type": "stream",
     "text": [
      "Counter({'red': 1})\n"
     ]
    }
   ],
   "source": [
    "# Импортируем объект Counter из модуля collections\n",
    "from collections import Counter\n",
    "# Создаём пустой объект Counter\n",
    "c = Counter()\n",
    "\n",
    "c['red'] += 1\n",
    "print(c)\n",
    "\n",
    "# Будет напечатано:\n",
    "# Counter({'red': 1})\n",
    "\n",
    "cars = ['red', 'blue', 'black', 'black', 'black', 'red', 'blue', 'red', 'white']\n",
    "\n"
   ]
  },
  {
   "attachments": {},
   "cell_type": "markdown",
   "metadata": {},
   "source": [
    "Посчитать значения, конечно, можно и в цикле, используя синтаксис из предыдущего примера:"
   ]
  },
  {
   "cell_type": "code",
   "execution_count": 191,
   "metadata": {},
   "outputs": [
    {
     "name": "stdout",
     "output_type": "stream",
     "text": [
      "Counter({'red': 3, 'black': 3, 'blue': 2, 'white': 1})\n"
     ]
    }
   ],
   "source": [
    "c = Counter()\n",
    "for car in cars:\n",
    "    c[car] += 1\n",
    "    \n",
    "print(c)"
   ]
  },
  {
   "attachments": {},
   "cell_type": "markdown",
   "metadata": {},
   "source": [
    "Однако гораздо проще при создании Counter сразу передать в круглых скобках итерируемый объект, в котором необходимо посчитать значения:"
   ]
  },
  {
   "cell_type": "code",
   "execution_count": 192,
   "metadata": {},
   "outputs": [
    {
     "name": "stdout",
     "output_type": "stream",
     "text": [
      "Counter({'red': 3, 'black': 3, 'blue': 2, 'white': 1})\n",
      "3\n"
     ]
    }
   ],
   "source": [
    "c = Counter(cars)\n",
    "print(c)\n",
    "print(c['black'])"
   ]
  },
  {
   "attachments": {},
   "cell_type": "markdown",
   "metadata": {},
   "source": [
    "Несуществующий ключ в счётчике\n",
    "возвращает 0, так как такого элемента нет( встречается 0 раз)"
   ]
  },
  {
   "cell_type": "code",
   "execution_count": 193,
   "metadata": {},
   "outputs": [
    {
     "name": "stdout",
     "output_type": "stream",
     "text": [
      "0\n"
     ]
    }
   ],
   "source": [
    "print(c['purple'])\n"
   ]
  },
  {
   "cell_type": "code",
   "execution_count": 194,
   "metadata": {},
   "outputs": [
    {
     "name": "stdout",
     "output_type": "stream",
     "text": [
      "dict_values([3, 2, 3, 1])\n",
      "dict_keys(['red', 'blue', 'black', 'white'])\n",
      "9\n",
      "\n"
     ]
    }
   ],
   "source": [
    "print(c.values())\n",
    "print(c.keys())\n",
    "print(sum(c.values()))\n",
    "print()"
   ]
  },
  {
   "attachments": {},
   "cell_type": "markdown",
   "metadata": {},
   "source": [
    "В этой конструкции мы сначала получаем элементы (число раз, когда встретился ключ) с помощью функции values (такая же функция есть и у словаря):\n",
    "\n",
    "print(c.values())\n",
    "# dict_values([3, 2, 3, 1])\n",
    "\n",
    "Затем суммируем полученные значения итерируемого объекта dict_values, который выглядит почти как список, с помощью встроенной функции sum."
   ]
  },
  {
   "attachments": {},
   "cell_type": "markdown",
   "metadata": {},
   "source": [
    "Операции с Counter"
   ]
  },
  {
   "attachments": {},
   "cell_type": "markdown",
   "metadata": {},
   "source": [
    "Возможности Counter не ограничиваются только подсчётом элементов. Этот объект обладает и дополнительным функционалом — например, счётчики можно складывать и вычитать."
   ]
  },
  {
   "cell_type": "code",
   "execution_count": 195,
   "metadata": {},
   "outputs": [
    {
     "name": "stdout",
     "output_type": "stream",
     "text": [
      "Counter({'black': 4, 'yellow': 3, 'white': 2})\n",
      "Counter({'white': 3, 'red': 2, 'black': 2, 'yellow': 2})\n",
      "sum Counter({'black': 6, 'white': 5, 'yellow': 5, 'red': 2})\n",
      "\n",
      "subtract\n",
      "Counter({'black': 2, 'yellow': 1, 'white': -1, 'red': -2})\n"
     ]
    }
   ],
   "source": [
    "cars_moscow = ['black', 'black', 'white', 'black', 'black', 'white', 'yellow', 'yellow', 'yellow']\n",
    "cars_spb = ['red', 'black', 'black', 'white', 'white', 'yellow', 'yellow', 'red', 'white']\n",
    "\n",
    "counter_moscow = Counter(cars_moscow)\n",
    "counter_spb = Counter(cars_spb)\n",
    "\n",
    "print(counter_moscow)\n",
    "print(counter_spb)\n",
    "\n",
    "#Сложение\n",
    "print('sum', counter_moscow + counter_spb)\n",
    "\n",
    "#Вычитание\n",
    "print()\n",
    "print('subtract')\n",
    "counter_moscow.subtract(counter_spb)\n",
    "print(counter_moscow)"
   ]
  },
  {
   "attachments": {},
   "cell_type": "markdown",
   "metadata": {},
   "source": [
    "функцию subtract не всегда бывает удобно использовать для вычитания, так как модифицируется исходный счётчик. Однако аналога у этой функции нет, поскольку вычитание с помощью оператора \"-\" приводит к другому результату:"
   ]
  },
  {
   "cell_type": "code",
   "execution_count": 196,
   "metadata": {},
   "outputs": [
    {
     "name": "stdout",
     "output_type": "stream",
     "text": [
      "Counter({'black': 2, 'yellow': 1})\n"
     ]
    }
   ],
   "source": [
    "#Счётчики надо пересоздать так как subtract модифицирует оригинальный объект\n",
    "counter_moscow = Counter(cars_moscow)\n",
    "counter_spb = Counter(cars_spb)\n",
    "# print(counter_moscow)\n",
    "# print(counter_spb)\n",
    "print(counter_moscow - counter_spb)\n",
    "# В данном случае нет значений меньше 1, поэтому нет данных о разнице в числе белых и красных машин.\n"
   ]
  },
  {
   "attachments": {},
   "cell_type": "markdown",
   "metadata": {},
   "source": [
    "#Дополнительные функции"
   ]
  },
  {
   "cell_type": "code",
   "execution_count": 159,
   "metadata": {},
   "outputs": [],
   "source": [
    "counter_moscow = Counter(cars_moscow)\n",
    "counter_spb = Counter(cars_spb)"
   ]
  },
  {
   "attachments": {},
   "cell_type": "markdown",
   "metadata": {},
   "source": [
    "Чтобы получить список всех элементов, которые содержатся в Counter, используется функция elements(). Она возвращает итератор, поэтому, чтобы напечатать все элементы, распакуем их с помощью *:"
   ]
  },
  {
   "cell_type": "code",
   "execution_count": 160,
   "metadata": {},
   "outputs": [
    {
     "name": "stdout",
     "output_type": "stream",
     "text": [
      "black black black black white white yellow yellow yellow\n",
      "<itertools.chain object at 0x0000021EF3673B20>\n"
     ]
    }
   ],
   "source": [
    "print (*counter_moscow.elements())\n",
    "#elements() функция\n",
    "# * - Распаковщик\n",
    "print (counter_moscow.elements())"
   ]
  },
  {
   "attachments": {},
   "cell_type": "markdown",
   "metadata": {},
   "source": [
    "Обратите внимание, что элементы возвращаются в порядке появления уникальных элементов. Например, элемент “black” встречается в списке cars_moscow первым, элемент “white” вторым, а элемент “yellow” третьим. Соответственно, в этом же порядке будут выведены элементы Counter()."
   ]
  },
  {
   "attachments": {},
   "cell_type": "markdown",
   "metadata": {},
   "source": []
  },
  {
   "attachments": {},
   "cell_type": "markdown",
   "metadata": {},
   "source": [
    " Чтобы получить список уникальных элементов, достаточно воспользоваться функцией list():"
   ]
  },
  {
   "cell_type": "code",
   "execution_count": 161,
   "metadata": {},
   "outputs": [
    {
     "name": "stdout",
     "output_type": "stream",
     "text": [
      "['black', 'white', 'yellow']\n",
      "3\n"
     ]
    }
   ],
   "source": [
    "print(list(counter_moscow))\n",
    "print(len(list(counter_moscow)))"
   ]
  },
  {
   "attachments": {},
   "cell_type": "markdown",
   "metadata": {},
   "source": [
    "С помощью функции dict() можно превратить Counter в обычный словарь:"
   ]
  },
  {
   "cell_type": "code",
   "execution_count": 162,
   "metadata": {},
   "outputs": [
    {
     "name": "stdout",
     "output_type": "stream",
     "text": [
      "Counter({'black': 4, 'yellow': 3, 'white': 2})\n",
      "{'black': 4, 'white': 2, 'yellow': 3}\n",
      "Counter({'black': 4, 'yellow': 3, 'white': 2})\n"
     ]
    }
   ],
   "source": [
    "print(counter_moscow)\n",
    "print(dict(counter_moscow))\n",
    "print(counter_moscow)"
   ]
  },
  {
   "cell_type": "code",
   "execution_count": 163,
   "metadata": {},
   "outputs": [
    {
     "data": {
      "text/plain": [
       "collections.Counter"
      ]
     },
     "execution_count": 163,
     "metadata": {},
     "output_type": "execute_result"
    }
   ],
   "source": [
    "type(counter_moscow)"
   ]
  },
  {
   "attachments": {},
   "cell_type": "markdown",
   "metadata": {},
   "source": [
    "Функция most_common() позволяет получить список из кортежей элементов в порядке убывания их встречаемости:"
   ]
  },
  {
   "cell_type": "code",
   "execution_count": 164,
   "metadata": {},
   "outputs": [
    {
     "name": "stdout",
     "output_type": "stream",
     "text": [
      "[('black', 4), ('yellow', 3), ('white', 2)]\n",
      "[('black', 4), ('yellow', 3)]\n"
     ]
    }
   ],
   "source": [
    "print(counter_moscow.most_common())\n",
    "print(counter_moscow.most_common(2))"
   ]
  },
  {
   "attachments": {},
   "cell_type": "markdown",
   "metadata": {},
   "source": [
    "Наконец, функция clear() позволяет полностью обнулить счётчик:"
   ]
  },
  {
   "cell_type": "code",
   "execution_count": 165,
   "metadata": {},
   "outputs": [
    {
     "name": "stdout",
     "output_type": "stream",
     "text": [
      "Counter()\n",
      "Counter({'black': 4, 'yellow': 3, 'white': 2})\n"
     ]
    }
   ],
   "source": [
    "counter_moscow.clear()\n",
    "print(counter_moscow)\n",
    "counter_moscow = Counter(cars_moscow)\n",
    "print(counter_moscow)"
   ]
  },
  {
   "attachments": {},
   "cell_type": "markdown",
   "metadata": {},
   "source": [
    "**Defaultdict**"
   ]
  },
  {
   "cell_type": "code",
   "execution_count": 166,
   "metadata": {},
   "outputs": [],
   "source": [
    "students = [('Ivanov',1),('Smirnov',4),('Petrov',3),('Kuznetsova',1),\n",
    "            ('Nikitina',2),('Markov',3),('Pavlov',2)]\n",
    "#список из кортежей с фамилиями и учебнымигруппами\n",
    "\n"
   ]
  },
  {
   "attachments": {},
   "cell_type": "markdown",
   "metadata": {},
   "source": [
    "Сохраним эти данные в словаре, в котором ключами будут номера групп, а элементами — списки студентов. Сделать это можно следующим образом:"
   ]
  },
  {
   "cell_type": "code",
   "execution_count": 167,
   "metadata": {},
   "outputs": [
    {
     "name": "stdout",
     "output_type": "stream",
     "text": [
      "{1: []}\n",
      "{1: ['Ivanov'], 4: []}\n",
      "{1: ['Ivanov'], 4: ['Smirnov'], 3: []}\n",
      "{1: ['Ivanov', 'Kuznetsova'], 4: ['Smirnov'], 3: ['Petrov'], 2: []}\n",
      "{1: ['Ivanov', 'Kuznetsova'], 4: ['Smirnov'], 3: ['Petrov', 'Markov'], 2: ['Nikitina', 'Pavlov']}\n"
     ]
    }
   ],
   "source": [
    "students = [('Ivanov',1),('Smirnov',4),('Petrov',3),('Kuznetsova',1),\n",
    "            ('Nikitina',2),('Markov',3),('Pavlov',2)]\n",
    "#список из кортежей с фамилиями и учебнымигруппами\n",
    "\n",
    "groups = dict()\n",
    "\n",
    "for student, group in students:\n",
    "    # Проверяем, есть ли уже эта группа в словаре\n",
    "    if group not in groups:\n",
    "         # Если группы ещё нет в словаре, создаём для неё пустой список\n",
    "         groups[group] = list()\n",
    "         print(groups)\n",
    "    groups[group].append(student)\n",
    "    \n",
    "print(groups)\n",
    "# {1: ['Ivanov', 'Kuznetsova'], 4: ['Smirnov'], 3: ['Petrov', 'Markov'], 2: ['Nikitina', 'Pavlov']}\n",
    "        "
   ]
  },
  {
   "attachments": {},
   "cell_type": "markdown",
   "metadata": {},
   "source": [
    "В данном коде в цикле for происходит распаковка кортежа: в переменные цикла student и group попадают первый и второй элементы кортежей из списка students. То есть на первой итерации цикла в переменной student содержится строка 'Ivanov', а в переменной group — целое число 1. На второй итерации цикла в переменной student содержится строка 'Smirnov', а в переменной group — целое число 4. И так далее.\n",
    "\n",
    "Обратите внимание, что для решения этой задачи нам потребовался шаг с проверкой наличия номера группы в словаре. Если номера группы не было, для этой группы мы создавали новый список в словаре. Без шага проверки мы бы натолкнулись на KeyError:"
   ]
  },
  {
   "attachments": {},
   "cell_type": "markdown",
   "metadata": {},
   "source": []
  },
  {
   "cell_type": "code",
   "execution_count": 168,
   "metadata": {},
   "outputs": [],
   "source": [
    "\n",
    "# groups = dict()\n",
    "\n",
    "# for student, group in students:\n",
    "#     groups[group].append(student)\n",
    "    \n",
    "# print(groups)"
   ]
  },
  {
   "attachments": {},
   "cell_type": "markdown",
   "metadata": {},
   "source": [
    "Данная ошибка означает, что ключа 1 нет в словаре."
   ]
  },
  {
   "attachments": {},
   "cell_type": "markdown",
   "metadata": {},
   "source": [
    "Например, чтобы сохранить информацию о колебании курсов валют за последний месяц, можно создать словарь из валютных пар (USD/RUB, EUR/RUB и т. д.), а по ключам разместить списки из стоимости валюты по курсу ЦБ за последние 30 дней. В таком словаре по каждому ключу должен быть доступен список.\n",
    "\n",
    "Создадим defaultdict, в котором при обращении по несуществующему ключу будет автоматически создаваться новый список. Для этого при создании объекта defaultdict в круглых скобках передадим параметр list:"
   ]
  },
  {
   "cell_type": "code",
   "execution_count": 169,
   "metadata": {},
   "outputs": [],
   "source": [
    "from collections import defaultdict\n",
    "groups = defaultdict(list) \n",
    "# Обратите внимание, что в скобках мы передаём именно указатель на класс объекта (например list; \n",
    "# также можно было бы применить set, dict) без круглых скобок, которые используются для создания нового экземпляра объекта."
   ]
  },
  {
   "cell_type": "code",
   "execution_count": 170,
   "metadata": {},
   "outputs": [
    {
     "name": "stdout",
     "output_type": "stream",
     "text": [
      "defaultdict(<class 'list'>, {1: ['Ivanov']})\n",
      "defaultdict(<class 'list'>, {1: ['Ivanov'], 4: ['Smirnov']})\n",
      "defaultdict(<class 'list'>, {1: ['Ivanov'], 4: ['Smirnov'], 3: ['Petrov']})\n",
      "defaultdict(<class 'list'>, {1: ['Ivanov', 'Kuznetsova'], 4: ['Smirnov'], 3: ['Petrov']})\n",
      "defaultdict(<class 'list'>, {1: ['Ivanov', 'Kuznetsova'], 4: ['Smirnov'], 3: ['Petrov'], 2: ['Nikitina']})\n",
      "defaultdict(<class 'list'>, {1: ['Ivanov', 'Kuznetsova'], 4: ['Smirnov'], 3: ['Petrov', 'Markov'], 2: ['Nikitina']})\n",
      "defaultdict(<class 'list'>, {1: ['Ivanov', 'Kuznetsova'], 4: ['Smirnov'], 3: ['Petrov', 'Markov'], 2: ['Nikitina', 'Pavlov']})\n",
      "\n",
      "defaultdict(<class 'list'>, {1: ['Ivanov', 'Kuznetsova'], 4: ['Smirnov'], 3: ['Petrov', 'Markov'], 2: ['Nikitina', 'Pavlov']})\n"
     ]
    }
   ],
   "source": [
    "groups.clear()\n",
    "for student, group in students:\n",
    "    groups[group].append(student)\n",
    "    print(groups)\n",
    "    \n",
    "print()\n",
    "print(groups)"
   ]
  },
  {
   "attachments": {},
   "cell_type": "markdown",
   "metadata": {},
   "source": [
    "Получить элемент из defaultdict по ключу можно так же, как и из обычного словаря:"
   ]
  },
  {
   "cell_type": "code",
   "execution_count": 171,
   "metadata": {},
   "outputs": [
    {
     "name": "stdout",
     "output_type": "stream",
     "text": [
      "['Petrov', 'Markov']\n"
     ]
    }
   ],
   "source": [
    "print(groups[3])"
   ]
  },
  {
   "attachments": {},
   "cell_type": "markdown",
   "metadata": {},
   "source": [
    "Если запрашиваемого ключа нет в словаре, KeyError не возникнет. Вместо этого будет напечатан пустой элемент, который создаётся в словаре по умолчанию:"
   ]
  },
  {
   "cell_type": "code",
   "execution_count": 172,
   "metadata": {},
   "outputs": [
    {
     "name": "stdout",
     "output_type": "stream",
     "text": [
      "[]\n",
      "[]\n",
      "[]\n"
     ]
    }
   ],
   "source": [
    "print(groups[29])\n",
    "print(groups[88])\n",
    "print(groups[88])"
   ]
  },
  {
   "attachments": {},
   "cell_type": "markdown",
   "metadata": {},
   "source": [
    "Теперь в словаре groups автоматически появился элемент 29 и 88 с пустым списком внутри, несмотря на то что мы его не создавали:"
   ]
  },
  {
   "cell_type": "code",
   "execution_count": 173,
   "metadata": {},
   "outputs": [
    {
     "name": "stdout",
     "output_type": "stream",
     "text": [
      "defaultdict(<class 'list'>, {1: ['Ivanov', 'Kuznetsova'], 4: ['Smirnov'], 3: ['Petrov', 'Markov'], 2: ['Nikitina', 'Pavlov'], 29: [], 88: []})\n"
     ]
    }
   ],
   "source": [
    "print(groups)"
   ]
  },
  {
   "cell_type": "code",
   "execution_count": 174,
   "metadata": {},
   "outputs": [
    {
     "name": "stdout",
     "output_type": "stream",
     "text": [
      "<class 'dict'>\n",
      "<class 'collections.defaultdict'>\n"
     ]
    }
   ],
   "source": [
    "dict_object = dict()\n",
    "defaultdict_object = defaultdict()\n",
    "\n",
    "print(type(dict_object))\n",
    "print(type(defaultdict_object))"
   ]
  },
  {
   "cell_type": "code",
   "execution_count": 175,
   "metadata": {},
   "outputs": [
    {
     "name": "stdout",
     "output_type": "stream",
     "text": [
      "{}\n",
      "defaultdict(None, {})\n"
     ]
    }
   ],
   "source": [
    "print(dict_object)\n",
    "print(defaultdict_object)\n",
    "# Заметьте, что в этом примере мы не задавали объект, \n",
    "# который по умолчанию хранится в экземпляре defaultdict, \n",
    "# поэтому объектом по умолчанию является None."
   ]
  },
  {
   "cell_type": "code",
   "execution_count": null,
   "metadata": {},
   "outputs": [],
   "source": []
  },
  {
   "attachments": {},
   "cell_type": "markdown",
   "metadata": {},
   "source": [
    "3. Модуль Collections. Deque и OrderedDict"
   ]
  },
  {
   "attachments": {},
   "cell_type": "markdown",
   "metadata": {},
   "source": [
    "**OrderedDict**"
   ]
  },
  {
   "cell_type": "code",
   "execution_count": 176,
   "metadata": {},
   "outputs": [
    {
     "name": "stdout",
     "output_type": "stream",
     "text": [
      "3.10.2 (tags/v3.10.2:a58ebcc, Jan 17 2022, 14:12:15) [MSC v.1929 64 bit (AMD64)]\n",
      "{'Ivan': 19, 'Mark': 25, 'Andrey': 23, 'Maria': 20}\n"
     ]
    }
   ],
   "source": [
    "import sys\n",
    "print(sys.version)\n",
    "data = [('Ivan', 19), ('Mark', 25), ('Andrey', 23), ('Maria', 20)]\n",
    "client_ages = dict(data)\n",
    "print(client_ages)\n"
   ]
  },
  {
   "attachments": {},
   "cell_type": "markdown",
   "metadata": {},
   "source": [
    "Специальный словарь, который гарантирует сохранение ключей в порядке их добавления, называется OrderedDict:\n",
    "В Python 3.7 и дальше обычные словари тоже сохраняют порядок"
   ]
  },
  {
   "cell_type": "code",
   "execution_count": 177,
   "metadata": {},
   "outputs": [
    {
     "name": "stdout",
     "output_type": "stream",
     "text": [
      "OrderedDict([('Ivan', 19), ('Mark', 25), ('Andrey', 23), ('Maria', 20)])\n",
      "OrderedDict([('Ivan', 19), ('Mark', 25), ('Andrey', 23), ('Maria', 20), ('Nikita', 18)])\n",
      "OrderedDict([('Ivan', 19), ('Mark', 25), ('Maria', 20), ('Nikita', 18)])\n",
      "OrderedDict([('Ivan', 19), ('Mark', 25), ('Maria', 20), ('Nikita', 18), ('Andrey', 23)])\n"
     ]
    }
   ],
   "source": [
    "from collections import OrderedDict\n",
    "data = [('Ivan', 19), ('Mark', 25), ('Andrey', 23), ('Maria', 20)]\n",
    "ordered_client_ages = OrderedDict(data)\n",
    "print(ordered_client_ages)\n",
    "\n",
    "# Если теперь добавить нового человека в словарь, новая запись окажется в конце:\n",
    "ordered_client_ages['Nikita'] = 18\n",
    "print(ordered_client_ages)\n",
    "\n",
    "# Если удалить элемент, а затем добавить его снова, он также окажется в конце:\n",
    "del ordered_client_ages['Andrey']\n",
    "print(ordered_client_ages)\n",
    "ordered_client_ages['Andrey'] = 23\n",
    "print(ordered_client_ages)\n"
   ]
  },
  {
   "attachments": {},
   "cell_type": "markdown",
   "metadata": {},
   "source": [
    "Можно, например, отсортировать с помощью функции sorted список кортежей при создании из него OrderedDict, и объекты будут добавлены в порядке сортировки:"
   ]
  },
  {
   "cell_type": "code",
   "execution_count": 178,
   "metadata": {},
   "outputs": [
    {
     "name": "stdout",
     "output_type": "stream",
     "text": [
      "{'Ivan': 19, 'Mark': 25, 'Andrey': 23, 'Maria': 20}\n"
     ]
    }
   ],
   "source": [
    "data = [('Ivan', 19),('Mark', 25),('Andrey', 23),('Maria', 20)]\n",
    "\n",
    "ordered_dict_ages = OrderedDict(sorted(data, key=lambda x: x[1]))\n",
    "print(client_ages)"
   ]
  },
  {
   "attachments": {},
   "cell_type": "markdown",
   "metadata": {},
   "source": [
    "Deque"
   ]
  },
  {
   "cell_type": "code",
   "execution_count": null,
   "metadata": {},
   "outputs": [],
   "source": []
  },
  {
   "attachments": {},
   "cell_type": "markdown",
   "metadata": {},
   "source": [
    "Double-ended queue — двухконцевая очередь). Она объединяет в себе возможности и стека, и очереди: содержит функции, которые позволяют добавлять элементы в начало или в конец очереди, а также извлекать первый или последний элемент из неё. \n",
    "Можно сказать, что стек и очередь — это принципы обработки данных. deque позволяет обрабатывать данные обоими способами в зависимости от того, что требуется от разработчика. В каком порядке обрабатывать данные (FIFO или LIFO) вам подскажет собственная логика или более продвинутая теория алгоритмов, которая в данном модуле не изучается."
   ]
  },
  {
   "attachments": {},
   "cell_type": "markdown",
   "metadata": {},
   "source": [
    "У deque есть четыре ключевые функции:\n",
    "\n",
    "        append (добавить элемент в конец дека);\n",
    "        appendleft (добавить элемент в начало дека);\n",
    "        pop (удалить и вернуть элемент из конца дека);\n",
    "        popleft (удалить и вернуть элемент из начала дека).\n",
    "        extend добавить в конец дека несколько элементов\n",
    "        extendleft (добавить в начало дека).\n"
   ]
  },
  {
   "cell_type": "code",
   "execution_count": 179,
   "metadata": {},
   "outputs": [
    {
     "name": "stdout",
     "output_type": "stream",
     "text": [
      "deque([])\n"
     ]
    }
   ],
   "source": [
    "from collections import deque\n",
    "dq = deque()\n",
    "print(dq)"
   ]
  },
  {
   "attachments": {},
   "cell_type": "markdown",
   "metadata": {},
   "source": [
    "clients.append('Ivanov')\n",
    "clients.append('')"
   ]
  },
  {
   "cell_type": "code",
   "execution_count": 180,
   "metadata": {},
   "outputs": [
    {
     "name": "stdout",
     "output_type": "stream",
     "text": [
      "deque(['Ivanov', 'Petrov', 'Smirnov', 'Tikhonova'])\n"
     ]
    }
   ],
   "source": [
    "clients = deque()\n",
    "clients.append('Ivanov')\n",
    "clients.append('Petrov')\n",
    "clients.append('Smirnov')\n",
    "clients.append('Tikhonova')\n",
    "print(clients)\n"
   ]
  },
  {
   "cell_type": "code",
   "execution_count": 181,
   "metadata": {},
   "outputs": [
    {
     "name": "stdout",
     "output_type": "stream",
     "text": [
      "clients: deque(['Ivanov', 'Petrov', 'Smirnov', 'Tikhonova'])\n",
      "First client: Ivanov\n",
      "Second client: Petrov\n",
      "deque(['Smirnov', 'Tikhonova'])\n",
      "deque(['VIP', 'Smirnov', 'Tikhonova'])\n",
      "tired client: Tikhonova\n",
      "deque(['VIP', 'Smirnov'])\n"
     ]
    }
   ],
   "source": [
    "# Объект deque поддерживает индексацию по элементам:\n",
    "clients = deque()\n",
    "clients.append('Ivanov')\n",
    "clients.append('Petrov')\n",
    "clients.append('Smirnov')\n",
    "clients.append('Tikhonova')\n",
    "print('clients:', clients)\n",
    "\n",
    "first_client = clients.popleft()\n",
    "second_client = clients.popleft()\n",
    "#third_client = clients.popleft()\n",
    "\n",
    "print('First client:', first_client)\n",
    "print('Second client:', second_client)\n",
    "print(clients)\n",
    "\n",
    "\n",
    "clients.appendleft('VIP')\n",
    "print(clients)\n",
    "\n",
    "tired_client = clients.pop()\n",
    "print('tired client:', tired_client)\n",
    "print(clients)"
   ]
  },
  {
   "cell_type": "code",
   "execution_count": 182,
   "metadata": {},
   "outputs": [
    {
     "name": "stdout",
     "output_type": "stream",
     "text": [
      "deque(['Ivanov', 'Petrov', 'Srmirnov', 'Tikhonova'])\n",
      "deque(['Ivanov', 'Petrov', 'Tikhonova'])\n"
     ]
    }
   ],
   "source": [
    "clients = deque(['Ivanov', 'Petrov', 'Srmirnov', 'Tikhonova'])\n",
    "print(clients)\n",
    "del clients[2]\n",
    "print(clients)"
   ]
  },
  {
   "cell_type": "code",
   "execution_count": 183,
   "metadata": {},
   "outputs": [
    {
     "name": "stdout",
     "output_type": "stream",
     "text": [
      "deque([1, 2, 3, 4, 5])\n",
      "deque([1, 2, 3, 4, 5, 11, 12, 13, 14, 15])\n",
      "deque([20, 19, 18, 17, 16, 1, 2, 3, 4, 5, 11, 12, 13, 14, 15])\n"
     ]
    }
   ],
   "source": [
    "shop = deque([1, 2, 3, 4, 5])\n",
    "print(shop)\n",
    "shop.extend([11, 12, 13, 14, 15])\n",
    "print(shop)\n",
    "shop.extendleft([16, 17, 18, 19, 20])\n",
    "print(shop)\n"
   ]
  },
  {
   "attachments": {},
   "cell_type": "markdown",
   "metadata": {},
   "source": [
    "Обратите внимание, что «клиенты из автобуса» оказались в очереди не в том порядке, в каком они «выходили из автобуса». То есть добавленные номера не только приписаны перед записанными в очереди номерами, но также порядок добавленных элементов поменялся на обратный. Это связано с тем, что действие функции extendleft аналогично многократному применению функции appendleft, поэтому самый последний клиент из автобуса оказался в итоге первым в очереди."
   ]
  },
  {
   "attachments": {},
   "cell_type": "markdown",
   "metadata": {},
   "source": [
    "            Очередь с ограниченной максимальной длиной"
   ]
  },
  {
   "attachments": {},
   "cell_type": "markdown",
   "metadata": {},
   "source": [
    "При создании очереди можно также указать её максимальную длину с помощью параметра maxlen. Сделать это можно как при создании пустой очереди, так и при создании очереди от заданного итерируемого объекта:"
   ]
  },
  {
   "cell_type": "code",
   "execution_count": 184,
   "metadata": {},
   "outputs": [
    {
     "name": "stdout",
     "output_type": "stream",
     "text": [
      "deque([], maxlen=3)\n",
      "deque([5, 6, 7], maxlen=3)\n",
      "deque([1, 2, 3], maxlen=3)\n",
      "None\n",
      "deque([2, 3, 8], maxlen=3)\n",
      "deque([3, 8, 9], maxlen=3)\n"
     ]
    }
   ],
   "source": [
    "limited = deque(maxlen =3)\n",
    "print(limited) # макс длина дека тоже печатается\n",
    "\n",
    "limited_from_list = deque([1,2,3,4,5,6,7], maxlen=3)\n",
    "print(limited_from_list) # в очереди с ограниченной длиной сохраняются только последние элементы, а первые исчезают из памяти:\n",
    "\n",
    "limited.extend([1,2,3])\n",
    "print(limited)\n",
    "\n",
    "print(limited.append(8))\n",
    "print(limited)\n",
    "\n",
    "limited.append(9)\n",
    "print(limited)\n"
   ]
  },
  {
   "attachments": {},
   "cell_type": "markdown",
   "metadata": {},
   "source": [
    "При этом, как видно из результата операции limited.append(8), удаляемый элемент не возвращается, а просто исчезает.\n",
    "\n",
    "?\n",
    "Для чего может пригодиться такая возможность?\n",
    "\n",
    "Например, необходимость в таком инструменте возникает, когда за один раз необходимо обрабатывать строго фиксированное число элементов. Особенно это актуально для анализа динамики какого-то значения во времени."
   ]
  },
  {
   "attachments": {},
   "cell_type": "markdown",
   "metadata": {},
   "source": [
    "Посчитаем динамику средней температуры с усреднением за каждые последние 7 дней для каждого рассматриваемого дня. Для этого воспользуемся очередью с параметром maxlen=7:"
   ]
  },
  {
   "cell_type": "code",
   "execution_count": 185,
   "metadata": {},
   "outputs": [
    {
     "name": "stdout",
     "output_type": "stream",
     "text": [
      "20.77; 21.27; 22.16; 23.3; 24.44; 24.94; 25.56; 26.2; 25.97; 25.94; 25.57; 25.1; 24.81; 24.21; 23.23; 22.57; 21.41; 20.4; 19.6; 19.1; 19.04; 18.96; 19.44; 20.01; 20.67; \n"
     ]
    }
   ],
   "source": [
    "temps = [20.6, 19.4, 19.0, 19.0, 22.1,\n",
    "        22.5, 22.8, 24.1, 25.6, 27.0,\n",
    "        27.0, 25.6, 26.8, 27.3, 22.5,\n",
    "        25.4, 24.4, 23.7, 23.6, 22.6,\n",
    "        20.4, 17.9, 17.3, 17.3, 18.1,\n",
    "        20.1, 22.2, 19.8, 21.3, 21.3,\n",
    "        21.9]\n",
    "\n",
    "days = deque(maxlen=7)\n",
    "\n",
    "for temp in temps:\n",
    "    # Добавляем температуру в очередь\n",
    "    days.append(temp)\n",
    "    # Если длина очереди оказалась равной максимальной длине очереди (7),\n",
    "    # печатаем среднюю температуру за последние 7 дней\n",
    "    if len(days) == days.maxlen:\n",
    "        print(round(sum(days) / len(days), 2), end='; ')\n",
    "# Напечатаем пустую строку, чтобы завершить действие параметра\n",
    "# end. Иначе следующая строка окажется напечатанной на предыдущей\n",
    "print(\"\")"
   ]
  },
  {
   "attachments": {},
   "cell_type": "markdown",
   "metadata": {},
   "source": [
    "Дополнительные функции\n",
    "\n",
    "        # reverse позволяет поменять порядок элементов в очереди на обратный:\n",
    "        rotate переносит заданных элементов из конца очереди в начало:\n",
    "        Функция index позволяет найти первый индекс искомого элемента\n",
    "        count позволяет подсчитать, сколько раз элемент встретился в очереди (функции аналогичны одноимённым функциям для списков):\n",
    "        функция clear позволяет очистить очередь:"
   ]
  },
  {
   "cell_type": "code",
   "execution_count": 186,
   "metadata": {},
   "outputs": [
    {
     "name": "stdout",
     "output_type": "stream",
     "text": [
      "--- reverse-----\n",
      "deque([1, 2, 3, 4, 5])\n",
      "deque([5, 4, 3, 2, 1])\n",
      "\n"
     ]
    }
   ],
   "source": [
    "# reverse позволяет поменять порядок элементов в очереди на обратный:\n",
    "print('--- reverse-----')\n",
    "dq = deque([1,2,3,4,5])\n",
    "print(dq)\n",
    "\n",
    " \n",
    "dq.reverse()\n",
    "print(dq)\n",
    "print()\n",
    "\n",
    "\n"
   ]
  },
  {
   "cell_type": "code",
   "execution_count": 187,
   "metadata": {},
   "outputs": [
    {
     "name": "stdout",
     "output_type": "stream",
     "text": [
      "---- rotate ----\n",
      "deque([1, 2, 3, 4, 5])\n",
      "deque([4, 5, 1, 2, 3])\n",
      "deque([1, 2, 3, 4, 5])\n",
      "deque([3, 4, 5, 1, 2])\n",
      "\n"
     ]
    }
   ],
   "source": [
    "# rotate переносит заданных элементов из конца очереди в начало:\n",
    "print('---- rotate ----')\n",
    "dq = deque([1,2,3,4,5])\n",
    "print(dq)\n",
    "\n",
    "dq.rotate(2) # считает с конца, 1й = 5, 2й = 4. Цифра указывает количество элементов\n",
    "print(dq)\n",
    "\n",
    "# Элементы можно переносить и из начала в конец:\n",
    "\n",
    "dq = deque([1,2,3,4,5])\n",
    "print(dq)\n",
    "\n",
    "dq.rotate(-2)\n",
    "print(dq)\n",
    "\n",
    "# Обратите внимание, что порядок внутри перенесённых элементов остался тем же, каким был изначально. \n",
    "# Вспомните, в каком порядке добавляются элементы в начало очереди функцией extend, и сопоставьте с действием rotate.\n",
    "print()\n",
    "\n"
   ]
  },
  {
   "cell_type": "code",
   "execution_count": 188,
   "metadata": {},
   "outputs": [
    {
     "name": "stdout",
     "output_type": "stream",
     "text": [
      "---- index,  count ----\n",
      "2\n",
      "6\n"
     ]
    },
    {
     "data": {
      "text/plain": [
       "6"
      ]
     },
     "execution_count": 188,
     "metadata": {},
     "output_type": "execute_result"
    }
   ],
   "source": [
    "\n",
    "print('---- index,  count ----')\n",
    "dq = [1,2,4,2,3,1,5,4,4,4,4,4,3]\n",
    "print(dq.index(4))\n",
    "dq.index(4) \n",
    "print(dq.count(4))\n",
    "dq.count(4)\n"
   ]
  },
  {
   "cell_type": "code",
   "execution_count": 189,
   "metadata": {},
   "outputs": [
    {
     "ename": "ValueError",
     "evalue": "25 is not in deque",
     "output_type": "error",
     "traceback": [
      "\u001b[1;31m---------------------------------------------------------------------------\u001b[0m",
      "\u001b[1;31mValueError\u001b[0m                                Traceback (most recent call last)",
      "\u001b[1;32mc:\\Users\\Konstantin\\SF\\SkillFactory\\9th NumPy\\9th.ipynb Cell 78\u001b[0m in \u001b[0;36m<cell line: 3>\u001b[1;34m()\u001b[0m\n\u001b[0;32m      <a href='vscode-notebook-cell:/c%3A/Users/Konstantin/SF/SkillFactory/9th%20NumPy/9th.ipynb#Y140sZmlsZQ%3D%3D?line=0'>1</a>\u001b[0m \u001b[39m#  при попытке узнать индекс несуществующего элемента возникнет ValueError:\u001b[39;00m\n\u001b[0;32m      <a href='vscode-notebook-cell:/c%3A/Users/Konstantin/SF/SkillFactory/9th%20NumPy/9th.ipynb#Y140sZmlsZQ%3D%3D?line=1'>2</a>\u001b[0m dq \u001b[39m=\u001b[39m deque([\u001b[39m1\u001b[39m,\u001b[39m2\u001b[39m,\u001b[39m4\u001b[39m,\u001b[39m2\u001b[39m,\u001b[39m3\u001b[39m,\u001b[39m1\u001b[39m,\u001b[39m5\u001b[39m,\u001b[39m4\u001b[39m,\u001b[39m4\u001b[39m,\u001b[39m4\u001b[39m,\u001b[39m4\u001b[39m,\u001b[39m4\u001b[39m,\u001b[39m3\u001b[39m])\n\u001b[1;32m----> <a href='vscode-notebook-cell:/c%3A/Users/Konstantin/SF/SkillFactory/9th%20NumPy/9th.ipynb#Y140sZmlsZQ%3D%3D?line=2'>3</a>\u001b[0m \u001b[39mprint\u001b[39m(dq\u001b[39m.\u001b[39;49mindex(\u001b[39m25\u001b[39;49m))\n",
      "\u001b[1;31mValueError\u001b[0m: 25 is not in deque"
     ]
    }
   ],
   "source": [
    "#  при попытке узнать индекс несуществующего элемента возникнет ValueError:\n",
    "dq = deque([1,2,4,2,3,1,5,4,4,4,4,4,3])\n",
    "print(dq.index(25))"
   ]
  },
  {
   "cell_type": "code",
   "execution_count": null,
   "metadata": {},
   "outputs": [
    {
     "name": "stdout",
     "output_type": "stream",
     "text": [
      "0\n"
     ]
    }
   ],
   "source": [
    "# А вот посчитать несуществующий элемент можно (получится просто 0):\n",
    "dq = deque([1,2,4,2,3,1,5,4,4,4,4,4,3])\n",
    "print(dq.count(25))"
   ]
  },
  {
   "cell_type": "code",
   "execution_count": null,
   "metadata": {},
   "outputs": [
    {
     "name": "stdout",
     "output_type": "stream",
     "text": [
      "deque([1, 2, 4, 2, 3, 1, 5, 4, 4, 4, 4, 4, 3])\n",
      "deque([])\n"
     ]
    }
   ],
   "source": [
    "dq = deque([1,2,4,2,3,1,5,4,4,4,4,4,3])\n",
    "print(dq)\n",
    "dq.clear()\n",
    "print(dq)\n"
   ]
  },
  {
   "attachments": {},
   "cell_type": "markdown",
   "metadata": {},
   "source": [
    "##Закрепление"
   ]
  },
  {
   "attachments": {},
   "cell_type": "markdown",
   "metadata": {},
   "source": [
    "Напишите функцию brackets(line), которая определяет, является ли последовательность из круглых скобок правильной.\n",
    "Какая последовательность скобок правильная?\n",
    "\n",
    "Правильной скобочной последовательностью назовём такую последовательность скобок, в которой для каждой открывающей скобки есть последующая соответствующая ей закрывающая скобка.\n",
    "\n",
    "Цветом обозначены соответствующие друг другу скобки: (()())()\n",
    "\n",
    "Соответственно, остальные скобочные последовательности назовём неправильными.\n",
    "\n",
    "Пустую строку будем считать правильной последовательностью.\n",
    "\n",
    "Для решения этой задачи потребуется использовать стек.\n",
    "\n",
    "Посимвольно переберите строку. Если встретилась открывающаяся скобка, положите её в стек. Если встретилась закрывающаяся скобка, извлеките скобку из стека.\n",
    "\n",
    "        Если стек пустой, то есть извлечь скобку нельзя, последовательность неправильная.\n",
    "        Если строка закончилась и стек стал пустым, последовательность правильная.\n",
    "        Если в стеке остались скобки, последовательность неправильная.\n",
    "\n",
    "Пример:"
   ]
  },
  {
   "cell_type": "code",
   "execution_count": null,
   "metadata": {},
   "outputs": [
    {
     "name": "stdout",
     "output_type": "stream",
     "text": [
      "True\n",
      "True\n",
      "False\n"
     ]
    }
   ],
   "source": [
    "from collections import deque\n",
    "\n",
    "def brackets(line):\n",
    "    stack = deque()\n",
    "    for i in line:\n",
    "        if i=='(':\n",
    "            stack.append(i)\n",
    "        elif i ==')':\n",
    "            if len(stack) == 0:\n",
    "                return False\n",
    "            stack.pop()\n",
    "    if len(stack) == 0:\n",
    "        return True\n",
    "    return False\n",
    "\n",
    "print(brackets(\"(()())\"))\n",
    "# True\n",
    "print(brackets(\"\"))\n",
    "# True\n",
    "print(brackets(\"(()()))\"))\n",
    "# False"
   ]
  },
  {
   "attachments": {},
   "cell_type": "markdown",
   "metadata": {},
   "source": [
    "В переменных center, south и north хранятся списки из перечней купленных позиций в трёх торговых точках, расположенных в разных районах города.\n",
    "\n",
    "Вначале избавьтесь от излишней вложенности: в каждой переменной (center, south, north) должен храниться объединённый список купленных товаров без разбиения по чекам.\n",
    "\n",
    "Пример: [['Milk', 'Bread'], ['Meat']] -> ['Milk', 'Bread', 'Meat']"
   ]
  },
  {
   "cell_type": "code",
   "execution_count": null,
   "metadata": {},
   "outputs": [],
   "source": [
    "\n",
    "list_north = [elem for bill in north for elem in bill]\n",
    "list_center = [elem for bill in center for elem in bill]\n",
    "list_south = [elem for bill in south for elem in bill]\n",
    "print(len(list_north))\n",
    "print(len(list_center))\n",
    "print(len(list_south))"
   ]
  },
  {
   "attachments": {},
   "cell_type": "markdown",
   "metadata": {},
   "source": [
    "Теперь получите объекты-счётчики (Counter) из каждого полученного в предыдущем задании списка покупок и сохраните их в отдельные переменные (они пригодятся для выполнения следующих задач).\n",
    "\n",
    "Сколько раз покупали самый редкий товар в магазине north? Запишите ответ в числовой форме."
   ]
  },
  {
   "cell_type": "code",
   "execution_count": null,
   "metadata": {},
   "outputs": [],
   "source": [
    "from collections import Counter\n",
    "\n",
    "list_north = [elem for bill in north for elem in bill]\n",
    "list_center = [elem for bill in center for elem in bill]\n",
    "list_south = [elem for bill in south for elem in bill]\n",
    "print(len(list_north))\n",
    "print(len(list_center))\n",
    "print(len(list_south))\n",
    "\n",
    "c_north = Counter(list_north)\n",
    "c_center = Counter(list_center)\n",
    "c_south = Counter(list_south)\n",
    "\n",
    "print(c_north)\n",
    "print(c_north.most_common()[-1])"
   ]
  },
  {
   "attachments": {},
   "cell_type": "markdown",
   "metadata": {},
   "source": [
    " Задание 4.7\n",
    "Есть ли такой товар, который в одном из магазинов покупали чаще, чем в двух других вместе взятых? Если да, выберите магазин с настолько популярным товаром:\n",
    "\n",
    " Задание 4.8\n",
    "Определите суммарное число продаж каждого товара во всех магазинах, сложив все объекты-счётчики. Сколько раз был куплен второй по популярности товар? Запишите ответ в числовой форме."
   ]
  },
  {
   "cell_type": "code",
   "execution_count": null,
   "metadata": {},
   "outputs": [],
   "source": [
    "from collections import Counter\n",
    "\n",
    "list_north = [elem for bill in north for elem in bill]\n",
    "list_center = [elem for bill in center for elem in bill]\n",
    "list_south = [elem for bill in south for elem in bill]\n",
    "print(len(list_north))\n",
    "print(len(list_center))\n",
    "print(len(list_south))\n",
    "\n",
    "c_north = Counter(list_north)\n",
    "c_center = Counter(list_center)\n",
    "c_south = Counter(list_south)\n",
    "\n",
    "print(c_north)\n",
    "print(c_center)\n",
    "print(c_north.most_common()[-1])\n",
    "print(c_center - c_north)\n",
    "print()\n",
    "print (c_north - (c_center + c_south))\n",
    "print (c_center - (c_north + c_south))\n",
    "print (c_south - (c_center + c_north))\n",
    "# c_center.subtract(c_north)\n",
    "print(c_center)\n",
    "total = c_north + c_center + c_south\n",
    "print(total)\n",
    "print(total.most_common()[1])"
   ]
  },
  {
   "attachments": {},
   "cell_type": "markdown",
   "metadata": {},
   "source": [
    "Дан список кортежей ratings с рейтингами кафе. Кортеж состоит из названия и рейтинга кафе.\n",
    "\n",
    "Необходимо отсортировать список кортежей по убыванию рейтинга. Если рейтинги совпадают, то отсортировать кафе дополнительно по названию в алфавитном порядке.\n",
    "\n",
    "Получите словарь cafes с упорядоченными ключами из отсортированного списка, где ключи — названия кафе, а значения — их рейтинг."
   ]
  },
  {
   "cell_type": "code",
   "execution_count": null,
   "metadata": {},
   "outputs": [],
   "source": [
    "from collections import OrderedDict\n",
    "ratings = [('Old York', 3.3), ('New Age', 4.6), ('Old Gold', 3.3), ('General Foods', 4.8),\n",
    "           ('Belissimo', 4.5), ('CakeAndCoffee', 4.2), ('CakeOClock', 4.2), ('CakeTime', 4.1),\n",
    "           ('WokToWork', 4.9), ('WokAndRice', 4.9), ('Old Wine Cellar', 3.3), ('Nice Cakes', 3.9)]\n",
    "\n",
    "\n",
    "ratings.sort(key=lambda x:( -x[1], x[0]))\n",
    "# print(ratings)\n",
    "\n",
    "cafes = OrderedDict(ratings)\n",
    "# print(cafes)"
   ]
  },
  {
   "cell_type": "code",
   "execution_count": null,
   "metadata": {},
   "outputs": [
    {
     "name": "stdout",
     "output_type": "stream",
     "text": [
      "1 [('Belissimo', 4.5), ('CakeAndCoffee', 4.2), ('CakeOClock', 4.2), ('CakeTime', 4.1), ('General Foods', 4.8), ('New Age', 4.6), ('Nice Cakes', 3.9), ('Old Gold', 3.3), ('Old Wine Cellar', 3.3), ('Old York', 3.3), ('WokAndRice', 4.9), ('WokToWork', 4.9)]\n",
      "2 [('Belissimo', 4.5), ('CakeAndCoffee', 4.2), ('CakeOClock', 4.2), ('CakeTime', 4.1), ('General Foods', 4.8), ('New Age', 4.6), ('Nice Cakes', 3.9), ('Old Gold', 3.3), ('Old Wine Cellar', 3.3), ('Old York', 3.3), ('WokAndRice', 4.9), ('WokToWork', 4.9)]\n",
      "3 [('WokToWork', 4.9), ('WokAndRice', 4.9), ('General Foods', 4.8), ('New Age', 4.6), ('Belissimo', 4.5), ('CakeAndCoffee', 4.2), ('CakeOClock', 4.2), ('CakeTime', 4.1), ('Nice Cakes', 3.9), ('Old York', 3.3), ('Old Gold', 3.3), ('Old Wine Cellar', 3.3)]\n",
      "a [('Old York', 3.3), ('Old Gold', 3.3), ('Old Wine Cellar', 3.3), ('Nice Cakes', 3.9), ('CakeTime', 4.1), ('CakeAndCoffee', 4.2), ('CakeOClock', 4.2), ('Belissimo', 4.5), ('New Age', 4.6), ('General Foods', 4.8), ('WokToWork', 4.9), ('WokAndRice', 4.9)]\n",
      "5 [('Old Gold', 3.3), ('Old Wine Cellar', 3.3), ('Old York', 3.3), ('Nice Cakes', 3.9), ('CakeTime', 4.1), ('CakeAndCoffee', 4.2), ('CakeOClock', 4.2), ('Belissimo', 4.5), ('New Age', 4.6), ('General Foods', 4.8), ('WokAndRice', 4.9), ('WokToWork', 4.9)]\n",
      "6 [('Old York', 3.3), ('Old Gold', 3.3), ('Old Wine Cellar', 3.3), ('Nice Cakes', 3.9), ('CakeTime', 4.1), ('CakeAndCoffee', 4.2), ('CakeOClock', 4.2), ('Belissimo', 4.5), ('New Age', 4.6), ('General Foods', 4.8), ('WokToWork', 4.9), ('WokAndRice', 4.9)]\n",
      "7 [('WokAndRice', 4.9), ('WokToWork', 4.9), ('General Foods', 4.8), ('New Age', 4.6), ('Belissimo', 4.5), ('CakeAndCoffee', 4.2), ('CakeOClock', 4.2), ('CakeTime', 4.1), ('Nice Cakes', 3.9), ('Old Gold', 3.3), ('Old Wine Cellar', 3.3), ('Old York', 3.3)]\n",
      "8 [('Belissimo', 4.5), ('CakeAndCoffee', 4.2), ('CakeOClock', 4.2), ('CakeTime', 4.1), ('General Foods', 4.8), ('New Age', 4.6), ('Nice Cakes', 3.9), ('Old Gold', 3.3), ('Old Wine Cellar', 3.3), ('Old York', 3.3), ('WokAndRice', 4.9), ('WokToWork', 4.9)]\n"
     ]
    }
   ],
   "source": [
    "ratings = [('Old York', 3.3), ('New Age', 4.6), ('Old Gold', 3.3), ('General Foods', 4.8),\n",
    "           ('Belissimo', 4.5), ('CakeAndCoffee', 4.2), ('CakeOClock', 4.2), ('CakeTime', 4.1),\n",
    "           ('WokToWork', 4.9), ('WokAndRice', 4.9), ('Old Wine Cellar', 3.3), ('Nice Cakes', 3.9)]\n",
    "\n",
    "\n",
    "ratings.sort(key=lambda x: (x[0])) # отсортирует по алфавиту\n",
    "print('1', ratings)\n",
    "\n",
    "ratings = [('Old York', 3.3), ('New Age', 4.6), ('Old Gold', 3.3), ('General Foods', 4.8), ('Belissimo', 4.5), ('CakeAndCoffee', 4.2), ('CakeOClock', 4.2), ('CakeTime', 4.1), ('WokToWork', 4.9), ('WokAndRice', 4.9), ('Old Wine Cellar', 3.3), ('Nice Cakes', 3.9)]\n",
    "ratings.sort(key=lambda x: (x[0], -x[1])) # отсортирует по алфавиту как и предыдущий\n",
    "print('2', ratings)\n",
    "\n",
    "ratings = [('Old York', 3.3), ('New Age', 4.6), ('Old Gold', 3.3), ('General Foods', 4.8), ('Belissimo', 4.5), ('CakeAndCoffee', 4.2), ('CakeOClock', 4.2), ('CakeTime', 4.1), ('WokToWork', 4.9), ('WokAndRice', 4.9), ('Old Wine Cellar', 3.3), ('Nice Cakes', 3.9)]\n",
    "ratings.sort(key=lambda x: (-x[1])) # отсортирует по рейтингу, но не по алфавиту\n",
    "print('3',ratings)\n",
    "\n",
    "ratings = [('Old York', 3.3), ('New Age', 4.6), ('Old Gold', 3.3), ('General Foods', 4.8), ('Belissimo', 4.5), ('CakeAndCoffee', 4.2), ('CakeOClock', 4.2), ('CakeTime', 4.1), ('WokToWork', 4.9), ('WokAndRice', 4.9), ('Old Wine Cellar', 3.3), ('Nice Cakes', 3.9)]\n",
    "ratings.sort(key=lambda x: (x[1])) # отсортирует по рейтингу с низкого, игнорируя алфавит\n",
    "print('a',ratings)\n",
    "\n",
    "# ratings = [('Old York', 3.3), ('New Age', 4.6), ('Old Gold', 3.3), ('General Foods', 4.8), ('Belissimo', 4.5), ('CakeAndCoffee', 4.2), ('CakeOClock', 4.2), ('CakeTime', 4.1), ('WokToWork', 4.9), ('WokAndRice', 4.9), ('Old Wine Cellar', 3.3), ('Nice Cakes', 3.9)]\n",
    "# ratings.sort(key=lambda x: (-x[1], x[0])) # отсортирует по рейтингу И по алфавиту\n",
    "# print('4',ratings)\n",
    "\n",
    "ratings = [('Old York', 3.3), ('New Age', 4.6), ('Old Gold', 3.3), ('General Foods', 4.8), ('Belissimo', 4.5), ('CakeAndCoffee', 4.2), ('CakeOClock', 4.2), ('CakeTime', 4.1), ('WokToWork', 4.9), ('WokAndRice', 4.9), ('Old Wine Cellar', 3.3), ('Nice Cakes', 3.9)]\n",
    "ratings.sort(key=lambda x: (x[1], x[0])) # отсортирует по рейтингу с низкого\n",
    "print('5',ratings)\n",
    "\n",
    "ratings = [('Old York', 3.3), ('New Age', 4.6), ('Old Gold', 3.3), ('General Foods', 4.8), ('Belissimo', 4.5), ('CakeAndCoffee', 4.2), ('CakeOClock', 4.2), ('CakeTime', 4.1), ('WokToWork', 4.9), ('WokAndRice', 4.9), ('Old Wine Cellar', 3.3), ('Nice Cakes', 3.9)]\n",
    "ratings.sort(key=lambda x: (x[1], -x[1])) # отсортирует \n",
    "print('6',ratings)\n",
    "\n",
    "ratings = [('Old York', 3.3), ('New Age', 4.6), ('Old Gold', 3.3), ('General Foods', 4.8), ('Belissimo', 4.5), ('CakeAndCoffee', 4.2), ('CakeOClock', 4.2), ('CakeTime', 4.1), ('WokToWork', 4.9), ('WokAndRice', 4.9), ('Old Wine Cellar', 3.3), ('Nice Cakes', 3.9)]\n",
    "ratings.sort(key=lambda x: (-x[1], x[0])) # отсортирует по рейтингу И по алфавиту\n",
    "print('7',ratings)\n",
    "\n",
    "ratings = [('Old York', 3.3), ('New Age', 4.6), ('Old Gold', 3.3), ('General Foods', 4.8), ('Belissimo', 4.5), ('CakeAndCoffee', 4.2), ('CakeOClock', 4.2), ('CakeTime', 4.1), ('WokToWork', 4.9), ('WokAndRice', 4.9), ('Old Wine Cellar', 3.3), ('Nice Cakes', 3.9)]\n",
    "ratings.sort() # отсортирует по алфавиту\n",
    "print('8',ratings)\n",
    "\n",
    "# ratings.sort(key=lambda x: (-x[1], x[0]))\n",
    "# print(ratings)\n",
    "# ratings.sort() # отсортирует по алфавиту\n",
    "# print(ratings)\n",
    "# ratings.sort(key=lambda x: (x[0], -x[1])) # отсортирует по алфавиту\n",
    "# print(ratings)"
   ]
  },
  {
   "attachments": {},
   "cell_type": "markdown",
   "metadata": {},
   "source": [
    "https://pythonru.com/osnovy/vse-chto-nuzhno-znat-o-lambda-funkcijah-v-python\n",
    "\n",
    "Лямбда-функция и сортировка списков\n",
    "\n",
    "Сортировка списка — базовая операция в Python. Если речь идет о списке чисел или строк, то процесс максимально простой. Подойдут встроенные функции sort и sorted.\n",
    "\n",
    "Но иногда имеется список кастомных объектов, сортировать которые нужно на основе значений одного из полей. В таком случае можно передать параметр key в sort или sorted. Он и будет являться функцией.\n",
    "\n",
    "Функция применяется ко всем элементам объекта, а возвращаемое значение — то, на основе чего выполнится сортировка. Рассмотрим пример. Есть класс Employee.\n",
    "\n",
    "class Employee:\n",
    "    def __init__(self, name, age):\n",
    "        self.name = name\n",
    "        self.age = age\n",
    "\n",
    "Теперь создадим экземпляры этого класса и добавим их в список.\n",
    "\n",
    "Alex = Employee('Alex', 20)\n",
    "Amanda = Employee('Amanda', 30)\n",
    "David = Employee('David', 15)\n",
    "L = [Alex, Amanda, David]\n",
    "\n",
    "Предположим, что мы хотим отсортировать его на основе поля age сотрудников. Вот что нужно сделать для этого:\n",
    "\n",
    "L.sort(key=lambda x: x.age)\n",
    "print([item.name for item in L])\n",
    "# вывод: ['David', 'Alex', 'Amanda']\n",
    "\n",
    "Лямбда-выражение было использовано в качестве параметра key вместо отдельного ее определения и затем передачи в функцию sort."
   ]
  },
  {
   "cell_type": "code",
   "execution_count": null,
   "metadata": {},
   "outputs": [
    {
     "name": "stdout",
     "output_type": "stream",
     "text": [
      "['David', 'Alex', 'Amanda']\n"
     ]
    }
   ],
   "source": [
    "class Employee:\n",
    "    def __init__(self, name, age):\n",
    "        self.name = name\n",
    "        self.age = age\n",
    "\n",
    "Alex = Employee('Alex', 20)\n",
    "Amanda = Employee('Amanda', 30)\n",
    "David = Employee('David', 15)\n",
    "L = [Alex, Amanda, David]\n",
    "\n",
    "L.sort(key=lambda x: x.age)\n",
    "print([item.name for item in L])\n",
    "# вывод: ['David', 'Alex', 'Amanda']\n"
   ]
  },
  {
   "attachments": {},
   "cell_type": "markdown",
   "metadata": {},
   "source": [
    "Напишите функцию task_manager, которая принимает список задач для нескольких серверов. Каждый элемент списка состоит из кортежа (<номер задачи>, <название сервера>, <высокий приоритет задачи>).\n",
    "\n",
    "Функция должна создавать словарь и заполнять его задачами по следующему принципу: название сервера — ключ, по которому хранится очередь задач для конкретного сервера. Если поступает задача без высокого приоритета (последний элемент кортежа — False), добавить номер задачи в конец очереди. Если приоритет высокий, добавить номер в начало.\n",
    "\n",
    "Для словаря используйте defaultdict, для очереди — deque.\n",
    "\n",
    "Функция возвращает полученный словарь с задачами.\n",
    "\n",
    "Пример:"
   ]
  },
  {
   "cell_type": "code",
   "execution_count": null,
   "metadata": {},
   "outputs": [
    {
     "name": "stdout",
     "output_type": "stream",
     "text": [
      "High Prio: False , Server: office , Number: 36871\n",
      "F servers: deque([36871])\n",
      "High Prio: False , Server: office , Number: 40690\n",
      "F servers: deque([36871, 40690])\n",
      "High Prio: False , Server: voltage , Number: 35364\n",
      "F servers: deque([35364])\n",
      "High Prio: True , Server: voltage , Number: 41667\n",
      "T servers: deque([41667, 35364])\n",
      "High Prio: False , Server: office , Number: 33850\n",
      "F servers: deque([36871, 40690, 33850])\n",
      "defaultdict(<class 'collections.deque'>, {'office': deque([36871, 40690, 33850]), 'voltage': deque([41667, 35364])})\n"
     ]
    }
   ],
   "source": [
    "from collections import defaultdict, deque\n",
    "\n",
    "tasks = [(36871, 'office', False),\n",
    "(40690, 'office', False),\n",
    "(35364, 'voltage', False),\n",
    "(41667, 'voltage', True),\n",
    "(33850, 'office', False)]\n",
    "\n",
    "def task_manager(tasks):\n",
    "    servers = defaultdict(deque)\n",
    "    for task in tasks:\n",
    "        print('High Prio:',task[-1],',','Server:',task[1],', Number:',task[0])\n",
    "            \n",
    "        if task[-1]: # if the last[-1] element is True\n",
    "            # print('T')                    \n",
    "            servers[task[1]].appendleft(task[0]) # to the \n",
    "            print('T servers:',servers[task[1]]) \n",
    "        else:\n",
    "            # print('F')                  \n",
    "            servers[task[1]].append(task[0])\n",
    "            print('F servers:',servers[task[1]])  \n",
    "    return servers\n",
    "    \n",
    "\n",
    "\n",
    " \n",
    "print(task_manager(tasks))\n",
    "# defaultdict(, {'voltage': deque([41667, 35364]),\n",
    "# 'office': deque([36871, 40690, 33850])})"
   ]
  },
  {
   "cell_type": "code",
   "execution_count": null,
   "metadata": {},
   "outputs": [
    {
     "name": "stdout",
     "output_type": "stream",
     "text": [
      "High Prio: False , Server: office , Number: 36871\n",
      "F servers: deque([36871])\n",
      "High Prio: False , Server: office , Number: 40690\n",
      "F servers: deque([36871, 40690])\n",
      "High Prio: False , Server: voltage , Number: 35364\n",
      "F servers: deque([35364])\n",
      "High Prio: True , Server: voltage , Number: 41667\n",
      "T servers: deque([41667, 35364])\n",
      "High Prio: False , Server: office , Number: 33850\n",
      "F servers: deque([36871, 40690, 33850])\n",
      "defaultdict(<class 'collections.deque'>, {'office': deque([36871, 40690, 33850]), 'voltage': deque([41667, 35364])})\n"
     ]
    }
   ],
   "source": [
    "tasks = [(36871, 'office', False),\n",
    "(40690, 'office', False),\n",
    "(35364, 'voltage', False),\n",
    "(41667, 'voltage', True),\n",
    "(33850, 'office', False)]\n",
    "\n",
    "print(task_manager(tasks))\n",
    "# defaultdict(, {'voltage': deque([41667, 35364]),\n",
    "# 'office': deque([36871, 40690, 33850])})\n"
   ]
  },
  {
   "attachments": {},
   "cell_type": "markdown",
   "metadata": {},
   "source": [
    "# NumPy\n"
   ]
  },
  {
   "cell_type": "code",
   "execution_count": null,
   "metadata": {},
   "outputs": [
    {
     "name": "stdout",
     "output_type": "stream",
     "text": [
      "<class 'numpy.uint8'>\n",
      "340282366920938463463374607431768211456\n"
     ]
    }
   ],
   "source": [
    "import numpy as np\n",
    "np.iinfo(np.int64)\n",
    "b = np.uint8(124)\n",
    "print(type(b))\n",
    "\n",
    "print(2**128)"
   ]
  },
  {
   "attachments": {},
   "cell_type": "markdown",
   "metadata": {},
   "source": [
    "Это тип данных с общим корнем int. Int может быть со следующими окончаниями: int8, int16, int32 и int64. Окончание типа данных в NumPy показывает, сколько битов памяти должно быть выделено для хранения переменной.\n",
    "\n",
    "В NumPy доступны и беззнаковые целочисленные типы данных. Они имеют корень uint (unsigned int — беззнаковое целое). uint доступны также с выделением памяти в 8, 16, 32 и 64 бита. При этом максимально возможное число оказывается в два раза больше, чем для соответствующего int, поскольку отрицательные числа исключены из типа данных uint.\n",
    "\n",
    "Тип данных не сохранится, если просто присвоить переменной с заданным NumPy-типом данных новое значение:"
   ]
  },
  {
   "cell_type": "code",
   "execution_count": null,
   "metadata": {},
   "outputs": [
    {
     "name": "stdout",
     "output_type": "stream",
     "text": [
      "1000\n",
      "<class 'numpy.int32'>\n",
      "<class 'int'>\n",
      "np 1001 <class 'numpy.int32'>\n"
     ]
    }
   ],
   "source": [
    "a = np.int32(1000)\n",
    "print(a)\n",
    "print(type(a))\n",
    "a = 1001\n",
    "print(type(a))\n",
    "\n",
    "a = np.int32(1001)\n",
    "print('np', a, type(a))"
   ]
  },
  {
   "attachments": {},
   "cell_type": "markdown",
   "metadata": {},
   "source": [
    "А вот арифметические операции сохраняют NumPy-тип данных:"
   ]
  },
  {
   "cell_type": "code",
   "execution_count": null,
   "metadata": {},
   "outputs": [
    {
     "name": "stdout",
     "output_type": "stream",
     "text": [
      "1025\n",
      "<class 'numpy.int32'>\n"
     ]
    }
   ],
   "source": [
    "a = np.int32(1000)\n",
    "b = a + 25\n",
    "print(b)\n",
    "# 1025\n",
    "print(type(b))\n",
    "# <class 'numpy.int32'>"
   ]
  },
  {
   "attachments": {},
   "cell_type": "markdown",
   "metadata": {},
   "source": [
    "Примечание. В некоторых более старых версиях NumPy тип данных может измениться на int64 вместо ожидаемого int32. Это связано с тем, что число 25 может быть сначала преобразовано в NumPy-тип данных int (по умолчанию int64) перед сложением. Скорее всего, на практике вам не особо помешает такая особенность, однако о ней следует помнить, когда требуется хранить числа максимально оптимальным способом.\n",
    "\n",
    "Если операция проводится с двумя NumPy-типами с фиксированным объёмом памяти, в результате сохраняется наиболее «старший» тип:"
   ]
  },
  {
   "cell_type": "code",
   "execution_count": null,
   "metadata": {},
   "outputs": [
    {
     "name": "stdout",
     "output_type": "stream",
     "text": [
      "1025\n",
      "<class 'numpy.int32'>\n"
     ]
    }
   ],
   "source": [
    "a = np.int32(1000)\n",
    "b = np.int8(25)\n",
    "c = a + b\n",
    "print(c)\n",
    "# 1025\n",
    "print(type(c))\n",
    "# <class 'numpy.int32'>"
   ]
  },
  {
   "attachments": {},
   "cell_type": "markdown",
   "metadata": {},
   "source": [
    "ПЕРЕПОЛНЕНИЕ\n",
    "Если же при арифметических операциях происходит переполнение максимально выделенной памяти для типа, возникает предупреждение."
   ]
  },
  {
   "cell_type": "code",
   "execution_count": null,
   "metadata": {},
   "outputs": [
    {
     "name": "stdout",
     "output_type": "stream",
     "text": [
      "4\n"
     ]
    }
   ],
   "source": [
    " a = np.int8(260)\n",
    " print(a)\n",
    " # В переменной a теперь оказалось число 4, а не 260. По сути в переменную записался остаток от деления 260 на 256, а не само число. Ошибка при этом не возникла."
   ]
  },
  {
   "attachments": {},
   "cell_type": "markdown",
   "metadata": {},
   "source": [
    "Если же при арифметических операциях происходит переполнение максимально выделенной памяти для типа, возникает предупреждение."
   ]
  },
  {
   "cell_type": "code",
   "execution_count": null,
   "metadata": {},
   "outputs": [
    {
     "name": "stdout",
     "output_type": "stream",
     "text": [
      "2147483610 2147483605\n",
      "-81\n",
      "4294967215\n"
     ]
    },
    {
     "name": "stderr",
     "output_type": "stream",
     "text": [
      "C:\\Users\\Konstantin\\AppData\\Local\\Temp\\ipykernel_14120\\794910908.py:5: RuntimeWarning: overflow encountered in long_scalars\n",
      "  print(a + b)\n"
     ]
    }
   ],
   "source": [
    "a = np.int32(2147483610)\n",
    "b = np.int32(2147483605)\n",
    "print(a, b)\n",
    "# 2147483610 2147483605\n",
    "print(a + b)\n",
    "# -81\n",
    "# RuntimeWarning: overflow encountered in int_scalars\n",
    "# Переполнено int'овое значение\n",
    "\n"
   ]
  },
  {
   "cell_type": "code",
   "execution_count": null,
   "metadata": {},
   "outputs": [
    {
     "name": "stdout",
     "output_type": "stream",
     "text": [
      "2147483610 2147483605\n",
      "4294967215\n"
     ]
    }
   ],
   "source": [
    "#Чтобы избежать этой ошибки, вначале следовало преобразовать переменные к большему типу:\n",
    "a = np.int32(2147483610)\n",
    "b = np.int32(2147483605)\n",
    "print(a, b)\n",
    "print(np.int64(a) + np.int64(b))"
   ]
  },
  {
   "attachments": {},
   "cell_type": "markdown",
   "metadata": {},
   "source": [
    "### Типы данных с плавающей точкой в NumPy"
   ]
  },
  {
   "cell_type": "code",
   "execution_count": null,
   "metadata": {},
   "outputs": [
    {
     "data": {
      "text/plain": [
       "finfo(resolution=1e-15, min=-1.7976931348623157e+308, max=1.7976931348623157e+308, dtype=float64)"
      ]
     },
     "execution_count": 18,
     "metadata": {},
     "output_type": "execute_result"
    }
   ],
   "source": [
    "import numpy as np\n",
    "np.finfo(np.float16)\n",
    "# finfo(resolution=0.001, min=-6.55040e+04, max=6.55040e+04, dtype=float16)\n",
    "np.finfo(np.float32)\n",
    "# finfo(resolution=1e-06, min=-3.4028235e+38, max=3.4028235e+38, dtype=float32)\n",
    "np.finfo(np.float64)\n",
    "# finfo(resolution=1e-15, min=-1.7976931348623157e+308, max=1.7976931348623157e+308, dtype=float64)\n",
    "#>>>>># np.finfo(np.float128)\n",
    "# finfo(resolution=1e-18, min=-1.189731495357231765e+4932, max=1.189731495357231765e+4932, dtype=float128)"
   ]
  },
  {
   "attachments": {},
   "cell_type": "markdown",
   "metadata": {},
   "source": [
    "Примечание. Если ввести в VS Code команду np.finfo(np.float128), ответом будет AttributeError: module 'numpy' has no attribute 'float128'. Всё потому, что numpy.float128 не поддерживается в Windows с использованием компилятора MS. Если вам всё же нужно поработать с numpy.float128, воспользуйтесь онлайн-IDE. https://www.online-python.com/\n"
   ]
  },
  {
   "cell_type": "code",
   "execution_count": null,
   "metadata": {},
   "outputs": [
    {
     "name": "stdout",
     "output_type": "stream",
     "text": [
      "4.12\n",
      "4.13\n",
      "4.12\n",
      "4.12\n",
      "4.12\n",
      "4.125\n",
      "4.125\n",
      "4.125\n",
      "4.13\n",
      "4.13\n",
      "4.13\n"
     ]
    }
   ],
   "source": [
    "print(np.float16(4.12))\n",
    "# 4.12\n",
    "print(np.float16(4.13))\n",
    "# 4.13\n",
    "print(np.float16(4.121))\n",
    "# 4.12\n",
    "print(np.float16(4.122))\n",
    "# 4.12\n",
    "print(np.float16(4.123))\n",
    "# 4.12\n",
    "print(np.float16(4.124))\n",
    "# 4.125\n",
    "print(np.float16(4.125))\n",
    "# 4.125\n",
    "print(np.float16(4.126))\n",
    "# 4.125\n",
    "print(np.float16(4.127))\n",
    "# 4.13\n",
    "print(np.float16(4.128))\n",
    "# 4.13\n",
    "print(np.float16(4.129))\n",
    "# 4.13"
   ]
  },
  {
   "attachments": {},
   "cell_type": "markdown",
   "metadata": {},
   "source": [
    "Следует обратить внимание на типы данных bool_ и str_. Они аналогичны bool и str из встроенных в Python, однако записывать их необходимо именно с нижним подчёркиванием, иначе произойдёт приведение к стандартному типу данных, а не типу NumPy. В целом, существенной разницы между этими типами данных нет, однако о такой двойственности следует помнить при сравнении типов переменных: тип bool не является эквивалентным numpy.bool_, несмотря на то что оба типа данных хранят значения True или False."
   ]
  },
  {
   "cell_type": "code",
   "execution_count": null,
   "metadata": {},
   "outputs": [
    {
     "name": "stdout",
     "output_type": "stream",
     "text": [
      "<class 'bool'>\n",
      "<class 'bool'>\n",
      "<class 'numpy.bool_'>\n",
      "True\n",
      "False\n",
      "<class 'str'>\n",
      "<class 'str'>\n",
      "<class 'numpy.str_'>\n"
     ]
    },
    {
     "name": "stderr",
     "output_type": "stream",
     "text": [
      "C:\\Users\\Konstantin\\AppData\\Local\\Temp\\ipykernel_14120\\4280234698.py:6: DeprecationWarning: `np.bool` is a deprecated alias for the builtin `bool`. To silence this warning, use `bool` by itself. Doing this will not modify any behavior and is safe. If you specifically wanted the numpy scalar type, use `np.bool_` here.\n",
      "Deprecated in NumPy 1.20; for more details and guidance: https://numpy.org/devdocs/release/1.20.0-notes.html#deprecations\n",
      "  a = np.bool(a)\n",
      "C:\\Users\\Konstantin\\AppData\\Local\\Temp\\ipykernel_14120\\4280234698.py:14: DeprecationWarning: `np.bool` is a deprecated alias for the builtin `bool`. To silence this warning, use `bool` by itself. Doing this will not modify any behavior and is safe. If you specifically wanted the numpy scalar type, use `np.bool_` here.\n",
      "Deprecated in NumPy 1.20; for more details and guidance: https://numpy.org/devdocs/release/1.20.0-notes.html#deprecations\n",
      "  print(np.bool(True) == np.bool_(True))\n",
      "C:\\Users\\Konstantin\\AppData\\Local\\Temp\\ipykernel_14120\\4280234698.py:17: DeprecationWarning: `np.bool` is a deprecated alias for the builtin `bool`. To silence this warning, use `bool` by itself. Doing this will not modify any behavior and is safe. If you specifically wanted the numpy scalar type, use `np.bool_` here.\n",
      "Deprecated in NumPy 1.20; for more details and guidance: https://numpy.org/devdocs/release/1.20.0-notes.html#deprecations\n",
      "  print(type(np.bool(True)) == type(np.bool_(True)))\n",
      "C:\\Users\\Konstantin\\AppData\\Local\\Temp\\ipykernel_14120\\4280234698.py:26: DeprecationWarning: `np.str` is a deprecated alias for the builtin `str`. To silence this warning, use `str` by itself. Doing this will not modify any behavior and is safe. If you specifically wanted the numpy scalar type, use `np.str_` here.\n",
      "Deprecated in NumPy 1.20; for more details and guidance: https://numpy.org/devdocs/release/1.20.0-notes.html#deprecations\n",
      "  a = np.str(a)\n"
     ]
    }
   ],
   "source": [
    "# bool_\n",
    "\n",
    "a = True\n",
    "print(type(a))\n",
    "# <class 'bool'>\n",
    "a = np.bool(a)\n",
    "print(type(a))\n",
    "# <class 'bool'>\n",
    "a = np.bool_(a)\n",
    "print(type(a))\n",
    "# <class 'numpy.bool_'>\n",
    " \n",
    "# Значения равны\n",
    "print(np.bool(True) == np.bool_(True))\n",
    "# True\n",
    "# А типы — нет:\n",
    "print(type(np.bool(True)) == type(np.bool_(True)))\n",
    "# False\n",
    "\n",
    "\n",
    "## Str_\n",
    "\n",
    "a = \"Hello world!\"\n",
    "print(type(a))\n",
    "# <class 'str'>\n",
    "a = np.str(a)\n",
    "print(type(a))\n",
    "# <class 'str'>\n",
    "a = np.str_(a)\n",
    "print(type(a))\n",
    "# <class 'numpy.str_'>"
   ]
  },
  {
   "cell_type": "code",
   "execution_count": null,
   "metadata": {},
   "outputs": [
    {
     "name": "stdout",
     "output_type": "stream",
     "text": [
      "56\n"
     ]
    }
   ],
   "source": [
    "import numpy as np\n",
    "a = np.uint8(-456)\n",
    "print(a)\n"
   ]
  },
  {
   "attachments": {},
   "cell_type": "markdown",
   "metadata": {},
   "source": [
    "## Массивы"
   ]
  },
  {
   "attachments": {},
   "cell_type": "markdown",
   "metadata": {},
   "source": [
    "\n",
    "\n",
    "Итак, массив — это структура данных, в которой:\n",
    "\n",
    "1\n",
    "Элементы хранятся в указанном порядке.\n",
    "\n",
    "2\n",
    "Каждый элемент можно получить по индексу за одинаковое время.\n",
    "\n",
    "3\n",
    "Все элементы приведены к одному и тому же типу данных.\n",
    "\n",
    "4\n",
    "Максимальное число элементов и объём выделенной памяти заданы заранее.\n",
    "\n",
    "Размерностью массива называют то число индексов, которое необходимо для однозначного получения элемента из массива.\n",
    "\n",
    "Форма (структура) массива — это информация о количестве размерностей массива и протяжённости массива по каждой из размерностей. Например, можно задать двумерный массив размера 3x5 — у этой таблицы две размерности: 3 строки и 5 столбцов.\n"
   ]
  },
  {
   "attachments": {},
   "cell_type": "markdown",
   "metadata": {},
   "source": [
    "Создание массива из списка\n",
    "\n",
    "Создать массив из списка можно с помощью функции np.array(<объект>):"
   ]
  },
  {
   "cell_type": "code",
   "execution_count": null,
   "metadata": {},
   "outputs": [
    {
     "name": "stdout",
     "output_type": "stream",
     "text": [
      "[ 1  4  2  5 15]\n",
      "<class 'numpy.ndarray'>\n"
     ]
    }
   ],
   "source": [
    "import numpy as np\n",
    "arr = np.array ([1,4,2,5,15])\n",
    "print(arr)\n",
    "print(type(arr))"
   ]
  },
  {
   "cell_type": "code",
   "execution_count": null,
   "metadata": {},
   "outputs": [
    {
     "data": {
      "text/plain": [
       "array([[12, 45, 78],\n",
       "       [34, 56, 13],\n",
       "       [12, 98, 76]])"
      ]
     },
     "execution_count": 4,
     "metadata": {},
     "output_type": "execute_result"
    }
   ],
   "source": [
    "# Перечислить список из списков можно\n",
    "# было и в одну строку, но на нескольких\n",
    "# строках получается нагляднее\n",
    "nd_arr = np.array([\n",
    "               [12, 45, 78],\n",
    "               [34, 56, 13],\n",
    "               [12, 98, 76]\n",
    "               ])\n",
    "nd_arr\n",
    "# array([[12, 45, 78],\n",
    "#        [34, 56, 13],\n",
    "#        [12, 98, 76]])\n",
    "\n"
   ]
  },
  {
   "attachments": {},
   "cell_type": "markdown",
   "metadata": {},
   "source": [
    "Типы данных в массиве\n",
    "\n",
    "Мы только что узнали, что массив — это набор однотипных данных, но не указали никакой тип. Какого типа данные хранятся теперь в массиве arr? Узнать это можно, напечатав свойство dtype:"
   ]
  },
  {
   "cell_type": "code",
   "execution_count": null,
   "metadata": {},
   "outputs": [
    {
     "data": {
      "text/plain": [
       "dtype('int32')"
      ]
     },
     "execution_count": 5,
     "metadata": {},
     "output_type": "execute_result"
    }
   ],
   "source": [
    "arr = np.array([1,4,2,5,15])\n",
    "arr.dtype"
   ]
  },
  {
   "attachments": {},
   "cell_type": "markdown",
   "metadata": {},
   "source": [
    "Также тип данных можно будет указать или изменить позднее, если окажется, что текущий тип избыточен или, наоборот, недостаточен для хранения чисел с требуемой точностью. Однако числа в массиве всё равно будут одного и того же типа данных, даже если разработчик этого явно не указал."
   ]
  },
  {
   "cell_type": "code",
   "execution_count": null,
   "metadata": {},
   "outputs": [],
   "source": []
  },
  {
   "cell_type": "code",
   "execution_count": null,
   "metadata": {},
   "outputs": [
    {
     "name": "stdout",
     "output_type": "stream",
     "text": [
      "[  1   5 124   9  10]\n",
      "[  1   5 -48   9  10]\n",
      "[  1   5 125   9  10]\n",
      "[ 1  5 12  9 10]\n",
      "128\n",
      "[ 1.  5. 12.  9. 10.]\n",
      "[ 3.4523400e+05  8.7636212e+05  0.0000000e+00 -1.0000000e+03\n",
      "  9.9999999e+07]\n"
     ]
    }
   ],
   "source": [
    "import numpy as np\n",
    "# задать тип данных сразу при создании массива можно с помощью параметра dtype:\n",
    "arr = np.array([1,5,124,9,10], dtype=np.int8)\n",
    "arr # выведет вместе с типом данных\n",
    "print(arr) # выведет лишь сам массив\n",
    "\n",
    "arr[2] = 2000\n",
    "print(arr)\n",
    "\n",
    "arr[2] = 125.5\n",
    "print(arr)\n",
    "\n",
    "# строка с цифрами может быть преобразованна в инт\n",
    "arr[2] = '12'\n",
    "print(arr)\n",
    "\n",
    "# строка с буквами не может быть преобразованна в интегер\n",
    "# arr[2] = 'test'\n",
    "\n",
    "\n",
    "# Поменять тип данных во всём массиве можно с помощью тех же функций, которыми мы пользовались для преобразования типов отдельных переменных в предыдущем юните \n",
    "# (например, np.int32 или np.float128): \n",
    "arr = np.float64(arr)\n",
    "# float128 не работает на windows\n",
    "print('128')\n",
    "print(arr)\n",
    "\n",
    "# При преобразовании типов данных в массиве не забывайте о том, что часть чисел может потерять смысл, \n",
    "# если менять тип данных с более ёмкого на менее ёмкий:\n",
    "arr = np.array([12321, -1234, 3435, -214, 100], dtype=np.int32)\n",
    "arr\n",
    "# array([12321, -1234,  3435,  -214,   100], dtype=int32)\n",
    " \n",
    "arr = np.uint8(arr)\n",
    "arr\n",
    "\n",
    "arr = np.array([345234, 876362.12, 0, -1000, 99999999], dtype=np.float64)\n",
    "print(arr)"
   ]
  },
  {
   "attachments": {},
   "cell_type": "markdown",
   "metadata": {},
   "source": [
    "    ##Свойства NumPy-массивов"
   ]
  },
  {
   "cell_type": "code",
   "execution_count": null,
   "metadata": {},
   "outputs": [
    {
     "name": "stdout",
     "output_type": "stream",
     "text": [
      "1\n",
      "2\n",
      "size: 5\n",
      "size: 12\n",
      "shape (5,)\n",
      "shape (4, 3)\n",
      "itemsize, (bytes): 1\n",
      "itemsize, (bytes): 2\n"
     ]
    }
   ],
   "source": [
    "import numpy as np\n",
    "arr = np.array([1,5,2,9,10], dtype=np.int8)\n",
    "nd_arr= np.array([\n",
    "    [12,45,78],\n",
    "    [34,56,13],\n",
    "    [34,56,13],\n",
    "    [12,98,76]\n",
    "    ], dtype=np.int16)\n",
    "\n",
    "# 1 Узнать размерность массива можно с помощью .ndim:\n",
    "\n",
    "\n",
    "print(arr.ndim)\n",
    "print(nd_arr.ndim)\n",
    "\n",
    "\n",
    "# 2 Узнать общее число элементов в массиве можно с помощью .size:\n",
    "\n",
    "print('size:', arr.size)\n",
    "print('size:',nd_arr.size)\n",
    "\n",
    "# 3 Форма или структура массива хранится в атрибуте .shape:\n",
    "\n",
    "print('shape', arr.shape)\n",
    "print('shape', nd_arr.shape)\n",
    "\n",
    "# Форма массива хранится в виде кортежа с числом элементов, равным размерности массива. \n",
    "# Соответственно, для одномерного массива напечатан кортеж длины 1. \n",
    "# Обратите внимание, что для двумерного массива вначале было напечатано число «строк», а затем число «столбцов». \n",
    "# Это так только отчасти. На самом деле массив как бы состоит из внешних и внутренних массивов\n",
    "\n",
    "# 4 узнать, сколько «весит» каждый элемент массива в байтах позволяет .itemsize\n",
    "\n",
    "print('itemsize, (bytes):',arr.itemsize)\n",
    "print('itemsize, (bytes):', nd_arr.itemsize)"
   ]
  },
  {
   "attachments": {},
   "cell_type": "markdown",
   "metadata": {},
   "source": [
    "### Заполнение новых массивов"
   ]
  },
  {
   "attachments": {},
   "cell_type": "markdown",
   "metadata": {},
   "source": [
    "Можно заранее подготовить массив заданной размерности, заполненный нулями, а потом загружать в него реальные данные по мере необходимости.\n",
    "\n",
    "Массив из нулей создаётся функцией np.zeros. Она принимает аргументы shape (обязательный) — форма массива (одно число или кортеж) и dtype (необязательный) — тип данных, который будет храниться в массиве."
   ]
  },
  {
   "cell_type": "code",
   "execution_count": null,
   "metadata": {},
   "outputs": [
    {
     "data": {
      "text/plain": [
       "array([0., 0., 0., 0., 0.])"
      ]
     },
     "execution_count": 27,
     "metadata": {},
     "output_type": "execute_result"
    }
   ],
   "source": [
    "import numpy as np\n",
    "#   np.zeros(shape,dtype)\n",
    "\n",
    "zeros_1d_a = np.zeros(5)\n",
    "zeros_1d_a\n",
    "\n"
   ]
  },
  {
   "cell_type": "code",
   "execution_count": null,
   "metadata": {},
   "outputs": [
    {
     "data": {
      "text/plain": [
       "array([0, 0, 0, 0, 0], dtype=int8)"
      ]
     },
     "execution_count": 29,
     "metadata": {},
     "output_type": "execute_result"
    }
   ],
   "source": [
    "zeros_1d_b = np.zeros((5,),dtype=np.int8)\n",
    "zeros_1d_b"
   ]
  },
  {
   "cell_type": "code",
   "execution_count": null,
   "metadata": {},
   "outputs": [
    {
     "name": "stdout",
     "output_type": "stream",
     "text": [
      "(5, 4, 3)\n"
     ]
    }
   ],
   "source": [
    "zeros_3d = np.zeros ((5,4,3),dtype=np.float32)\n",
    "print(zeros_3d.shape)"
   ]
  },
  {
   "attachments": {},
   "cell_type": "markdown",
   "metadata": {},
   "source": [
    "Ещё одной удобной функцией для создания одномерных массивов является arange. Она аналогична встроенной функции range, но обладает рядом особенностей. \n",
    "\n",
    "        Вот её сигнатура: arange([start,] stop, [step,], dtype=None).\n",
    "\n",
    "Аргументы start (по умолчанию 0), step (по умолчанию 1) и dtype (определяется автоматически) являются необязательными:\n",
    "\n",
    "        start (входит в диапазон возвращаемых значений) задаёт начальное число;\n",
    "        stop (не входит в диапазон возвращаемых значений, как и при использовании range) задаёт правую границу диапазона;\n",
    "        step задаёт шаг, с которым в массив добавляются новые значения.\n",
    "В отличие от range, в функции arange все перечисленные параметры могут иметь тип float."
   ]
  },
  {
   "cell_type": "code",
   "execution_count": null,
   "metadata": {},
   "outputs": [
    {
     "data": {
      "text/plain": [
       "array([2.5, 3.5, 4.5])"
      ]
     },
     "execution_count": 33,
     "metadata": {},
     "output_type": "execute_result"
    }
   ],
   "source": [
    "# массив из пяти чисел от 0 до 4:\n",
    "np.arange(5) \n",
    "\n",
    "# Создадим массив от 2.5 до 5:\n",
    "np.arange(2.5, 5)\n"
   ]
  },
  {
   "attachments": {},
   "cell_type": "markdown",
   "metadata": {},
   "source": [
    "На самом деле операции с плавающей точкой не всегда бывают предсказуемыми из-за особенностей хранения таких чисел в памяти компьютера. Поэтому для работы с дробными параметрами start, stop и step лучше использовать функцию linspace (англ. linear space — линейное пространство). Она тоже возвращает одномерный массив из чисел, расположенных на равном удалении друг от друга между началом и концом диапазона, но обладает немного другим поведением и сигнатурой:\n",
    "\n",
    "np.linspace(start, stop, num=50, endpoint=True, retstep=False, dtype=None)\n",
    "\n",
    "        start и stop являются обязательными параметрами, задающими начало и конец возвращаемого диапазона;\n",
    "        num — параметр, задающий число элементов, которое должно оказаться в массиве (по умолчанию 50);\n",
    "        endpoint — включён или исключён конец диапазона (по умолчанию включён);\n",
    "        retstep (по умолчанию False) позволяет указать, возвращать ли использованный шаг между значениями, помимо самого массива;\n",
    "        dtype — уже хорошо знакомый нам параметр, задающий тип данных (если не задан, определяется автоматически).\n"
   ]
  },
  {
   "cell_type": "code",
   "execution_count": null,
   "metadata": {},
   "outputs": [
    {
     "name": "stdout",
     "output_type": "stream",
     "text": [
      "[1.         1.11111111 1.22222222 1.33333333 1.44444444 1.55555556\n",
      " 1.66666667 1.77777778 1.88888889 2.        ]\n",
      "[1.  1.1 1.2 1.3 1.4 1.5 1.6 1.7 1.8 1.9]\n",
      "0.1111111111111111\n",
      "[1.         1.11111111 1.22222222 1.33333333 1.44444444 1.55555556\n",
      " 1.66666667 1.77777778 1.88888889 2.        ]\n",
      "0.1\n",
      "0.4576271186440678\n",
      "0.45\n"
     ]
    }
   ],
   "source": [
    "import numpy as np\n",
    "arr = np.linspace (1, 2, 10)\n",
    "print(arr)\n",
    "\n",
    "# Создадим массив из десяти чисел между 1 и 2, не включая 2:\n",
    "arr = np.linspace(1, 2, 10, endpoint=False)\n",
    "print(arr)\n",
    "\n",
    "# Узнаем, какой шаг был использован для создания массива из десяти чисел между 1 и 2, где 2 включалось и не включалось:\n",
    "\n",
    "arr, step = np.linspace(1, 2, 10, endpoint=True, retstep=True)\n",
    "print(step)\n",
    "print(arr)\n",
    "\n",
    "arr, step = np.linspace(1, 2, 10, endpoint=False, retstep=True)\n",
    "print(step)\n",
    "\n",
    "#Функцию linspace очень удобно использовать при построении графиков различных функций, \n",
    "# поскольку она позволяет получить равномерный массив чисел, \n",
    "# к которому можно применить исследуемую функцию и показать результат на графике.\n",
    "\n",
    "arr, step = np.linspace (-6, 21, 60, endpoint=True, retstep=True)\n",
    "print(step)\n",
    "\n",
    "arr, step = np.linspace (-6, 21, 60, endpoint=False, retstep=True)\n",
    "print(step)\n",
    "\n"
   ]
  },
  {
   "attachments": {},
   "cell_type": "markdown",
   "metadata": {},
   "source": [
    "## Действия с массивами"
   ]
  },
  {
   "attachments": {},
   "cell_type": "markdown",
   "metadata": {},
   "source": [
    "Изменение формы массива"
   ]
  },
  {
   "cell_type": "code",
   "execution_count": null,
   "metadata": {},
   "outputs": [
    {
     "name": "stdout",
     "output_type": "stream",
     "text": [
      "[0 1 2 3 4 5 6 7]\n",
      "[[0 1 2 3]\n",
      " [4 5 6 7]]\n"
     ]
    }
   ],
   "source": [
    "import numpy as np\n",
    "arr = np.arange(8)\n",
    "print(arr)\n",
    "\n",
    "# Поменять форму массива arr можно с помощью присвоения атрибуту shape (строки, столбцы) кортежа с желаемой формой:\n",
    "arr.shape = (2, 4)\n",
    "print(arr)\n"
   ]
  },
  {
   "attachments": {},
   "cell_type": "markdown",
   "metadata": {},
   "source": [
    "Как и принято в NumPy, первое число задало число строк, а второе — число столбцов.\n",
    "Присвоение нового значения атрибуту shape изменяет тот массив, с которым производится действие.\n",
    "\n",
    "Чтобы оставить исходный массив без изменений и дополнительно получить новый массив новой формы, нужно использовать функцию reshape. Она также принимает в качестве аргумента кортеж из чисел для формы, но возвращает новый массив, а не изменяет исходный:"
   ]
  },
  {
   "cell_type": "code",
   "execution_count": null,
   "metadata": {},
   "outputs": [
    {
     "name": "stdout",
     "output_type": "stream",
     "text": [
      "[0 1 2 3 4 5 6 7]\n"
     ]
    },
    {
     "data": {
      "text/plain": [
       "array([[0, 1, 2, 3],\n",
       "       [4, 5, 6, 7]])"
      ]
     },
     "execution_count": 6,
     "metadata": {},
     "output_type": "execute_result"
    }
   ],
   "source": [
    "arr = np.arange(8)\n",
    "arr_new = arr.reshape((2,4))\n",
    "print(arr)\n",
    "arr_new\n"
   ]
  },
  {
   "attachments": {},
   "cell_type": "markdown",
   "metadata": {},
   "source": [
    "У функции reshape есть дополнительный именованный аргумент order. Он задаёт принцип, по которому элементы заполняют массив новой формы. Если order='C' (по умолчанию), массив заполняется по строкам, как в примере выше. Если order='F', массив заполняется числами по столбцам:"
   ]
  },
  {
   "cell_type": "code",
   "execution_count": null,
   "metadata": {},
   "outputs": [
    {
     "data": {
      "text/plain": [
       "array([[0, 1, 2, 3],\n",
       "       [4, 5, 6, 7]])"
      ]
     },
     "execution_count": 8,
     "metadata": {},
     "output_type": "execute_result"
    }
   ],
   "source": [
    "arr = np.arange(8)\n",
    "arr_new = arr.reshape((2,4), order ='F')\n",
    "arr_new\n"
   ]
  },
  {
   "attachments": {},
   "cell_type": "markdown",
   "metadata": {},
   "source": [
    "Ещё одной часто используемой операцией с формой массива (особенно двумерного) является транспонирование. Эта операция меняет строки и столбцы массива местами. В NumPy эту операцию совершает функция transpose.\n",
    "\n",
    "Будем работать с двумерным массивом:"
   ]
  },
  {
   "cell_type": "code",
   "execution_count": null,
   "metadata": {},
   "outputs": [
    {
     "name": "stdout",
     "output_type": "stream",
     "text": [
      "[[0 1 2 3]\n",
      " [4 5 6 7]]\n",
      "\n",
      "[[0 4]\n",
      " [1 5]\n",
      " [2 6]\n",
      " [3 7]]\n",
      "\n",
      "(3,)\n",
      "\n",
      "(3,)\n"
     ]
    }
   ],
   "source": [
    "arr = np.arange(8)\n",
    "arr.shape = (2,4)\n",
    "print(arr)\n",
    "print()\n",
    "#Транспонируем его: .transpose()\n",
    "arr_trans = arr.transpose()\n",
    "print(arr_trans)\n",
    "\n",
    "#При транспонировании одномерного массива его форма не меняется: \n",
    "# KD по сути одномерный массив не имеет понятий строки или столбца\n",
    "print()\n",
    "arr = np.arange(3)\n",
    "print(arr.shape)\n",
    "arr_trans = arr.transpose()\n",
    "print()\n",
    "print(arr_trans.shape)"
   ]
  },
  {
   "attachments": {},
   "cell_type": "markdown",
   "metadata": {},
   "source": [
    "## Индексы и срезы в массивах"
   ]
  },
  {
   "cell_type": "code",
   "execution_count": null,
   "metadata": {},
   "outputs": [
    {
     "name": "stdout",
     "output_type": "stream",
     "text": [
      "[1.  1.2 1.4 1.6 1.8 2. ]\n",
      "1.4\n",
      "[1.4 1.6]\n",
      "[2.  1.8 1.6 1.4 1.2 1. ]\n"
     ]
    }
   ],
   "source": [
    "import numpy as np\n",
    "arr = np.linspace(1, 2, 6)\n",
    "print(arr)\n",
    "\n",
    "# Обратиться к его элементу по индексу можно так же, как и к списку\n",
    "arr[2]\n",
    "print(arr[2])\n",
    "\n",
    "# Привычная запись для срезов работает и для одномерных массивов:\n",
    "print(arr[2:4])\n",
    "\n",
    "# Наконец, напечатать массив в обратном порядке можно с помощью привычной конструкции [::-1]:\n",
    "print(arr[::-1])\n",
    "\n"
   ]
  },
  {
   "attachments": {},
   "cell_type": "markdown",
   "metadata": {},
   "source": [
    "Многомерные масивы"
   ]
  },
  {
   "cell_type": "code",
   "execution_count": null,
   "metadata": {},
   "outputs": [
    {
     "name": "stdout",
     "output_type": "stream",
     "text": [
      "[0.         0.54545455 1.09090909 1.63636364 2.18181818 2.72727273\n",
      " 3.27272727 3.81818182 4.36363636 4.90909091 5.45454545 6.        ]\n",
      "[[0.  0.5 1.  1.5]\n",
      " [2.  2.5 3.  3.5]\n",
      " [4.  4.5 5.  5.5]]\n",
      "3.0\n",
      "\n",
      "element [1,2] :\n",
      "3.0\n",
      "\n",
      "срез [:2, 2] :\n",
      "[1. 3.]\n",
      "\n",
      "срез [1:, 2:4] :\n",
      "[[3.  3.5]\n",
      " [5.  5.5]]\n",
      "\n",
      "срез [:, 2:4] :\n",
      "[[1.  1.5]\n",
      " [3.  3.5]\n",
      " [5.  5.5]]\n",
      "\n",
      "срез [:2] :\n",
      "[[0.  0.5 1.  1.5]\n",
      " [2.  2.5 3.  3.5]]\n"
     ]
    }
   ],
   "source": [
    "nd_array = np.linspace(0, 6, 12)\n",
    "print(nd_array)\n",
    "\n",
    "nd_array = np.linspace(0, 6, 12, endpoint=False).reshape(3,4)\n",
    "print(nd_array)\n",
    "\n",
    "# Можно воспользоваться привычной записью нескольких индексов в нескольких квадратных скобках:\n",
    "print(nd_array[1][2]) # 1 row, 2nd element (2 and 3 actually)\n",
    "\n",
    "# Мы бы так и делали, если бы приходилось работать со списком из списков. \n",
    "# Однако проводить индексацию по массиву в NumPy можно проще: \n",
    "# достаточно в одних и тех же квадратных скобках перечислить индексы через запятую. Вот так:\n",
    "\n",
    "print()\n",
    "print('element [1,2] :')\n",
    "print(nd_array[1,2])\n",
    "\n",
    "# Также через запятую можно передавать срезы или даже их комбинации с индексами. \n",
    "# Например, получим все элементы из колонки 3 для первых двух строк:\n",
    "\n",
    "print()\n",
    "print('срез [:2, 2] :')\n",
    "print(nd_array[:2,2])\n",
    "# Несмотря на то что в массиве этот срез является столбцом, вместо него мы получили одномерный массив в виде строки.\n",
    "\n",
    "#Можно применять срезы сразу и к строкам, и к столбцам:\n",
    "print()\n",
    "print('срез [1:, 2:4] :') # rows 1 and 2, columns 2 and 3\n",
    "print(nd_array[1:,2:4])\n",
    "\n",
    "# Чтобы получить все значения из какой-то оси, можно оставить на её месте двоеточие. \n",
    "# Например, из всех строк получим срез с третьего по четвёртый столбцы:\n",
    "print()\n",
    "print('срез [:, 2:4] :') # all rows (0, 1, 2), columns 2 and 3\n",
    "print(nd_array[:, 2:4])\n",
    "\n",
    "# Чтобы получить самую последнюю ось (в данном случае все столбцы), двоеточие писать необязательно.\n",
    "# Строки будут получены целиком по умолчанию:\n",
    "print()\n",
    "print('срез [:2] :') # rows 0 and 1, all columns\n",
    "print(nd_array[:2])\n",
    "\n"
   ]
  },
  {
   "attachments": {},
   "cell_type": "markdown",
   "metadata": {},
   "source": [
    "Задание 7.2"
   ]
  },
  {
   "cell_type": "code",
   "execution_count": null,
   "metadata": {},
   "outputs": [
    {
     "name": "stdout",
     "output_type": "stream",
     "text": [
      "42\n",
      "(6, 7)\n",
      "[[-13586  15203  28445 -27117  -1781 -17182 -18049]\n",
      " [ 25936 -30968  -1297  -4593   6451  15790   7181]\n",
      " [ 13348  28049  28655  -6012  21762  25397   8225]\n",
      " [ 13240   7994  32592  20149  13754  11795   -564]\n",
      " [-21725  -8681  30305  22260 -17918  12578  29943]\n",
      " [-16841 -25392 -17278  11740   5916    -47 -32037]]\n",
      "30305\n",
      "\n",
      "-32037\n",
      "\n",
      "line_4\n",
      "[[13240  7994 32592 20149 13754 11795  -564]]\n",
      "[13240  7994 32592 20149 13754 11795  -564]\n",
      "\n",
      "[-17182  15790  25397  11795  12578    -47]\n",
      "\n",
      "[[-1297 -4593  6451]\n",
      " [28655 -6012 21762]\n",
      " [32592 20149 13754]]\n",
      "\n",
      "\n",
      "[-32037  29943   -564   8225   7181 -18049]\n",
      "\n",
      "[[-13586  25936  13348  13240 -21725 -16841]\n",
      " [ 15203 -30968  28049   7994  -8681 -25392]\n",
      " [ 28445  -1297  28655  32592  30305 -17278]\n",
      " [-27117  -4593  -6012  20149  22260  11740]\n",
      " [ -1781   6451  21762  13754 -17918   5916]\n",
      " [-17182  15790  25397  11795  12578    -47]\n",
      " [-18049   7181   8225   -564  29943 -32037]]\n"
     ]
    }
   ],
   "source": [
    "mystery = np.array([[-13586,  15203,  28445, -27117,  -1781, -17182, -18049],\n",
    "       [ 25936, -30968,  -1297,  -4593,   6451,  15790,   7181],\n",
    "       [ 13348,  28049,  28655,  -6012,  21762,  25397,   8225],\n",
    "       [ 13240,   7994,  32592,  20149,  13754,  11795,   -564],\n",
    "       [-21725,  -8681,  30305,  22260, -17918,  12578,  29943],\n",
    "       [-16841, -25392, -17278,  11740,   5916,    -47, -32037]],\n",
    "      dtype=np.int16)\n",
    "\n",
    "print(mystery.size)\n",
    "print(mystery.shape) # 6 rows, 7 columns\n",
    "print(mystery)\n",
    "\n",
    "# 1 В переменную elem_5_3 сохраните элемент из 5 строки и 3 столбца\n",
    "elem_5_3 = mystery[4,2]\n",
    "print(elem_5_3)\n",
    "\n",
    "# 2 В переменную last сохраните элемент из последней строки последнего столбца\n",
    "last = mystery[5,6]\n",
    "print()\n",
    "print(last)\n",
    "\n",
    "# 3 В переменную line_4 сохраните строку 4\n",
    "print()\n",
    "print('line_4')\n",
    "line_4 = mystery[3:4] # not correct\n",
    "print(line_4)\n",
    "line_4 = mystery[3] # correct\n",
    "print(line_4)\n",
    "\n",
    "# 4 В переменную col_2 сохраните предпоследний столбец\n",
    "col_2 = mystery[:,5]\n",
    "print()\n",
    "print(col_2)\n",
    "\n",
    "# 5 Из строк 2-4 (включительно) получите столбцы 3-5 (включительно). \n",
    "# Результат сохраните в переменную part\n",
    "part = mystery [1:4, 2:5]\n",
    "print()\n",
    "print(part)\n",
    "\n",
    "print()\n",
    "# 6 Сохраните в переменную rev последний столбец в обратном порядке ??????\n",
    "rev = mystery[::-1,-1]\n",
    "print()\n",
    "print(rev)\n",
    "\n",
    "# 7 Сохраните в переменную trans транспонированный массив\n",
    "trans = mystery.transpose()\n",
    "print()\n",
    "print(trans)"
   ]
  },
  {
   "attachments": {},
   "cell_type": "markdown",
   "metadata": {},
   "source": [
    "        # Сортировка одномерных массивов"
   ]
  },
  {
   "attachments": {},
   "cell_type": "markdown",
   "metadata": {},
   "source": [
    "Иногда возникает задача по сортировке значений в массиве. Для её решения существуют встроенная в NumPy функция sort. Применять функцию можно двумя способами.\n",
    "\n",
    "Способ 1. Функция np.sort(<массив>) возвращает новый отсортированный массив:\n"
   ]
  },
  {
   "cell_type": "code",
   "execution_count": null,
   "metadata": {},
   "outputs": [
    {
     "name": "stdout",
     "output_type": "stream",
     "text": [
      "[23 12 45 12 23  4 15  3]\n",
      "[ 3  4 12 12 15 23 23 45]\n"
     ]
    }
   ],
   "source": [
    "arr = np.array([23,12,45,12,23,4,15,3])\n",
    "arr_new = np.sort(arr)\n",
    "print(arr)\n",
    "# [23 12 45 12 23  4 15  3]\n",
    "print(arr_new)\n",
    "# [ 3  4 12 12 15 23 23 45]\n"
   ]
  },
  {
   "attachments": {},
   "cell_type": "markdown",
   "metadata": {},
   "source": [
    "Способ 2. Функция <массив>.sort() сортирует исходный массив и возвращает None:"
   ]
  },
  {
   "cell_type": "code",
   "execution_count": null,
   "metadata": {},
   "outputs": [
    {
     "name": "stdout",
     "output_type": "stream",
     "text": [
      "None\n",
      "[ 3  4 12 12 15 23 23 45]\n"
     ]
    }
   ],
   "source": [
    "arr = np.array([23,12,45,12,23,4,15,3])\n",
    "print(arr.sort())\n",
    "#None\n",
    "print(arr)\n",
    "#[ 3  4 12 12 15 23 23 45]\n"
   ]
  },
  {
   "attachments": {},
   "cell_type": "markdown",
   "metadata": {},
   "source": [
    "        Работа с пропущенными данными"
   ]
  },
  {
   "cell_type": "code",
   "execution_count": null,
   "metadata": {},
   "outputs": [
    {
     "name": "stdout",
     "output_type": "stream",
     "text": [
      "[2.         3.                nan 1.73205081        nan]\n"
     ]
    },
    {
     "name": "stderr",
     "output_type": "stream",
     "text": [
      "C:\\Users\\Konstantin\\AppData\\Local\\Temp\\ipykernel_29560\\1811888191.py:3: RuntimeWarning: invalid value encountered in sqrt\n",
      "  roots = np.sqrt(data)\n"
     ]
    }
   ],
   "source": [
    "data = np.array([4, 9, -4, 3, -5])\n",
    "# Воспользуемся встроенной в NumPy функцией sqrt, чтобы посчитать квадратные корни из элементов.\n",
    "roots = np.sqrt(data)\n",
    "print(roots)\n",
    "\n"
   ]
  },
  {
   "attachments": {},
   "cell_type": "markdown",
   "metadata": {},
   "source": [
    "NumPy выдал предупреждение о том, что в функцию sqrt попало некорректное значение. Это было число -4, а как вы помните, корень из отрицательного числа в действительных числах не берётся. Однако программа не сломалась окончательно, а продолжила работу. На том месте, где должен был оказаться корень из -4, теперь присутствует объект nan. Он расшифровывается как Not a number (не число). Этот объект аналогичен встроенному типу None, но имеет несколько отличий:\n",
    "\n",
    "    Отличие 1. None является отдельным объектом типа NoneType. np.nan — это отдельный представитель класса float:"
   ]
  },
  {
   "cell_type": "code",
   "execution_count": null,
   "metadata": {},
   "outputs": [
    {
     "name": "stdout",
     "output_type": "stream",
     "text": [
      "<class 'NoneType'>\n",
      "<class 'float'>\n"
     ]
    },
    {
     "data": {
      "text/plain": [
       "float"
      ]
     },
     "execution_count": 144,
     "metadata": {},
     "output_type": "execute_result"
    }
   ],
   "source": [
    "print(type(None))\n",
    "# <class 'NoneType'>\n",
    "print(type(np.nan))\n",
    "# <class 'float'>\n",
    "type(np.nan)"
   ]
  },
  {
   "attachments": {},
   "cell_type": "markdown",
   "metadata": {},
   "source": [
    "    Отличие 2. None могут быть равны друг другу, а np.nan — нет:"
   ]
  },
  {
   "cell_type": "code",
   "execution_count": null,
   "metadata": {},
   "outputs": [
    {
     "name": "stdout",
     "output_type": "stream",
     "text": [
      "True\n",
      "False\n"
     ]
    }
   ],
   "source": [
    "print(None == None)\n",
    "# True\n",
    "print(np.nan == np.nan)\n",
    "# False"
   ]
  },
  {
   "attachments": {},
   "cell_type": "markdown",
   "metadata": {},
   "source": [
    "Как вы помните, чтобы грамотно сравнить что-либо с None, необходимо использовать оператор is. Это ещё более актуально для np.nan. Однако None даже через is не является эквивалентным np.nan:"
   ]
  },
  {
   "cell_type": "code",
   "execution_count": null,
   "metadata": {},
   "outputs": [
    {
     "name": "stdout",
     "output_type": "stream",
     "text": [
      "True\n",
      "True\n",
      "False\n"
     ]
    }
   ],
   "source": [
    "print(None is None)\n",
    "# True\n",
    "print(np.nan is np.nan)\n",
    "# True\n",
    "print(np.nan is None)\n",
    "# False"
   ]
  },
  {
   "attachments": {},
   "cell_type": "markdown",
   "metadata": {},
   "source": [
    "Иногда работать с отсутствующими данными всё же нужно. Они могут возникнуть не только потому, что мы применили функцию к некорректному аргументу. Например, при анализе вакансий на сайте для некоторых из них может быть не указана зарплата, но при этом нам необходимо проанализировать статистику по зарплатам на сайте. Если попробовать посчитать сумму массива, который содержит np.nan, в итоге получится nan:\n"
   ]
  },
  {
   "cell_type": "code",
   "execution_count": null,
   "metadata": {},
   "outputs": [
    {
     "data": {
      "text/plain": [
       "nan"
      ]
     },
     "execution_count": 147,
     "metadata": {},
     "output_type": "execute_result"
    }
   ],
   "source": [
    "sum(roots)\n",
    "# nan"
   ]
  },
  {
   "attachments": {},
   "cell_type": "markdown",
   "metadata": {},
   "source": [
    "Можно заполнить пропущенные значения, например, нулями. Для этого с помощью функции np.isnan(<массив>) узнаем, на каких местах в массиве находятся «не числа»:\n"
   ]
  },
  {
   "cell_type": "code",
   "execution_count": 197,
   "metadata": {},
   "outputs": [
    {
     "data": {
      "text/plain": [
       "array([False, False,  True, False,  True])"
      ]
     },
     "execution_count": 197,
     "metadata": {},
     "output_type": "execute_result"
    }
   ],
   "source": [
    "np.isnan(roots)\n",
    "# array([False, False,  True, False])"
   ]
  },
  {
   "attachments": {},
   "cell_type": "markdown",
   "metadata": {},
   "source": [
    "Можно использовать полученный массив из True и False для извлечения элементов из массива roots, на месте которых в булевом массиве указано True. Таким способом можно узнать сами элементы, которые удовлетворяют условию np.isnan:\n"
   ]
  },
  {
   "cell_type": "code",
   "execution_count": 151,
   "metadata": {},
   "outputs": [
    {
     "data": {
      "text/plain": [
       "array([nan, nan])"
      ]
     },
     "execution_count": 151,
     "metadata": {},
     "output_type": "execute_result"
    }
   ],
   "source": [
    "roots[np.isnan(roots)] # т е  np.isnan(roots) указывает индексы в массиве, всех isnan елементов\n",
    "# array([nan])"
   ]
  },
  {
   "attachments": {},
   "cell_type": "markdown",
   "metadata": {},
   "source": [
    "Этим элементам можно присвоить новые значения, например 0:"
   ]
  },
  {
   "cell_type": "code",
   "execution_count": 198,
   "metadata": {},
   "outputs": [
    {
     "data": {
      "text/plain": [
       "6.732050807568877"
      ]
     },
     "execution_count": 198,
     "metadata": {},
     "output_type": "execute_result"
    }
   ],
   "source": [
    "roots[np.isnan(roots)] = 0\n",
    "sum(roots)"
   ]
  },
  {
   "attachments": {},
   "cell_type": "markdown",
   "metadata": {},
   "source": [
    "Ранее проблема при подсчёте суммы элементов в массиве roots возникала из-за того, что отсутствовало значение для квадратного корня из -4 — вместо него было указано np.nan. Сумма элементов массива, содержащего nan, также является nan. Поэтому приходится заменить nan, например, на 0, чтобы подсчитать сумму элементов массива."
   ]
  },
  {
   "cell_type": "code",
   "execution_count": 199,
   "metadata": {},
   "outputs": [
    {
     "data": {
      "text/plain": [
       "True"
      ]
     },
     "execution_count": 199,
     "metadata": {},
     "output_type": "execute_result"
    }
   ],
   "source": [
    "np.isnan(np.nan)"
   ]
  },
  {
   "attachments": {},
   "cell_type": "markdown",
   "metadata": {},
   "source": [
    "# Задание 7.4 \n",
    "\n",
    "\n",
    "    Получите булевый массив nans_index с информацией о np.nan в массиве mystery: True - значение пропущено, False - значение не пропущено\n",
    "    В переменную `n_nan сохраните число пропущенных значений\n",
    "    Скопируйте массив mystery в массив mystery_new. Заполните пропущенные значения в массиве mystery_new нулями\n",
    "    Поменяйте тип данных в массиве mystery на int32 и сохраните в переменную mystery_int\n",
    "    Отсортируйте значения в массиве по возрастанию и сохраните результат в переменную array\n",
    "    Сохраните в массив table двухмерный массив, полученный из массива array. В нём должно быть 5 строк и 3 столбца. Причём порядок заполнения должен быть по столбцам!\n",
    "\n"
   ]
  },
  {
   "cell_type": "code",
   "execution_count": 236,
   "metadata": {},
   "outputs": [
    {
     "name": "stdout",
     "output_type": "stream",
     "text": [
      "(15,)\n",
      "[False False False  True False False False False  True False False False\n",
      "  True False False]\n",
      "\n",
      "2\n",
      "3\n",
      "\n",
      "3\n",
      "[ 12279. -26024.  28745.     nan  31244.  -2365.  -6974.  -9212.     nan\n",
      " -17722.  16132.  25933.     nan -16431.  29810.]\n",
      "[ 12279. -26024.  28745.      0.  31244.  -2365.  -6974.  -9212.      0.\n",
      " -17722.  16132.  25933.      0. -16431.  29810.]\n",
      "\n",
      "4\n",
      "[      12279      -26024       28745 -2147483648       31244       -2365\n",
      "       -6974       -9212 -2147483648      -17722       16132       25933\n",
      " -2147483648      -16431       29810]\n",
      "\n",
      "5\n",
      "[ 12279. -26024.  28745.     nan  31244.  -2365.  -6974.  -9212.     nan\n",
      " -17722.  16132.  25933.     nan -16431.  29810.]\n",
      "[-26024. -17722. -16431.  -9212.  -6974.  -2365.  12279.  16132.  25933.\n",
      "  28745.  29810.  31244.     nan     nan     nan]\n",
      "\n",
      "6\n",
      "[[-26024.  -2365.  29810.]\n",
      " [-17722.  12279.  31244.]\n",
      " [-16431.  16132.     nan]\n",
      " [ -9212.  25933.     nan]\n",
      " [ -6974.  28745.     nan]]\n",
      "\n",
      "7\n",
      "[-2365. 12279. 16132. 25933. 28745.]\n"
     ]
    }
   ],
   "source": [
    "import numpy as np\n",
    "mystery = np.array([ 12279., -26024.,  28745.,  np.nan,  31244.,  -2365.,  -6974.,\n",
    "        -9212., np.nan, -17722.,  16132.,  25933.,  np.nan, -16431.,\n",
    "        29810.], dtype=np.float32)\n",
    "\n",
    "print(mystery.shape)\n",
    "\n",
    "# 1 Получите булевый массив nans_index с информацией о np.nan в массиве mystery: True - значение пропущено, False - значение не пропущено\n",
    "\n",
    "nans_index = np.isnan(mystery)\n",
    "print(nans_index)\n",
    "\n",
    "# 2 В переменную `n_nan сохраните число пропущенных значений\n",
    "print()\n",
    "print('2')\n",
    "n_nan = sum(nans_index)\n",
    "print(n_nan)\n",
    "\n",
    "# 3 Скопируйте массив mystery в массив mystery_new. Заполните пропущенные значения в массиве mystery_new нулями\n",
    "\n",
    "print()\n",
    "print('3')\n",
    "mystery_new = mystery.copy()\n",
    "# without .COPY it will alternate original array\n",
    "mystery_new[np.isnan(mystery_new)]= 0\n",
    "print(mystery)\n",
    "print(mystery_new)\n",
    "\n",
    "# 4 Поменяйте тип данных в массиве mystery на int32 и сохраните в переменную mystery_int\n",
    "print()\n",
    "print('4')\n",
    "mystery_int = np.int32(mystery)\n",
    "print(mystery_int)\n",
    "\n",
    "# 5 Отсортируйте значения в массиве по возрастанию и сохраните результат в переменную array\n",
    "print()\n",
    "print('5')\n",
    "print(mystery)\n",
    "array = np.sort(mystery)\n",
    "print(array)\n",
    "\n",
    "# 6 Сохраните в массив table двухмерный массив, полученный из массива array. В нём должно быть 5 строк и 3 столбца. Причём порядок заполнения должен быть по столбцам!\n",
    "print()\n",
    "print('6')\n",
    "table = array.reshape((5,3), order ='F')\n",
    "print(table)\n",
    "\n",
    "\n",
    "\n",
    "# 7 Сохраните в переменную col средний столбец из table\n",
    "# col = table[:,1:2]\n",
    "print()\n",
    "print('7')\n",
    "col = table[:, 1]\n",
    "print(col)"
   ]
  },
  {
   "attachments": {},
   "cell_type": "markdown",
   "metadata": {},
   "source": [
    "Ожидаемый ответ:\n",
    "\n",
    "[[-26024.  -2365.  29810.]\n",
    " [-17722.  12279.  31244.]\n",
    " [-16431.  16132.     nan]\n",
    " [ -9212.  25933.     nan]\n",
    " [ -6974.  28745.     nan]]\n",
    "\n",
    "Ваш ответ:\n",
    "\n",
    "[[ 12279.  -2365.  16132.]\n",
    " [-26024.  -6974.  25933.]\n",
    " [ 28745.  -9212.      0.]\n",
    " [     0.      0. -16431.]\n",
    " [ 31244. -17722.  29810.]]"
   ]
  }
 ],
 "metadata": {
  "kernelspec": {
   "display_name": "Python 3",
   "language": "python",
   "name": "python3"
  },
  "language_info": {
   "codemirror_mode": {
    "name": "ipython",
    "version": 3
   },
   "file_extension": ".py",
   "mimetype": "text/x-python",
   "name": "python",
   "nbconvert_exporter": "python",
   "pygments_lexer": "ipython3",
   "version": "3.10.2"
  },
  "orig_nbformat": 4,
  "vscode": {
   "interpreter": {
    "hash": "a8698f73bc8614c8f1502f26e9b5373a6966bd4b4d74167ce8954941b9f8a95f"
   }
  }
 },
 "nbformat": 4,
 "nbformat_minor": 2
}
