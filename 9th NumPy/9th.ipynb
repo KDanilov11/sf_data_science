{
 "cells": [
  {
   "cell_type": "code",
   "execution_count": 4,
   "metadata": {},
   "outputs": [
    {
     "name": "stdout",
     "output_type": "stream",
     "text": [
      "Counter({'red': 1})\n"
     ]
    }
   ],
   "source": [
    "# Импортируем объект Counter из модуля collections\n",
    "from collections import Counter\n",
    "# Создаём пустой объект Counter\n",
    "c = Counter()\n",
    "\n",
    "c['red'] += 1\n",
    "print(c)\n",
    "\n",
    "# Будет напечатано:\n",
    "# Counter({'red': 1})\n",
    "\n",
    "cars = ['red', 'blue', 'black', 'black', 'black', 'red', 'blue', 'red', 'white']\n",
    "\n"
   ]
  },
  {
   "attachments": {},
   "cell_type": "markdown",
   "metadata": {},
   "source": [
    "Посчитать значения, конечно, можно и в цикле, используя синтаксис из предыдущего примера:"
   ]
  },
  {
   "cell_type": "code",
   "execution_count": 5,
   "metadata": {},
   "outputs": [
    {
     "name": "stdout",
     "output_type": "stream",
     "text": [
      "Counter({'red': 3, 'black': 3, 'blue': 2, 'white': 1})\n"
     ]
    }
   ],
   "source": [
    "c = Counter()\n",
    "for car in cars:\n",
    "    c[car] += 1\n",
    "    \n",
    "print(c)"
   ]
  },
  {
   "attachments": {},
   "cell_type": "markdown",
   "metadata": {},
   "source": [
    "Однако гораздо проще при создании Counter сразу передать в круглых скобках итерируемый объект, в котором необходимо посчитать значения:"
   ]
  },
  {
   "cell_type": "code",
   "execution_count": 6,
   "metadata": {},
   "outputs": [
    {
     "name": "stdout",
     "output_type": "stream",
     "text": [
      "Counter({'red': 3, 'black': 3, 'blue': 2, 'white': 1})\n",
      "3\n"
     ]
    }
   ],
   "source": [
    "c = Counter(cars)\n",
    "print(c)\n",
    "print(c['black'])"
   ]
  },
  {
   "attachments": {},
   "cell_type": "markdown",
   "metadata": {},
   "source": [
    "Несуществующий ключ в счётчике\n",
    "возвращает 0, так как такого элемента нет( встречается 0 раз)"
   ]
  },
  {
   "cell_type": "code",
   "execution_count": 7,
   "metadata": {},
   "outputs": [
    {
     "name": "stdout",
     "output_type": "stream",
     "text": [
      "0\n"
     ]
    }
   ],
   "source": [
    "print(c['purple'])\n"
   ]
  },
  {
   "cell_type": "code",
   "execution_count": 8,
   "metadata": {},
   "outputs": [
    {
     "name": "stdout",
     "output_type": "stream",
     "text": [
      "dict_values([3, 2, 3, 1])\n",
      "dict_keys(['red', 'blue', 'black', 'white'])\n",
      "9\n",
      "\n"
     ]
    }
   ],
   "source": [
    "print(c.values())\n",
    "print(c.keys())\n",
    "print(sum(c.values()))\n",
    "print()"
   ]
  },
  {
   "attachments": {},
   "cell_type": "markdown",
   "metadata": {},
   "source": [
    "В этой конструкции мы сначала получаем элементы (число раз, когда встретился ключ) с помощью функции values (такая же функция есть и у словаря):\n",
    "\n",
    "print(c.values())\n",
    "# dict_values([3, 2, 3, 1])\n",
    "\n",
    "Затем суммируем полученные значения итерируемого объекта dict_values, который выглядит почти как список, с помощью встроенной функции sum."
   ]
  },
  {
   "attachments": {},
   "cell_type": "markdown",
   "metadata": {},
   "source": [
    "Операции с Counter"
   ]
  },
  {
   "attachments": {},
   "cell_type": "markdown",
   "metadata": {},
   "source": [
    "Возможности Counter не ограничиваются только подсчётом элементов. Этот объект обладает и дополнительным функционалом — например, счётчики можно складывать и вычитать."
   ]
  },
  {
   "cell_type": "code",
   "execution_count": 9,
   "metadata": {},
   "outputs": [
    {
     "name": "stdout",
     "output_type": "stream",
     "text": [
      "Counter({'black': 4, 'yellow': 3, 'white': 2})\n",
      "Counter({'white': 3, 'red': 2, 'black': 2, 'yellow': 2})\n",
      "sum Counter({'black': 6, 'white': 5, 'yellow': 5, 'red': 2})\n",
      "\n",
      "subtract\n",
      "Counter({'black': 2, 'yellow': 1, 'white': -1, 'red': -2})\n"
     ]
    }
   ],
   "source": [
    "cars_moscow = ['black', 'black', 'white', 'black', 'black', 'white', 'yellow', 'yellow', 'yellow']\n",
    "cars_spb = ['red', 'black', 'black', 'white', 'white', 'yellow', 'yellow', 'red', 'white']\n",
    "\n",
    "counter_moscow = Counter(cars_moscow)\n",
    "counter_spb = Counter(cars_spb)\n",
    "\n",
    "print(counter_moscow)\n",
    "print(counter_spb)\n",
    "\n",
    "#Сложение\n",
    "print('sum', counter_moscow + counter_spb)\n",
    "\n",
    "#Вычитание\n",
    "print()\n",
    "print('subtract')\n",
    "counter_moscow.subtract(counter_spb)\n",
    "print(counter_moscow)"
   ]
  },
  {
   "attachments": {},
   "cell_type": "markdown",
   "metadata": {},
   "source": [
    "функцию subtract не всегда бывает удобно использовать для вычитания, так как модифицируется исходный счётчик. Однако аналога у этой функции нет, поскольку вычитание с помощью оператора \"-\" приводит к другому результату:"
   ]
  },
  {
   "cell_type": "code",
   "execution_count": 10,
   "metadata": {},
   "outputs": [
    {
     "name": "stdout",
     "output_type": "stream",
     "text": [
      "Counter({'black': 2, 'yellow': 1})\n"
     ]
    }
   ],
   "source": [
    "#Счётчики надо пересоздать так как subtract модифицирует оригинальный объект\n",
    "counter_moscow = Counter(cars_moscow)\n",
    "counter_spb = Counter(cars_spb)\n",
    "# print(counter_moscow)\n",
    "# print(counter_spb)\n",
    "print(counter_moscow - counter_spb)\n",
    "# В данном случае нет значений меньше 1, поэтому нет данных о разнице в числе белых и красных машин.\n"
   ]
  },
  {
   "attachments": {},
   "cell_type": "markdown",
   "metadata": {},
   "source": [
    "#Дополнительные функции"
   ]
  },
  {
   "cell_type": "code",
   "execution_count": 11,
   "metadata": {},
   "outputs": [],
   "source": [
    "counter_moscow = Counter(cars_moscow)\n",
    "counter_spb = Counter(cars_spb)"
   ]
  },
  {
   "attachments": {},
   "cell_type": "markdown",
   "metadata": {},
   "source": [
    "Чтобы получить список всех элементов, которые содержатся в Counter, используется функция elements(). Она возвращает итератор, поэтому, чтобы напечатать все элементы, распакуем их с помощью *:"
   ]
  },
  {
   "cell_type": "code",
   "execution_count": 12,
   "metadata": {},
   "outputs": [
    {
     "name": "stdout",
     "output_type": "stream",
     "text": [
      "black black black black white white yellow yellow yellow\n",
      "<itertools.chain object at 0x00000121DBEFBB20>\n"
     ]
    }
   ],
   "source": [
    "print (*counter_moscow.elements())\n",
    "#elements() функция\n",
    "# * - Распаковщик\n",
    "print (counter_moscow.elements())"
   ]
  },
  {
   "attachments": {},
   "cell_type": "markdown",
   "metadata": {},
   "source": [
    "Обратите внимание, что элементы возвращаются в порядке появления уникальных элементов. Например, элемент “black” встречается в списке cars_moscow первым, элемент “white” вторым, а элемент “yellow” третьим. Соответственно, в этом же порядке будут выведены элементы Counter()."
   ]
  },
  {
   "attachments": {},
   "cell_type": "markdown",
   "metadata": {},
   "source": []
  },
  {
   "attachments": {},
   "cell_type": "markdown",
   "metadata": {},
   "source": [
    " Чтобы получить список уникальных элементов, достаточно воспользоваться функцией list():"
   ]
  },
  {
   "cell_type": "code",
   "execution_count": 13,
   "metadata": {},
   "outputs": [
    {
     "name": "stdout",
     "output_type": "stream",
     "text": [
      "['black', 'white', 'yellow']\n",
      "3\n"
     ]
    }
   ],
   "source": [
    "print(list(counter_moscow))\n",
    "print(len(list(counter_moscow)))"
   ]
  },
  {
   "attachments": {},
   "cell_type": "markdown",
   "metadata": {},
   "source": [
    "С помощью функции dict() можно превратить Counter в обычный словарь:"
   ]
  },
  {
   "cell_type": "code",
   "execution_count": 14,
   "metadata": {},
   "outputs": [
    {
     "name": "stdout",
     "output_type": "stream",
     "text": [
      "Counter({'black': 4, 'yellow': 3, 'white': 2})\n",
      "{'black': 4, 'white': 2, 'yellow': 3}\n",
      "Counter({'black': 4, 'yellow': 3, 'white': 2})\n"
     ]
    }
   ],
   "source": [
    "print(counter_moscow)\n",
    "print(dict(counter_moscow))\n",
    "print(counter_moscow)"
   ]
  },
  {
   "cell_type": "code",
   "execution_count": 15,
   "metadata": {},
   "outputs": [
    {
     "data": {
      "text/plain": [
       "collections.Counter"
      ]
     },
     "execution_count": 15,
     "metadata": {},
     "output_type": "execute_result"
    }
   ],
   "source": [
    "type(counter_moscow)"
   ]
  },
  {
   "attachments": {},
   "cell_type": "markdown",
   "metadata": {},
   "source": [
    "Функция most_common() позволяет получить список из кортежей элементов в порядке убывания их встречаемости:"
   ]
  },
  {
   "cell_type": "code",
   "execution_count": 16,
   "metadata": {},
   "outputs": [
    {
     "name": "stdout",
     "output_type": "stream",
     "text": [
      "[('black', 4), ('yellow', 3), ('white', 2)]\n",
      "[('black', 4), ('yellow', 3)]\n"
     ]
    }
   ],
   "source": [
    "print(counter_moscow.most_common())\n",
    "print(counter_moscow.most_common(2))"
   ]
  },
  {
   "attachments": {},
   "cell_type": "markdown",
   "metadata": {},
   "source": [
    "Наконец, функция clear() позволяет полностью обнулить счётчик:"
   ]
  },
  {
   "cell_type": "code",
   "execution_count": 17,
   "metadata": {},
   "outputs": [
    {
     "name": "stdout",
     "output_type": "stream",
     "text": [
      "Counter()\n",
      "Counter({'black': 4, 'yellow': 3, 'white': 2})\n"
     ]
    }
   ],
   "source": [
    "counter_moscow.clear()\n",
    "print(counter_moscow)\n",
    "counter_moscow = Counter(cars_moscow)\n",
    "print(counter_moscow)"
   ]
  },
  {
   "attachments": {},
   "cell_type": "markdown",
   "metadata": {},
   "source": [
    "**Defaultdict**"
   ]
  },
  {
   "cell_type": "code",
   "execution_count": 18,
   "metadata": {},
   "outputs": [],
   "source": [
    "students = [('Ivanov',1),('Smirnov',4),('Petrov',3),('Kuznetsova',1),\n",
    "            ('Nikitina',2),('Markov',3),('Pavlov',2)]\n",
    "#список из кортежей с фамилиями и учебнымигруппами\n",
    "\n"
   ]
  },
  {
   "attachments": {},
   "cell_type": "markdown",
   "metadata": {},
   "source": [
    "Сохраним эти данные в словаре, в котором ключами будут номера групп, а элементами — списки студентов. Сделать это можно следующим образом:"
   ]
  },
  {
   "cell_type": "code",
   "execution_count": 19,
   "metadata": {},
   "outputs": [
    {
     "name": "stdout",
     "output_type": "stream",
     "text": [
      "{1: []}\n",
      "{1: ['Ivanov'], 4: []}\n",
      "{1: ['Ivanov'], 4: ['Smirnov'], 3: []}\n",
      "{1: ['Ivanov', 'Kuznetsova'], 4: ['Smirnov'], 3: ['Petrov'], 2: []}\n",
      "{1: ['Ivanov', 'Kuznetsova'], 4: ['Smirnov'], 3: ['Petrov', 'Markov'], 2: ['Nikitina', 'Pavlov']}\n"
     ]
    }
   ],
   "source": [
    "students = [('Ivanov',1),('Smirnov',4),('Petrov',3),('Kuznetsova',1),\n",
    "            ('Nikitina',2),('Markov',3),('Pavlov',2)]\n",
    "#список из кортежей с фамилиями и учебнымигруппами\n",
    "\n",
    "groups = dict()\n",
    "\n",
    "for student, group in students:\n",
    "    # Проверяем, есть ли уже эта группа в словаре\n",
    "    if group not in groups:\n",
    "         # Если группы ещё нет в словаре, создаём для неё пустой список\n",
    "         groups[group] = list()\n",
    "         print(groups)\n",
    "    groups[group].append(student)\n",
    "    \n",
    "print(groups)\n",
    "# {1: ['Ivanov', 'Kuznetsova'], 4: ['Smirnov'], 3: ['Petrov', 'Markov'], 2: ['Nikitina', 'Pavlov']}\n",
    "        "
   ]
  },
  {
   "attachments": {},
   "cell_type": "markdown",
   "metadata": {},
   "source": [
    "В данном коде в цикле for происходит распаковка кортежа: в переменные цикла student и group попадают первый и второй элементы кортежей из списка students. То есть на первой итерации цикла в переменной student содержится строка 'Ivanov', а в переменной group — целое число 1. На второй итерации цикла в переменной student содержится строка 'Smirnov', а в переменной group — целое число 4. И так далее.\n",
    "\n",
    "Обратите внимание, что для решения этой задачи нам потребовался шаг с проверкой наличия номера группы в словаре. Если номера группы не было, для этой группы мы создавали новый список в словаре. Без шага проверки мы бы натолкнулись на KeyError:"
   ]
  },
  {
   "cell_type": "markdown",
   "metadata": {},
   "source": []
  },
  {
   "cell_type": "code",
   "execution_count": 20,
   "metadata": {},
   "outputs": [],
   "source": [
    "\n",
    "# groups = dict()\n",
    "\n",
    "# for student, group in students:\n",
    "#     groups[group].append(student)\n",
    "    \n",
    "# print(groups)"
   ]
  },
  {
   "attachments": {},
   "cell_type": "markdown",
   "metadata": {},
   "source": [
    "Данная ошибка означает, что ключа 1 нет в словаре."
   ]
  },
  {
   "attachments": {},
   "cell_type": "markdown",
   "metadata": {},
   "source": [
    "Например, чтобы сохранить информацию о колебании курсов валют за последний месяц, можно создать словарь из валютных пар (USD/RUB, EUR/RUB и т. д.), а по ключам разместить списки из стоимости валюты по курсу ЦБ за последние 30 дней. В таком словаре по каждому ключу должен быть доступен список.\n",
    "\n",
    "Создадим defaultdict, в котором при обращении по несуществующему ключу будет автоматически создаваться новый список. Для этого при создании объекта defaultdict в круглых скобках передадим параметр list:"
   ]
  },
  {
   "cell_type": "code",
   "execution_count": 21,
   "metadata": {},
   "outputs": [],
   "source": [
    "from collections import defaultdict\n",
    "groups = defaultdict(list) \n",
    "# Обратите внимание, что в скобках мы передаём именно указатель на класс объекта (например list; \n",
    "# также можно было бы применить set, dict) без круглых скобок, которые используются для создания нового экземпляра объекта."
   ]
  },
  {
   "cell_type": "code",
   "execution_count": 22,
   "metadata": {},
   "outputs": [
    {
     "name": "stdout",
     "output_type": "stream",
     "text": [
      "defaultdict(<class 'list'>, {1: ['Ivanov']})\n",
      "defaultdict(<class 'list'>, {1: ['Ivanov'], 4: ['Smirnov']})\n",
      "defaultdict(<class 'list'>, {1: ['Ivanov'], 4: ['Smirnov'], 3: ['Petrov']})\n",
      "defaultdict(<class 'list'>, {1: ['Ivanov', 'Kuznetsova'], 4: ['Smirnov'], 3: ['Petrov']})\n",
      "defaultdict(<class 'list'>, {1: ['Ivanov', 'Kuznetsova'], 4: ['Smirnov'], 3: ['Petrov'], 2: ['Nikitina']})\n",
      "defaultdict(<class 'list'>, {1: ['Ivanov', 'Kuznetsova'], 4: ['Smirnov'], 3: ['Petrov', 'Markov'], 2: ['Nikitina']})\n",
      "defaultdict(<class 'list'>, {1: ['Ivanov', 'Kuznetsova'], 4: ['Smirnov'], 3: ['Petrov', 'Markov'], 2: ['Nikitina', 'Pavlov']})\n",
      "\n",
      "defaultdict(<class 'list'>, {1: ['Ivanov', 'Kuznetsova'], 4: ['Smirnov'], 3: ['Petrov', 'Markov'], 2: ['Nikitina', 'Pavlov']})\n"
     ]
    }
   ],
   "source": [
    "groups.clear()\n",
    "for student, group in students:\n",
    "    groups[group].append(student)\n",
    "    print(groups)\n",
    "    \n",
    "print()\n",
    "print(groups)"
   ]
  },
  {
   "attachments": {},
   "cell_type": "markdown",
   "metadata": {},
   "source": [
    "Получить элемент из defaultdict по ключу можно так же, как и из обычного словаря:"
   ]
  },
  {
   "cell_type": "code",
   "execution_count": 23,
   "metadata": {},
   "outputs": [
    {
     "name": "stdout",
     "output_type": "stream",
     "text": [
      "['Petrov', 'Markov']\n"
     ]
    }
   ],
   "source": [
    "print(groups[3])"
   ]
  },
  {
   "attachments": {},
   "cell_type": "markdown",
   "metadata": {},
   "source": [
    "Если запрашиваемого ключа нет в словаре, KeyError не возникнет. Вместо этого будет напечатан пустой элемент, который создаётся в словаре по умолчанию:"
   ]
  },
  {
   "cell_type": "code",
   "execution_count": 24,
   "metadata": {},
   "outputs": [
    {
     "name": "stdout",
     "output_type": "stream",
     "text": [
      "[]\n",
      "[]\n",
      "[]\n"
     ]
    }
   ],
   "source": [
    "print(groups[29])\n",
    "print(groups[88])\n",
    "print(groups[88])"
   ]
  },
  {
   "attachments": {},
   "cell_type": "markdown",
   "metadata": {},
   "source": [
    "Теперь в словаре groups автоматически появился элемент 29 и 88 с пустым списком внутри, несмотря на то что мы его не создавали:"
   ]
  },
  {
   "cell_type": "code",
   "execution_count": 25,
   "metadata": {},
   "outputs": [
    {
     "name": "stdout",
     "output_type": "stream",
     "text": [
      "defaultdict(<class 'list'>, {1: ['Ivanov', 'Kuznetsova'], 4: ['Smirnov'], 3: ['Petrov', 'Markov'], 2: ['Nikitina', 'Pavlov'], 29: [], 88: []})\n"
     ]
    }
   ],
   "source": [
    "print(groups)"
   ]
  },
  {
   "cell_type": "code",
   "execution_count": 26,
   "metadata": {},
   "outputs": [
    {
     "name": "stdout",
     "output_type": "stream",
     "text": [
      "<class 'dict'>\n",
      "<class 'collections.defaultdict'>\n"
     ]
    }
   ],
   "source": [
    "dict_object = dict()\n",
    "defaultdict_object = defaultdict()\n",
    "\n",
    "print(type(dict_object))\n",
    "print(type(defaultdict_object))"
   ]
  },
  {
   "cell_type": "code",
   "execution_count": 27,
   "metadata": {},
   "outputs": [
    {
     "name": "stdout",
     "output_type": "stream",
     "text": [
      "{}\n",
      "defaultdict(None, {})\n"
     ]
    }
   ],
   "source": [
    "print(dict_object)\n",
    "print(defaultdict_object)\n",
    "# Заметьте, что в этом примере мы не задавали объект, \n",
    "# который по умолчанию хранится в экземпляре defaultdict, \n",
    "# поэтому объектом по умолчанию является None."
   ]
  },
  {
   "cell_type": "code",
   "execution_count": null,
   "metadata": {},
   "outputs": [],
   "source": []
  },
  {
   "attachments": {},
   "cell_type": "markdown",
   "metadata": {},
   "source": [
    "3. Модуль Collections. Deque и OrderedDict"
   ]
  },
  {
   "attachments": {},
   "cell_type": "markdown",
   "metadata": {},
   "source": [
    "**OrderedDict**"
   ]
  },
  {
   "cell_type": "code",
   "execution_count": 28,
   "metadata": {},
   "outputs": [
    {
     "name": "stdout",
     "output_type": "stream",
     "text": [
      "3.10.2 (tags/v3.10.2:a58ebcc, Jan 17 2022, 14:12:15) [MSC v.1929 64 bit (AMD64)]\n",
      "{'Ivan': 19, 'Mark': 25, 'Andrey': 23, 'Maria': 20}\n"
     ]
    }
   ],
   "source": [
    "import sys\n",
    "print(sys.version)\n",
    "data = [('Ivan', 19), ('Mark', 25), ('Andrey', 23), ('Maria', 20)]\n",
    "client_ages = dict(data)\n",
    "print(client_ages)\n"
   ]
  },
  {
   "attachments": {},
   "cell_type": "markdown",
   "metadata": {},
   "source": [
    "Специальный словарь, который гарантирует сохранение ключей в порядке их добавления, называется OrderedDict:\n",
    "В Python 3.7 и дальше обычные словари тоже сохраняют порядок"
   ]
  },
  {
   "cell_type": "code",
   "execution_count": 29,
   "metadata": {},
   "outputs": [
    {
     "name": "stdout",
     "output_type": "stream",
     "text": [
      "OrderedDict([('Ivan', 19), ('Mark', 25), ('Andrey', 23), ('Maria', 20)])\n",
      "OrderedDict([('Ivan', 19), ('Mark', 25), ('Andrey', 23), ('Maria', 20), ('Nikita', 18)])\n",
      "OrderedDict([('Ivan', 19), ('Mark', 25), ('Maria', 20), ('Nikita', 18)])\n",
      "OrderedDict([('Ivan', 19), ('Mark', 25), ('Maria', 20), ('Nikita', 18), ('Andrey', 23)])\n"
     ]
    }
   ],
   "source": [
    "from collections import OrderedDict\n",
    "data = [('Ivan', 19), ('Mark', 25), ('Andrey', 23), ('Maria', 20)]\n",
    "ordered_client_ages = OrderedDict(data)\n",
    "print(ordered_client_ages)\n",
    "\n",
    "# Если теперь добавить нового человека в словарь, новая запись окажется в конце:\n",
    "ordered_client_ages['Nikita'] = 18\n",
    "print(ordered_client_ages)\n",
    "\n",
    "# Если удалить элемент, а затем добавить его снова, он также окажется в конце:\n",
    "del ordered_client_ages['Andrey']\n",
    "print(ordered_client_ages)\n",
    "ordered_client_ages['Andrey'] = 23\n",
    "print(ordered_client_ages)\n"
   ]
  },
  {
   "attachments": {},
   "cell_type": "markdown",
   "metadata": {},
   "source": [
    "Можно, например, отсортировать с помощью функции sorted список кортежей при создании из него OrderedDict, и объекты будут добавлены в порядке сортировки:"
   ]
  },
  {
   "cell_type": "code",
   "execution_count": 30,
   "metadata": {},
   "outputs": [
    {
     "name": "stdout",
     "output_type": "stream",
     "text": [
      "{'Ivan': 19, 'Mark': 25, 'Andrey': 23, 'Maria': 20}\n"
     ]
    }
   ],
   "source": [
    "data = [('Ivan', 19),('Mark', 25),('Andrey', 23),('Maria', 20)]\n",
    "\n",
    "ordered_dict_ages = OrderedDict(sorted(data, key=lambda x: x[1]))\n",
    "print(client_ages)"
   ]
  },
  {
   "attachments": {},
   "cell_type": "markdown",
   "metadata": {},
   "source": [
    "Deque"
   ]
  },
  {
   "cell_type": "code",
   "execution_count": null,
   "metadata": {},
   "outputs": [],
   "source": []
  },
  {
   "attachments": {},
   "cell_type": "markdown",
   "metadata": {},
   "source": [
    "Double-ended queue — двухконцевая очередь). Она объединяет в себе возможности и стека, и очереди: содержит функции, которые позволяют добавлять элементы в начало или в конец очереди, а также извлекать первый или последний элемент из неё. \n",
    "Можно сказать, что стек и очередь — это принципы обработки данных. deque позволяет обрабатывать данные обоими способами в зависимости от того, что требуется от разработчика. В каком порядке обрабатывать данные (FIFO или LIFO) вам подскажет собственная логика или более продвинутая теория алгоритмов, которая в данном модуле не изучается."
   ]
  },
  {
   "attachments": {},
   "cell_type": "markdown",
   "metadata": {},
   "source": [
    "У deque есть четыре ключевые функции:\n",
    "\n",
    "        append (добавить элемент в конец дека);\n",
    "        appendleft (добавить элемент в начало дека);\n",
    "        pop (удалить и вернуть элемент из конца дека);\n",
    "        popleft (удалить и вернуть элемент из начала дека).\n",
    "        extend добавить в конец дека несколько элементов\n",
    "        extendleft (добавить в начало дека).\n"
   ]
  },
  {
   "cell_type": "code",
   "execution_count": 31,
   "metadata": {},
   "outputs": [
    {
     "name": "stdout",
     "output_type": "stream",
     "text": [
      "deque([])\n"
     ]
    }
   ],
   "source": [
    "from collections import deque\n",
    "dq = deque()\n",
    "print(dq)"
   ]
  },
  {
   "cell_type": "markdown",
   "metadata": {},
   "source": [
    "clients.append('Ivanov')\n",
    "clients.append('')"
   ]
  },
  {
   "cell_type": "code",
   "execution_count": 32,
   "metadata": {},
   "outputs": [
    {
     "name": "stdout",
     "output_type": "stream",
     "text": [
      "deque(['Ivanov', 'Petrov', 'Smirnov', 'Tikhonova'])\n"
     ]
    }
   ],
   "source": [
    "clients = deque()\n",
    "clients.append('Ivanov')\n",
    "clients.append('Petrov')\n",
    "clients.append('Smirnov')\n",
    "clients.append('Tikhonova')\n",
    "print(clients)\n"
   ]
  },
  {
   "cell_type": "code",
   "execution_count": 33,
   "metadata": {},
   "outputs": [
    {
     "name": "stdout",
     "output_type": "stream",
     "text": [
      "clients: deque(['Ivanov', 'Petrov', 'Smirnov', 'Tikhonova'])\n",
      "First client: Ivanov\n",
      "Second client: Petrov\n",
      "deque(['Smirnov', 'Tikhonova'])\n",
      "deque(['VIP', 'Smirnov', 'Tikhonova'])\n",
      "tired client: Tikhonova\n",
      "deque(['VIP', 'Smirnov'])\n"
     ]
    }
   ],
   "source": [
    "# Объект deque поддерживает индексацию по элементам:\n",
    "clients = deque()\n",
    "clients.append('Ivanov')\n",
    "clients.append('Petrov')\n",
    "clients.append('Smirnov')\n",
    "clients.append('Tikhonova')\n",
    "print('clients:', clients)\n",
    "\n",
    "first_client = clients.popleft()\n",
    "second_client = clients.popleft()\n",
    "#third_client = clients.popleft()\n",
    "\n",
    "print('First client:', first_client)\n",
    "print('Second client:', second_client)\n",
    "print(clients)\n",
    "\n",
    "\n",
    "clients.appendleft('VIP')\n",
    "print(clients)\n",
    "\n",
    "tired_client = clients.pop()\n",
    "print('tired client:', tired_client)\n",
    "print(clients)"
   ]
  },
  {
   "cell_type": "code",
   "execution_count": 34,
   "metadata": {},
   "outputs": [
    {
     "name": "stdout",
     "output_type": "stream",
     "text": [
      "deque(['Ivanov', 'Petrov', 'Srmirnov', 'Tikhonova'])\n",
      "deque(['Ivanov', 'Petrov', 'Tikhonova'])\n"
     ]
    }
   ],
   "source": [
    "clients = deque(['Ivanov', 'Petrov', 'Srmirnov', 'Tikhonova'])\n",
    "print(clients)\n",
    "del clients[2]\n",
    "print(clients)"
   ]
  },
  {
   "cell_type": "code",
   "execution_count": 35,
   "metadata": {},
   "outputs": [
    {
     "name": "stdout",
     "output_type": "stream",
     "text": [
      "deque([1, 2, 3, 4, 5])\n",
      "deque([1, 2, 3, 4, 5, 11, 12, 13, 14, 15])\n",
      "deque([20, 19, 18, 17, 16, 1, 2, 3, 4, 5, 11, 12, 13, 14, 15])\n"
     ]
    }
   ],
   "source": [
    "shop = deque([1, 2, 3, 4, 5])\n",
    "print(shop)\n",
    "shop.extend([11, 12, 13, 14, 15])\n",
    "print(shop)\n",
    "shop.extendleft([16, 17, 18, 19, 20])\n",
    "print(shop)\n"
   ]
  },
  {
   "attachments": {},
   "cell_type": "markdown",
   "metadata": {},
   "source": [
    "Обратите внимание, что «клиенты из автобуса» оказались в очереди не в том порядке, в каком они «выходили из автобуса». То есть добавленные номера не только приписаны перед записанными в очереди номерами, но также порядок добавленных элементов поменялся на обратный. Это связано с тем, что действие функции extendleft аналогично многократному применению функции appendleft, поэтому самый последний клиент из автобуса оказался в итоге первым в очереди."
   ]
  },
  {
   "attachments": {},
   "cell_type": "markdown",
   "metadata": {},
   "source": [
    "            Очередь с ограниченной максимальной длиной"
   ]
  },
  {
   "cell_type": "markdown",
   "metadata": {},
   "source": [
    "При создании очереди можно также указать её максимальную длину с помощью параметра maxlen. Сделать это можно как при создании пустой очереди, так и при создании очереди от заданного итерируемого объекта:"
   ]
  },
  {
   "cell_type": "code",
   "execution_count": 36,
   "metadata": {},
   "outputs": [
    {
     "name": "stdout",
     "output_type": "stream",
     "text": [
      "deque([], maxlen=3)\n",
      "deque([5, 6, 7], maxlen=3)\n",
      "deque([1, 2, 3], maxlen=3)\n",
      "None\n",
      "deque([2, 3, 8], maxlen=3)\n",
      "deque([3, 8, 9], maxlen=3)\n"
     ]
    }
   ],
   "source": [
    "limited = deque(maxlen =3)\n",
    "print(limited) # макс длина дека тоже печатается\n",
    "\n",
    "limited_from_list = deque([1,2,3,4,5,6,7], maxlen=3)\n",
    "print(limited_from_list) # в очереди с ограниченной длиной сохраняются только последние элементы, а первые исчезают из памяти:\n",
    "\n",
    "limited.extend([1,2,3])\n",
    "print(limited)\n",
    "\n",
    "print(limited.append(8))\n",
    "print(limited)\n",
    "\n",
    "limited.append(9)\n",
    "print(limited)\n"
   ]
  },
  {
   "attachments": {},
   "cell_type": "markdown",
   "metadata": {},
   "source": [
    "При этом, как видно из результата операции limited.append(8), удаляемый элемент не возвращается, а просто исчезает.\n",
    "\n",
    "?\n",
    "Для чего может пригодиться такая возможность?\n",
    "\n",
    "Например, необходимость в таком инструменте возникает, когда за один раз необходимо обрабатывать строго фиксированное число элементов. Особенно это актуально для анализа динамики какого-то значения во времени."
   ]
  },
  {
   "attachments": {},
   "cell_type": "markdown",
   "metadata": {},
   "source": [
    "Посчитаем динамику средней температуры с усреднением за каждые последние 7 дней для каждого рассматриваемого дня. Для этого воспользуемся очередью с параметром maxlen=7:"
   ]
  },
  {
   "cell_type": "code",
   "execution_count": 37,
   "metadata": {},
   "outputs": [
    {
     "name": "stdout",
     "output_type": "stream",
     "text": [
      "20.77; 21.27; 22.16; 23.3; 24.44; 24.94; 25.56; 26.2; 25.97; 25.94; 25.57; 25.1; 24.81; 24.21; 23.23; 22.57; 21.41; 20.4; 19.6; 19.1; 19.04; 18.96; 19.44; 20.01; 20.67; \n"
     ]
    }
   ],
   "source": [
    "temps = [20.6, 19.4, 19.0, 19.0, 22.1,\n",
    "        22.5, 22.8, 24.1, 25.6, 27.0,\n",
    "        27.0, 25.6, 26.8, 27.3, 22.5,\n",
    "        25.4, 24.4, 23.7, 23.6, 22.6,\n",
    "        20.4, 17.9, 17.3, 17.3, 18.1,\n",
    "        20.1, 22.2, 19.8, 21.3, 21.3,\n",
    "        21.9]\n",
    "\n",
    "days = deque(maxlen=7)\n",
    "\n",
    "for temp in temps:\n",
    "    # Добавляем температуру в очередь\n",
    "    days.append(temp)\n",
    "    # Если длина очереди оказалась равной максимальной длине очереди (7),\n",
    "    # печатаем среднюю температуру за последние 7 дней\n",
    "    if len(days) == days.maxlen:\n",
    "        print(round(sum(days) / len(days), 2), end='; ')\n",
    "# Напечатаем пустую строку, чтобы завершить действие параметра\n",
    "# end. Иначе следующая строка окажется напечатанной на предыдущей\n",
    "print(\"\")"
   ]
  },
  {
   "attachments": {},
   "cell_type": "markdown",
   "metadata": {},
   "source": [
    "Дополнительные функции\n",
    "\n",
    "        # reverse позволяет поменять порядок элементов в очереди на обратный:\n",
    "        rotate переносит заданных элементов из конца очереди в начало:\n",
    "        Функция index позволяет найти первый индекс искомого элемента\n",
    "        count позволяет подсчитать, сколько раз элемент встретился в очереди (функции аналогичны одноимённым функциям для списков):\n",
    "        функция clear позволяет очистить очередь:"
   ]
  },
  {
   "cell_type": "code",
   "execution_count": 38,
   "metadata": {},
   "outputs": [
    {
     "name": "stdout",
     "output_type": "stream",
     "text": [
      "--- reverse-----\n",
      "deque([1, 2, 3, 4, 5])\n",
      "deque([5, 4, 3, 2, 1])\n",
      "\n"
     ]
    }
   ],
   "source": [
    "# reverse позволяет поменять порядок элементов в очереди на обратный:\n",
    "print('--- reverse-----')\n",
    "dq = deque([1,2,3,4,5])\n",
    "print(dq)\n",
    "\n",
    " \n",
    "dq.reverse()\n",
    "print(dq)\n",
    "print()\n",
    "\n",
    "\n"
   ]
  },
  {
   "cell_type": "code",
   "execution_count": 39,
   "metadata": {},
   "outputs": [
    {
     "name": "stdout",
     "output_type": "stream",
     "text": [
      "---- rotate ----\n",
      "deque([1, 2, 3, 4, 5])\n",
      "deque([4, 5, 1, 2, 3])\n",
      "deque([1, 2, 3, 4, 5])\n",
      "deque([3, 4, 5, 1, 2])\n",
      "\n"
     ]
    }
   ],
   "source": [
    "# rotate переносит заданных элементов из конца очереди в начало:\n",
    "print('---- rotate ----')\n",
    "dq = deque([1,2,3,4,5])\n",
    "print(dq)\n",
    "\n",
    "dq.rotate(2) # считает с конца, 1й = 5, 2й = 4. Цифра указывает количество элементов\n",
    "print(dq)\n",
    "\n",
    "# Элементы можно переносить и из начала в конец:\n",
    "\n",
    "dq = deque([1,2,3,4,5])\n",
    "print(dq)\n",
    "\n",
    "dq.rotate(-2)\n",
    "print(dq)\n",
    "\n",
    "# Обратите внимание, что порядок внутри перенесённых элементов остался тем же, каким был изначально. \n",
    "# Вспомните, в каком порядке добавляются элементы в начало очереди функцией extend, и сопоставьте с действием rotate.\n",
    "print()\n",
    "\n"
   ]
  },
  {
   "cell_type": "code",
   "execution_count": 40,
   "metadata": {},
   "outputs": [
    {
     "name": "stdout",
     "output_type": "stream",
     "text": [
      "---- index,  count ----\n",
      "2\n",
      "6\n"
     ]
    },
    {
     "data": {
      "text/plain": [
       "6"
      ]
     },
     "execution_count": 40,
     "metadata": {},
     "output_type": "execute_result"
    }
   ],
   "source": [
    "\n",
    "print('---- index,  count ----')\n",
    "dq = [1,2,4,2,3,1,5,4,4,4,4,4,3]\n",
    "print(dq.index(4))\n",
    "dq.index(4) \n",
    "print(dq.count(4))\n",
    "dq.count(4)\n"
   ]
  },
  {
   "cell_type": "code",
   "execution_count": 41,
   "metadata": {},
   "outputs": [
    {
     "ename": "ValueError",
     "evalue": "25 is not in deque",
     "output_type": "error",
     "traceback": [
      "\u001b[1;31m---------------------------------------------------------------------------\u001b[0m",
      "\u001b[1;31mValueError\u001b[0m                                Traceback (most recent call last)",
      "\u001b[1;32mc:\\Users\\Konstantin\\SF\\SkillFactory\\9th NumPy\\9th.ipynb Cell 78\u001b[0m in \u001b[0;36m<cell line: 3>\u001b[1;34m()\u001b[0m\n\u001b[0;32m      <a href='vscode-notebook-cell:/c%3A/Users/Konstantin/SF/SkillFactory/9th%20NumPy/9th.ipynb#Y140sZmlsZQ%3D%3D?line=0'>1</a>\u001b[0m \u001b[39m#  при попытке узнать индекс несуществующего элемента возникнет ValueError:\u001b[39;00m\n\u001b[0;32m      <a href='vscode-notebook-cell:/c%3A/Users/Konstantin/SF/SkillFactory/9th%20NumPy/9th.ipynb#Y140sZmlsZQ%3D%3D?line=1'>2</a>\u001b[0m dq \u001b[39m=\u001b[39m deque([\u001b[39m1\u001b[39m,\u001b[39m2\u001b[39m,\u001b[39m4\u001b[39m,\u001b[39m2\u001b[39m,\u001b[39m3\u001b[39m,\u001b[39m1\u001b[39m,\u001b[39m5\u001b[39m,\u001b[39m4\u001b[39m,\u001b[39m4\u001b[39m,\u001b[39m4\u001b[39m,\u001b[39m4\u001b[39m,\u001b[39m4\u001b[39m,\u001b[39m3\u001b[39m])\n\u001b[1;32m----> <a href='vscode-notebook-cell:/c%3A/Users/Konstantin/SF/SkillFactory/9th%20NumPy/9th.ipynb#Y140sZmlsZQ%3D%3D?line=2'>3</a>\u001b[0m \u001b[39mprint\u001b[39m(dq\u001b[39m.\u001b[39;49mindex(\u001b[39m25\u001b[39;49m))\n",
      "\u001b[1;31mValueError\u001b[0m: 25 is not in deque"
     ]
    }
   ],
   "source": [
    "#  при попытке узнать индекс несуществующего элемента возникнет ValueError:\n",
    "dq = deque([1,2,4,2,3,1,5,4,4,4,4,4,3])\n",
    "print(dq.index(25))"
   ]
  },
  {
   "cell_type": "code",
   "execution_count": null,
   "metadata": {},
   "outputs": [
    {
     "name": "stdout",
     "output_type": "stream",
     "text": [
      "0\n"
     ]
    }
   ],
   "source": [
    "# А вот посчитать несуществующий элемент можно (получится просто 0):\n",
    "dq = deque([1,2,4,2,3,1,5,4,4,4,4,4,3])\n",
    "print(dq.count(25))"
   ]
  },
  {
   "cell_type": "code",
   "execution_count": null,
   "metadata": {},
   "outputs": [
    {
     "name": "stdout",
     "output_type": "stream",
     "text": [
      "deque([1, 2, 4, 2, 3, 1, 5, 4, 4, 4, 4, 4, 3])\n",
      "deque([])\n"
     ]
    }
   ],
   "source": [
    "dq = deque([1,2,4,2,3,1,5,4,4,4,4,4,3])\n",
    "print(dq)\n",
    "dq.clear()\n",
    "print(dq)\n"
   ]
  },
  {
   "attachments": {},
   "cell_type": "markdown",
   "metadata": {},
   "source": [
    "##Закрепление"
   ]
  },
  {
   "attachments": {},
   "cell_type": "markdown",
   "metadata": {},
   "source": [
    "Напишите функцию brackets(line), которая определяет, является ли последовательность из круглых скобок правильной.\n",
    "Какая последовательность скобок правильная?\n",
    "\n",
    "Правильной скобочной последовательностью назовём такую последовательность скобок, в которой для каждой открывающей скобки есть последующая соответствующая ей закрывающая скобка.\n",
    "\n",
    "Цветом обозначены соответствующие друг другу скобки: (()())()\n",
    "\n",
    "Соответственно, остальные скобочные последовательности назовём неправильными.\n",
    "\n",
    "Пустую строку будем считать правильной последовательностью.\n",
    "\n",
    "Для решения этой задачи потребуется использовать стек.\n",
    "\n",
    "Посимвольно переберите строку. Если встретилась открывающаяся скобка, положите её в стек. Если встретилась закрывающаяся скобка, извлеките скобку из стека.\n",
    "\n",
    "        Если стек пустой, то есть извлечь скобку нельзя, последовательность неправильная.\n",
    "        Если строка закончилась и стек стал пустым, последовательность правильная.\n",
    "        Если в стеке остались скобки, последовательность неправильная.\n",
    "\n",
    "Пример:"
   ]
  },
  {
   "cell_type": "code",
   "execution_count": null,
   "metadata": {},
   "outputs": [
    {
     "name": "stdout",
     "output_type": "stream",
     "text": [
      "True\n",
      "True\n",
      "False\n"
     ]
    }
   ],
   "source": [
    "from collections import deque\n",
    "\n",
    "def brackets(line):\n",
    "    stack = deque()\n",
    "    for i in line:\n",
    "        if i=='(':\n",
    "            stack.append(i)\n",
    "        elif i ==')':\n",
    "            if len(stack) == 0:\n",
    "                return False\n",
    "            stack.pop()\n",
    "    if len(stack) == 0:\n",
    "        return True\n",
    "    return False\n",
    "\n",
    "print(brackets(\"(()())\"))\n",
    "# True\n",
    "print(brackets(\"\"))\n",
    "# True\n",
    "print(brackets(\"(()()))\"))\n",
    "# False"
   ]
  },
  {
   "attachments": {},
   "cell_type": "markdown",
   "metadata": {},
   "source": [
    "В переменных center, south и north хранятся списки из перечней купленных позиций в трёх торговых точках, расположенных в разных районах города.\n",
    "\n",
    "Вначале избавьтесь от излишней вложенности: в каждой переменной (center, south, north) должен храниться объединённый список купленных товаров без разбиения по чекам.\n",
    "\n",
    "Пример: [['Milk', 'Bread'], ['Meat']] -> ['Milk', 'Bread', 'Meat']"
   ]
  },
  {
   "cell_type": "code",
   "execution_count": null,
   "metadata": {},
   "outputs": [],
   "source": [
    "\n",
    "list_north = [elem for bill in north for elem in bill]\n",
    "list_center = [elem for bill in center for elem in bill]\n",
    "list_south = [elem for bill in south for elem in bill]\n",
    "print(len(list_north))\n",
    "print(len(list_center))\n",
    "print(len(list_south))"
   ]
  },
  {
   "attachments": {},
   "cell_type": "markdown",
   "metadata": {},
   "source": [
    "Теперь получите объекты-счётчики (Counter) из каждого полученного в предыдущем задании списка покупок и сохраните их в отдельные переменные (они пригодятся для выполнения следующих задач).\n",
    "\n",
    "Сколько раз покупали самый редкий товар в магазине north? Запишите ответ в числовой форме."
   ]
  },
  {
   "cell_type": "code",
   "execution_count": null,
   "metadata": {},
   "outputs": [],
   "source": [
    "from collections import Counter\n",
    "\n",
    "list_north = [elem for bill in north for elem in bill]\n",
    "list_center = [elem for bill in center for elem in bill]\n",
    "list_south = [elem for bill in south for elem in bill]\n",
    "print(len(list_north))\n",
    "print(len(list_center))\n",
    "print(len(list_south))\n",
    "\n",
    "c_north = Counter(list_north)\n",
    "c_center = Counter(list_center)\n",
    "c_south = Counter(list_south)\n",
    "\n",
    "print(c_north)\n",
    "print(c_north.most_common()[-1])"
   ]
  },
  {
   "attachments": {},
   "cell_type": "markdown",
   "metadata": {},
   "source": [
    " Задание 4.7\n",
    "Есть ли такой товар, который в одном из магазинов покупали чаще, чем в двух других вместе взятых? Если да, выберите магазин с настолько популярным товаром:\n",
    "\n",
    " Задание 4.8\n",
    "Определите суммарное число продаж каждого товара во всех магазинах, сложив все объекты-счётчики. Сколько раз был куплен второй по популярности товар? Запишите ответ в числовой форме."
   ]
  },
  {
   "cell_type": "code",
   "execution_count": null,
   "metadata": {},
   "outputs": [],
   "source": [
    "from collections import Counter\n",
    "\n",
    "list_north = [elem for bill in north for elem in bill]\n",
    "list_center = [elem for bill in center for elem in bill]\n",
    "list_south = [elem for bill in south for elem in bill]\n",
    "print(len(list_north))\n",
    "print(len(list_center))\n",
    "print(len(list_south))\n",
    "\n",
    "c_north = Counter(list_north)\n",
    "c_center = Counter(list_center)\n",
    "c_south = Counter(list_south)\n",
    "\n",
    "print(c_north)\n",
    "print(c_center)\n",
    "print(c_north.most_common()[-1])\n",
    "print(c_center - c_north)\n",
    "print()\n",
    "print (c_north - (c_center + c_south))\n",
    "print (c_center - (c_north + c_south))\n",
    "print (c_south - (c_center + c_north))\n",
    "# c_center.subtract(c_north)\n",
    "print(c_center)\n",
    "total = c_north + c_center + c_south\n",
    "print(total)\n",
    "print(total.most_common()[1])"
   ]
  },
  {
   "attachments": {},
   "cell_type": "markdown",
   "metadata": {},
   "source": [
    "Дан список кортежей ratings с рейтингами кафе. Кортеж состоит из названия и рейтинга кафе.\n",
    "\n",
    "Необходимо отсортировать список кортежей по убыванию рейтинга. Если рейтинги совпадают, то отсортировать кафе дополнительно по названию в алфавитном порядке.\n",
    "\n",
    "Получите словарь cafes с упорядоченными ключами из отсортированного списка, где ключи — названия кафе, а значения — их рейтинг."
   ]
  },
  {
   "cell_type": "code",
   "execution_count": null,
   "metadata": {},
   "outputs": [],
   "source": [
    "from collections import OrderedDict\n",
    "ratings = [('Old York', 3.3), ('New Age', 4.6), ('Old Gold', 3.3), ('General Foods', 4.8),\n",
    "           ('Belissimo', 4.5), ('CakeAndCoffee', 4.2), ('CakeOClock', 4.2), ('CakeTime', 4.1),\n",
    "           ('WokToWork', 4.9), ('WokAndRice', 4.9), ('Old Wine Cellar', 3.3), ('Nice Cakes', 3.9)]\n",
    "\n",
    "\n",
    "ratings.sort(key=lambda x:( -x[1], x[0]))\n",
    "# print(ratings)\n",
    "\n",
    "cafes = OrderedDict(ratings)\n",
    "# print(cafes)"
   ]
  },
  {
   "cell_type": "code",
   "execution_count": null,
   "metadata": {},
   "outputs": [
    {
     "name": "stdout",
     "output_type": "stream",
     "text": [
      "1 [('Belissimo', 4.5), ('CakeAndCoffee', 4.2), ('CakeOClock', 4.2), ('CakeTime', 4.1), ('General Foods', 4.8), ('New Age', 4.6), ('Nice Cakes', 3.9), ('Old Gold', 3.3), ('Old Wine Cellar', 3.3), ('Old York', 3.3), ('WokAndRice', 4.9), ('WokToWork', 4.9)]\n",
      "2 [('Belissimo', 4.5), ('CakeAndCoffee', 4.2), ('CakeOClock', 4.2), ('CakeTime', 4.1), ('General Foods', 4.8), ('New Age', 4.6), ('Nice Cakes', 3.9), ('Old Gold', 3.3), ('Old Wine Cellar', 3.3), ('Old York', 3.3), ('WokAndRice', 4.9), ('WokToWork', 4.9)]\n",
      "3 [('WokToWork', 4.9), ('WokAndRice', 4.9), ('General Foods', 4.8), ('New Age', 4.6), ('Belissimo', 4.5), ('CakeAndCoffee', 4.2), ('CakeOClock', 4.2), ('CakeTime', 4.1), ('Nice Cakes', 3.9), ('Old York', 3.3), ('Old Gold', 3.3), ('Old Wine Cellar', 3.3)]\n",
      "a [('Old York', 3.3), ('Old Gold', 3.3), ('Old Wine Cellar', 3.3), ('Nice Cakes', 3.9), ('CakeTime', 4.1), ('CakeAndCoffee', 4.2), ('CakeOClock', 4.2), ('Belissimo', 4.5), ('New Age', 4.6), ('General Foods', 4.8), ('WokToWork', 4.9), ('WokAndRice', 4.9)]\n",
      "5 [('Old Gold', 3.3), ('Old Wine Cellar', 3.3), ('Old York', 3.3), ('Nice Cakes', 3.9), ('CakeTime', 4.1), ('CakeAndCoffee', 4.2), ('CakeOClock', 4.2), ('Belissimo', 4.5), ('New Age', 4.6), ('General Foods', 4.8), ('WokAndRice', 4.9), ('WokToWork', 4.9)]\n",
      "6 [('Old York', 3.3), ('Old Gold', 3.3), ('Old Wine Cellar', 3.3), ('Nice Cakes', 3.9), ('CakeTime', 4.1), ('CakeAndCoffee', 4.2), ('CakeOClock', 4.2), ('Belissimo', 4.5), ('New Age', 4.6), ('General Foods', 4.8), ('WokToWork', 4.9), ('WokAndRice', 4.9)]\n",
      "7 [('WokAndRice', 4.9), ('WokToWork', 4.9), ('General Foods', 4.8), ('New Age', 4.6), ('Belissimo', 4.5), ('CakeAndCoffee', 4.2), ('CakeOClock', 4.2), ('CakeTime', 4.1), ('Nice Cakes', 3.9), ('Old Gold', 3.3), ('Old Wine Cellar', 3.3), ('Old York', 3.3)]\n",
      "8 [('Belissimo', 4.5), ('CakeAndCoffee', 4.2), ('CakeOClock', 4.2), ('CakeTime', 4.1), ('General Foods', 4.8), ('New Age', 4.6), ('Nice Cakes', 3.9), ('Old Gold', 3.3), ('Old Wine Cellar', 3.3), ('Old York', 3.3), ('WokAndRice', 4.9), ('WokToWork', 4.9)]\n"
     ]
    }
   ],
   "source": [
    "ratings = [('Old York', 3.3), ('New Age', 4.6), ('Old Gold', 3.3), ('General Foods', 4.8),\n",
    "           ('Belissimo', 4.5), ('CakeAndCoffee', 4.2), ('CakeOClock', 4.2), ('CakeTime', 4.1),\n",
    "           ('WokToWork', 4.9), ('WokAndRice', 4.9), ('Old Wine Cellar', 3.3), ('Nice Cakes', 3.9)]\n",
    "\n",
    "\n",
    "ratings.sort(key=lambda x: (x[0])) # отсортирует по алфавиту\n",
    "print('1', ratings)\n",
    "\n",
    "ratings = [('Old York', 3.3), ('New Age', 4.6), ('Old Gold', 3.3), ('General Foods', 4.8), ('Belissimo', 4.5), ('CakeAndCoffee', 4.2), ('CakeOClock', 4.2), ('CakeTime', 4.1), ('WokToWork', 4.9), ('WokAndRice', 4.9), ('Old Wine Cellar', 3.3), ('Nice Cakes', 3.9)]\n",
    "ratings.sort(key=lambda x: (x[0], -x[1])) # отсортирует по алфавиту как и предыдущий\n",
    "print('2', ratings)\n",
    "\n",
    "ratings = [('Old York', 3.3), ('New Age', 4.6), ('Old Gold', 3.3), ('General Foods', 4.8), ('Belissimo', 4.5), ('CakeAndCoffee', 4.2), ('CakeOClock', 4.2), ('CakeTime', 4.1), ('WokToWork', 4.9), ('WokAndRice', 4.9), ('Old Wine Cellar', 3.3), ('Nice Cakes', 3.9)]\n",
    "ratings.sort(key=lambda x: (-x[1])) # отсортирует по рейтингу, но не по алфавиту\n",
    "print('3',ratings)\n",
    "\n",
    "ratings = [('Old York', 3.3), ('New Age', 4.6), ('Old Gold', 3.3), ('General Foods', 4.8), ('Belissimo', 4.5), ('CakeAndCoffee', 4.2), ('CakeOClock', 4.2), ('CakeTime', 4.1), ('WokToWork', 4.9), ('WokAndRice', 4.9), ('Old Wine Cellar', 3.3), ('Nice Cakes', 3.9)]\n",
    "ratings.sort(key=lambda x: (x[1])) # отсортирует по рейтингу с низкого, игнорируя алфавит\n",
    "print('a',ratings)\n",
    "\n",
    "# ratings = [('Old York', 3.3), ('New Age', 4.6), ('Old Gold', 3.3), ('General Foods', 4.8), ('Belissimo', 4.5), ('CakeAndCoffee', 4.2), ('CakeOClock', 4.2), ('CakeTime', 4.1), ('WokToWork', 4.9), ('WokAndRice', 4.9), ('Old Wine Cellar', 3.3), ('Nice Cakes', 3.9)]\n",
    "# ratings.sort(key=lambda x: (-x[1], x[0])) # отсортирует по рейтингу И по алфавиту\n",
    "# print('4',ratings)\n",
    "\n",
    "ratings = [('Old York', 3.3), ('New Age', 4.6), ('Old Gold', 3.3), ('General Foods', 4.8), ('Belissimo', 4.5), ('CakeAndCoffee', 4.2), ('CakeOClock', 4.2), ('CakeTime', 4.1), ('WokToWork', 4.9), ('WokAndRice', 4.9), ('Old Wine Cellar', 3.3), ('Nice Cakes', 3.9)]\n",
    "ratings.sort(key=lambda x: (x[1], x[0])) # отсортирует по рейтингу с низкого\n",
    "print('5',ratings)\n",
    "\n",
    "ratings = [('Old York', 3.3), ('New Age', 4.6), ('Old Gold', 3.3), ('General Foods', 4.8), ('Belissimo', 4.5), ('CakeAndCoffee', 4.2), ('CakeOClock', 4.2), ('CakeTime', 4.1), ('WokToWork', 4.9), ('WokAndRice', 4.9), ('Old Wine Cellar', 3.3), ('Nice Cakes', 3.9)]\n",
    "ratings.sort(key=lambda x: (x[1], -x[1])) # отсортирует \n",
    "print('6',ratings)\n",
    "\n",
    "ratings = [('Old York', 3.3), ('New Age', 4.6), ('Old Gold', 3.3), ('General Foods', 4.8), ('Belissimo', 4.5), ('CakeAndCoffee', 4.2), ('CakeOClock', 4.2), ('CakeTime', 4.1), ('WokToWork', 4.9), ('WokAndRice', 4.9), ('Old Wine Cellar', 3.3), ('Nice Cakes', 3.9)]\n",
    "ratings.sort(key=lambda x: (-x[1], x[0])) # отсортирует по рейтингу И по алфавиту\n",
    "print('7',ratings)\n",
    "\n",
    "ratings = [('Old York', 3.3), ('New Age', 4.6), ('Old Gold', 3.3), ('General Foods', 4.8), ('Belissimo', 4.5), ('CakeAndCoffee', 4.2), ('CakeOClock', 4.2), ('CakeTime', 4.1), ('WokToWork', 4.9), ('WokAndRice', 4.9), ('Old Wine Cellar', 3.3), ('Nice Cakes', 3.9)]\n",
    "ratings.sort() # отсортирует по алфавиту\n",
    "print('8',ratings)\n",
    "\n",
    "# ratings.sort(key=lambda x: (-x[1], x[0]))\n",
    "# print(ratings)\n",
    "# ratings.sort() # отсортирует по алфавиту\n",
    "# print(ratings)\n",
    "# ratings.sort(key=lambda x: (x[0], -x[1])) # отсортирует по алфавиту\n",
    "# print(ratings)"
   ]
  },
  {
   "attachments": {},
   "cell_type": "markdown",
   "metadata": {},
   "source": [
    "https://pythonru.com/osnovy/vse-chto-nuzhno-znat-o-lambda-funkcijah-v-python\n",
    "\n",
    "Лямбда-функция и сортировка списков\n",
    "\n",
    "Сортировка списка — базовая операция в Python. Если речь идет о списке чисел или строк, то процесс максимально простой. Подойдут встроенные функции sort и sorted.\n",
    "\n",
    "Но иногда имеется список кастомных объектов, сортировать которые нужно на основе значений одного из полей. В таком случае можно передать параметр key в sort или sorted. Он и будет являться функцией.\n",
    "\n",
    "Функция применяется ко всем элементам объекта, а возвращаемое значение — то, на основе чего выполнится сортировка. Рассмотрим пример. Есть класс Employee.\n",
    "\n",
    "class Employee:\n",
    "    def __init__(self, name, age):\n",
    "        self.name = name\n",
    "        self.age = age\n",
    "\n",
    "Теперь создадим экземпляры этого класса и добавим их в список.\n",
    "\n",
    "Alex = Employee('Alex', 20)\n",
    "Amanda = Employee('Amanda', 30)\n",
    "David = Employee('David', 15)\n",
    "L = [Alex, Amanda, David]\n",
    "\n",
    "Предположим, что мы хотим отсортировать его на основе поля age сотрудников. Вот что нужно сделать для этого:\n",
    "\n",
    "L.sort(key=lambda x: x.age)\n",
    "print([item.name for item in L])\n",
    "# вывод: ['David', 'Alex', 'Amanda']\n",
    "\n",
    "Лямбда-выражение было использовано в качестве параметра key вместо отдельного ее определения и затем передачи в функцию sort."
   ]
  },
  {
   "cell_type": "code",
   "execution_count": null,
   "metadata": {},
   "outputs": [
    {
     "name": "stdout",
     "output_type": "stream",
     "text": [
      "['David', 'Alex', 'Amanda']\n"
     ]
    }
   ],
   "source": [
    "class Employee:\n",
    "    def __init__(self, name, age):\n",
    "        self.name = name\n",
    "        self.age = age\n",
    "\n",
    "Alex = Employee('Alex', 20)\n",
    "Amanda = Employee('Amanda', 30)\n",
    "David = Employee('David', 15)\n",
    "L = [Alex, Amanda, David]\n",
    "\n",
    "L.sort(key=lambda x: x.age)\n",
    "print([item.name for item in L])\n",
    "# вывод: ['David', 'Alex', 'Amanda']\n"
   ]
  },
  {
   "attachments": {},
   "cell_type": "markdown",
   "metadata": {},
   "source": [
    "Напишите функцию task_manager, которая принимает список задач для нескольких серверов. Каждый элемент списка состоит из кортежа (<номер задачи>, <название сервера>, <высокий приоритет задачи>).\n",
    "\n",
    "Функция должна создавать словарь и заполнять его задачами по следующему принципу: название сервера — ключ, по которому хранится очередь задач для конкретного сервера. Если поступает задача без высокого приоритета (последний элемент кортежа — False), добавить номер задачи в конец очереди. Если приоритет высокий, добавить номер в начало.\n",
    "\n",
    "Для словаря используйте defaultdict, для очереди — deque.\n",
    "\n",
    "Функция возвращает полученный словарь с задачами.\n",
    "\n",
    "Пример:"
   ]
  },
  {
   "cell_type": "code",
   "execution_count": null,
   "metadata": {},
   "outputs": [
    {
     "name": "stdout",
     "output_type": "stream",
     "text": [
      "High Prio: False , Server: office , Number: 36871\n",
      "F servers: deque([36871])\n",
      "High Prio: False , Server: office , Number: 40690\n",
      "F servers: deque([36871, 40690])\n",
      "High Prio: False , Server: voltage , Number: 35364\n",
      "F servers: deque([35364])\n",
      "High Prio: True , Server: voltage , Number: 41667\n",
      "T servers: deque([41667, 35364])\n",
      "High Prio: False , Server: office , Number: 33850\n",
      "F servers: deque([36871, 40690, 33850])\n",
      "defaultdict(<class 'collections.deque'>, {'office': deque([36871, 40690, 33850]), 'voltage': deque([41667, 35364])})\n"
     ]
    }
   ],
   "source": [
    "from collections import defaultdict, deque\n",
    "\n",
    "tasks = [(36871, 'office', False),\n",
    "(40690, 'office', False),\n",
    "(35364, 'voltage', False),\n",
    "(41667, 'voltage', True),\n",
    "(33850, 'office', False)]\n",
    "\n",
    "def task_manager(tasks):\n",
    "    servers = defaultdict(deque)\n",
    "    for task in tasks:\n",
    "        print('High Prio:',task[-1],',','Server:',task[1],', Number:',task[0])\n",
    "            \n",
    "        if task[-1]: # if the last[-1] element is True\n",
    "            # print('T')                    \n",
    "            servers[task[1]].appendleft(task[0]) # to the \n",
    "            print('T servers:',servers[task[1]]) \n",
    "        else:\n",
    "            # print('F')                  \n",
    "            servers[task[1]].append(task[0])\n",
    "            print('F servers:',servers[task[1]])  \n",
    "    return servers\n",
    "    \n",
    "\n",
    "\n",
    " \n",
    "print(task_manager(tasks))\n",
    "# defaultdict(, {'voltage': deque([41667, 35364]),\n",
    "# 'office': deque([36871, 40690, 33850])})"
   ]
  },
  {
   "cell_type": "code",
   "execution_count": null,
   "metadata": {},
   "outputs": [
    {
     "name": "stdout",
     "output_type": "stream",
     "text": [
      "High Prio: False , Server: office , Number: 36871\n",
      "F servers: deque([36871])\n",
      "High Prio: False , Server: office , Number: 40690\n",
      "F servers: deque([36871, 40690])\n",
      "High Prio: False , Server: voltage , Number: 35364\n",
      "F servers: deque([35364])\n",
      "High Prio: True , Server: voltage , Number: 41667\n",
      "T servers: deque([41667, 35364])\n",
      "High Prio: False , Server: office , Number: 33850\n",
      "F servers: deque([36871, 40690, 33850])\n",
      "defaultdict(<class 'collections.deque'>, {'office': deque([36871, 40690, 33850]), 'voltage': deque([41667, 35364])})\n"
     ]
    }
   ],
   "source": [
    "tasks = [(36871, 'office', False),\n",
    "(40690, 'office', False),\n",
    "(35364, 'voltage', False),\n",
    "(41667, 'voltage', True),\n",
    "(33850, 'office', False)]\n",
    "\n",
    "print(task_manager(tasks))\n",
    "# defaultdict(, {'voltage': deque([41667, 35364]),\n",
    "# 'office': deque([36871, 40690, 33850])})\n"
   ]
  },
  {
   "attachments": {},
   "cell_type": "markdown",
   "metadata": {},
   "source": [
    "# NumPy\n"
   ]
  },
  {
   "cell_type": "code",
   "execution_count": 42,
   "metadata": {},
   "outputs": [
    {
     "name": "stdout",
     "output_type": "stream",
     "text": [
      "<class 'numpy.uint8'>\n",
      "340282366920938463463374607431768211456\n"
     ]
    }
   ],
   "source": [
    "import numpy as np\n",
    "np.iinfo(np.int64)\n",
    "b = np.uint8(124)\n",
    "print(type(b))\n",
    "\n",
    "print(2**128)"
   ]
  },
  {
   "attachments": {},
   "cell_type": "markdown",
   "metadata": {},
   "source": [
    "Это тип данных с общим корнем int. Int может быть со следующими окончаниями: int8, int16, int32 и int64. Окончание типа данных в NumPy показывает, сколько битов памяти должно быть выделено для хранения переменной.\n",
    "\n",
    "В NumPy доступны и беззнаковые целочисленные типы данных. Они имеют корень uint (unsigned int — беззнаковое целое). uint доступны также с выделением памяти в 8, 16, 32 и 64 бита. При этом максимально возможное число оказывается в два раза больше, чем для соответствующего int, поскольку отрицательные числа исключены из типа данных uint.\n",
    "\n",
    "Тип данных не сохранится, если просто присвоить переменной с заданным NumPy-типом данных новое значение:"
   ]
  },
  {
   "cell_type": "code",
   "execution_count": 47,
   "metadata": {},
   "outputs": [
    {
     "name": "stdout",
     "output_type": "stream",
     "text": [
      "1000\n",
      "<class 'numpy.int32'>\n",
      "<class 'int'>\n",
      "np 1001 <class 'numpy.int32'>\n"
     ]
    }
   ],
   "source": [
    "a = np.int32(1000)\n",
    "print(a)\n",
    "print(type(a))\n",
    "a = 1001\n",
    "print(type(a))\n",
    "\n",
    "a = np.int32(1001)\n",
    "print('np', a, type(a))"
   ]
  },
  {
   "cell_type": "markdown",
   "metadata": {},
   "source": [
    "А вот арифметические операции сохраняют NumPy-тип данных:"
   ]
  },
  {
   "cell_type": "code",
   "execution_count": 49,
   "metadata": {},
   "outputs": [
    {
     "name": "stdout",
     "output_type": "stream",
     "text": [
      "1025\n",
      "<class 'numpy.int32'>\n"
     ]
    }
   ],
   "source": [
    "a = np.int32(1000)\n",
    "b = a + 25\n",
    "print(b)\n",
    "# 1025\n",
    "print(type(b))\n",
    "# <class 'numpy.int64'>"
   ]
  },
  {
   "attachments": {},
   "cell_type": "markdown",
   "metadata": {},
   "source": [
    "Примечание. В некоторых более старых версиях NumPy тип данных может измениться на int64 вместо ожидаемого int32. Это связано с тем, что число 25 может быть сначала преобразовано в NumPy-тип данных int (по умолчанию int64) перед сложением. Скорее всего, на практике вам не особо помешает такая особенность, однако о ней следует помнить, когда требуется хранить числа максимально оптимальным способом.\n",
    "\n",
    "Если операция проводится с двумя NumPy-типами с фиксированным объёмом памяти, в результате сохраняется наиболее «старший» тип:"
   ]
  },
  {
   "cell_type": "code",
   "execution_count": null,
   "metadata": {},
   "outputs": [],
   "source": []
  },
  {
   "cell_type": "code",
   "execution_count": null,
   "metadata": {},
   "outputs": [],
   "source": []
  }
 ],
 "metadata": {
  "kernelspec": {
   "display_name": "Python 3",
   "language": "python",
   "name": "python3"
  },
  "language_info": {
   "codemirror_mode": {
    "name": "ipython",
    "version": 3
   },
   "file_extension": ".py",
   "mimetype": "text/x-python",
   "name": "python",
   "nbconvert_exporter": "python",
   "pygments_lexer": "ipython3",
   "version": "3.10.2"
  },
  "orig_nbformat": 4,
  "vscode": {
   "interpreter": {
    "hash": "a8698f73bc8614c8f1502f26e9b5373a6966bd4b4d74167ce8954941b9f8a95f"
   }
  }
 },
 "nbformat": 4,
 "nbformat_minor": 2
}
