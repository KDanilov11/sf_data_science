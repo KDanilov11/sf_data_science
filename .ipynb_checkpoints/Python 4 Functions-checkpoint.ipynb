{
 "cells": [
  {
   "cell_type": "code",
   "execution_count": null,
   "metadata": {},
   "outputs": [],
   "source": []
  },
  {
   "cell_type": "code",
   "execution_count": 4,
   "metadata": {},
   "outputs": [],
   "source": [
    "\n",
    "    # Это определение функции, которая возводит число в квадрат    \n",
    "    def square(x):    \n",
    "        return x**2    \n",
    "        \n",
    "    # Это вызов функции. Мы возведём 5 в квадрат и положим 25 в переменную square_result    \n",
    "    square_result = square(5)    \n",
    "        \n",
    "        \n",
    "    # Определение стоимости в магазине всё по 60, где только яблоки стоят 30    \n",
    "    def count_cost(product):    \n",
    "        if product == \"apple\":    \n",
    "            cost = 30    \n",
    "        else:    \n",
    "            cost = 60    \n",
    "        return cost    \n",
    "        \n",
    "    # Попросим функцию посчитать стоимость апельсина    \n",
    "    orange_cost = count_cost(\"orange\")    \n"
   ]
  },
  {
   "cell_type": "markdown",
   "metadata": {},
   "source": [
    "Создание функции называется определением. Определение функции состоит из нескольких частей:\n",
    "\n",
    "            Ключевое слово def, которым мы показываем намерение определить функцию.\n",
    "            Название функции, которые мы выбираем сами (должно состоять из латинских букв, цифр и подчёркиваний).\n",
    "            Аргументы функции — значения, которые мы даём функции на вход. Они записываются в скобках. Можно и без аргументов, но скобки всё равно надо написать.\n",
    "            Двоеточие и перенос на следующую строку с отступом.\n",
    "            Тело функции, где мы реализуем какую-то логику.\n",
    "            Возврат результата с помощью return.\n"
   ]
  },
  {
   "cell_type": "code",
   "execution_count": 11,
   "metadata": {},
   "outputs": [
    {
     "name": "stdout",
     "output_type": "stream",
     "text": [
      "115\n"
     ]
    }
   ],
   "source": [
    "# Дополните аргументы и код функции\n",
    "def sum_2(x, y):\n",
    "    return x+y\n",
    "    \n",
    "\n",
    "# Передайте аргументы 42 и 73 в функцию\n",
    "print(sum_2(42, 73))"
   ]
  },
  {
   "cell_type": "code",
   "execution_count": 12,
   "metadata": {},
   "outputs": [
    {
     "name": "stdout",
     "output_type": "stream",
     "text": [
      "8\n"
     ]
    }
   ],
   "source": [
    "def power (x, y):\n",
    "    return x**y\n",
    "    \n",
    "print(power(2,3))"
   ]
  },
  {
   "cell_type": "markdown",
   "metadata": {},
   "source": [
    " Постройте функцию get_median, которая принимает на вход список чисел и возвращает медиану, например, для этого списка.\n",
    "\n",
    "        get_median([5, 2, 1, 3, 4]) должен вернуть 3\n",
    "        get_median([3, 3, 7, 9]) должен вернуть 5"
   ]
  },
  {
   "cell_type": "code",
   "execution_count": 33,
   "metadata": {},
   "outputs": [
    {
     "name": "stdout",
     "output_type": "stream",
     "text": [
      "3\n",
      "12.5\n"
     ]
    }
   ],
   "source": [
    "def get_median(numbers): \n",
    "    length = len(numbers)\n",
    "    numbers.sort()\n",
    "    if length % 2 ==0:  #если количество чисел в списке четное\n",
    "        result = (numbers[int(length/2)] + numbers[int(length/2-1)])/2  \n",
    "        # сложить сумму элементов под номером L/2 & L/2-1 и поделить на 2\n",
    "        return result\n",
    "    else:\n",
    "        result = numbers[int(length/2)]\n",
    "        return result\n",
    "        \n",
    "\n",
    "print(get_median([5, 2, 1, 3, 4]))\n",
    "print(get_median([11, 12, 13, 14, 9,16]))\n",
    "    \n",
    "    \n",
    "        \n",
    "        \n",
    "    "
   ]
  },
  {
   "cell_type": "code",
   "execution_count": 24,
   "metadata": {},
   "outputs": [
    {
     "name": "stdout",
     "output_type": "stream",
     "text": [
      "Numbers in list : 6\n",
      "13\n"
     ]
    }
   ],
   "source": [
    "list = [11,12,13,14,15,16]\n",
    "res1=str(len(list))\n",
    "print ('Numbers in list : '+ res1 )\n",
    "res2 = list[int(len(list)/2-1)]\n",
    "\n",
    "print(res2)\n"
   ]
  },
  {
   "cell_type": "code",
   "execution_count": null,
   "metadata": {},
   "outputs": [],
   "source": [
    "# Solution\n",
    "\n",
    "def get_median(numbers_list):\n",
    "    length = len(numbers_list)\n",
    "    numbers_list.sort()\n",
    "    if length % 2 == 0:\n",
    "        result = (numbers_list[int(length / 2)] + numbers_list[int(length/2 - 1)]) / 2\n",
    "        return result\n",
    "    else:\n",
    "        result = numbers_list[int(length / 2)]\n",
    "        return result"
   ]
  },
  {
   "cell_type": "code",
   "execution_count": null,
   "metadata": {},
   "outputs": [],
   "source": []
  },
  {
   "cell_type": "code",
   "execution_count": null,
   "metadata": {},
   "outputs": [],
   "source": []
  }
 ],
 "metadata": {
  "kernelspec": {
   "display_name": "Python 3",
   "language": "python",
   "name": "python3"
  },
  "language_info": {
   "codemirror_mode": {
    "name": "ipython",
    "version": 3
   },
   "file_extension": ".py",
   "mimetype": "text/x-python",
   "name": "python",
   "nbconvert_exporter": "python",
   "pygments_lexer": "ipython3",
   "version": "3.8.3"
  }
 },
 "nbformat": 4,
 "nbformat_minor": 4
}
