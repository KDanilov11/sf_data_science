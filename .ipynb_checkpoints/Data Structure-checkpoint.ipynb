{
 "cells": [
  {
   "cell_type": "code",
   "execution_count": 5,
   "metadata": {},
   "outputs": [
    {
     "name": "stdout",
     "output_type": "stream",
     "text": [
      "['koshk', ';sob', 'k', ';b', 'b', 'k', ';pitbul;tigr;medvrd']\n"
     ]
    }
   ],
   "source": [
    "animals = 'koshka;sobaka;babaka;pitbul;tigr;medvrd'.split(';')\n",
    "print(animals)"
   ]
  },
  {
   "cell_type": "code",
   "execution_count": 2,
   "metadata": {},
   "outputs": [
    {
     "name": "stdout",
     "output_type": "stream",
     "text": [
      "['руки', 'ноги']\n"
     ]
    }
   ],
   "source": [
    "body = ['голова', 'руки', 'ноги', 'глаза', 'уши', 'рот', 'нос', 'туловище']\n",
    "print(body[1:3])"
   ]
  },
  {
   "cell_type": "markdown",
   "metadata": {},
   "source": [
    "sparta = ['Иванов', 'Петров', 'Сидоров', 'Зайцев', 'Дятлов', \n",
    "          'Козлов', 'Лисичкин', 'Огурцов', 'Капустин', 'Арбузов']"
   ]
  },
  {
   "cell_type": "code",
   "execution_count": 5,
   "metadata": {},
   "outputs": [
    {
     "data": {
      "text/plain": [
       "['Арбузов', 'Лисичкин', 'Зайцев', 'Иванов']"
      ]
     },
     "execution_count": 5,
     "metadata": {},
     "output_type": "execute_result"
    }
   ],
   "source": [
    "sparta = ['Иванов', 'Петров', 'Сидоров', 'Зайцев', 'Дятлов', 'Козлов', 'Лисичкин', 'Огурцов', 'Капустин', 'Арбузов']\n",
    "sparta[::-3]"
   ]
  },
  {
   "cell_type": "code",
   "execution_count": 6,
   "metadata": {},
   "outputs": [
    {
     "name": "stdout",
     "output_type": "stream",
     "text": [
      "590\n"
     ]
    }
   ],
   "source": [
    "my_list = [1, 10, 45, 31, 12, 54, 111, 398, 97, 63]\n",
    "my_list.sort(reverse = True)\n",
    "new_list = my_list[::2]\n",
    "result = 0\n",
    "for number in new_list:\n",
    "    result += number\n",
    "print(result)"
   ]
  },
  {
   "cell_type": "code",
   "execution_count": 17,
   "metadata": {},
   "outputs": [
    {
     "name": "stdout",
     "output_type": "stream",
     "text": [
      "2\n",
      "[2048, 1024, 512, 256, 128, 64, 32, 16, 8, 4, 2, 1]\n",
      "1024\n"
     ]
    }
   ],
   "source": [
    "my_list = [1]\n",
    "for i in range(11):\n",
    "    my_list.append(my_list[i] * 2)\n",
    "print(my_list[1])\n",
    "my_list.sort(reverse = True)\n",
    "print(my_list)\n",
    "print(my_list[1])\n",
    "      "
   ]
  },
  {
   "cell_type": "code",
   "execution_count": 1,
   "metadata": {},
   "outputs": [
    {
     "name": "stdout",
     "output_type": "stream",
     "text": [
      "['яблоко', 'банан', 'апельсин', 'баклажан', 'перец', 'помидор', 'арбуз', 'ананас']\n",
      "яблоко\n",
      "['я', 'б', 'а', 'б', 'п', 'п', 'а', 'а']\n",
      "а\n",
      "3\n"
     ]
    }
   ],
   "source": [
    "fruits = 'яблоко банан апельсин баклажан перец помидор арбуз ананас'.split()\n",
    "my_list = []\n",
    "\n",
    "print(fruits)\n",
    "print(fruits[0])\n",
    "for fruit in fruits:\n",
    "    my_list.append(fruit[0])\n",
    "print(my_list)\n",
    "my_list.sort()\n",
    "print((fruit[0]))\n",
    "print(my_list.count(my_list[0]))"
   ]
  },
  {
   "cell_type": "code",
   "execution_count": null,
   "metadata": {},
   "outputs": [],
   "source": [
    "fruits = 'яблоко банан апельсин баклажан перец помидор арбуз ананас'.split()\n",
    "my_list = []\n",
    "for fruit in fruits:\n",
    "    my_list.append(fruit[0])\n",
    "my_list.sort()"
   ]
  },
  {
   "cell_type": "code",
   "execution_count": 52,
   "metadata": {},
   "outputs": [
    {
     "name": "stdout",
     "output_type": "stream",
     "text": [
      "2\n",
      "[2048, 1024, 512, 256, 128, 64, 32, 16, 8, 4, 2, 1]\n",
      "1024\n"
     ]
    }
   ],
   "source": [
    "my_list = [1]\n",
    "for i in range(11):\n",
    "    my_list.append(my_list[i] * 2)\n",
    "print(my_list[1])\n",
    "my_list.sort(reverse = True)\n",
    "print(my_list)\n",
    "print(my_list[1])\n",
    "      "
   ]
  },
  {
   "cell_type": "code",
   "execution_count": 53,
   "metadata": {},
   "outputs": [
    {
     "name": "stdout",
     "output_type": "stream",
     "text": [
      "[3, 6, 9, 12, 15, 18, 21, 24, 27, 30, 33, 36, 39, 42, 45, 48]\n"
     ]
    }
   ],
   "source": []
  },
  {
   "cell_type": "code",
   "execution_count": null,
   "metadata": {},
   "outputs": [],
   "source": [
    "my_list = [1, 10, 45, 31, 12, 54, 111, 398, 97, 63]\n",
    "my_list.sort(reverse = True)\n",
    "new_list = my_list[::2]\n",
    "result = 0\n",
    "for number in new_list:\n",
    "    result += number\n",
    "print(result)"
   ]
  },
  {
   "cell_type": "code",
   "execution_count": 55,
   "metadata": {},
   "outputs": [
    {
     "name": "stdout",
     "output_type": "stream",
     "text": [
      "408\n"
     ]
    }
   ],
   "source": [
    "my_list =[]\n",
    "result = 0\n",
    "for i in range(3,51,3):\n",
    "    my_list.append(i)\n",
    "for number in my_list:\n",
    "    result += number\n",
    "print(result)"
   ]
  },
  {
   "cell_type": "markdown",
   "metadata": {},
   "source": [
    "# Задание 9\n",
    "\n",
    "\n",
    "Напишите программу, которая создаёт список my_list, содержащий длины слов из списка raw_list (дан в начале кода), и находит сумму минимального и максимального элементов нового списка (my_list). Результат вычислений (сумма минимального и максимального элементов списка my_list) присвойте переменной result.\n"
   ]
  },
  {
   "cell_type": "code",
   "execution_count": 64,
   "metadata": {},
   "outputs": [
    {
     "name": "stdout",
     "output_type": "stream",
     "text": [
      "15\n"
     ]
    }
   ],
   "source": [
    "raw_list = ['переменные', 'циклы', 'условия', 'списки', 'словари', 'файлы', 'функции']\n",
    "my_list=[]\n",
    "for word in raw_list:\n",
    "    my_list.append(len(word))\n",
    "# print(my_list)\n",
    "result = min(my_list)+max(my_list)\n",
    "print(result)"
   ]
  },
  {
   "cell_type": "code",
   "execution_count": null,
   "metadata": {},
   "outputs": [],
   "source": []
  },
  {
   "cell_type": "code",
   "execution_count": 4,
   "metadata": {},
   "outputs": [
    {
     "name": "stdout",
     "output_type": "stream",
     "text": [
      "Ботинки для горных лыж ATOMIC Hawx Prime 100\n"
     ]
    }
   ],
   "source": [
    "csv_file = [\n",
    "    ['100412', 'Ботинки для горных лыж ATOMIC Hawx Prime 100', 9],\n",
    "    ['100728', 'Скейтборд Jdbug RT03', 32],\n",
    "    ['100732', 'Роллерсерф Razor RipStik Bright', 11],\n",
    "    ['100803', 'Ботинки для сноуборда DC Tucknee', 20],\n",
    "    ['100898', 'Шагомер Omron HJA-306', 2],\n",
    "    ['100934', 'Пульсометр Beurer PM62', 17],\n",
    "]\n",
    "print(csv_file[0][1])"
   ]
  },
  {
   "cell_type": "markdown",
   "metadata": {},
   "source": [
    "# Задание 10*\n",
    "\n",
    "\n",
    "Дан список raw_list (содержимое списка приведено в начале кода). Найдите минимальное (x_min) и максимальное (x_max) значения элементов данного списка.\n",
    "\n",
    "Создайте новый список my_list, состоящий из элементов списка raw_list, умноженных на x_min, если элемент является чётным числом, и на x_max, в случае если элемент нечётный.\n",
    "\n",
    "Найдите максимальное значение списка my_list. Результат присвойте переменной result.\n"
   ]
  },
  {
   "cell_type": "code",
   "execution_count": 4,
   "metadata": {},
   "outputs": [
    {
     "name": "stdout",
     "output_type": "stream",
     "text": [
      "5041\n"
     ]
    }
   ],
   "source": [
    "raw_list = [2, 8, 10, 23, 64, 49, 11, 52, 71, 14]\n",
    "my_list=[]\n",
    "x_min = min(raw_list)\n",
    "x_max = max(raw_list)\n",
    "#k=0\n",
    "for i in raw_list:\n",
    "    \n",
    "    if i%2==0:\n",
    "#        print('i even',i)\n",
    "        my_list.append(i*x_min)\n",
    "#         print(my_list[k])\n",
    "#         k=k+1\n",
    "#         print()\n",
    "    else:\n",
    "#        print('i odd',i)\n",
    "        my_list.append(i*x_max)\n",
    "#         print(my_list[k])\n",
    "#         k=k+1\n",
    "#         print()\n",
    "\n",
    "# print(x_min, x_max)\n",
    "result = print(max(my_list))\n",
    "# Введите свое решение здесь\n",
    "         \n",
    "# result =\n",
    "\n"
   ]
  },
  {
   "cell_type": "markdown",
   "metadata": {},
   "source": [
    "# 2.7 Генераторы списков"
   ]
  },
  {
   "cell_type": "code",
   "execution_count": 85,
   "metadata": {},
   "outputs": [
    {
     "data": {
      "text/plain": [
       "[1, 3, 5, 7, 9, 11, 13, 15, 17, 19, 21, 23]"
      ]
     },
     "execution_count": 85,
     "metadata": {},
     "output_type": "execute_result"
    }
   ],
   "source": [
    "my_list =[x for x in range (1,25,2)]\n",
    "my_list"
   ]
  },
  {
   "cell_type": "code",
   "execution_count": 86,
   "metadata": {},
   "outputs": [
    {
     "data": {
      "text/plain": [
       "[15, 30, 45, 60, 75, 90]"
      ]
     },
     "execution_count": 86,
     "metadata": {},
     "output_type": "execute_result"
    }
   ],
   "source": [
    "my_list = [x for x in range (10, 100) if x%3==0 and x%5==0]\n",
    "my_list"
   ]
  },
  {
   "cell_type": "code",
   "execution_count": 89,
   "metadata": {},
   "outputs": [
    {
     "data": {
      "text/plain": [
       "[1,\n",
       " 1,\n",
       " 4,\n",
       " 1024,\n",
       " 9,\n",
       " 59049,\n",
       " 16,\n",
       " 1048576,\n",
       " 25,\n",
       " 9765625,\n",
       " 36,\n",
       " 60466176,\n",
       " 49,\n",
       " 282475249,\n",
       " 64,\n",
       " 1073741824,\n",
       " 81,\n",
       " 3486784401]"
      ]
     },
     "execution_count": 89,
     "metadata": {},
     "output_type": "execute_result"
    }
   ],
   "source": [
    "powers = [x**y for x in range(1,10) for y in [2,10] ]\n",
    "powers"
   ]
  },
  {
   "cell_type": "code",
   "execution_count": 91,
   "metadata": {},
   "outputs": [
    {
     "data": {
      "text/plain": [
       "[3,\n",
       " 5,\n",
       " 7,\n",
       " 6,\n",
       " 10,\n",
       " 14,\n",
       " 9,\n",
       " 15,\n",
       " 21,\n",
       " 12,\n",
       " 20,\n",
       " 28,\n",
       " 15,\n",
       " 25,\n",
       " 35,\n",
       " 18,\n",
       " 30,\n",
       " 42,\n",
       " 21,\n",
       " 35,\n",
       " 49,\n",
       " 24,\n",
       " 40,\n",
       " 56,\n",
       " 27,\n",
       " 45,\n",
       " 63]"
      ]
     },
     "execution_count": 91,
     "metadata": {},
     "output_type": "execute_result"
    }
   ],
   "source": [
    "numbers = [x*y for x in range(1, 10) for y in [3, 5, 7]]\n",
    "numbers "
   ]
  },
  {
   "cell_type": "code",
   "execution_count": 13,
   "metadata": {},
   "outputs": [
    {
     "data": {
      "text/plain": [
       "[3,\n",
       " 5,\n",
       " 7,\n",
       " 11,\n",
       " 13,\n",
       " 17,\n",
       " 19,\n",
       " 23,\n",
       " 29,\n",
       " 31,\n",
       " 37,\n",
       " 41,\n",
       " 43,\n",
       " 47,\n",
       " 53,\n",
       " 59,\n",
       " 61,\n",
       " 67,\n",
       " 71,\n",
       " 73,\n",
       " 79,\n",
       " 83,\n",
       " 89,\n",
       " 97]"
      ]
     },
     "execution_count": 13,
     "metadata": {},
     "output_type": "execute_result"
    }
   ],
   "source": [
    "numbers = [x for x in range(3,100) if [x%y for y in range(2,x)].count(0) == 0]\n",
    "\n",
    "numbers"
   ]
  },
  {
   "cell_type": "code",
   "execution_count": 110,
   "metadata": {},
   "outputs": [
    {
     "data": {
      "text/plain": [
       "['а', 'з', 'и', 'н', 'н', 'о', 'о', 'о', 'р', 'р', 'с', 'т', 'ф', 'х']"
      ]
     },
     "execution_count": 110,
     "metadata": {},
     "output_type": "execute_result"
    }
   ],
   "source": [
    "my_list = sorted([x for x in 'синхрофазотрон']) \n",
    "my_list"
   ]
  },
  {
   "cell_type": "markdown",
   "metadata": {},
   "source": [
    "# Задание 9\n",
    "\n",
    "\n",
    "Перепишите привёденный ниже код, используя генератор списков. Полученный в результате работы генератора список должен иметь имя my_list."
   ]
  },
  {
   "cell_type": "code",
   "execution_count": 115,
   "metadata": {},
   "outputs": [
    {
     "data": {
      "text/plain": [
       "[2.6457513110645907,\n",
       " 3.7416573867739413,\n",
       " 4.58257569495584,\n",
       " 5.291502622129181,\n",
       " 5.916079783099616,\n",
       " 6.48074069840786,\n",
       " 7.0]"
      ]
     },
     "execution_count": 115,
     "metadata": {},
     "output_type": "execute_result"
    }
   ],
   "source": [
    "my_list = []\n",
    "for x in range(1, 50):\n",
    "    if x%7 == 0:\n",
    "        my_list.append(x**0.5)\n",
    "my_list\n",
    "\n",
    "my_list = [x**0.5 for x in range(1,50) if x%7==0]\n",
    "\n",
    "my_list"
   ]
  },
  {
   "cell_type": "markdown",
   "metadata": {},
   "source": [
    "# Задание 10*\n",
    "1 point possible (graded)\n",
    "\n",
    "Перепишите привёденный ниже код, используя генератор списков. Полученный в результате работы генератора список должен иметь имя my_list."
   ]
  },
  {
   "cell_type": "code",
   "execution_count": 122,
   "metadata": {},
   "outputs": [
    {
     "data": {
      "text/plain": [
       "[9, 10, 11, 12, 13, 14, 15, 16, 17, 18]"
      ]
     },
     "execution_count": 122,
     "metadata": {},
     "output_type": "execute_result"
    }
   ],
   "source": [
    "my_list = []\n",
    "for x in range(90, 100):\n",
    "    first_digit = x//10\n",
    "#     print('first_digit',first_digit)\n",
    "    last_digit = x%10\n",
    "#     print('last_digit',last_digit)\n",
    "#     print()\n",
    "    my_list.append(first_digit + last_digit)\n",
    "my_list"
   ]
  },
  {
   "cell_type": "code",
   "execution_count": 126,
   "metadata": {},
   "outputs": [
    {
     "data": {
      "text/plain": [
       "[9, 10, 11, 12, 13, 14, 15, 16, 17, 18]"
      ]
     },
     "execution_count": 126,
     "metadata": {},
     "output_type": "execute_result"
    }
   ],
   "source": [
    "my_list = []\n",
    "for x in range(90, 100):\n",
    "    first_digit = x//10\n",
    "    last_digit = x%10\n",
    "    my_list.append(first_digit + last_digit)\n",
    "my_list  "
   ]
  },
  {
   "cell_type": "code",
   "execution_count": 127,
   "metadata": {},
   "outputs": [
    {
     "data": {
      "text/plain": [
       "[9, 10, 11, 12, 13, 14, 15, 16, 17, 18]"
      ]
     },
     "execution_count": 127,
     "metadata": {},
     "output_type": "execute_result"
    }
   ],
   "source": [
    "my_list = [x//10+x%10 for x in range(90, 100)]\n",
    "# my_list\n",
    "my_list"
   ]
  },
  {
   "cell_type": "code",
   "execution_count": null,
   "metadata": {},
   "outputs": [],
   "source": []
  },
  {
   "cell_type": "code",
   "execution_count": 3,
   "metadata": {},
   "outputs": [
    {
     "ename": "NameError",
     "evalue": "name 'employee_base' is not defined",
     "output_type": "error",
     "traceback": [
      "\u001b[1;31m---------------------------------------------------------------------------\u001b[0m",
      "\u001b[1;31mNameError\u001b[0m                                 Traceback (most recent call last)",
      "\u001b[1;32m<ipython-input-3-883d2e96b941>\u001b[0m in \u001b[0;36m<module>\u001b[1;34m\u001b[0m\n\u001b[0;32m      1\u001b[0m \u001b[0mphones\u001b[0m \u001b[1;33m=\u001b[0m \u001b[1;33m[\u001b[0m\u001b[1;33m[\u001b[0m\u001b[1;34m'Мария Никитина'\u001b[0m\u001b[1;33m,\u001b[0m\u001b[1;34m'+79033923029'\u001b[0m\u001b[1;33m]\u001b[0m\u001b[1;33m,\u001b[0m \u001b[1;33m[\u001b[0m\u001b[1;34m'Егор Савичев'\u001b[0m\u001b[1;33m,\u001b[0m\u001b[1;34m'+78125849204'\u001b[0m\u001b[1;33m]\u001b[0m\u001b[1;33m,\u001b[0m \u001b[1;33m[\u001b[0m\u001b[1;34m'Александр Пахомов'\u001b[0m\u001b[1;33m,\u001b[0m\u001b[1;34m'+79053049385'\u001b[0m\u001b[1;33m]\u001b[0m\u001b[1;33m,\u001b[0m \u001b[1;33m[\u001b[0m\u001b[1;34m'Алина Егорова'\u001b[0m\u001b[1;33m,\u001b[0m\u001b[1;34m'+79265748370'\u001b[0m\u001b[1;33m]\u001b[0m\u001b[1;33m,\u001b[0m \u001b[1;33m[\u001b[0m\u001b[1;34m'Руслан Башаров'\u001b[0m\u001b[1;33m,\u001b[0m\u001b[1;34m'+79030598495'\u001b[0m\u001b[1;33m]\u001b[0m\u001b[1;33m]\u001b[0m\u001b[1;33m\u001b[0m\u001b[1;33m\u001b[0m\u001b[0m\n\u001b[0;32m      2\u001b[0m \u001b[0mphones\u001b[0m\u001b[1;33m\u001b[0m\u001b[1;33m\u001b[0m\u001b[0m\n\u001b[1;32m----> 3\u001b[1;33m \u001b[0mprint\u001b[0m\u001b[1;33m(\u001b[0m\u001b[0memployee_base\u001b[0m\u001b[1;33m[\u001b[0m\u001b[1;34m'Алина Егорова'\u001b[0m\u001b[1;33m]\u001b[0m\u001b[1;33m)\u001b[0m\u001b[1;33m\u001b[0m\u001b[1;33m\u001b[0m\u001b[0m\n\u001b[0m",
      "\u001b[1;31mNameError\u001b[0m: name 'employee_base' is not defined"
     ]
    }
   ],
   "source": [
    "phones = [['Мария Никитина','+79033923029'], ['Егор Савичев','+78125849204'], ['Александр Пахомов','+79053049385'], ['Алина Егорова','+79265748370'], ['Руслан Башаров','+79030598495']]\n",
    "phones\n",
    "print(employee_base['Алина Егорова'])"
   ]
  },
  {
   "cell_type": "code",
   "execution_count": 1,
   "metadata": {},
   "outputs": [
    {
     "name": "stdout",
     "output_type": "stream",
     "text": [
      "+79265748370\n"
     ]
    }
   ],
   "source": [
    "employee_base = {\n",
    "'Мария Никитина': '+79033923029',\n",
    "    'Егор Савичев': '+78125849204',\n",
    "    'Александр Пахомов':'+79053049385',\n",
    "   'Алина Егорова': '+79265748370',\n",
    "   'Руслан Башаров': '+79030598495'\n",
    "   }\n",
    "print(employee_base['Алина Егорова'])"
   ]
  },
  {
   "cell_type": "code",
   "execution_count": 2,
   "metadata": {},
   "outputs": [
    {
     "ename": "NameError",
     "evalue": "name 'request' is not defined",
     "output_type": "error",
     "traceback": [
      "\u001b[1;31m---------------------------------------------------------------------------\u001b[0m",
      "\u001b[1;31mNameError\u001b[0m                                 Traceback (most recent call last)",
      "\u001b[1;32m<ipython-input-2-8f2c9ffda424>\u001b[0m in \u001b[0;36m<module>\u001b[1;34m\u001b[0m\n\u001b[0;32m      6\u001b[0m         \u001b[1;34m'Египет'\u001b[0m\u001b[1;33m:\u001b[0m \u001b[1;34m'A'\u001b[0m\u001b[1;33m\u001b[0m\u001b[1;33m\u001b[0m\u001b[0m\n\u001b[0;32m      7\u001b[0m }\n\u001b[1;32m----> 8\u001b[1;33m \u001b[1;32mfor\u001b[0m \u001b[0mcountry\u001b[0m \u001b[1;32min\u001b[0m \u001b[0mrequest\u001b[0m\u001b[1;33m:\u001b[0m\u001b[1;33m\u001b[0m\u001b[1;33m\u001b[0m\u001b[0m\n\u001b[0m\u001b[0;32m      9\u001b[0m     \u001b[0mdraw_dict\u001b[0m\u001b[1;33m.\u001b[0m\u001b[0msetdefault\u001b[0m\u001b[1;33m(\u001b[0m\u001b[0mcountry\u001b[0m\u001b[1;33m,\u001b[0m \u001b[1;34m'unknown'\u001b[0m\u001b[1;33m)\u001b[0m\u001b[1;33m\u001b[0m\u001b[1;33m\u001b[0m\u001b[0m\n\u001b[0;32m     10\u001b[0m     \u001b[0mprint\u001b[0m\u001b[1;33m(\u001b[0m\u001b[0mdraw_dict\u001b[0m\u001b[1;33m[\u001b[0m\u001b[0mcountry\u001b[0m\u001b[1;33m]\u001b[0m\u001b[1;33m)\u001b[0m\u001b[1;33m\u001b[0m\u001b[1;33m\u001b[0m\u001b[0m\n",
      "\u001b[1;31mNameError\u001b[0m: name 'request' is not defined"
     ]
    }
   ],
   "source": [
    "draw_dict = {\n",
    "\t'Россия': 'A',\n",
    "\t'Португалия': 'B',\n",
    "\t'Франция': 'C',\n",
    "\t'Дания': 'C',\n",
    "\t'Египет': 'A'\n",
    "}\n",
    "for country in request:\n",
    "    draw_dict.setdefault(country, 'unknown')\n",
    "    print(draw_dict[country])"
   ]
  },
  {
   "cell_type": "code",
   "execution_count": null,
   "metadata": {},
   "outputs": [],
   "source": []
  },
  {
   "cell_type": "code",
   "execution_count": null,
   "metadata": {},
   "outputs": [],
   "source": [
    "for name in request:\n",
    "    employee_base.setdefault(name, 'Неизвестный сотрудник')\n",
    "    print(employee_base[name])"
   ]
  },
  {
   "cell_type": "code",
   "execution_count": null,
   "metadata": {},
   "outputs": [],
   "source": []
  },
  {
   "cell_type": "code",
   "execution_count": 1,
   "metadata": {},
   "outputs": [
    {
     "data": {
      "text/plain": [
       "{'Россия': 'A', 'Португалия': 'B', 'Франция': 'C', 'Дания': 'C', 'Египет': 'A'}"
      ]
     },
     "execution_count": 1,
     "metadata": {},
     "output_type": "execute_result"
    }
   ],
   "source": [
    "draw_dict = {\n",
    "\t'Россия': 'A',\n",
    "\t'Португалия': 'B',\n",
    "\t'Франция': 'C',\n",
    "\t'Дания': 'C',\n",
    "\t'Египет': 'A'\n",
    "}\n",
    "draw_dict"
   ]
  },
  {
   "cell_type": "code",
   "execution_count": 15,
   "metadata": {},
   "outputs": [],
   "source": [
    "draw_dict = {\n",
    "    'Россия': 'A',\n",
    "    'Португалия': 'B',\n",
    "    'Франция': 'C',\n",
    "    'Дания': 'C',\n",
    "    'Египет': 'A'\n",
    "}\n",
    "request = ['Россия', 'Португалия', 'Франция', 'Дания', 'Египет', 'Италия']\n",
    "\n",
    "for contr in request :\n",
    "    draw_dict.setdefault(contr, 'unknown')\n",
    "country = 'Италия'\n",
    "group = draw_dict[country]"
   ]
  },
  {
   "cell_type": "code",
   "execution_count": null,
   "metadata": {},
   "outputs": [],
   "source": [
    "works but not correct:"
   ]
  },
  {
   "cell_type": "code",
   "execution_count": 10,
   "metadata": {},
   "outputs": [],
   "source": [
    "draw_dict = {\n",
    "\t'Россия': 'A',\n",
    "\t'Португалия': 'B',\n",
    "\t'Франция': 'C',\n",
    "\t'Дания': 'C',\n",
    "\t'Египет': 'A'\n",
    "}\n",
    "group = \"unknown\"\n",
    "country = \"Италия\"\n",
    "if country in draw_dict:\n",
    "    draw_dict.setdefault(country, group)"
   ]
  },
  {
   "cell_type": "code",
   "execution_count": null,
   "metadata": {},
   "outputs": [],
   "source": [
    "draw_dict = {\n",
    "\t'Россия': 'A',\n",
    "\t'Португалия': 'B',\n",
    "\t'Франция': 'C',\n",
    "\t'Дания': 'C',\n",
    "\t'Египет': 'A'\n",
    "}\n",
    "\n",
    "for country in draw_dict:\n",
    "    "
   ]
  },
  {
   "cell_type": "code",
   "execution_count": 79,
   "metadata": {},
   "outputs": [
    {
     "name": "stdout",
     "output_type": "stream",
     "text": [
      "{'Россия': 'A', 'Египет': 'A'}\n"
     ]
    }
   ],
   "source": [
    "draw_dict = {\n",
    "\t'Россия': 'A',\n",
    "\t'Португалия': 'B',\n",
    "\t'Франция': 'C',\n",
    "\t'Дания': 'C',\n",
    "\t'Египет': 'A'\n",
    "}\n",
    "draw_new = {}\n",
    "for country in draw_dict:\n",
    "    if draw_dict[country] == 'A':\n",
    "        draw_new[country]='A'\n",
    "\n",
    "print(draw_new)"
   ]
  },
  {
   "cell_type": "code",
   "execution_count": 80,
   "metadata": {},
   "outputs": [
    {
     "name": "stdout",
     "output_type": "stream",
     "text": [
      "{'Россия': 'A', 'Египет': 'A'}\n"
     ]
    }
   ],
   "source": [
    "draw_dict = {\n",
    "\t'Россия': 'A',\n",
    "\t'Португалия': 'B',\n",
    "\t'Франция': 'C',\n",
    "\t'Дания': 'C',\n",
    "\t'Египет': 'A'\n",
    "}\n",
    "\n",
    "for country, group in draw_dict.items():\n",
    "     if draw_dict[country] == 'A':\n",
    "        draw_new[country]=group\n",
    "\n",
    "print(draw_new)"
   ]
  },
  {
   "cell_type": "code",
   "execution_count": 73,
   "metadata": {},
   "outputs": [
    {
     "name": "stdout",
     "output_type": "stream",
     "text": [
      "13841\n"
     ]
    }
   ],
   "source": [
    "exp = {\n",
    "    '2019-04-01':'2504',\n",
    "    '2019-04-02':'4994',\n",
    "    '2019-04-03':'6343'\n",
    "}\n",
    "total = 0\n",
    "for money in exp.values():\n",
    "    total += int(money)\n",
    "print(total)"
   ]
  },
  {
   "cell_type": "code",
   "execution_count": 31,
   "metadata": {},
   "outputs": [
    {
     "name": "stdout",
     "output_type": "stream",
     "text": [
      "Номер верен\n"
     ]
    }
   ],
   "source": [
    "phones = {\n",
    "\t'Гордиенко Виктория': 5140,\n",
    "\t'Анисимов Кирилл': 5145,\n",
    "\t'Кузнецова Дарья': 5142\n",
    "}\n",
    "\n",
    "# поиск ключи и значения словарей\n",
    "\n",
    "if phones['Кузнецова Дарья'] == 5142:\n",
    "\tprint('Номер верен')\n",
    "\n",
    "for name, phone in phones.items():\n",
    "\tif name == 'Кузнецова Дарья' and phone == 5142:\n",
    "\t\tprint('Номер верен')\n",
    "        \n",
    "for record in phones:\n",
    "\tif record == 'Кузнецова Дарья' and phones[record] == 5142:\n",
    "\t\tprint('Номер верен')"
   ]
  },
  {
   "cell_type": "code",
   "execution_count": 8,
   "metadata": {},
   "outputs": [
    {
     "name": "stdout",
     "output_type": "stream",
     "text": [
      "Пульсометр Beurer PM62\n"
     ]
    }
   ],
   "source": [
    "csv_file = [\n",
    "    ['100412', 'Ботинки для горных лыж ATOMIC Hawx Prime 100', 9],\n",
    "    ['100728', 'Скейтборд Jdbug RT03', 32],\n",
    "    ['100732', 'Роллерсерф Razor RipStik Bright', 11],\n",
    "    ['100803', 'Ботинки для сноуборда DC Tucknee', 20],\n",
    "    ['100898', 'Шагомер Omron HJA-306', 2],\n",
    "    ['100934', 'Пульсометр Beurer PM62', 17],\n",
    "]\n",
    "pulsometer_id=(csv_file[5][1])\n",
    "print(pulsometer_id)"
   ]
  },
  {
   "cell_type": "code",
   "execution_count": 26,
   "metadata": {},
   "outputs": [
    {
     "name": "stdout",
     "output_type": "stream",
     "text": [
      "Количество шагомеров на склдае - 32шт\n",
      "Количество шагомеров на склдае - 11шт\n",
      "Количество шагомеров на склдае - 20шт\n",
      "Количество шагомеров на склдае - 17шт\n",
      "[['100728', 'Скейтборд Jdbug RT03', 32], ['100732', 'Роллерсерф Razor RipStik Bright', 11], ['100803', 'Ботинки для сноуборда DC Tucknee', 20], ['100934', 'Пульсометр Beurer PM62', 17]]\n"
     ]
    }
   ],
   "source": [
    "csv_file = [\n",
    "    ['100412', 'Ботинки для горных лыж ATOMIC Hawx Prime 100', 9],\n",
    "    ['100728', 'Скейтборд Jdbug RT03', 32],\n",
    "    ['100732', 'Роллерсерф Razor RipStik Bright', 11],\n",
    "    ['100803', 'Ботинки для сноуборда DC Tucknee', 20],\n",
    "    ['100898', 'Шагомер Omron HJA-306', 2],\n",
    "    ['100934', 'Пульсометр Beurer PM62', 17],\n",
    "]\n",
    "csv_file_filtered = []\n",
    "for record in csv_file:\n",
    "    if int(record[2])>10:\n",
    "        csv_file_filtered.append(record)\n",
    "#        print('Количество шагомеров на склдае - {}шт'.format(record[2]))\n",
    "print(csv_file_filtered)"
   ]
  },
  {
   "cell_type": "code",
   "execution_count": 2,
   "metadata": {},
   "outputs": [
    {
     "name": "stdout",
     "output_type": "stream",
     "text": [
      "{'tel': '5387', 'position': 'менеджер'}\n",
      "5387\n"
     ]
    }
   ],
   "source": [
    "contacts = {\n",
    "\n",
    "    'Борискин Владимир': {\n",
    "        'tel': '5387',\n",
    "        'position': 'менеджер'\n",
    "    },\n",
    "    \n",
    "    'Сомова Наталья': {\n",
    "        'tel': '5443',\n",
    "        'position': 'разработчик'\n",
    "    },\n",
    "}\n",
    "print(contacts['Борискин Владимир'])\n",
    "print(contacts['Борискин Владимир']['tel'])"
   ]
  },
  {
   "cell_type": "code",
   "execution_count": null,
   "metadata": {},
   "outputs": [],
   "source": [
    "2.19"
   ]
  },
  {
   "cell_type": "code",
   "execution_count": 18,
   "metadata": {},
   "outputs": [
    {
     "name": "stdout",
     "output_type": "stream",
     "text": [
      "yes\n",
      "yes\n",
      "[{'id': '100412', 'position': 'Ботинки для горных лыж ATOMIC Hawx Prime 100', 'count': 9}, {'id': '100803', 'position': 'Ботинки для сноуборда DC Tucknee', 'count': 20}]\n"
     ]
    }
   ],
   "source": [
    "csv_dict = [\n",
    "    {'id': '100412', 'position': 'Ботинки для горных лыж ATOMIC Hawx Prime 100', 'count': 9},\n",
    "    {'id': '100728', 'position': 'Скейтборд Jdbug RT03', 'count': 32},\n",
    "    {'id': '100732', 'position': 'Роллерсерф Razor RipStik Bright', 'count': 11},\n",
    "    {'id': '100803', 'position': 'Ботинки для сноуборда DC Tucknee', 'count': 20},\n",
    "    {'id': '100898', 'position': 'Шагомер Omron HJA-306', 'count': 2},\n",
    "    {'id': '100934', 'position': 'Пульсометр Beurer PM62', 'count': 17},\n",
    "]\n",
    "csv_dict_boots = []\n",
    "for product in csv_dict:\n",
    "    if 'Ботинки' in product['position']:        \n",
    "        csv_dict_boots.append(product)\n",
    "print(csv_dict_boots)"
   ]
  },
  {
   "cell_type": "markdown",
   "metadata": {},
   "source": [
    " Задание 2\n",
    "1/1 point (graded)\n",
    "\n",
    "Дана статистика результатов рекламной кампании по каналу (ключ 'source') и сумме расходов ('cost')."
   ]
  },
  {
   "cell_type": "code",
   "execution_count": 66,
   "metadata": {},
   "outputs": [
    {
     "name": "stdout",
     "output_type": "stream",
     "text": [
      "98\n",
      "yes\n",
      "yes\n",
      "yes\n",
      "98\n"
     ]
    }
   ],
   "source": [
    "results = [\n",
    "\t{'cost': 98, 'source': 'vk'},\n",
    "\t{'cost': 153, 'source': 'yandex'},\n",
    "\t{'cost': 110, 'source': 'facebook'},\n",
    "]\n",
    "min=int(results[0]['cost'])\n",
    "print(min)\n",
    "for i in results:\n",
    "    print('yes')\n",
    "    if int(i['cost'])<min:        \n",
    "        min=int(i['cost'])\n",
    "print(min)\n"
   ]
  },
  {
   "cell_type": "markdown",
   "metadata": {},
   "source": [
    " Задание 3\n",
    "\n",
    "\n",
    "На каждом этапе производственной линии закладываются отклонения от исходных размеров, ведущие к деформации, т. е. после каждого этапа размер детали умножается на значение ключа damage:"
   ]
  },
  {
   "cell_type": "code",
   "execution_count": 67,
   "metadata": {},
   "outputs": [
    {
     "name": "stdout",
     "output_type": "stream",
     "text": [
      "0.98\n",
      "0.9702\n",
      "0.960498\n",
      "0.9220780799999999\n",
      "0.8944157375999999\n",
      "5\n"
     ]
    }
   ],
   "source": [
    "defect_stats = [\n",
    "\t{'step number': 1, 'damage': 0.98},\n",
    "\t{'step number': 2, 'damage': 0.99},\n",
    "\t{'step number': 3, 'damage': 0.99},\n",
    "\t{'step number': 4, 'damage': 0.96},\n",
    "\t{'step number': 5, 'damage': 0.97},\n",
    "\t{'step number': 6, 'damage': 0.97},\n",
    "]\n",
    "size = 1\n",
    "for step in defect_stats:\n",
    "    size *= step['damage']\n",
    "    print(size)\n",
    "    if size <0.9:\n",
    "        print(step['step number'])\n",
    "        break"
   ]
  },
  {
   "cell_type": "markdown",
   "metadata": {},
   "source": [
    " Задание 4\n",
    "\n",
    "Имеется статистика курсов валют. Какая валюта имеет минимальный курс по отношению к рублю за 1 единицу? Для определения курса валюты необходимо значение ключа 'Value' разделить на значение ключа 'Nominal'. В качестве ответа укажите код валюты (например, AUD)"
   ]
  },
  {
   "cell_type": "code",
   "execution_count": 2,
   "metadata": {},
   "outputs": [
    {
     "name": "stdout",
     "output_type": "stream",
     "text": [
      "1.13121\n",
      "AMD 0.13121\n"
     ]
    }
   ],
   "source": [
    "currency = {\n",
    "\t'AMD': {\n",
    "\t\t'Name': 'Армянских драмов',\n",
    "\t\t'Nominal': 100,\n",
    "\t\t'Value': 13.121\n",
    "\t},\n",
    "\n",
    "\t'AUD': {\n",
    "\t\t'Name': 'Австралийский доллар',\n",
    "\t\t'Nominal': 1,\n",
    "\t\t'Value': 45.5309\n",
    "\t},\n",
    "\n",
    "\t'INR': {\n",
    "\t\t'Name': 'Индийских рупий',\n",
    "\t\t'Nominal': 100,\n",
    "\t\t'Value': 92.9658\n",
    "\t},\n",
    "\n",
    "\t'MDL': {\n",
    "\t\t'Name': 'Молдавских леев',\n",
    "\t\t'Nominal': 10,\n",
    "\t\t'Value': 36.9305\n",
    "\t},\n",
    "}\n",
    "minst = (currency['AMD']['Value'])/(currency['AMD']['Nominal'])+1\n",
    "print(minst)                               \n",
    "\n",
    "for cur in currency:\n",
    "    #print(currency[cur]['Value'])\n",
    "    if minst>(currency[cur]['Value'])/(currency[cur]['Nominal']):\n",
    "        minst=(currency[cur]['Value'])/(currency[cur]['Nominal'])\n",
    "        print(cur, minst)\n",
    "       "
   ]
  },
  {
   "cell_type": "code",
   "execution_count": 3,
   "metadata": {},
   "outputs": [
    {
     "ename": "SyntaxError",
     "evalue": "invalid syntax (<ipython-input-3-79d414bd3eca>, line 29)",
     "output_type": "error",
     "traceback": [
      "\u001b[1;36m  File \u001b[1;32m\"<ipython-input-3-79d414bd3eca>\"\u001b[1;36m, line \u001b[1;32m29\u001b[0m\n\u001b[1;33m    if(currency[cur]['Value'])/(currency[cur]['Nominal'])\u001b[0m\n\u001b[1;37m                                                         ^\u001b[0m\n\u001b[1;31mSyntaxError\u001b[0m\u001b[1;31m:\u001b[0m invalid syntax\n"
     ]
    }
   ],
   "source": [
    "currency = {\n",
    "\t'AMD': {\n",
    "\t\t'Name': 'Армянских драмов',\n",
    "\t\t'Nominal': 100,\n",
    "\t\t'Value': 13.121\n",
    "\t},\n",
    "\n",
    "\t'AUD': {\n",
    "\t\t'Name': 'Австралийский доллар',\n",
    "\t\t'Nominal': 1,\n",
    "\t\t'Value': 45.5309\n",
    "\t},\n",
    "\n",
    "\t'INR': {\n",
    "\t\t'Name': 'Индийских рупий',\n",
    "\t\t'Nominal': 100,\n",
    "\t\t'Value': 92.9658\n",
    "\t},\n",
    "\n",
    "\t'MDL': {\n",
    "\t\t'Name': 'Молдавских леев',\n",
    "\t\t'Nominal': 10,\n",
    "\t\t'Value': 36.9305\n",
    "\t},\n",
    "}\n",
    "#penger={'ISO':[],'Rate':[]}\n",
    "penger=[]\n",
    "for cur in currency:\n",
    "    if(currency[cur]['Value'])/(currency[cur]['Nominal'])\n",
    "    penger.append(cur)\n",
    "    \n",
    "print(penger)"
   ]
  },
  {
   "cell_type": "markdown",
   "metadata": {},
   "source": [
    " Задание 5\n",
    "1 point possible (graded)\n",
    "\n",
    "Согласно сайту www.bodycounters.com в четырех частях фильма “Пираты Карибского моря” было довольно много погибших. Вот их статистика:"
   ]
  },
  {
   "cell_type": "markdown",
   "metadata": {},
   "source": [
    "   Напишите скрипт, который считает общее число погибших живых существ во всех сериях. Укажите итоговое число в качестве ответа. Пиратов-зомби в последней части тоже считайте живыми."
   ]
  },
  {
   "cell_type": "code",
   "execution_count": 180,
   "metadata": {},
   "outputs": [
    {
     "name": "stdout",
     "output_type": "stream",
     "text": [
      "dict_values([17])\n",
      "i.values\n",
      "человек {'человек': 17}\n",
      "val\n",
      "\n",
      "dict_values([56, 1])\n",
      "i.values\n",
      "человек {'человек': 56, 'раков-отшельников': 1}\n",
      "val\n",
      "\n",
      "раков-отшельников {'человек': 56, 'раков-отшельников': 1}\n",
      "val\n",
      "\n",
      "dict_values([88])\n",
      "i.values\n",
      "человек {'человек': 88}\n",
      "val\n",
      "\n",
      "dict_values([56, 2, 3, 2])\n",
      "i.values\n",
      "человек {'человек': 56, 'русалок': 2, 'ядовитых жаб': 3, 'пиратов зомби': 2}\n",
      "val\n",
      "\n",
      "русалок {'человек': 56, 'русалок': 2, 'ядовитых жаб': 3, 'пиратов зомби': 2}\n",
      "val\n",
      "\n",
      "ядовитых жаб {'человек': 56, 'русалок': 2, 'ядовитых жаб': 3, 'пиратов зомби': 2}\n",
      "val\n",
      "\n",
      "пиратов зомби {'человек': 56, 'русалок': 2, 'ядовитых жаб': 3, 'пиратов зомби': 2}\n",
      "val\n",
      "\n",
      "0\n"
     ]
    }
   ],
   "source": [
    "bodycount = {\n",
    "\t'Проклятие Черной жемчужины': {\n",
    "\t\t'человек': 17\n",
    "\t}, \n",
    "\n",
    "\t'Сундук мертвеца': {\n",
    "\t\t'человек': 56,\n",
    "\t\t'раков-отшельников': 1\n",
    "\t},\n",
    "\n",
    "\t'На краю света': {\n",
    "\t\t'человек': 88\n",
    "\t},\n",
    "\n",
    "\t'На странных берегах': {\n",
    "\t\t'человек': 56,\n",
    "\t\t'русалок': 2,\n",
    "\t\t'ядовитых жаб': 3,\n",
    "\t\t'пиратов зомби': 2\n",
    "\t}\n",
    "}\n",
    "count = 0\n",
    "\n",
    "for i in bodycount.values():\n",
    "    print(i.values())\n",
    "    print('i.values')\n",
    "    for val in i:    \n",
    "        print(val, i)\n",
    "        print('val')\n",
    "        print()\n",
    "print(count)"
   ]
  },
  {
   "cell_type": "code",
   "execution_count": 192,
   "metadata": {},
   "outputs": [
    {
     "name": "stdout",
     "output_type": "stream",
     "text": [
      "Проклятие Черной жемчужины died--> {'человек': 17} died.valuues---> dict_values([17])\n",
      "17 +++\n",
      "result.append(key) [17]\n",
      "Сундук мертвеца died--> {'человек': 56, 'раков-отшельников': 1} died.valuues---> dict_values([56, 1])\n",
      "56 +++\n",
      "result.append(key) [17, 56]\n",
      "1 +++\n",
      "result.append(key) [17, 56, 1]\n",
      "На краю света died--> {'человек': 88} died.valuues---> dict_values([88])\n",
      "88 +++\n",
      "result.append(key) [17, 56, 1, 88]\n",
      "На странных берегах died--> {'человек': 56, 'русалок': 2, 'ядовитых жаб': 3, 'пиратов зомби': 2} died.valuues---> dict_values([56, 2, 3, 2])\n",
      "56 +++\n",
      "result.append(key) [17, 56, 1, 88, 56]\n",
      "2 +++\n",
      "result.append(key) [17, 56, 1, 88, 56, 2]\n",
      "3 +++\n",
      "result.append(key) [17, 56, 1, 88, 56, 2, 3]\n",
      "2 +++\n",
      "result.append(key) [17, 56, 1, 88, 56, 2, 3, 2]\n"
     ]
    },
    {
     "data": {
      "text/plain": [
       "225"
      ]
     },
     "execution_count": 192,
     "metadata": {},
     "output_type": "execute_result"
    }
   ],
   "source": [
    "bodycount = {\n",
    "\t'Проклятие Черной жемчужины': {\n",
    "\t\t'человек': 17\n",
    "\t}, \n",
    "\n",
    "\t'Сундук мертвеца': {\n",
    "\t\t'человек': 56,\n",
    "\t\t'раков-отшельников': 1\n",
    "\t},\n",
    "\n",
    "\t'На краю света': {\n",
    "\t\t'человек': 88\n",
    "\t},\n",
    "\n",
    "\t'На странных берегах': {\n",
    "\t\t'человек': 56,\n",
    "\t\t'русалок': 2,\n",
    "\t\t'ядовитых жаб': 3,\n",
    "\t\t'пиратов зомби': 2\n",
    "\t}\n",
    "}\n",
    "result = []\n",
    "for film, died in bodycount.items():\n",
    "    print(film, 'died-->', died, 'died.valuues--->',died.values())\n",
    "    for key in died.values():\n",
    "        print(key, '+++')\n",
    "        result.append(key)\n",
    "        print('result.append(key)', result)\n",
    "sum(result)\n"
   ]
  },
  {
   "cell_type": "code",
   "execution_count": 194,
   "metadata": {},
   "outputs": [
    {
     "data": {
      "text/plain": [
       "6"
      ]
     },
     "execution_count": 194,
     "metadata": {},
     "output_type": "execute_result"
    }
   ],
   "source": [
    "arrivals = {\n",
    "\t'Париж': {'время': '15:25', 'статус': 'ожидается', 'рейс': ['Аэрофлот']},\n",
    "\t'Пекин': {'время': '15:35', 'статус': 'опаздывает', 'рейс': ['China Southern Airlines', 'Россия', 'Россия', 'Россия', 'Россия', 'Россия']},\n",
    "\t'Лиссабон': {'время': '15:40', 'статус': 'ожидается', 'рейс': ['Nordwind', 'Аэрофлот']},\n",
    "}\n",
    "\n",
    "len(arrivals['Пекин']['рейс'])"
   ]
  },
  {
   "cell_type": "code",
   "execution_count": 1,
   "metadata": {},
   "outputs": [
    {
     "data": {
      "text/plain": [
       "3.14"
      ]
     },
     "execution_count": 1,
     "metadata": {},
     "output_type": "execute_result"
    }
   ],
   "source": [
    "3.14"
   ]
  },
  {
   "cell_type": "markdown",
   "metadata": {},
   "source": [
    "# JSON"
   ]
  },
  {
   "cell_type": "code",
   "execution_count": 11,
   "metadata": {
    "scrolled": true
   },
   "outputs": [
    {
     "name": "stdout",
     "output_type": "stream",
     "text": [
      "dict_keys(['events_data'])\n",
      "107\n",
      "['page', 'page', 'page', 'datepicker', 'table', 'table', 'table', 'table', 'datepicker', 'datepicker', 'datepicker', 'datepicker', 'datepicker', 'page', 'page', 'page', 'page', 'page', 'page', 'page', 'page', 'page', 'page', 'page', 'page', 'page', 'page', 'page', 'page', 'page', 'page', 'page', 'page', 'report', 'report', 'report', 'report', 'page', 'report', 'page', 'page', 'page', 'table', 'table', 'table', 'table', 'page', 'page', 'page', 'page', 'page', 'page', 'page', 'page', 'page', 'page', 'page', 'page', 'report', 'page', 'page', 'page', 'page', 'page', 'report', 'page', 'page', 'page', 'page', 'page', 'page', 'page', 'page', 'page', 'page', 'page', 'page', 'page', 'datepicker', 'datepicker', 'datepicker', 'datepicker', 'datepicker', 'datepicker', 'datepicker', 'page', 'page', 'page', 'page', 'page', 'page', 'report', 'table', 'table', 'datepicker', 'datepicker', 'page', 'page', 'page', 'page', 'page', 'page', 'page', 'page', 'page', 'page', 'page']\n",
      "Counter({'page': 74, 'datepicker': 15, 'table': 10, 'report': 8})\n",
      "\n"
     ]
    }
   ],
   "source": [
    "\n",
    "\n",
    "import json #подключаем библиотеку json\n",
    "\n",
    "with open('json_file.json', 'rb') as infile: # имплртируем файл в переменуую data, RB - параметр для чтения файла\n",
    "\n",
    "    data = json.load(infile)\n",
    "    \n",
    "type(data)  \n",
    "data.keys()\n",
    "#data['events_data']\n",
    "\n",
    "data_list = data['events_data']\n",
    "print(data.keys())\n",
    "#data['events_data']\n",
    "\n",
    "print(len(data_list))\n",
    "\n",
    "\n",
    "categories =[] #создаём новый список для событий из файла (key = category)\n",
    "for item in data_list:\n",
    "    category = item['category'] #'category' - ключ category из файла (другие ключи - id, action)\n",
    "    categories.append(category)\n",
    "print(categories)\n",
    "\n",
    "# библиотека Collections\n",
    "# https://pythonworld.ru/moduli/modul-collections.html\n",
    "\n",
    "import collections\n",
    "c = collections.Counter()\n",
    "for category in categories:\n",
    "    c[category]+=1\n",
    "print(c)\n",
    "\n",
    "print()\n",
    "# Counter('abracadabra').most_common(3)"
   ]
  },
  {
   "cell_type": "markdown",
   "metadata": {},
   "source": [
    "r+ is used for reading, and writing mode. b is for binary. r+b mode is open the binary file in read or write mode.\n",
    "You can read more here. https://docs.python.org/2/tutorial/inputoutput.html#reading-and-writing-files"
   ]
  },
  {
   "cell_type": "markdown",
   "metadata": {},
   "source": [
    "file:///C:/Users/Konstantin/SF/SkillFactory/json_file.json\t\n",
    "    \n",
    "events_data\t\n",
    "\n",
    "0\t\n",
    "id\t47946124\n",
    "client_id\t62526\n",
    "user_id\t110777\n",
    "category\t\"page\"\n",
    "action\t\"enter\"\n",
    "options\t\n",
    "name\t\"landing\"\n",
    "\n",
    "1\t\n",
    "id\t47947076\n",
    "client_id\t61944\n",
    "user_id\t108565\n",
    "category\t\"page\"\n",
    "action\t\"enter\"\n",
    "options\t\n",
    "name\t\"landing\"\n",
    "\n",
    "2\t\n",
    "id\t47962056\n",
    "client_id\t27115\n",
    "user_id\t49440\n",
    "category\t\"page\"\n",
    "action\t\"enter\"\n",
    "options\t\n",
    "name\t\"page\"\n",
    "\n",
    "3\t\n",
    "id\t47962120\n",
    "client_id\t27115\n",
    "user_id\t49440\n",
    "category\t\"datepicker\"\n",
    "action\t\"apply\"\n",
    "options\t\n",
    "endDate\t\"2019-03-31 23:59:59\"\n",
    "startDate\t\"2019-03-25 00:00:00\""
   ]
  },
  {
   "cell_type": "markdown",
   "metadata": {},
   "source": [
    "# 2.26 Анализируем данные"
   ]
  },
  {
   "cell_type": "code",
   "execution_count": 26,
   "metadata": {},
   "outputs": [
    {
     "name": "stdout",
     "output_type": "stream",
     "text": [
      "[27115, 27115, 27115, 27115, 60459, 60459, 60459, 60459, 58113, 58113]\n",
      "Counter({27115: 4, 60459: 4, 58113: 2})\n",
      "3\n",
      "4\n"
     ]
    }
   ],
   "source": [
    "import json\n",
    "\n",
    "\n",
    "with open ('json_file.json', 'rb') as infile:\n",
    "    data = json.load(infile)\n",
    "    \n",
    "data_list = data['events_data']\n",
    "\n",
    "table_clients = []\n",
    "\n",
    "for item in data_list:\n",
    "    client_id = item ['client_id']\n",
    "    category = item ['category']\n",
    "    if category == 'table':\n",
    "        table_clients.append(client_id)\n",
    "\n",
    "print (table_clients)\n",
    "\n",
    "\n",
    "import collections\n",
    "\n",
    "c = collections.Counter()\n",
    "for table_client in table_clients:\n",
    "    c[table_client] +=1\n",
    "print(c)\n",
    "\n",
    "# иногда данных так много, что посчитать количество пользователей не так просто. \n",
    "# Для этого можно посчитать, сколько [уникальных] ключей содержится в словаре «c»:\n",
    "\n",
    "print (len(c.keys()))\n",
    "\n",
    "#Вывести информацию по конкретному пользователю можно, обратившись по соответствующему ключу:\n",
    "print (c[27115])"
   ]
  },
  {
   "cell_type": "markdown",
   "metadata": {},
   "source": [
    "\n",
    "events_data\n",
    "\n",
    "0\n",
    "id 47946124 client_id 62526 user_id 110777 category \"page\" action \"enter\" options\n",
    "name \"landing\"\n",
    "\n",
    "1\n",
    "id 47947076 client_id 61944 user_id 108565 category \"page\" action \"enter\" options\n",
    "name \"landing\"\n",
    "\n",
    "2\n",
    "id 47962056 client_id 27115 user_id 49440 category \"page\" action \"enter\" options\n",
    "name \"page\"\n",
    "\n",
    "3\n",
    "id 47962120 client_id 27115 user_id 49440 category \"datepicker\" action \"apply\" options\n",
    "endDate \"2019-03-31 23:59:59\" startDate \"2019-03-25 00:00:00\""
   ]
  },
  {
   "cell_type": "markdown",
   "metadata": {},
   "source": [
    "# 2.27 Задания"
   ]
  },
  {
   "cell_type": "code",
   "execution_count": null,
   "metadata": {},
   "outputs": [],
   "source": [
    "table_clients = []\n",
    "\n",
    "for item in data_list:\n",
    "    client_id = item ['client_id']\n",
    "    category = item ['category']\n",
    "    if category == 'table':\n",
    "        table_clients.append(client_id)\n",
    "\n",
    "print (table_clients)\n",
    "\n",
    "\n",
    "import collections\n",
    "\n",
    "c = collections.Counter()\n",
    "for table_client in table_clients:\n",
    "    c[table_client] +=1\n",
    "print(c)\n"
   ]
  },
  {
   "cell_type": "code",
   "execution_count": 56,
   "metadata": {},
   "outputs": [
    {
     "name": "stdout",
     "output_type": "stream",
     "text": [
      "3\n",
      "2\n",
      "Counter({60459: 5, 62602: 2, 58113: 1})\n"
     ]
    }
   ],
   "source": [
    "# Подсчитайте количество клиентов (client_id), которые совершали какие-либо действия\n",
    "\n",
    "import json\n",
    "\n",
    "with open ('json_file.json', 'rb') as infile:\n",
    "    data = json.load(infile)\n",
    "    \n",
    "data_list = data['events_data']\n",
    "\n",
    "table_clients = []\n",
    "for item in data_list:\n",
    "    client_id = item ['client_id']\n",
    "    category = item ['category']\n",
    "    # if category == 'page':\n",
    "    if category == 'report':\n",
    "        table_clients.append(client_id)\n",
    "\n",
    "import collections\n",
    "\n",
    "c = collections.Counter()\n",
    "for client in table_clients:\n",
    "    c[client] +=1\n",
    "\n",
    "\n",
    "# c = collections.Counter()\n",
    "# for table_client in table_clients:\n",
    "#     c[table_client] +=1\n",
    "    \n",
    "print (len(c.keys()))\n",
    "print (c[62602])\n",
    "\n",
    "\n",
    "# Перечислите в каждом из полей идентификаторы клиентов, \n",
    "# которые совершили действия с категорией (category) = report \n",
    "# (В порядке возрастания идентификаторов)\n",
    "\n",
    "print(c)"
   ]
  },
  {
   "cell_type": "code",
   "execution_count": 32,
   "metadata": {},
   "outputs": [
    {
     "name": "stdout",
     "output_type": "stream",
     "text": [
      "[62526, 61944, 27115, 27115, 27115, 27115, 27115, 27115, 27115, 27115, 27115, 27115, 27115, 62017, 63120, 59883, 2913, 62940, 63149, 45391, 18923, 63019, 18923, 18923, 15759, 62007, 62941, 51009, 62236, 44682, 39709, 60459, 62144, 60459, 60459, 60459, 60459, 60459, 60459, 52492, 52492, 60459, 60459, 60459, 60459, 60459, 52492, 18923, 25301, 18923, 33645, 62089, 26705, 1103, 62439, 44196, 62602, 62602, 62602, 62602, 62602, 62602, 62602, 62602, 62602, 62602, 62602, 50149, 57009, 57207, 32792, 27323, 24500, 24500, 58330, 61245, 19799, 56544, 56544, 56544, 56544, 56544, 56544, 56544, 56544, 23207, 23207, 23207, 23207, 48128, 58113, 58113, 58113, 58113, 58113, 58113, 58113, 57613, 61244, 53666, 53018, 53666, 41737, 61078, 20820, 41737, 49700]\n",
      "Counter({60459: 12, 27115: 11, 62602: 11, 56544: 8, 58113: 7, 18923: 5, 23207: 4, 52492: 3, 24500: 2, 53666: 2, 41737: 2, 62526: 1, 61944: 1, 62017: 1, 63120: 1, 59883: 1, 2913: 1, 62940: 1, 63149: 1, 45391: 1, 63019: 1, 15759: 1, 62007: 1, 62941: 1, 51009: 1, 62236: 1, 44682: 1, 39709: 1, 62144: 1, 25301: 1, 33645: 1, 62089: 1, 26705: 1, 1103: 1, 62439: 1, 44196: 1, 50149: 1, 57009: 1, 57207: 1, 32792: 1, 27323: 1, 58330: 1, 61245: 1, 19799: 1, 48128: 1, 57613: 1, 61244: 1, 53018: 1, 61078: 1, 20820: 1, 49700: 1})\n",
      "51\n",
      "11\n"
     ]
    }
   ],
   "source": [
    "import json\n",
    "\n",
    "\n",
    "with open ('json_file.json', 'rb') as infile:\n",
    "    data = json.load(infile)\n",
    "    \n",
    "data_list = data['events_data']\n",
    "\n",
    "table_clients = []\n",
    "\n",
    "for item in data_list:\n",
    "    client_id = item ['client_id']\n",
    "    category = item ['category']\n",
    "    #if category == 'table':\n",
    "     #   table_clients.append(client_id)\n",
    "    table_clients.append(client_id)\n",
    "\n",
    "print (table_clients)\n",
    "\n",
    "\n",
    "import collections\n",
    "\n",
    "c = collections.Counter()\n",
    "for table_client in table_clients:\n",
    "    c[table_client] +=1\n",
    "print(c)\n",
    "\n",
    "# иногда данных так много, что посчитать количество пользователей не так просто. \n",
    "# Для этого можно посчитать, сколько [уникальных] ключей содержится в словаре «c»:\n",
    "\n",
    "print (len(c.keys()))\n",
    "\n",
    "#Вывести информацию по конкретному пользователю можно, обратившись по соответствующему ключу:\n",
    "print (c[27115])"
   ]
  },
  {
   "cell_type": "code",
   "execution_count": null,
   "metadata": {},
   "outputs": [],
   "source": []
  },
  {
   "cell_type": "code",
   "execution_count": null,
   "metadata": {},
   "outputs": [],
   "source": []
  }
 ],
 "metadata": {
  "kernelspec": {
   "display_name": "Python 3",
   "language": "python",
   "name": "python3"
  },
  "language_info": {
   "codemirror_mode": {
    "name": "ipython",
    "version": 3
   },
   "file_extension": ".py",
   "mimetype": "text/x-python",
   "name": "python",
   "nbconvert_exporter": "python",
   "pygments_lexer": "ipython3",
   "version": "3.8.3"
  }
 },
 "nbformat": 4,
 "nbformat_minor": 4
}
