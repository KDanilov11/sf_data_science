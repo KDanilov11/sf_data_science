{
 "cells": [
  {
   "cell_type": "code",
   "execution_count": 1,
   "metadata": {},
   "outputs": [
    {
     "name": "stdout",
     "output_type": "stream",
     "text": [
      "True\n",
      "False\n"
     ]
    }
   ],
   "source": [
    "# можно проверить, находится ли число 1 в промежутке (0,4)\n",
    "cond1 = 0 < 1\n",
    "cond2 = 1 < 4\n",
    "\n",
    "print(cond1 and cond2)\n",
    "# True\n",
    "\n",
    "# или, например, содержат ли две строки один и тот же символ\n",
    "cond3 = 't' in \"python\"\n",
    "cond4 = 't' in \"django\"\n",
    "\n",
    "print(cond3 and cond4)\n",
    "# False"
   ]
  },
  {
   "cell_type": "code",
   "execution_count": 4,
   "metadata": {},
   "outputs": [
    {
     "ename": "IndentationError",
     "evalue": "unexpected indent (<ipython-input-4-1e66622e2766>, line 5)",
     "output_type": "error",
     "traceback": [
      "\u001b[1;36m  File \u001b[1;32m\"<ipython-input-4-1e66622e2766>\"\u001b[1;36m, line \u001b[1;32m5\u001b[0m\n\u001b[1;33m    not\u001b[0m\n\u001b[1;37m    ^\u001b[0m\n\u001b[1;31mIndentationError\u001b[0m\u001b[1;31m:\u001b[0m unexpected indent\n"
     ]
    }
   ],
   "source": [
    "print(True or False)\n",
    "not True or (True and not True)\n",
    "\n",
    "\n",
    "   not False and True   or   False    and   not  True"
   ]
  },
  {
   "cell_type": "code",
   "execution_count": 10,
   "metadata": {},
   "outputs": [
    {
     "name": "stdout",
     "output_type": "stream",
     "text": [
      "True\n"
     ]
    }
   ],
   "source": [
    "x = 10\n",
    "y = 100\n",
    "z = (x % 2 == 0) & (y >= 100)\n",
    "print(z)"
   ]
  },
  {
   "cell_type": "code",
   "execution_count": 13,
   "metadata": {},
   "outputs": [
    {
     "data": {
      "text/plain": [
       "True"
      ]
     },
     "execution_count": 13,
     "metadata": {},
     "output_type": "execute_result"
    }
   ],
   "source": [
    "glucose = 6*1\n",
    "glucose>=6\n",
    "\n",
    "diagnosis_1\n",
    "diagnosis_2 \n",
    "diagnosis_3\n",
    "\n",
    "print(diagnosis_1 == 'yes' or diagnosis_2=='yes' or diagnosis_3 =='yes')"
   ]
  },
  {
   "cell_type": "markdown",
   "metadata": {},
   "source": [
    "\n",
    "\n",
    "Задание 2.1 (на самопроверку)\n",
    "\n",
    "Дано n-значное целое число N. Определите, входят ли в него цифры 3 и 7. Напишите соответствующее выражение для проверки.\n",
    "\n",
    "\n",
    "\n",
    "Задание 2.2 (на самопроверку)\n",
    "\n",
    "Дано n-значное целое число N. Определите, начинается ли оно с чётной цифры. Напишите соответствующее выражение для проверки.\n"
   ]
  },
  {
   "cell_type": "code",
   "execution_count": 24,
   "metadata": {},
   "outputs": [
    {
     "name": "stdout",
     "output_type": "stream",
     "text": [
      "False\n",
      "['4', '6', '5', '4', '8', '7', '5', '4', '4', '5']\n",
      "True\n"
     ]
    }
   ],
   "source": [
    "N = 4654875445\n",
    "print ('3' in str(N) and '7' in str(N))\n",
    "\n",
    "print(list(str(N)))\n",
    "\n",
    "\n",
    "print(int(list(str(N))[0])%2==0)\n",
    "\n",
    "\n",
    "                        \n",
    "                                    \n"
   ]
  },
  {
   "cell_type": "code",
   "execution_count": 27,
   "metadata": {},
   "outputs": [
    {
     "name": "stdout",
     "output_type": "stream",
     "text": [
      "3\n",
      "True\n"
     ]
    }
   ],
   "source": [
    "list_1 = [1, 2]\n",
    " \n",
    "list_2 = [1, 2, 3]\n",
    "val = list_2.pop()\n",
    "print(val)\n",
    "print(list_1 == list_2)"
   ]
  },
  {
   "cell_type": "code",
   "execution_count": 1,
   "metadata": {},
   "outputs": [
    {
     "ename": "IndentationError",
     "evalue": "unexpected indent (<ipython-input-1-fa4b03fb29d2>, line 3)",
     "output_type": "error",
     "traceback": [
      "\u001b[1;36m  File \u001b[1;32m\"<ipython-input-1-fa4b03fb29d2>\"\u001b[1;36m, line \u001b[1;32m3\u001b[0m\n\u001b[1;33m    x = int(input())\u001b[0m\n\u001b[1;37m    ^\u001b[0m\n\u001b[1;31mIndentationError\u001b[0m\u001b[1;31m:\u001b[0m unexpected indent\n"
     ]
    }
   ],
   "source": [
    "mx = 0\n",
    "s = 0\n",
    "    x = int(input())\n",
    "    if x < 0:\n",
    "        s = x\n",
    "        \n",
    "b = 7\n",
    "b /= b\n",
    "\n",
    "if x > mx\n",
    "    mx = x\n",
    "    \n",
    "print(s)\n",
    "print(mx)"
   ]
  },
  {
   "cell_type": "code",
   "execution_count": 1,
   "metadata": {},
   "outputs": [
    {
     "name": "stdout",
     "output_type": "stream",
     "text": [
      "Before exception\n"
     ]
    },
    {
     "ename": "ZeroDivisionError",
     "evalue": "division by zero",
     "output_type": "error",
     "traceback": [
      "\u001b[1;31m---------------------------------------------------------------------------\u001b[0m",
      "\u001b[1;31mZeroDivisionError\u001b[0m                         Traceback (most recent call last)",
      "\u001b[1;32m<ipython-input-1-c7554d55e70c>\u001b[0m in \u001b[0;36m<module>\u001b[1;34m\u001b[0m\n\u001b[0;32m      1\u001b[0m \u001b[0mprint\u001b[0m\u001b[1;33m(\u001b[0m\u001b[1;34m\"Before exception\"\u001b[0m\u001b[1;33m)\u001b[0m \u001b[1;31m# перед исключением\u001b[0m\u001b[1;33m\u001b[0m\u001b[1;33m\u001b[0m\u001b[0m\n\u001b[1;32m----> 2\u001b[1;33m \u001b[0mI\u001b[0m \u001b[1;33m=\u001b[0m \u001b[1;36m1\u001b[0m \u001b[1;33m/\u001b[0m \u001b[1;36m0\u001b[0m \u001b[1;31m# Здесь что-то не так…\u001b[0m\u001b[1;33m\u001b[0m\u001b[1;33m\u001b[0m\u001b[0m\n\u001b[0m\u001b[0;32m      3\u001b[0m \u001b[0mprint\u001b[0m\u001b[1;33m(\u001b[0m\u001b[1;34m\"After exception\"\u001b[0m\u001b[1;33m)\u001b[0m \u001b[1;31m# после исключения\u001b[0m\u001b[1;33m\u001b[0m\u001b[1;33m\u001b[0m\u001b[0m\n",
      "\u001b[1;31mZeroDivisionError\u001b[0m: division by zero"
     ]
    }
   ],
   "source": [
    "print(\"Before exception\") # перед исключением\n",
    "I = 1 / 0 # Здесь что-то не так…\n",
    "print(\"After exception\") # после исключения"
   ]
  },
  {
   "cell_type": "code",
   "execution_count": 8,
   "metadata": {},
   "outputs": [
    {
     "name": "stdout",
     "output_type": "stream",
     "text": [
      "Before exception\n",
      "a: 12\n",
      "b: 0\n",
      "After After exception\n"
     ]
    }
   ],
   "source": [
    "try: # Добавляем конструкцию try-except для отлова нашей ошибки\n",
    "    print(\"Before exception\") # перед исключением\n",
    "    # теперь пользователь сам вводит числа для деления\n",
    "    a = int(input(\"a: \"))\n",
    "    b = int(input(\"b: \"))\n",
    "    c = a / b # здесь может возникнуть исключение деления на ноль\n",
    "    print(c) # печатаем c = a / b, если всё хорошо\n",
    "except ZeroDivisionError as e: # Добавляем тип именно той ошибки, которую хотим отловить. \n",
    "    print(\"After exception\") # после после исключения"
   ]
  },
  {
   "cell_type": "code",
   "execution_count": 11,
   "metadata": {},
   "outputs": [
    {
     "name": "stdout",
     "output_type": "stream",
     "text": [
      "Before exception\n",
      "a: 12\n",
      "b: 0\n",
      "After exception\n",
      "Finally finished!\n",
      "After After exception\n"
     ]
    }
   ],
   "source": [
    "try:\n",
    "    print(\"Before exception\") # перед исключением\n",
    "    a = int(input(\"a: \"))\n",
    "    b = int(input(\"b: \"))\n",
    "    c = a / b\n",
    "    print(c) # печатаем c = a / b, если всё хорошо\n",
    "except ZeroDivisionError as e:\n",
    "    print(\"After exception\") # после исключения\n",
    "else: # код в блоке else выполняется только в том случае, если код в блоке try выполнился успешно (т. е. не произошло никакого исключения)\n",
    "    print(\"Everything's fine!\") # всё отлично!\n",
    "finally: # код в блоке finally выполнится в любом случае при выходе из try-except\n",
    "    print(\"Finally finished!\") # наконец-то завершено!\n",
    " \n",
    "print(\"After After exception\") # после после исключения"
   ]
  },
  {
   "cell_type": "code",
   "execution_count": 13,
   "metadata": {},
   "outputs": [
    {
     "name": "stdout",
     "output_type": "stream",
     "text": [
      "How old are you?199\n"
     ]
    },
    {
     "ename": "ValueError",
     "evalue": "You are too old or don't exist",
     "output_type": "error",
     "traceback": [
      "\u001b[1;31m---------------------------------------------------------------------------\u001b[0m",
      "\u001b[1;31mValueError\u001b[0m                                Traceback (most recent call last)",
      "\u001b[1;32m<ipython-input-13-d3d10bed4249>\u001b[0m in \u001b[0;36m<module>\u001b[1;34m\u001b[0m\n\u001b[0;32m      2\u001b[0m \u001b[1;33m\u001b[0m\u001b[0m\n\u001b[0;32m      3\u001b[0m \u001b[1;32mif\u001b[0m \u001b[0mage\u001b[0m \u001b[1;33m>\u001b[0m \u001b[1;36m100\u001b[0m \u001b[1;32mor\u001b[0m \u001b[0mage\u001b[0m \u001b[1;33m<=\u001b[0m \u001b[1;36m0\u001b[0m\u001b[1;33m:\u001b[0m\u001b[1;33m\u001b[0m\u001b[1;33m\u001b[0m\u001b[0m\n\u001b[1;32m----> 4\u001b[1;33m     \u001b[1;32mraise\u001b[0m \u001b[0mValueError\u001b[0m\u001b[1;33m(\u001b[0m\u001b[1;34m\"You are too old or don't exist\"\u001b[0m\u001b[1;33m)\u001b[0m \u001b[1;31m# Ты слишком стар либо не существуешь (Тебе не может быть столько лет)\u001b[0m\u001b[1;33m\u001b[0m\u001b[1;33m\u001b[0m\u001b[0m\n\u001b[0m\u001b[0;32m      5\u001b[0m \u001b[1;33m\u001b[0m\u001b[0m\n\u001b[0;32m      6\u001b[0m \u001b[0mprint\u001b[0m\u001b[1;33m(\u001b[0m\u001b[1;34m\"You are {} years old!\"\u001b[0m\u001b[1;33m.\u001b[0m\u001b[0mformat\u001b[0m\u001b[1;33m(\u001b[0m\u001b[0mage\u001b[0m\u001b[1;33m)\u001b[0m\u001b[1;33m)\u001b[0m \u001b[1;31m# Возраст выводится только в том случае, если пользователь ввёл правильный возраст.\u001b[0m\u001b[1;33m\u001b[0m\u001b[1;33m\u001b[0m\u001b[0m\n",
      "\u001b[1;31mValueError\u001b[0m: You are too old or don't exist"
     ]
    }
   ],
   "source": [
    "age = int(input(\"How old are you?\"))\n",
    " \n",
    "if age > 100 or age <= 0:\n",
    "    raise ValueError(\"You are too old or don't exist\") # Ты слишком стар либо не существуешь (Тебе не может быть столько лет)\n",
    " \n",
    "print(\"You are {} years old!\".format(age)) # Возраст выводится только в том случае, если пользователь ввёл правильный возраст."
   ]
  },
  {
   "cell_type": "code",
   "execution_count": 15,
   "metadata": {},
   "outputs": [
    {
     "name": "stdout",
     "output_type": "stream",
     "text": [
      "Enter your number: 12.3\n",
      "You entered a wrong number\n",
      "exit\n"
     ]
    }
   ],
   "source": [
    "# Введите здесь ваш код\n",
    "try:\n",
    "   a=int(input('Enter your number: '))\n",
    "except ValueError as e:\n",
    "    print('You entered a wrong number')\n",
    "else:\n",
    "    print('You entered a right number')\n",
    "finally:\n",
    "    print('exit')"
   ]
  },
  {
   "cell_type": "code",
   "execution_count": 17,
   "metadata": {},
   "outputs": [
    {
     "ename": "NameError",
     "evalue": "name 'functools' is not defined",
     "output_type": "error",
     "traceback": [
      "\u001b[1;31m---------------------------------------------------------------------------\u001b[0m",
      "\u001b[1;31mNameError\u001b[0m                                 Traceback (most recent call last)",
      "\u001b[1;32m<ipython-input-17-9efc387e2057>\u001b[0m in \u001b[0;36m<module>\u001b[1;34m\u001b[0m\n\u001b[1;32m----> 1\u001b[1;33m \u001b[0mfunctools\u001b[0m\u001b[1;33m.\u001b[0m\u001b[0mtotal_ordering\u001b[0m\u001b[1;33m(\u001b[0m\u001b[1;33m)\u001b[0m\u001b[1;33m\u001b[0m\u001b[1;33m\u001b[0m\u001b[0m\n\u001b[0m",
      "\u001b[1;31mNameError\u001b[0m: name 'functools' is not defined"
     ]
    }
   ],
   "source": []
  },
  {
   "cell_type": "code",
   "execution_count": 20,
   "metadata": {},
   "outputs": [
    {
     "data": {
      "text/plain": [
       "True"
      ]
     },
     "execution_count": 20,
     "metadata": {},
     "output_type": "execute_result"
    }
   ],
   "source": [
    "def are_both_odd(A, B):\n",
    "    return A%2!=0 and B%2!=0\n",
    "\n",
    "are_both_odd(1,3)"
   ]
  },
  {
   "cell_type": "code",
   "execution_count": 23,
   "metadata": {},
   "outputs": [
    {
     "name": "stdout",
     "output_type": "stream",
     "text": [
      "enter x: -1\n",
      "enter y: -9\n",
      "Third quarter\n"
     ]
    }
   ],
   "source": [
    "x=int(input('enter x: '))\n",
    "y=int(input('enter y: '))\n",
    "if x > 0 and y > 0:\n",
    "    print(\"First quarter\") # Первая четверть\n",
    "if x > 0 and y < 0:\n",
    "    print(\"Fourth quarter\") # Четвёртая четверть\n",
    "if x < 0 and y > 0:\n",
    "    print(\"Second quarter\") # Вторая четверть\n",
    "if x < 0 and y < 0:\n",
    "    print(\"Third quarter\") # Третья четверть"
   ]
  },
  {
   "cell_type": "markdown",
   "metadata": {},
   "source": [
    "\n",
    "\n",
    "a = 42\n",
    "b = 41\n",
    "\n",
    "if a > b:\n",
    "    result = a\n",
    "else:\n",
    "    result = b\n",
    "\n",
    "Данный код, в зависимости от значения переменных а и b, присваивает переменной result значение большей из них.\n",
    "\n",
    "Код сравнения занимает аж четыре строки, а выполняет элементарное действие. Это не в стиле Python — нужно исправлять данную ситуацию.\n",
    "\n",
    "Для таких случаев существует так называемый тернарный условный оператор — оператор, который записывается в одну строку.\n",
    "\n",
    "В Python вы можете встретить «инлайновый if». С его помощью можно переписать код следующим образом:\n",
    "\n",
    "result = a if a > b else b\n",
    "#ИЛИ\n",
    "\n",
    "result = (b, a)[a > b]\n",
    "\n"
   ]
  },
  {
   "cell_type": "code",
   "execution_count": 40,
   "metadata": {},
   "outputs": [
    {
     "name": "stdout",
     "output_type": "stream",
     "text": [
      "True\n",
      "True\n",
      "8\n",
      "8\n",
      "False\n"
     ]
    }
   ],
   "source": [
    "\n",
    "\n",
    "# Задание 5.7 (на самопроверку)\n",
    "\n",
    "# Дано двузначное число. Определите, входит ли в него цифра 5. Попробуйте решить задачу с использованием целочисленного деления и деления с остатком.\n",
    "\n",
    "n = 15\n",
    "first_digit = n // 10\n",
    "second_digit = n % 10\n",
    "\n",
    "print((first_digit == 5) or (second_digit == 5))\n",
    "\n",
    "\n",
    "\n",
    "\n",
    "# Задание 5.8 (на самопроверку)\n",
    "\n",
    "# Проверьте, все ли элементы в списке являются уникальными.\n",
    "# Подсказка\n",
    "\n",
    "# Используйте возможности set.\n",
    "\n",
    "\n",
    "list_ = [-5, 2, 4, 8, 12, -7, 5, 'pitbul']\n",
    "\n",
    "print(len(list_) == len(set(list_)))\n",
    "print(len(list_))\n",
    "print(len(set(list_)))\n",
    "\n",
    "\n",
    "\n",
    "\n",
    "\n",
    "# Задание 5.9 (на самопроверку)\n",
    "\n",
    "# Дано натуральное восьмизначное число. Выясните, является ли оно палиндромом (читается одинаково слева направо и справа налево).\n",
    "# Подсказка\n",
    "\n",
    "# Использовать целочисленное деление и деление с остатком не нужно. Попробуйте преобразовать число к строке, а затем перевернуть эту строку.\n",
    "\n",
    "\n",
    "\n",
    "num = 12345678\n",
    "\n",
    "print(str(num) == str(num)[::-1])"
   ]
  },
  {
   "cell_type": "code",
   "execution_count": null,
   "metadata": {},
   "outputs": [],
   "source": []
  },
  {
   "cell_type": "code",
   "execution_count": null,
   "metadata": {},
   "outputs": [],
   "source": []
  },
  {
   "cell_type": "code",
   "execution_count": null,
   "metadata": {},
   "outputs": [],
   "source": []
  },
  {
   "cell_type": "code",
   "execution_count": null,
   "metadata": {},
   "outputs": [],
   "source": []
  },
  {
   "cell_type": "code",
   "execution_count": null,
   "metadata": {},
   "outputs": [],
   "source": []
  },
  {
   "cell_type": "code",
   "execution_count": null,
   "metadata": {},
   "outputs": [],
   "source": []
  },
  {
   "cell_type": "code",
   "execution_count": null,
   "metadata": {},
   "outputs": [],
   "source": []
  },
  {
   "cell_type": "code",
   "execution_count": null,
   "metadata": {},
   "outputs": [],
   "source": []
  }
 ],
 "metadata": {
  "kernelspec": {
   "display_name": "Python 3",
   "language": "python",
   "name": "python3"
  },
  "language_info": {
   "codemirror_mode": {
    "name": "ipython",
    "version": 3
   },
   "file_extension": ".py",
   "mimetype": "text/x-python",
   "name": "python",
   "nbconvert_exporter": "python",
   "pygments_lexer": "ipython3",
   "version": "3.8.3"
  }
 },
 "nbformat": 4,
 "nbformat_minor": 4
}
